{
 "cells": [
  {
   "cell_type": "code",
   "execution_count": 2,
   "metadata": {
    "scrolled": true
   },
   "outputs": [
    {
     "name": "stderr",
     "output_type": "stream",
     "text": [
      "  0%|          | 0/100 [00:00<?, ?it/s]"
     ]
    },
    {
     "name": "stdout",
     "output_type": "stream",
     "text": [
      "Computing mag per t\n"
     ]
    },
    {
     "name": "stderr",
     "output_type": "stream",
     "text": [
      "100%|██████████| 100/100 [00:14<00:00,  3.65it/s]"
     ]
    },
    {
     "name": "stdout",
     "output_type": "stream",
     "text": [
      "[0.82326338 0.93140709 0.95455885 0.96062126 0.9652034  0.9684055\n",
      " 0.97128357 0.97360811 0.97428393 0.974659   0.97571729 0.97691616\n",
      " 0.9780976  0.81962677 0.90232205 0.93057885 0.94050847 0.95020704\n",
      " 0.95860892 0.96051014 0.96133507 0.96361135 0.96562447 0.96951237\n",
      " 0.97309044 0.9802368  0.84069714 0.90715153 0.92155835 0.92723508\n",
      " 0.93285679 0.9371899  0.93903039 0.94099852 0.94353966 0.94520189\n",
      " 0.94673366 0.94854715 0.95123212 0.833511   0.92009499 0.94019357\n",
      " 0.94550629 0.95036981 0.95365361 0.95432502 0.9545432  0.95554149\n",
      " 0.95674414 0.95780862 0.95834395 0.95856606 0.84195993 0.91836349\n",
      " 0.93268663 0.9416682  0.9479954  0.9568737  0.96154168 0.96501909\n",
      " 0.96804157 0.9716112  0.97199583 0.97223763 0.83523794 0.92844434\n",
      " 0.93957435 0.94930124 0.95419601 0.95549416 0.95584221 0.95642478\n",
      " 0.95588113 0.95462745 0.95412673 0.95872049 0.79748009 0.88208227\n",
      " 0.89454015 0.88572179 0.84937976 0.79347391 0.7145452  0.62102329\n",
      " 0.52052504 0.42352779 0.34778995 0.29568001 0.24600628 0.21357011\n",
      " 0.18666602 0.15841012 0.14023617 0.12179132 0.10299336 0.0867745\n",
      " 0.07759141 0.06619265 0.05706009 0.05226882] [-4.80365462e-01  7.65621806e-02  1.30261950e-01  1.02613946e-02\n",
      "  2.21473584e-02  1.54867842e-03  7.23266371e-03  6.48820716e-03\n",
      "  3.64560517e-02  6.57709785e-03  6.48364676e-03  5.89970454e-03\n",
      "  5.30645799e-03 -9.32891300e-02  2.44866928e-02  1.38391726e-02\n",
      "  1.15079723e-01  1.13921012e-02  5.50969796e-02  8.74940658e-03\n",
      "  8.64540732e-03  8.47186062e-03  7.95215321e-03  7.41919295e-03\n",
      "  1.31446901e-02  6.55119117e-02 -9.32891300e-02  4.14851305e-02\n",
      " -3.38257850e-02 -3.04640650e-02  1.64937364e-02 -1.81087099e-02\n",
      "  1.44304500e-02  1.37510627e-02  1.04094752e-02  1.28295497e-01\n",
      "  1.31446901e-02  1.29085625e-02  6.48364676e-03  5.12171660e-02\n",
      "  4.33306831e-02  1.55221287e-02  1.67630021e-02  1.20112653e-02\n",
      "  1.07901109e-02  1.07546270e-02  1.07289406e-02  5.37862974e-01\n",
      " -3.16338977e-03 -5.28976892e-03 -1.19606222e-02  9.52296722e-03\n",
      "  6.06474742e-02  1.75059767e-02  1.89139509e-02  1.31282701e-01\n",
      "  8.91995468e-01  1.01146063e-02  8.41529122e-03  9.31477080e-01\n",
      "  7.23266371e-03  6.43147689e-03  6.24626125e-03  6.08306598e-03\n",
      "  6.26672568e-01  1.75059767e-02  1.38391726e-02  8.87483022e-01\n",
      "  4.08971786e-02  9.50623477e-03  6.15299632e-04  1.53801801e-02\n",
      "  9.17827783e-01  1.04094752e-02  1.07649948e-02  1.30395207e-01\n",
      "  6.26672568e-01  1.75059767e-02  1.38391726e-02  3.03808538e-02\n",
      "  4.08971786e-02  5.50969796e-02  7.59034849e-02  9.31981289e-02\n",
      "  8.47186062e-03  1.23653332e-01 -6.61104468e-01  1.28845856e-01\n",
      " -5.15349105e-01  1.30943374e-01  1.30261950e-01  1.31282701e-01\n",
      "  1.30367299e-01 -7.31763581e-01 -7.39827389e-01  1.30734198e-01\n",
      "  1.30613604e-01  1.29345635e-01 -8.10701518e-01  1.30395207e-01]\n"
     ]
    }
   ],
   "source": [
    "import sys\n",
    "sys.path.insert(0, '../')\n",
    "from matplotlib import style; style.use('seaborn-notebook')\n",
    "from PlexSim import *\n",
    "from PlexSim.Models import Potts\n",
    "from PlexSim.Models.FastIsing import Ising\n",
    "import networkx as nx, matplotlib.pyplot as plt, numpy as np\n",
    "from Utils import IO\n",
    "%matplotlib widget\n",
    "n = 32\n",
    "\n",
    "# g = nx.erdos_renyi_graph(n, .2)\n",
    "# g = nx.complete_graph(50)\n",
    "\n",
    "dataDir = '../Graphs' # relative path careful\n",
    "df    = IO.readCSV('{}/Graph_min1_1.csv'.format(dataDir), header = 0, index_col = 0)\n",
    "# h     = IO.readCSV('{}/External_min1_1.csv'.format(dataDir), header = 0, index_col = 0)\n",
    "# g   = nx.from_pandas_adjacency(df) \n",
    "# attr = {node : \\\n",
    "#         dict(H = row['externalField']) for node, row in h.iterrows()}\n",
    "# nx.set_node_attributes(g, attr)\n",
    "\n",
    "# g = nx.erdos_renyi_graph(10, .4)\n",
    "g = nx.grid_2d_graph(n, n)\n",
    "# states = np.arange(0, 1000).tolist()\n",
    "states = np.arange(0, 5).tolist()\n",
    "# states = [-1, 1]\n",
    "m =  Potts.Potts(graph = g, \\\n",
    "                 agentStates = states,\\\n",
    "                 updateType = 'async',\\\n",
    "                magSide = '')\n",
    "\n",
    "\n",
    "# fig, ax = plt.subplots()\n",
    "# ax.imshow(m.simulate(100))\n",
    "# fig.show()\n",
    "\n",
    "# m =  Ising(graph = g, updateType = '0.25')\n",
    "temps = np.geomspace(1e-5, 10, 100)\n",
    "\n",
    "# print(temps)\n",
    "mag, sus = m.matchMagnetization(temps, 100)\n",
    "print(mag, sus)\n",
    "# print(mag)"
   ]
  },
  {
   "cell_type": "code",
   "execution_count": 19,
   "metadata": {},
   "outputs": [
    {
     "data": {
      "application/vnd.jupyter.widget-view+json": {
       "model_id": "642cb4c919554308b23757d735d1f282",
       "version_major": 2,
       "version_minor": 0
      },
      "text/plain": [
       "Canvas(toolbar=Toolbar(toolitems=[('Home', 'Reset original view', 'home', 'home'), ('Back', 'Back to previous …"
      ]
     },
     "metadata": {},
     "output_type": "display_data"
    },
    {
     "name": "stdout",
     "output_type": "stream",
     "text": [
      "Using circular_layout\n"
     ]
    }
   ],
   "source": [
    "import networkx as nx\n",
    "from Utils.plotting import addGraphPretty\n",
    "g = nx.erdos_renyi_graph(5, .3)\n",
    "\n",
    "fig, ax = plt.subplots()\n",
    "pos =  addGraphPretty(g, ax = ax, pos = nx.kamada_kawai_layout,\\\n",
    "                     circle = dict(\\\n",
    "                                  radius = .2))\n",
    "# nx.draw(g, ax = ax, pos = pos)\n",
    "ax.axis('square')\n",
    "ax.axis('off')\n",
    "fig.savefig('kamada3.jpg', dpi = 300, transparent = 1,\\\n",
    "           bbox_inches = 'tight', \\\n",
    "           pad_inches = 0)"
   ]
  },
  {
   "cell_type": "code",
   "execution_count": 2,
   "metadata": {},
   "outputs": [
    {
     "name": "stdout",
     "output_type": "stream",
     "text": [
      "3903\n"
     ]
    }
   ],
   "source": [
    "tmp = []\n",
    "\n",
    "for i in range(1000):\n",
    "    m.reset()\n",
    "    res = m.simulate(1000)[-10:]\n",
    "    tmp.append(res)\n",
    "\n",
    "tmp = np.array(tmp)\n",
    "from collections import Counter\n",
    "n, t , N = tmp.shape\n",
    "\n",
    "counters = {}\n",
    "for i in range(t):\n",
    "    d = [tuple(i) for i in tmp[:, i, :]]\n",
    "    \n",
    "    di = Counter(d)\n",
    "    \n",
    "    for j in di:\n",
    "        counters[j] = counters.get(j, []) + [di[j]]\n",
    "\n",
    "print(len(counters))"
   ]
  },
  {
   "cell_type": "code",
   "execution_count": 3,
   "metadata": {},
   "outputs": [
    {
     "data": {
      "application/vnd.jupyter.widget-view+json": {
       "model_id": "",
       "version_major": 2,
       "version_minor": 0
      },
      "text/plain": [
       "Canvas(toolbar=Toolbar(toolitems=[('Home', 'Reset original view', 'home', 'home'), ('Back', 'Back to previous …"
      ]
     },
     "metadata": {},
     "output_type": "display_data"
    },
    {
     "name": "stdout",
     "output_type": "stream",
     "text": [
      "(1, 0, 2, 2, 0, 2, 2, 2, 1, 2, 1, 2, 1, 0, 0, 2, 2, 1, 1, 1, 2, 2, 2, 1, 1, 1, 1, 1, 1, 0, 1, 2, 1, 2, 0, 1, 2, 2, 1, 0, 1, 1, 1, 2, 1, 0, 0, 1, 0, 0, 0, 1, 1, 1, 2, 1, 0, 1, 1, 1, 2, 0, 1, 2, 2, 2, 1, 2, 2, 1, 2, 0, 0, 1, 1, 1, 1, 1, 2, 2, 2, 0, 0, 1, 1, 1, 1, 1, 0, 0, 1, 2, 1, 2, 1, 0, 2, 2, 2, 2, 1, 0, 0, 0, 2, 1, 1, 1, 2, 2, 0, 1, 2, 2, 2, 0, 1, 2, 1, 1, 1, 1, 1, 0, 1, 1, 1, 2, 2, 0, 2, 2, 1, 2, 0, 0, 0, 2, 2, 0, 1, 0, 0, 0, 2, 1, 0, 1, 1, 2, 2, 2, 1, 1, 2, 1, 0, 0, 0, 2, 2, 2, 2, 2, 2, 2, 0, 0, 2, 2, 0, 2, 2, 2, 0, 1, 0, 1, 2, 0, 2, 0, 0, 1, 1, 1, 2, 1, 1, 0, 2, 2, 0, 0, 0, 2, 2, 0, 0, 0, 2, 1, 1, 1, 1, 2, 1, 0, 2, 1, 0, 2, 0, 0, 0, 1, 0, 0, 0, 0, 1, 0, 2, 2, 0, 2, 0, 2, 0, 0, 0, 1, 2, 2, 0, 0, 0, 1, 1, 1, 2, 1, 0, 0, 0, 0, 0, 2, 2, 1, 1, 1, 0, 0, 2, 0, 0, 0, 2, 0, 2, 0, 2, 2, 0, 2, 1, 0, 1, 1, 1, 2, 0, 2, 2, 1, 1, 2, 2, 2, 0, 1, 1, 0, 0, 1, 0, 0, 0, 1, 2, 0, 2, 2, 1, 0, 0, 0, 2, 2, 1, 1, 2, 2, 1, 1, 0, 2, 2, 2, 1, 1, 0, 0, 0, 0, 0, 1, 2, 0, 0, 1, 0, 0, 0, 2, 1, 0, 2, 2, 0, 0, 0, 0, 2, 2, 2, 1, 0, 0, 1, 2, 0, 0, 1, 0, 0, 0, 2, 2, 2, 1, 0, 2, 0, 1, 2, 2, 1, 2, 2, 2, 2, 0, 2, 0, 0, 0, 2, 1, 1, 0, 2, 1, 1, 1, 0, 0, 0, 1, 1, 2, 0, 1, 0, 0, 0, 1, 2, 1, 0, 2, 2, 2, 2, 0, 0, 0, 0, 0, 0, 2, 0, 0, 1, 1, 1, 1, 0, 0, 1, 1, 0, 2, 1, 0, 1, 1, 1, 2, 2, 1, 2, 2, 0, 0, 0, 2, 2, 1, 0, 0, 0, 0, 0, 1, 1, 1, 2, 2, 0, 1, 1, 1, 0, 0, 0, 2, 1, 0, 0, 2, 2, 1, 1, 1, 0, 0, 2, 2, 2, 0, 1, 1, 1, 0, 0, 0, 1, 2, 2, 2, 0, 2, 1, 1, 1, 0, 0, 1, 2, 2, 0, 0, 2, 1, 1, 1, 0, 0, 2, 2, 0, 0, 1, 1, 1, 2, 2, 2, 1, 2, 1, 1, 2, 2, 0, 2, 2, 2, 2, 1, 2, 2, 0, 2, 2, 1, 1, 2, 1, 0, 1, 1, 0, 0, 0, 1, 2, 2, 2, 1, 1, 0, 1, 1, 1, 0, 0, 1, 0, 0, 0, 0, 1, 2, 1, 0, 0, 0, 0, 2, 2, 2, 1, 1, 0, 0, 1, 1, 2, 2, 1, 1, 0, 0, 2, 1, 0, 0, 0, 2, 2, 2, 0, 2, 0, 0, 2, 2, 1, 2, 2, 0, 0, 0, 0, 0, 0, 0, 0, 1, 1, 2, 1, 0, 0, 0, 1, 0, 0, 0, 0, 2, 2, 1, 0, 0, 0, 0, 0, 2, 2, 2, 0, 0, 1, 2, 2, 1, 0, 2, 1, 1, 2, 0, 0, 1, 1, 0, 0, 1, 2, 0, 0, 0, 0, 1, 0, 0, 0, 1, 0, 0, 1, 2, 0, 0, 1, 2, 0, 0, 0, 1, 2, 2, 2, 2, 2, 1, 0, 0, 0, 2, 1, 1, 1, 2, 1, 0, 0, 0, 0, 2, 2, 2, 1, 0, 0, 0, 0, 0, 0, 1, 0, 0, 0, 2, 2, 2, 1, 1, 0, 0, 0, 0, 1, 1, 0, 2, 2, 2, 0, 1, 1, 1, 1, 1, 2, 2, 0, 0, 2, 0, 2, 1, 0, 0, 2, 2, 1, 2, 0, 2, 0, 2, 1, 1, 2, 2, 1, 1, 0, 0, 1, 1, 2, 1, 1, 0, 0, 2, 2, 2, 0, 2, 2, 0, 2, 2, 2, 0, 1, 2, 2, 2, 0, 1, 2, 2, 2, 2, 0, 1, 0, 0, 2, 1, 0, 1, 2, 2, 2, 2, 2, 2, 2, 2, 1, 0, 0, 1, 2, 0, 0, 0, 2, 1, 0, 0, 0, 2, 0, 2, 2, 1, 2, 2, 2, 2, 0, 0, 0, 0, 0, 2, 2, 1, 1, 0, 2, 2, 0, 2, 0, 0, 0, 0, 2, 1, 1, 0, 0, 0, 1, 0, 2, 2, 2, 0, 2, 2, 0, 0, 1, 1, 0, 0, 2, 2, 2, 0, 2, 2, 2, 2, 2, 2, 0, 2, 2, 2, 1, 0, 0, 0, 0, 1, 2, 1, 2, 0, 0, 1, 0, 0, 1, 0, 0, 1, 2, 0, 0, 2, 0, 0, 0, 0, 0, 1, 0, 2, 2, 2, 1, 0, 2, 1, 0, 0, 2, 1, 1, 0, 1, 1, 1, 2, 1, 0, 1, 1, 0, 1, 2, 0, 1, 2, 2, 0, 2, 2, 2, 2, 0, 2, 1, 0, 1, 1, 0, 0, 0, 1, 0, 0, 1, 2, 1, 2, 2, 0, 1, 2, 0, 1, 0, 0, 1, 1, 0, 0, 1, 1, 0, 0, 1, 1, 1, 0, 0, 1, 0, 0, 0, 1, 2, 2, 2, 0, 2, 2, 2, 0, 0, 2, 1, 0, 0, 2, 2, 0, 0, 1, 1, 2, 2, 0, 0, 1, 1, 1, 1, 1, 1, 2, 0, 0, 2, 0, 2, 0, 1, 2, 0, 2, 0, 1, 1, 1, 0, 2, 2, 2, 1, 1, 1, 1, 2, 2, 2, 1, 2, 2, 2, 2, 2, 2, 2, 0, 2, 0, 2, 1)\n"
     ]
    }
   ],
   "source": [
    "fig, ax = plt.subplots()\n",
    "xr = np.arange(len(counters))\n",
    "print(next(iter(counters)))\n",
    "for idx, counter in enumerate(counters):\n",
    "    ax.plot(counter)\n",
    "#     [ax.bar(xr[idx], i) for i in counter.values()]\n",
    "#     ax.fill_between(xr, di.values())\n",
    "#     ax.set_xscale('log')\n",
    "fig.show()"
   ]
  },
  {
   "cell_type": "code",
   "execution_count": 3,
   "metadata": {},
   "outputs": [
    {
     "name": "stdout",
     "output_type": "stream",
     "text": [
      "Optimization terminated successfully.\n",
      "         Current function value: 0.000007\n",
      "         Iterations: 25\n",
      "         Function evaluations: 50\n"
     ]
    },
    {
     "name": "stderr",
     "output_type": "stream",
     "text": [
      "/home/casper/miniconda3/envs/py38/lib/python3.8/site-packages/scipy/optimize/minpack.py:794: OptimizeWarning: Covariance of the parameters could not be estimated\n",
      "  warnings.warn('Covariance of the parameters could not be estimated',\n"
     ]
    },
    {
     "data": {
      "application/vnd.jupyter.widget-view+json": {
       "model_id": "",
       "version_major": 2,
       "version_minor": 0
      },
      "text/plain": [
       "Canvas(toolbar=Toolbar(toolitems=[('Home', 'Reset original view', 'home', 'home'), ('Back', 'Back to previous …"
      ]
     },
     "metadata": {},
     "output_type": "display_data"
    }
   ],
   "source": [
    "def sig(x, a, b, c):\n",
    "    return 1/(1 + np.exp(-b * (x - c)))\n",
    "\n",
    "def exp(x, a, b):\n",
    "    return np.exp(-b * (x - a))\n",
    "from scipy import interpolate\n",
    "func = sig\n",
    "# f = interpolate.BSpline(temps, mag, k = 1, extrapolate  = 0)\n",
    "from scipy import optimize\n",
    "a, b = optimize.curve_fit(func, temps, mag, maxfev = 10000)\n",
    "\n",
    "\n",
    "\n",
    "\n",
    "theta = .75\n",
    "t = optimize.fmin(lambda x: abs(func(x, *a) - theta * mag.max()), 0)\n",
    "m.t = t\n",
    "%matplotlib widget\n",
    "xr = np.linspace(temps.min(), temps.max())\n",
    "fig, ax = plt.subplots(figsize = (10, 3))\n",
    "ax.scatter(temps, mag)\n",
    "tax = ax.twinx()\n",
    "tax.scatter(temps, sus, color = 'red')\n",
    "\n",
    "ax.plot(xr, func(xr, *a), linestyle = 'dashed', color = 'k')\n",
    "# ax.plot(xr, f(xr), linestyle = 'dashed', color = 'green')\n",
    "\n",
    "ax.set(xlabel = 'temperature', ylabel = 'average mag')\n",
    "tax.set_ylabel('suseptibility')\n",
    "# idx = np.argmin(abs(mag - .5 * mag.max()))\n",
    "ax.axvline(t, linestyle = 'dashed')\n",
    "# ax.set(xlim = (0, 20))\n",
    "# ax.set(xscale = 'log')\n",
    "fig.show()\n",
    "\n"
   ]
  },
  {
   "cell_type": "code",
   "execution_count": 2,
   "metadata": {},
   "outputs": [
    {
     "ename": "NameError",
     "evalue": "name 'm' is not defined",
     "output_type": "error",
     "traceback": [
      "\u001b[0;31m---------------------------------------------------------------------------\u001b[0m",
      "\u001b[0;31mNameError\u001b[0m                                 Traceback (most recent call last)",
      "\u001b[0;32m<ipython-input-2-a96f4d2a8ffe>\u001b[0m in \u001b[0;36m<module>\u001b[0;34m\u001b[0m\n\u001b[1;32m      2\u001b[0m \u001b[0;32mimport\u001b[0m \u001b[0mipywidgets\u001b[0m \u001b[0;32mas\u001b[0m \u001b[0mipy\u001b[0m\u001b[0;34m\u001b[0m\u001b[0;34m\u001b[0m\u001b[0m\n\u001b[1;32m      3\u001b[0m \u001b[0;34m\u001b[0m\u001b[0m\n\u001b[0;32m----> 4\u001b[0;31m \u001b[0mm\u001b[0m\u001b[0;34m.\u001b[0m\u001b[0mreset\u001b[0m\u001b[0;34m(\u001b[0m\u001b[0;34m)\u001b[0m\u001b[0;34m\u001b[0m\u001b[0;34m\u001b[0m\u001b[0m\n\u001b[0m\u001b[1;32m      5\u001b[0m \u001b[0mm\u001b[0m\u001b[0;34m.\u001b[0m\u001b[0mt\u001b[0m \u001b[0;34m=\u001b[0m \u001b[0mt\u001b[0m\u001b[0;34m\u001b[0m\u001b[0;34m\u001b[0m\u001b[0m\n\u001b[1;32m      6\u001b[0m \u001b[0mres\u001b[0m \u001b[0;34m=\u001b[0m \u001b[0mm\u001b[0m\u001b[0;34m.\u001b[0m\u001b[0msimulate\u001b[0m\u001b[0;34m(\u001b[0m\u001b[0;36m500\u001b[0m\u001b[0;34m)\u001b[0m\u001b[0;34m\u001b[0m\u001b[0;34m\u001b[0m\u001b[0m\n",
      "\u001b[0;31mNameError\u001b[0m: name 'm' is not defined"
     ]
    }
   ],
   "source": [
    "%matplotlib notebook\n",
    "import ipywidgets as ipy\n",
    "\n",
    "m.reset()\n",
    "m.t = t\n",
    "res = m.simulate(500)\n",
    "\n",
    "%matplotlib widget\n",
    "fig, ax = plt.subplots(figsize = (4, 4))\n",
    "h = ax.imshow(res[0].reshape(n, n))\n",
    "fig.show()\n",
    "\n",
    "timeSlider = ipy.widgets.IntSlider(min = 0, max = res.shape[0] - 1, \\\n",
    "                                   value = 0, orientation = 'vertical')\n",
    "# ipy.VBox([timeSlider, fig])\n",
    "# @ipy.interact(time = timeSlider)\n",
    "def update(time):\n",
    "    h.set_data(res[time].reshape(n, n))\n",
    "    fig.canvas.draw(); fig.canvas.flush_events()\n",
    "#     fig.show()\n",
    "widget = ipy.interactive(update, time = timeSlider)\n",
    "layout = ipy.Layout(display = 'flex',\\\n",
    "                   flex_flow = 'row',\\\n",
    "                   justify_content = 'space-between',\\\n",
    "                   align_items = 'center',\\\n",
    "                   )\n",
    "widgets = ipy.HBox(widget.children[::-1], layout = layout)\n",
    "from IPython.display import display\n",
    "display(widgets)"
   ]
  },
  {
   "cell_type": "code",
   "execution_count": 7,
   "metadata": {},
   "outputs": [
    {
     "name": "stdout",
     "output_type": "stream",
     "text": [
      "Warning: Cannot change to a different GUI toolkit: qt5. Using widget instead.\n"
     ]
    },
    {
     "data": {
      "application/vnd.jupyter.widget-view+json": {
       "model_id": "dda1eb8ded52476799cd1667bfa06a90",
       "version_major": 2,
       "version_minor": 0
      },
      "text/plain": [
       "Canvas(toolbar=Toolbar(toolitems=[('Home', 'Reset original view', 'home', 'home'), ('Back', 'Back to previous …"
      ]
     },
     "metadata": {},
     "output_type": "display_data"
    },
    {
     "name": "stderr",
     "output_type": "stream",
     "text": [
      "MovieWriter matplotlib.animation.PillowWriter unavailable; trying to use <class 'matplotlib.animation.PillowWriter'> instead.\n"
     ]
    },
    {
     "name": "stdout",
     "output_type": "stream",
     "text": [
      "done\n"
     ]
    }
   ],
   "source": [
    "from matplotlib.animation import FuncAnimation\n",
    "m.reset()\n",
    "m.updateType = '.5'\n",
    "res = m.simulate(1000)\n",
    "N, nodes = res.shape\n",
    "# N = 1000\n",
    "# print(N); assert 0\n",
    "%matplotlib qt5\n",
    "fig, ax = plt.subplots()\n",
    "h = ax.imshow(res[0].reshape(n,n))\n",
    "\n",
    "# ax.set_xlim(0, 32)\n",
    "# ax.set_ylim(0, 32)\n",
    "ax.set_position([0.05, 0.05, .95, .85])\n",
    "ax.axis('tight')\n",
    "mng = plt.get_current_fig_manager()\n",
    "# mng.frame.Maximize(True)\n",
    "# mng.window.state(\"zoomed\")\n",
    "def update(i):\n",
    "    ax.set_title(f't={i}', fontsize = 40)\n",
    "    h.set_data(res[i].reshape(n,n))\n",
    "    f = plt.gcf()\n",
    "    f.set_facecolor('black')\n",
    "    fig.canvas.flush_events()\n",
    "    fig.canvas.draw()\n",
    "    \n",
    "    \n",
    "anim = FuncAnimation(fig, update, \\\n",
    "                    blit = 1, \\\n",
    "                    interval = 100,\\\n",
    "                    frames = np.linspace(0, N - 1, 50, dtype = int))\n",
    "anim.save('lowtemp_potts_5.gif', \\\n",
    "          writer = 'matplotlib.animation.PillowWriter',\\\n",
    "         )\n",
    "print('done')"
   ]
  },
  {
   "cell_type": "code",
   "execution_count": 16,
   "metadata": {},
   "outputs": [
    {
     "data": {
      "application/vnd.jupyter.widget-view+json": {
       "model_id": "",
       "version_major": 2,
       "version_minor": 0
      },
      "text/plain": [
       "Canvas(toolbar=Toolbar(toolitems=[('Home', 'Reset original view', 'home', 'home'), ('Back', 'Back to previous …"
      ]
     },
     "metadata": {},
     "output_type": "display_data"
    },
    {
     "name": "stdout",
     "output_type": "stream",
     "text": [
      "(240,)\n",
      "(240, 2)\n"
     ]
    },
    {
     "data": {
      "application/vnd.jupyter.widget-view+json": {
       "model_id": "",
       "version_major": 2,
       "version_minor": 0
      },
      "text/plain": [
       "Canvas(toolbar=Toolbar(toolitems=[('Home', 'Reset original view', 'home', 'home'), ('Back', 'Back to previous …"
      ]
     },
     "metadata": {},
     "output_type": "display_data"
    }
   ],
   "source": [
    "fig, ax = plt.subplots()\n",
    "x = np.random.standard_normal(100)\n",
    "\n",
    "x = np.random.rand(100)\n",
    "y = 2 + 3  * x + 4 * np.random.standard_normal(x.size)\n",
    "\n",
    "\n",
    "g = nx.hexagonal_lattice_graph(10, 10)\n",
    "states = np.arange(0, 4).tolist()\n",
    "m =  Potts.Potts(graph = g, \\\n",
    "                 agentStates = states,\\\n",
    "                 updateType = '.25')\n",
    "\n",
    "y = m.simulate(100).mean(0)\n",
    "\n",
    "print(y.shape)\n",
    "x = np.asarray(g.nodes())\n",
    "print(x.shape)\n",
    "fig, ax = plt.subplots()\n",
    "h = ax.hexbin(*x.T, C = y)\n",
    "fig.show()"
   ]
  },
  {
   "cell_type": "code",
   "execution_count": 17,
   "metadata": {},
   "outputs": [
    {
     "ename": "ModuleNotFoundError",
     "evalue": "No module named 'Models'",
     "output_type": "error",
     "traceback": [
      "\u001b[0;31m---------------------------------------------------------------------------\u001b[0m",
      "\u001b[0;31mModuleNotFoundError\u001b[0m                       Traceback (most recent call last)",
      "\u001b[0;32m<ipython-input-17-0d9516b4c439>\u001b[0m in \u001b[0;36m<module>\u001b[0;34m\u001b[0m\n\u001b[1;32m      1\u001b[0m \u001b[0mget_ipython\u001b[0m\u001b[0;34m(\u001b[0m\u001b[0;34m)\u001b[0m\u001b[0;34m.\u001b[0m\u001b[0mrun_line_magic\u001b[0m\u001b[0;34m(\u001b[0m\u001b[0;34m'load_ext'\u001b[0m\u001b[0;34m,\u001b[0m \u001b[0;34m'autoreload'\u001b[0m\u001b[0;34m)\u001b[0m\u001b[0;34m\u001b[0m\u001b[0;34m\u001b[0m\u001b[0m\n\u001b[1;32m      2\u001b[0m \u001b[0mget_ipython\u001b[0m\u001b[0;34m(\u001b[0m\u001b[0;34m)\u001b[0m\u001b[0;34m.\u001b[0m\u001b[0mrun_line_magic\u001b[0m\u001b[0;34m(\u001b[0m\u001b[0;34m'autoreload'\u001b[0m\u001b[0;34m,\u001b[0m \u001b[0;34m'2'\u001b[0m\u001b[0;34m)\u001b[0m\u001b[0;34m\u001b[0m\u001b[0;34m\u001b[0m\u001b[0m\n\u001b[0;32m----> 3\u001b[0;31m \u001b[0;32mfrom\u001b[0m \u001b[0mModels\u001b[0m\u001b[0;34m.\u001b[0m\u001b[0mFastIsing\u001b[0m \u001b[0;32mimport\u001b[0m \u001b[0mIsing\u001b[0m\u001b[0;34m\u001b[0m\u001b[0;34m\u001b[0m\u001b[0m\n\u001b[0m\u001b[1;32m      4\u001b[0m \u001b[0;32mfrom\u001b[0m \u001b[0mToolbox\u001b[0m \u001b[0;32mimport\u001b[0m \u001b[0minfcy\u001b[0m\u001b[0;34m\u001b[0m\u001b[0;34m\u001b[0m\u001b[0m\n\u001b[1;32m      5\u001b[0m \u001b[0;34m\u001b[0m\u001b[0m\n",
      "\u001b[0;31mModuleNotFoundError\u001b[0m: No module named 'Models'"
     ]
    }
   ],
   "source": [
    "%load_ext autoreload\n",
    "%autoreload 2\n",
    "from Models.FastIsing import Ising\n",
    "from Toolbox import infcy\n",
    "\n",
    "m = Ising(g)\n",
    "m.matchMagnetization()\n",
    "\n",
    "m.matchMagnetization()\n",
    "snapshots = infcy.getSnapShots(m, 100)\n",
    "infcy.runMC(m, snapshots, 10, 30)"
   ]
  },
  {
   "cell_type": "code",
   "execution_count": null,
   "metadata": {},
   "outputs": [],
   "source": [
    "a = np.random.rand(10, 3)\n",
    "np.isfortran(a)"
   ]
  },
  {
   "cell_type": "code",
   "execution_count": null,
   "metadata": {},
   "outputs": [],
   "source": [
    "ratios = m.matched.get('ratios').items()\n",
    "ratios = np.asarray(list(ratios))\n",
    "\n",
    "print(ratios.shape, ratios)\n",
    "fig, ax = plt.subplots()\n",
    "ax.plot(*m.matched.get('mag')[[0, 1]], linestyle = '-', marker = '.')\n",
    "ax.scatter(ratios[:,1], ratios[:, 0], color = 'red')\n",
    "fig.show()"
   ]
  },
  {
   "cell_type": "code",
   "execution_count": null,
   "metadata": {},
   "outputs": [],
   "source": [
    "from IPython.display import display, clear_output\n",
    "from ipywidgets import interact, fixed, IntSlider, HBox, Layout, Output, VBox\n",
    "import numpy as np \n",
    "import matplotlib.pyplot as plt\n",
    "%matplotlib notebook\n",
    "\n",
    "def rotate(theta, xs, ys):\n",
    "    new_xs = xs * np.cos(np.deg2rad(theta)) - ys * np.sin(np.deg2rad(theta))\n",
    "    new_xs -= new_xs.min()\n",
    "    new_ys = xs * np.sin(np.deg2rad(theta)) + ys * np.cos(np.deg2rad(theta))\n",
    "    new_ys -= new_ys.min()\n",
    "    return new_xs, new_ys\n",
    "\n",
    "out = Output(layout={'width': '300px', 'height': '300px'})\n",
    "xs = np.random.randint(0, 10, 50) \n",
    "ys = np.random.randint(0, 10, 50) \n",
    "\n",
    "fig, ax = plt.subplots(figsize = (4,4))\n",
    "scat, = ax.plot(xs, ys, 'kx', markersize=1000)      \n",
    "ax.grid(which='both', color='.25', lw=.1)\n",
    "ax.set_aspect('equal'), ax.set_title('Rotate')\n",
    "fig.show()\n",
    "def update_plot(change): \n",
    "    theta = change['new'] # new slider value \n",
    "    with out: \n",
    "        clear_output(wait=True)\n",
    "#         fig = plt.figure(figsize=(4,4))\n",
    "#         ax = fig.add_subplot(111)\n",
    "        new_xs, new_ys = rotate(theta, xs, ys) \n",
    "        scat.set_data(new_xs, new_ys)\n",
    "#         ax.relim()\n",
    "        ax.set_xlim(new_xs.min() - 500, new_xs.max() + 500)\n",
    "        ax.set_ylim(new_ys.min() - 500, new_ys.max() + 500)\n",
    "        fig.canvas.flush_events()\n",
    "        fig.canvas.draw()\n",
    "        fig.show()\n",
    "#     print('Done')\n",
    "        \n",
    "\n",
    "slider = IntSlider(min=-180, max=180, step=5, value=0, orientation='vertical') \n",
    "slider.observe(update_plot, 'value')\n",
    "update_plot({'new': slider.value}) \n",
    "display(HBox([out, slider]))"
   ]
  },
  {
   "cell_type": "code",
   "execution_count": null,
   "metadata": {},
   "outputs": [],
   "source": [
    "scat.get_data()"
   ]
  }
 ],
 "metadata": {
  "kernelspec": {
   "display_name": "Python 3",
   "language": "python",
   "name": "python3"
  },
  "language_info": {
   "codemirror_mode": {
    "name": "ipython",
    "version": 3
   },
   "file_extension": ".py",
   "mimetype": "text/x-python",
   "name": "python",
   "nbconvert_exporter": "python",
   "pygments_lexer": "ipython3",
   "version": "3.8.0"
  },
  "toc": {
   "base_numbering": 1,
   "nav_menu": {},
   "number_sections": true,
   "sideBar": true,
   "skip_h1_title": false,
   "title_cell": "Table of Contents",
   "title_sidebar": "Contents",
   "toc_cell": false,
   "toc_position": {},
   "toc_section_display": true,
   "toc_window_display": false
  }
 },
 "nbformat": 4,
 "nbformat_minor": 4
}
