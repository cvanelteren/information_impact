{
 "cells": [
  {
   "cell_type": "code",
   "execution_count": 1,
   "metadata": {},
   "outputs": [
    {
     "ename": "AttributeError",
     "evalue": "Memoryview is not initialized",
     "output_type": "error",
     "traceback": [
      "\u001b[0;31m---------------------------------------------------------------------------\u001b[0m",
      "\u001b[0;31mAttributeError\u001b[0m                            Traceback (most recent call last)",
      "\u001b[0;32m~/projects/information_impact/Models/models.pyx\u001b[0m in \u001b[0;36mModels.models.Model.memory.__get__\u001b[0;34m()\u001b[0m\n",
      "\u001b[0;31mAttributeError\u001b[0m: Memoryview is not initialized"
     ]
    },
    {
     "name": "stderr",
     "output_type": "stream",
     "text": [
      "Exception ignored in: 'Models.models.Model.construct'\n",
      "Traceback (most recent call last):\n",
      "  File \"Models/models.pyx\", line 324, in Models.models.Model.memory.__get__\n",
      "AttributeError: Memoryview is not initialized\n"
     ]
    },
    {
     "ename": "AttributeError",
     "evalue": "Memoryview is not initialized",
     "output_type": "error",
     "traceback": [
      "\u001b[0;31m---------------------------------------------------------------------------\u001b[0m",
      "\u001b[0;31mAttributeError\u001b[0m                            Traceback (most recent call last)",
      "\u001b[0;32m<ipython-input-1-00087233eb19>\u001b[0m in \u001b[0;36m<module>\u001b[0;34m\u001b[0m\n\u001b[1;32m      9\u001b[0m \u001b[0mn\u001b[0m \u001b[0;34m=\u001b[0m \u001b[0;36m100\u001b[0m\u001b[0;34m\u001b[0m\u001b[0;34m\u001b[0m\u001b[0m\n\u001b[1;32m     10\u001b[0m \u001b[0mg\u001b[0m \u001b[0;34m=\u001b[0m \u001b[0mnx\u001b[0m\u001b[0;34m.\u001b[0m\u001b[0mgrid_2d_graph\u001b[0m\u001b[0;34m(\u001b[0m\u001b[0mn\u001b[0m\u001b[0;34m,\u001b[0m \u001b[0mn\u001b[0m\u001b[0;34m)\u001b[0m\u001b[0;34m\u001b[0m\u001b[0;34m\u001b[0m\u001b[0m\n\u001b[0;32m---> 11\u001b[0;31m \u001b[0mmodel\u001b[0m \u001b[0;34m=\u001b[0m \u001b[0mPotts\u001b[0m\u001b[0;34m(\u001b[0m\u001b[0mg\u001b[0m\u001b[0;34m,\u001b[0m \u001b[0magentStates\u001b[0m \u001b[0;34m=\u001b[0m \u001b[0;34m[\u001b[0m\u001b[0;36m0\u001b[0m\u001b[0;34m,\u001b[0m \u001b[0;36m1\u001b[0m\u001b[0;34m,\u001b[0m \u001b[0;36m2\u001b[0m\u001b[0;34m,\u001b[0m \u001b[0;36m3\u001b[0m\u001b[0;34m]\u001b[0m\u001b[0;34m)\u001b[0m\u001b[0;34m\u001b[0m\u001b[0;34m\u001b[0m\u001b[0m\n\u001b[0m\u001b[1;32m     12\u001b[0m \u001b[0;34m\u001b[0m\u001b[0m\n\u001b[1;32m     13\u001b[0m \u001b[0mmodel\u001b[0m\u001b[0;34m.\u001b[0m\u001b[0mreset\u001b[0m\u001b[0;34m(\u001b[0m\u001b[0;34m)\u001b[0m\u001b[0;34m\u001b[0m\u001b[0;34m\u001b[0m\u001b[0m\n",
      "\u001b[0;32m~/projects/information_impact/Models/potts.pyx\u001b[0m in \u001b[0;36mModels.potts.Potts.__init__\u001b[0;34m()\u001b[0m\n",
      "\u001b[0;32m~/projects/information_impact/Models/models.pyx\u001b[0m in \u001b[0;36mModels.models.Model.__init__\u001b[0;34m()\u001b[0m\n",
      "\u001b[0;32m~/projects/information_impact/Models/models.pyx\u001b[0m in \u001b[0;36mModels.models.Model.updateType.__set__\u001b[0;34m()\u001b[0m\n",
      "\u001b[0;31mAttributeError\u001b[0m: Memoryview is not initialized"
     ]
    }
   ],
   "source": [
    "%load_ext autoreload\n",
    "%autoreload 2\n",
    "import sys, networkx as nx, matplotlib.pyplot as plt\n",
    "sys.path.insert(0, '../')\n",
    "from Models.potts import Potts\n",
    "from Models.fastIsing import Ising\n",
    "import numpy as np\n",
    "\n",
    "n = 100\n",
    "g = nx.grid_2d_graph(n, n)\n",
    "model = Potts(g, agentStates = [0, 1, 2, 3])\n",
    "\n",
    "model.reset()\n",
    "model.updateType = 'async'\n",
    "model.t = .001\n",
    "res = model.simulate(int(1e3))"
   ]
  },
  {
   "cell_type": "code",
   "execution_count": null,
   "metadata": {},
   "outputs": [],
   "source": [
    "%matplotlib notebook\n",
    "from ipywidgets import interact, interactive, fixed, interact_manual\n",
    "import ipywidgets as widgets\n",
    "fig, ax = plt.subplots(figsize = (5,5))\n",
    "ax.set_xlabel('Node', fontsize = 20)\n",
    "ax.set_ylabel('Node', fontsize = 20)\n",
    "ax.set(xticks = [], yticks = [])\n",
    "h = ax.imshow(res[0].reshape(n,n), aspect = 'equal')\n",
    "def update(time_step = 0):\n",
    "    try:\n",
    "        h.set_data(res[time_step].reshape(n,n))\n",
    "#     ax.set_title(f'Time = {time_step}')\n",
    "        fig.canvas.draw()\n",
    "    except Exception as e: print(e)\n",
    "interact(update, time_step = widgets.IntSlider(min = 0, max = res.shape[0]-1, value = 0));"
   ]
  },
  {
   "cell_type": "code",
   "execution_count": null,
   "metadata": {},
   "outputs": [],
   "source": [
    "fig, ax = plt.subplots()\n",
    "ax.plot(res.mean(1))\n"
   ]
  }
 ],
 "metadata": {
  "kernelspec": {
   "display_name": "Python 3",
   "language": "python",
   "name": "python3"
  },
  "language_info": {
   "codemirror_mode": {
    "name": "ipython",
    "version": 3
   },
   "file_extension": ".py",
   "mimetype": "text/x-python",
   "name": "python",
   "nbconvert_exporter": "python",
   "pygments_lexer": "ipython3",
   "version": "3.7.3"
  },
  "latex_envs": {
   "LaTeX_envs_menu_present": false,
   "autoclose": false,
   "autocomplete": false,
   "bibliofile": "library.bib",
   "cite_by": "apalike",
   "current_citInitial": 1,
   "eqLabelWithNumbers": false,
   "eqNumInitial": 1,
   "hotkeys": {
    "equation": "Ctrl-E",
    "itemize": "Ctrl-I"
   },
   "labels_anchors": false,
   "latex_user_defs": false,
   "report_style_numbering": false,
   "user_envs_cfg": false
  }
 },
 "nbformat": 4,
 "nbformat_minor": 2
}
