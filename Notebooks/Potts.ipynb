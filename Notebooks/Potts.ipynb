{
 "cells": [
  {
   "cell_type": "code",
   "execution_count": 2,
   "metadata": {
    "scrolled": true
   },
   "outputs": [
    {
     "name": "stderr",
     "output_type": "stream",
     "text": [
      "\r",
      "  0%|          | 0/100 [00:00<?, ?it/s]"
     ]
    },
    {
     "name": "stdout",
     "output_type": "stream",
     "text": [
      "Computing mag per t\n"
     ]
    },
    {
     "name": "stderr",
     "output_type": "stream",
     "text": [
      "100%|██████████| 100/100 [00:04<00:00, 22.13it/s]"
     ]
    },
    {
     "name": "stdout",
     "output_type": "stream",
     "text": [
      "[1.00000000e+00 1.00000000e+00 1.00000000e+00 1.00000000e+00\n",
      " 1.00000000e+00 1.00000000e+00 1.00000000e+00 1.00000000e+00\n",
      " 1.00000000e+00 1.00000000e+00 1.00000000e+00 1.00000000e+00\n",
      " 1.00000000e+00 1.00000000e+00 1.00000000e+00 1.00000000e+00\n",
      " 1.00000000e+00 1.00000000e+00 1.00000000e+00 1.00000000e+00\n",
      " 1.00000000e+00 1.00000000e+00 1.00000000e+00 1.00000000e+00\n",
      " 1.00000000e+00 1.00000000e+00 1.00000000e+00 1.00000000e+00\n",
      " 1.00000000e+00 1.00000000e+00 1.00000000e+00 1.00000000e+00\n",
      " 1.00000000e+00 1.00000000e+00 1.00000000e+00 1.00000000e+00\n",
      " 1.00000000e+00 1.00000000e+00 1.00000000e+00 1.00000000e+00\n",
      " 1.00000000e+00 1.00000000e+00 1.00000000e+00 1.00000000e+00\n",
      " 1.00000000e+00 1.00000000e+00 1.00000000e+00 1.00000000e+00\n",
      " 1.00000000e+00 1.00000000e+00 1.00000000e+00 1.00000000e+00\n",
      " 1.00000000e+00 1.00000000e+00 1.00000000e+00 1.00000000e+00\n",
      " 1.00000000e+00 1.00000000e+00 1.00000000e+00 1.00000000e+00\n",
      " 1.00000000e+00 1.00000000e+00 1.00000000e+00 1.00000000e+00\n",
      " 1.00000000e+00 1.00000000e+00 1.00000000e+00 1.00000000e+00\n",
      " 1.00000000e+00 1.00000000e+00 1.00000000e+00 1.00000000e+00\n",
      " 1.00000000e+00 1.00000000e+00 1.00000000e+00 1.00000000e+00\n",
      " 1.00000000e+00 1.00000000e+00 1.00000000e+00 9.99941402e-01\n",
      " 9.99902336e-01 9.99335886e-01 9.98945230e-01 9.97206813e-01\n",
      " 9.93866708e-01 9.84471443e-01 9.55094148e-01 8.96300492e-01\n",
      " 7.36483319e-01 2.35877803e-01 1.63294007e-02 5.00039066e-03\n",
      " 4.73865146e-02 1.69935151e-03 1.33994843e-02 8.98507696e-04\n",
      " 1.24228455e-02 3.73076022e-03 3.18384249e-03 0.00000000e+00] [0.00000000e+00 0.00000000e+00 2.91038305e-11 5.82076609e-11\n",
      " 0.00000000e+00 0.00000000e+00 2.91038305e-11 0.00000000e+00\n",
      " 1.45519152e-11 1.45519152e-11 1.45519152e-11 1.45519152e-11\n",
      " 0.00000000e+00 1.45519152e-11 0.00000000e+00 0.00000000e+00\n",
      " 0.00000000e+00 3.63797881e-12 7.27595761e-12 0.00000000e+00\n",
      " 0.00000000e+00 0.00000000e+00 1.81898940e-12 1.81898940e-12\n",
      " 0.00000000e+00 0.00000000e+00 0.00000000e+00 9.09494702e-13\n",
      " 9.09494702e-13 9.09494702e-13 0.00000000e+00 0.00000000e+00\n",
      " 9.09494702e-13 0.00000000e+00 4.54747351e-13 0.00000000e+00\n",
      " 2.27373675e-13 2.27373675e-13 0.00000000e+00 2.27373675e-13\n",
      " 0.00000000e+00 0.00000000e+00 1.13686838e-13 0.00000000e+00\n",
      " 0.00000000e+00 0.00000000e+00 5.68434189e-14 5.68434189e-14\n",
      " 0.00000000e+00 0.00000000e+00 0.00000000e+00 0.00000000e+00\n",
      " 0.00000000e+00 2.84217094e-14 0.00000000e+00 0.00000000e+00\n",
      " 1.42108547e-14 0.00000000e+00 1.42108547e-14 0.00000000e+00\n",
      " 1.42108547e-14 0.00000000e+00 0.00000000e+00 0.00000000e+00\n",
      " 7.10542736e-15 7.10542736e-15 7.10542736e-15 3.55271368e-15\n",
      " 0.00000000e+00 0.00000000e+00 0.00000000e+00 0.00000000e+00\n",
      " 0.00000000e+00 1.77635684e-15 1.77635684e-15 1.77635684e-15\n",
      " 8.88178420e-16 0.00000000e+00 3.41037454e-04 5.89854855e-04\n",
      " 2.72118747e-03 4.36316334e-03 7.50945588e-03 1.63315061e-02\n",
      " 3.47933123e-02 9.15846055e-02 1.86056961e-01 3.93728721e-01\n",
      " 1.02626527e+00 1.10505408e+00 3.28864149e-01 2.59982763e-02\n",
      " 8.53402736e-03 3.49394236e-02 1.85087849e-03 2.71449829e-03\n",
      " 3.08848567e-03 4.94233679e-03 1.39514957e-03 2.44419913e-03]\n"
     ]
    },
    {
     "name": "stderr",
     "output_type": "stream",
     "text": [
      "\n"
     ]
    }
   ],
   "source": [
    "import sys\n",
    "sys.path.insert(0, '../')\n",
    "from matplotlib import style; style.use('seaborn-notebook')\n",
    "from PlexSim import *\n",
    "from PlexSim.Models import Potts\n",
    "from PlexSim.Models import RBN\n",
    "from PlexSim.Models.FastIsing import Ising\n",
    "import networkx as nx, matplotlib.pyplot as plt, numpy as np\n",
    "from Utils import IO\n",
    "%matplotlib widget\n",
    "n = 32\n",
    "\n",
    "# g = nx.erdos_renyi_graph(n, .2)\n",
    "# g = nx.complete_graph(50)\n",
    "\n",
    "dataDir = '../Graphs' # relative path careful\n",
    "df    = IO.readCSV('{}/Graph_min1_1.csv'.format(dataDir), header = 0, index_col = 0)\n",
    "# h     = IO.readCSV('{}/External_min1_1.csv'.format(dataDir), header = 0, index_col = 0)\n",
    "# g   = nx.from_pandas_adjacency(df) \n",
    "# attr = {node : \\\n",
    "#         dict(H = row['externalField']) for node, row in h.iterrows()}\n",
    "# nx.set_node_attributes(g, attr)\n",
    "\n",
    "# g = nx.erdos_renyi_graph(10, .4)\n",
    "g = nx.grid_2d_graph(n, n)\n",
    "# states = np.arange(0, 1000).tolist()\n",
    "states = np.arange(0, 5).tolist()\n",
    "# states = [-1, 1]\n",
    "m =  Ising(graph = g, \\\n",
    "#                  agentStates = states,\\\n",
    "                 updateType = 'async',\\\n",
    "                magSide = '')\n",
    "\n",
    "\n",
    "# fig, ax = plt.subplots()\n",
    "# ax.imshow(m.simulate(100))\n",
    "# fig.show()\n",
    "\n",
    "# m =  Ising(graph = g, updateType = '0.25')\n",
    "temps = np.geomspace(1e-5, 10, 100)\n",
    "\n",
    "# print(temps)\n",
    "mag, sus = m.matchMagnetization(temps, 100)\n",
    "print(mag, sus)\n",
    "# print(mag)"
   ]
  },
  {
   "cell_type": "code",
   "execution_count": 3,
   "metadata": {},
   "outputs": [
    {
     "data": {
      "application/vnd.jupyter.widget-view+json": {
       "model_id": "",
       "version_major": 2,
       "version_minor": 0
      },
      "text/plain": [
       "Canvas(toolbar=Toolbar(toolitems=[('Home', 'Reset original view', 'home', 'home'), ('Back', 'Back to previous …"
      ]
     },
     "metadata": {},
     "output_type": "display_data"
    },
    {
     "name": "stdout",
     "output_type": "stream",
     "text": [
      "Using circular_layout\n"
     ]
    },
    {
     "ename": "ValueError",
     "evalue": "Format 'jpg' is not supported (supported formats: eps, pdf, pgf, png, ps, raw, rgba, svg, svgz)",
     "output_type": "error",
     "traceback": [
      "\u001b[0;31m---------------------------------------------------------------------------\u001b[0m",
      "\u001b[0;31mValueError\u001b[0m                                Traceback (most recent call last)",
      "\u001b[0;32m<ipython-input-3-3c293306fb27>\u001b[0m in \u001b[0;36m<module>\u001b[0;34m\u001b[0m\n\u001b[1;32m     10\u001b[0m \u001b[0max\u001b[0m\u001b[0;34m.\u001b[0m\u001b[0maxis\u001b[0m\u001b[0;34m(\u001b[0m\u001b[0;34m'square'\u001b[0m\u001b[0;34m)\u001b[0m\u001b[0;34m\u001b[0m\u001b[0;34m\u001b[0m\u001b[0m\n\u001b[1;32m     11\u001b[0m \u001b[0max\u001b[0m\u001b[0;34m.\u001b[0m\u001b[0maxis\u001b[0m\u001b[0;34m(\u001b[0m\u001b[0;34m'off'\u001b[0m\u001b[0;34m)\u001b[0m\u001b[0;34m\u001b[0m\u001b[0;34m\u001b[0m\u001b[0m\n\u001b[0;32m---> 12\u001b[0;31m fig.savefig('kamada3.jpg', dpi = 300, transparent = 1,\\\n\u001b[0m\u001b[1;32m     13\u001b[0m            \u001b[0mbbox_inches\u001b[0m \u001b[0;34m=\u001b[0m \u001b[0;34m'tight'\u001b[0m\u001b[0;34m,\u001b[0m\u001b[0;31m \u001b[0m\u001b[0;31m\\\u001b[0m\u001b[0;34m\u001b[0m\u001b[0;34m\u001b[0m\u001b[0m\n\u001b[1;32m     14\u001b[0m            pad_inches = 0)\n",
      "\u001b[0;32m~/.local/lib/python3.8/site-packages/matplotlib/figure.py\u001b[0m in \u001b[0;36msavefig\u001b[0;34m(self, fname, transparent, **kwargs)\u001b[0m\n\u001b[1;32m   2178\u001b[0m             \u001b[0mself\u001b[0m\u001b[0;34m.\u001b[0m\u001b[0mpatch\u001b[0m\u001b[0;34m.\u001b[0m\u001b[0mset_visible\u001b[0m\u001b[0;34m(\u001b[0m\u001b[0mframeon\u001b[0m\u001b[0;34m)\u001b[0m\u001b[0;34m\u001b[0m\u001b[0;34m\u001b[0m\u001b[0m\n\u001b[1;32m   2179\u001b[0m \u001b[0;34m\u001b[0m\u001b[0m\n\u001b[0;32m-> 2180\u001b[0;31m         \u001b[0mself\u001b[0m\u001b[0;34m.\u001b[0m\u001b[0mcanvas\u001b[0m\u001b[0;34m.\u001b[0m\u001b[0mprint_figure\u001b[0m\u001b[0;34m(\u001b[0m\u001b[0mfname\u001b[0m\u001b[0;34m,\u001b[0m \u001b[0;34m**\u001b[0m\u001b[0mkwargs\u001b[0m\u001b[0;34m)\u001b[0m\u001b[0;34m\u001b[0m\u001b[0;34m\u001b[0m\u001b[0m\n\u001b[0m\u001b[1;32m   2181\u001b[0m \u001b[0;34m\u001b[0m\u001b[0m\n\u001b[1;32m   2182\u001b[0m         \u001b[0;32mif\u001b[0m \u001b[0mframeon\u001b[0m\u001b[0;34m:\u001b[0m\u001b[0;34m\u001b[0m\u001b[0;34m\u001b[0m\u001b[0m\n",
      "\u001b[0;32m~/.local/lib/python3.8/site-packages/matplotlib/backend_bases.py\u001b[0m in \u001b[0;36mprint_figure\u001b[0;34m(self, filename, dpi, facecolor, edgecolor, orientation, format, bbox_inches, **kwargs)\u001b[0m\n\u001b[1;32m   2019\u001b[0m \u001b[0;34m\u001b[0m\u001b[0m\n\u001b[1;32m   2020\u001b[0m         \u001b[0;31m# get canvas object and print method for format\u001b[0m\u001b[0;34m\u001b[0m\u001b[0;34m\u001b[0m\u001b[0;34m\u001b[0m\u001b[0m\n\u001b[0;32m-> 2021\u001b[0;31m         \u001b[0mcanvas\u001b[0m \u001b[0;34m=\u001b[0m \u001b[0mself\u001b[0m\u001b[0;34m.\u001b[0m\u001b[0m_get_output_canvas\u001b[0m\u001b[0;34m(\u001b[0m\u001b[0mformat\u001b[0m\u001b[0;34m)\u001b[0m\u001b[0;34m\u001b[0m\u001b[0;34m\u001b[0m\u001b[0m\n\u001b[0m\u001b[1;32m   2022\u001b[0m         \u001b[0mprint_method\u001b[0m \u001b[0;34m=\u001b[0m \u001b[0mgetattr\u001b[0m\u001b[0;34m(\u001b[0m\u001b[0mcanvas\u001b[0m\u001b[0;34m,\u001b[0m \u001b[0;34m'print_%s'\u001b[0m \u001b[0;34m%\u001b[0m \u001b[0mformat\u001b[0m\u001b[0;34m)\u001b[0m\u001b[0;34m\u001b[0m\u001b[0;34m\u001b[0m\u001b[0m\n\u001b[1;32m   2023\u001b[0m \u001b[0;34m\u001b[0m\u001b[0m\n",
      "\u001b[0;32m~/.local/lib/python3.8/site-packages/matplotlib/backend_bases.py\u001b[0m in \u001b[0;36m_get_output_canvas\u001b[0;34m(self, fmt)\u001b[0m\n\u001b[1;32m   1959\u001b[0m             \u001b[0;32mreturn\u001b[0m \u001b[0mself\u001b[0m\u001b[0;34m.\u001b[0m\u001b[0mswitch_backends\u001b[0m\u001b[0;34m(\u001b[0m\u001b[0mcanvas_class\u001b[0m\u001b[0;34m)\u001b[0m\u001b[0;34m\u001b[0m\u001b[0;34m\u001b[0m\u001b[0m\n\u001b[1;32m   1960\u001b[0m         \u001b[0;31m# Else report error for unsupported format.\u001b[0m\u001b[0;34m\u001b[0m\u001b[0;34m\u001b[0m\u001b[0;34m\u001b[0m\u001b[0m\n\u001b[0;32m-> 1961\u001b[0;31m         raise ValueError(\n\u001b[0m\u001b[1;32m   1962\u001b[0m             \u001b[0;34m\"Format {!r} is not supported (supported formats: {})\"\u001b[0m\u001b[0;34m\u001b[0m\u001b[0;34m\u001b[0m\u001b[0m\n\u001b[1;32m   1963\u001b[0m             .format(fmt, \", \".join(sorted(self.get_supported_filetypes()))))\n",
      "\u001b[0;31mValueError\u001b[0m: Format 'jpg' is not supported (supported formats: eps, pdf, pgf, png, ps, raw, rgba, svg, svgz)"
     ]
    }
   ],
   "source": [
    "import networkx as nx\n",
    "from Utils.plotting import addGraphPretty\n",
    "g = nx.erdos_renyi_graph(5, .3)\n",
    "\n",
    "fig, ax = plt.subplots()\n",
    "pos =  addGraphPretty(g, ax = ax, pos = nx.kamada_kawai_layout,\\\n",
    "                     circle = dict(\\\n",
    "                                  radius = .2))\n",
    "# nx.draw(g, ax = ax, pos = pos)\n",
    "ax.axis('square')\n",
    "ax.axis('off')\n",
    "fig.savefig('kamada3.jpg', dpi = 300, transparent = 1,\\\n",
    "           bbox_inches = 'tight', \\\n",
    "           pad_inches = 0)"
   ]
  },
  {
   "cell_type": "code",
   "execution_count": 4,
   "metadata": {},
   "outputs": [
    {
     "ename": "KeyboardInterrupt",
     "evalue": "",
     "output_type": "error",
     "traceback": [
      "\u001b[0;31m---------------------------------------------------------------------------\u001b[0m",
      "\u001b[0;31mKeyboardInterrupt\u001b[0m                         Traceback (most recent call last)",
      "\u001b[0;32m<ipython-input-4-1d366b993739>\u001b[0m in \u001b[0;36m<module>\u001b[0;34m\u001b[0m\n\u001b[1;32m      3\u001b[0m \u001b[0;32mfor\u001b[0m \u001b[0mi\u001b[0m \u001b[0;32min\u001b[0m \u001b[0mrange\u001b[0m\u001b[0;34m(\u001b[0m\u001b[0;36m1000\u001b[0m\u001b[0;34m)\u001b[0m\u001b[0;34m:\u001b[0m\u001b[0;34m\u001b[0m\u001b[0;34m\u001b[0m\u001b[0m\n\u001b[1;32m      4\u001b[0m     \u001b[0mm\u001b[0m\u001b[0;34m.\u001b[0m\u001b[0mreset\u001b[0m\u001b[0;34m(\u001b[0m\u001b[0;34m)\u001b[0m\u001b[0;34m\u001b[0m\u001b[0;34m\u001b[0m\u001b[0m\n\u001b[0;32m----> 5\u001b[0;31m     \u001b[0mres\u001b[0m \u001b[0;34m=\u001b[0m \u001b[0mm\u001b[0m\u001b[0;34m.\u001b[0m\u001b[0msimulate\u001b[0m\u001b[0;34m(\u001b[0m\u001b[0;36m1000\u001b[0m\u001b[0;34m)\u001b[0m\u001b[0;34m[\u001b[0m\u001b[0;34m-\u001b[0m\u001b[0;36m10\u001b[0m\u001b[0;34m:\u001b[0m\u001b[0;34m]\u001b[0m\u001b[0;34m\u001b[0m\u001b[0;34m\u001b[0m\u001b[0m\n\u001b[0m\u001b[1;32m      6\u001b[0m     \u001b[0mtmp\u001b[0m\u001b[0;34m.\u001b[0m\u001b[0mappend\u001b[0m\u001b[0;34m(\u001b[0m\u001b[0mres\u001b[0m\u001b[0;34m)\u001b[0m\u001b[0;34m\u001b[0m\u001b[0;34m\u001b[0m\u001b[0m\n\u001b[1;32m      7\u001b[0m \u001b[0;34m\u001b[0m\u001b[0m\n",
      "\u001b[0;31mKeyboardInterrupt\u001b[0m: "
     ]
    }
   ],
   "source": [
    "tmp = []\n",
    "\n",
    "for i in range(1000):\n",
    "    m.reset()\n",
    "    res = m.simulate(1000)[-10:]\n",
    "    tmp.append(res)\n",
    "\n",
    "tmp = np.array(tmp)\n",
    "from collections import Counter\n",
    "n, t , N = tmp.shape\n",
    "\n",
    "counters = {}\n",
    "for i in range(t):\n",
    "    d = [tuple(i) for i in tmp[:, i, :]]\n",
    "    \n",
    "    di = Counter(d)\n",
    "    \n",
    "    for j in di:\n",
    "        counters[j] = counters.get(j, []) + [di[j]]\n",
    "\n",
    "print(len(counters))"
   ]
  },
  {
   "cell_type": "code",
   "execution_count": null,
   "metadata": {},
   "outputs": [],
   "source": [
    "fig, ax = plt.subplots()\n",
    "xr = np.arange(len(counters))\n",
    "print(next(iter(counters)))\n",
    "for idx, counter in enumerate(counters):\n",
    "    ax.plot(counter)\n",
    "#     [ax.bar(xr[idx], i) for i in counter.values()]\n",
    "#     ax.fill_between(xr, di.values())\n",
    "#     ax.set_xscale('log')\n",
    "fig.show()"
   ]
  },
  {
   "cell_type": "code",
   "execution_count": null,
   "metadata": {},
   "outputs": [],
   "source": [
    "def sig(x, a, b, c):\n",
    "    return 1/(1 + np.exp(-b * (x - c)))\n",
    "\n",
    "def exp(x, a, b):\n",
    "    return np.exp(-b * (x - a))\n",
    "from scipy import interpolate\n",
    "func = sig\n",
    "# f = interpolate.BSpline(temps, mag, k = 1, extrapolate  = 0)\n",
    "from scipy import optimize\n",
    "a, b = optimize.curve_fit(func, temps, mag, maxfev = 10000)\n",
    "\n",
    "\n",
    "\n",
    "\n",
    "theta = .75\n",
    "t = optimize.fmin(lambda x: abs(func(x, *a) - theta * mag.max()), 0)\n",
    "m.t = t\n",
    "%matplotlib widget\n",
    "xr = np.linspace(temps.min(), temps.max())\n",
    "fig, ax = plt.subplots(figsize = (10, 3))\n",
    "ax.scatter(temps, mag)\n",
    "tax = ax.twinx()\n",
    "tax.scatter(temps, sus, color = 'red')\n",
    "\n",
    "ax.plot(xr, func(xr, *a), linestyle = 'dashed', color = 'k')\n",
    "# ax.plot(xr, f(xr), linestyle = 'dashed', color = 'green')\n",
    "\n",
    "ax.set(xlabel = 'temperature', ylabel = 'average mag')\n",
    "tax.set_ylabel('suseptibility')\n",
    "# idx = np.argmin(abs(mag - .5 * mag.max()))\n",
    "ax.axvline(t, linestyle = 'dashed')\n",
    "# ax.set(xlim = (0, 20))\n",
    "# ax.set(xscale = 'log')\n",
    "fig.show()\n",
    "\n"
   ]
  },
  {
   "cell_type": "code",
   "execution_count": 2,
   "metadata": {},
   "outputs": [
    {
     "ename": "NameError",
     "evalue": "name 'm' is not defined",
     "output_type": "error",
     "traceback": [
      "\u001b[0;31m---------------------------------------------------------------------------\u001b[0m",
      "\u001b[0;31mNameError\u001b[0m                                 Traceback (most recent call last)",
      "\u001b[0;32m<ipython-input-2-a96f4d2a8ffe>\u001b[0m in \u001b[0;36m<module>\u001b[0;34m\u001b[0m\n\u001b[1;32m      2\u001b[0m \u001b[0;32mimport\u001b[0m \u001b[0mipywidgets\u001b[0m \u001b[0;32mas\u001b[0m \u001b[0mipy\u001b[0m\u001b[0;34m\u001b[0m\u001b[0;34m\u001b[0m\u001b[0m\n\u001b[1;32m      3\u001b[0m \u001b[0;34m\u001b[0m\u001b[0m\n\u001b[0;32m----> 4\u001b[0;31m \u001b[0mm\u001b[0m\u001b[0;34m.\u001b[0m\u001b[0mreset\u001b[0m\u001b[0;34m(\u001b[0m\u001b[0;34m)\u001b[0m\u001b[0;34m\u001b[0m\u001b[0;34m\u001b[0m\u001b[0m\n\u001b[0m\u001b[1;32m      5\u001b[0m \u001b[0mm\u001b[0m\u001b[0;34m.\u001b[0m\u001b[0mt\u001b[0m \u001b[0;34m=\u001b[0m \u001b[0mt\u001b[0m\u001b[0;34m\u001b[0m\u001b[0;34m\u001b[0m\u001b[0m\n\u001b[1;32m      6\u001b[0m \u001b[0mres\u001b[0m \u001b[0;34m=\u001b[0m \u001b[0mm\u001b[0m\u001b[0;34m.\u001b[0m\u001b[0msimulate\u001b[0m\u001b[0;34m(\u001b[0m\u001b[0;36m500\u001b[0m\u001b[0;34m)\u001b[0m\u001b[0;34m\u001b[0m\u001b[0;34m\u001b[0m\u001b[0m\n",
      "\u001b[0;31mNameError\u001b[0m: name 'm' is not defined"
     ]
    }
   ],
   "source": [
    "%matplotlib notebook\n",
    "import ipywidgets as ipy\n",
    "\n",
    "m.reset()\n",
    "m.t = t\n",
    "res = m.simulate(500)\n",
    "\n",
    "%matplotlib widget\n",
    "fig, ax = plt.subplots(figsize = (4, 4))\n",
    "h = ax.imshow(res[0].reshape(n, n))\n",
    "fig.show()\n",
    "\n",
    "timeSlider = ipy.widgets.IntSlider(min = 0, max = res.shape[0] - 1, \\\n",
    "                                   value = 0, orientation = 'vertical')\n",
    "# ipy.VBox([timeSlider, fig])\n",
    "# @ipy.interact(time = timeSlider)\n",
    "def update(time):\n",
    "    h.set_data(res[time].reshape(n, n))\n",
    "    fig.canvas.draw(); fig.canvas.flush_events()\n",
    "#     fig.show()\n",
    "widget = ipy.interactive(update, time = timeSlider)\n",
    "layout = ipy.Layout(display = 'flex',\\\n",
    "                   flex_flow = 'row',\\\n",
    "                   justify_content = 'space-between',\\\n",
    "                   align_items = 'center',\\\n",
    "                   )\n",
    "widgets = ipy.HBox(widget.children[::-1], layout = layout)\n",
    "from IPython.display import display\n",
    "display(widgets)"
   ]
  },
  {
   "cell_type": "code",
   "execution_count": 7,
   "metadata": {},
   "outputs": [
    {
     "name": "stdout",
     "output_type": "stream",
     "text": [
      "Warning: Cannot change to a different GUI toolkit: qt5. Using widget instead.\n"
     ]
    },
    {
     "data": {
      "application/vnd.jupyter.widget-view+json": {
       "model_id": "dda1eb8ded52476799cd1667bfa06a90",
       "version_major": 2,
       "version_minor": 0
      },
      "text/plain": [
       "Canvas(toolbar=Toolbar(toolitems=[('Home', 'Reset original view', 'home', 'home'), ('Back', 'Back to previous …"
      ]
     },
     "metadata": {},
     "output_type": "display_data"
    },
    {
     "name": "stderr",
     "output_type": "stream",
     "text": [
      "MovieWriter matplotlib.animation.PillowWriter unavailable; trying to use <class 'matplotlib.animation.PillowWriter'> instead.\n"
     ]
    },
    {
     "name": "stdout",
     "output_type": "stream",
     "text": [
      "done\n"
     ]
    }
   ],
   "source": [
    "from matplotlib.animation import FuncAnimation\n",
    "m.reset()\n",
    "m.updateType = '.5'\n",
    "res = m.simulate(1000)\n",
    "N, nodes = res.shape\n",
    "# N = 1000\n",
    "# print(N); assert 0\n",
    "%matplotlib qt5\n",
    "fig, ax = plt.subplots()\n",
    "h = ax.imshow(res[0].reshape(n,n))\n",
    "\n",
    "# ax.set_xlim(0, 32)\n",
    "# ax.set_ylim(0, 32)\n",
    "ax.set_position([0.05, 0.05, .95, .85])\n",
    "ax.axis('tight')\n",
    "mng = plt.get_current_fig_manager()\n",
    "# mng.frame.Maximize(True)\n",
    "# mng.window.state(\"zoomed\")\n",
    "def update(i):\n",
    "    ax.set_title(f't={i}', fontsize = 40)\n",
    "    h.set_data(res[i].reshape(n,n))\n",
    "    f = plt.gcf()\n",
    "    f.set_facecolor('black')\n",
    "    fig.canvas.flush_events()\n",
    "    fig.canvas.draw()\n",
    "    \n",
    "    \n",
    "anim = FuncAnimation(fig, update, \\\n",
    "                    blit = 1, \\\n",
    "                    interval = 100,\\\n",
    "                    frames = np.linspace(0, N - 1, 50, dtype = int))\n",
    "anim.save('lowtemp_potts_5.gif', \\\n",
    "          writer = 'matplotlib.animation.PillowWriter',\\\n",
    "         )\n",
    "print('done')"
   ]
  },
  {
   "cell_type": "code",
   "execution_count": 16,
   "metadata": {},
   "outputs": [
    {
     "data": {
      "application/vnd.jupyter.widget-view+json": {
       "model_id": "",
       "version_major": 2,
       "version_minor": 0
      },
      "text/plain": [
       "Canvas(toolbar=Toolbar(toolitems=[('Home', 'Reset original view', 'home', 'home'), ('Back', 'Back to previous …"
      ]
     },
     "metadata": {},
     "output_type": "display_data"
    },
    {
     "name": "stdout",
     "output_type": "stream",
     "text": [
      "(240,)\n",
      "(240, 2)\n"
     ]
    },
    {
     "data": {
      "application/vnd.jupyter.widget-view+json": {
       "model_id": "",
       "version_major": 2,
       "version_minor": 0
      },
      "text/plain": [
       "Canvas(toolbar=Toolbar(toolitems=[('Home', 'Reset original view', 'home', 'home'), ('Back', 'Back to previous …"
      ]
     },
     "metadata": {},
     "output_type": "display_data"
    }
   ],
   "source": [
    "fig, ax = plt.subplots()\n",
    "x = np.random.standard_normal(100)\n",
    "\n",
    "x = np.random.rand(100)\n",
    "y = 2 + 3  * x + 4 * np.random.standard_normal(x.size)\n",
    "\n",
    "\n",
    "g = nx.hexagonal_lattice_graph(10, 10)\n",
    "states = np.arange(0, 4).tolist()\n",
    "m =  Potts.Potts(graph = g, \\\n",
    "                 agentStates = states,\\\n",
    "                 updateType = '.25')\n",
    "\n",
    "y = m.simulate(100).mean(0)\n",
    "\n",
    "print(y.shape)\n",
    "x = np.asarray(g.nodes())\n",
    "print(x.shape)\n",
    "fig, ax = plt.subplots()\n",
    "h = ax.hexbin(*x.T, C = y)\n",
    "fig.show()"
   ]
  },
  {
   "cell_type": "code",
   "execution_count": 17,
   "metadata": {},
   "outputs": [
    {
     "ename": "ModuleNotFoundError",
     "evalue": "No module named 'Models'",
     "output_type": "error",
     "traceback": [
      "\u001b[0;31m---------------------------------------------------------------------------\u001b[0m",
      "\u001b[0;31mModuleNotFoundError\u001b[0m                       Traceback (most recent call last)",
      "\u001b[0;32m<ipython-input-17-0d9516b4c439>\u001b[0m in \u001b[0;36m<module>\u001b[0;34m\u001b[0m\n\u001b[1;32m      1\u001b[0m \u001b[0mget_ipython\u001b[0m\u001b[0;34m(\u001b[0m\u001b[0;34m)\u001b[0m\u001b[0;34m.\u001b[0m\u001b[0mrun_line_magic\u001b[0m\u001b[0;34m(\u001b[0m\u001b[0;34m'load_ext'\u001b[0m\u001b[0;34m,\u001b[0m \u001b[0;34m'autoreload'\u001b[0m\u001b[0;34m)\u001b[0m\u001b[0;34m\u001b[0m\u001b[0;34m\u001b[0m\u001b[0m\n\u001b[1;32m      2\u001b[0m \u001b[0mget_ipython\u001b[0m\u001b[0;34m(\u001b[0m\u001b[0;34m)\u001b[0m\u001b[0;34m.\u001b[0m\u001b[0mrun_line_magic\u001b[0m\u001b[0;34m(\u001b[0m\u001b[0;34m'autoreload'\u001b[0m\u001b[0;34m,\u001b[0m \u001b[0;34m'2'\u001b[0m\u001b[0;34m)\u001b[0m\u001b[0;34m\u001b[0m\u001b[0;34m\u001b[0m\u001b[0m\n\u001b[0;32m----> 3\u001b[0;31m \u001b[0;32mfrom\u001b[0m \u001b[0mModels\u001b[0m\u001b[0;34m.\u001b[0m\u001b[0mFastIsing\u001b[0m \u001b[0;32mimport\u001b[0m \u001b[0mIsing\u001b[0m\u001b[0;34m\u001b[0m\u001b[0;34m\u001b[0m\u001b[0m\n\u001b[0m\u001b[1;32m      4\u001b[0m \u001b[0;32mfrom\u001b[0m \u001b[0mToolbox\u001b[0m \u001b[0;32mimport\u001b[0m \u001b[0minfcy\u001b[0m\u001b[0;34m\u001b[0m\u001b[0;34m\u001b[0m\u001b[0m\n\u001b[1;32m      5\u001b[0m \u001b[0;34m\u001b[0m\u001b[0m\n",
      "\u001b[0;31mModuleNotFoundError\u001b[0m: No module named 'Models'"
     ]
    }
   ],
   "source": [
    "%load_ext autoreload\n",
    "%autoreload 2\n",
    "from Models.FastIsing import Ising\n",
    "from Toolbox import infcy\n",
    "\n",
    "m = Ising(g)\n",
    "m.matchMagnetization()\n",
    "\n",
    "m.matchMagnetization()\n",
    "snapshots = infcy.getSnapShots(m, 100)\n",
    "infcy.runMC(m, snapshots, 10, 30)"
   ]
  },
  {
   "cell_type": "code",
   "execution_count": null,
   "metadata": {},
   "outputs": [],
   "source": [
    "a = np.random.rand(10, 3)\n",
    "np.isfortran(a)"
   ]
  },
  {
   "cell_type": "code",
   "execution_count": null,
   "metadata": {},
   "outputs": [],
   "source": [
    "ratios = m.matched.get('ratios').items()\n",
    "ratios = np.asarray(list(ratios))\n",
    "\n",
    "print(ratios.shape, ratios)\n",
    "fig, ax = plt.subplots()\n",
    "ax.plot(*m.matched.get('mag')[[0, 1]], linestyle = '-', marker = '.')\n",
    "ax.scatter(ratios[:,1], ratios[:, 0], color = 'red')\n",
    "fig.show()"
   ]
  },
  {
   "cell_type": "code",
   "execution_count": null,
   "metadata": {},
   "outputs": [],
   "source": [
    "from IPython.display import display, clear_output\n",
    "from ipywidgets import interact, fixed, IntSlider, HBox, Layout, Output, VBox\n",
    "import numpy as np \n",
    "import matplotlib.pyplot as plt\n",
    "%matplotlib notebook\n",
    "\n",
    "def rotate(theta, xs, ys):\n",
    "    new_xs = xs * np.cos(np.deg2rad(theta)) - ys * np.sin(np.deg2rad(theta))\n",
    "    new_xs -= new_xs.min()\n",
    "    new_ys = xs * np.sin(np.deg2rad(theta)) + ys * np.cos(np.deg2rad(theta))\n",
    "    new_ys -= new_ys.min()\n",
    "    return new_xs, new_ys\n",
    "\n",
    "out = Output(layout={'width': '300px', 'height': '300px'})\n",
    "xs = np.random.randint(0, 10, 50) \n",
    "ys = np.random.randint(0, 10, 50) \n",
    "\n",
    "fig, ax = plt.subplots(figsize = (4,4))\n",
    "scat, = ax.plot(xs, ys, 'kx', markersize=1000)      \n",
    "ax.grid(which='both', color='.25', lw=.1)\n",
    "ax.set_aspect('equal'), ax.set_title('Rotate')\n",
    "fig.show()\n",
    "def update_plot(change): \n",
    "    theta = change['new'] # new slider value \n",
    "    with out: \n",
    "        clear_output(wait=True)\n",
    "#         fig = plt.figure(figsize=(4,4))\n",
    "#         ax = fig.add_subplot(111)\n",
    "        new_xs, new_ys = rotate(theta, xs, ys) \n",
    "        scat.set_data(new_xs, new_ys)\n",
    "#         ax.relim()\n",
    "        ax.set_xlim(new_xs.min() - 500, new_xs.max() + 500)\n",
    "        ax.set_ylim(new_ys.min() - 500, new_ys.max() + 500)\n",
    "        fig.canvas.flush_events()\n",
    "        fig.canvas.draw()\n",
    "        fig.show()\n",
    "#     print('Done')\n",
    "        \n",
    "\n",
    "slider = IntSlider(min=-180, max=180, step=5, value=0, orientation='vertical') \n",
    "slider.observe(update_plot, 'value')\n",
    "update_plot({'new': slider.value}) \n",
    "display(HBox([out, slider]))"
   ]
  },
  {
   "cell_type": "code",
   "execution_count": null,
   "metadata": {},
   "outputs": [],
   "source": [
    "scat.get_data()"
   ]
  }
 ],
 "metadata": {
  "kernelspec": {
   "display_name": "Python 3",
   "language": "python",
   "name": "python3"
  },
  "language_info": {
   "codemirror_mode": {
    "name": "ipython",
    "version": 3
   },
   "file_extension": ".py",
   "mimetype": "text/x-python",
   "name": "python",
   "nbconvert_exporter": "python",
   "pygments_lexer": "ipython3",
   "version": "3.8.1"
  },
  "toc": {
   "base_numbering": 1,
   "nav_menu": {},
   "number_sections": true,
   "sideBar": true,
   "skip_h1_title": false,
   "title_cell": "Table of Contents",
   "title_sidebar": "Contents",
   "toc_cell": false,
   "toc_position": {},
   "toc_section_display": true,
   "toc_window_display": false
  }
 },
 "nbformat": 4,
 "nbformat_minor": 4
}
