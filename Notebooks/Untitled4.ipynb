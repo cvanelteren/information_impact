{
 "cells": [
  {
   "cell_type": "code",
   "execution_count": 3,
   "metadata": {},
   "outputs": [
    {
     "data": {
      "text/plain": [
       "0.10584058029999141"
      ]
     },
     "execution_count": 3,
     "metadata": {},
     "output_type": "execute_result"
    }
   ],
   "source": [
    "import numpy as np\n",
    "from scipy.integrate import odeint\n",
    "import timeit\n",
    "import numba\n",
    " \n",
    "def f(u, t, sigma, rho, beta):\n",
    "    x, y, z = u\n",
    "    return [sigma * (y - x), x * (rho - z) - y, x * y - beta * z]\n",
    " \n",
    "u0 = [1.0,0.0,0.0]\n",
    "tspan = (0., 100.)\n",
    "t = np.linspace(0, 100, 1001)\n",
    "sol = odeint(f, u0, t, args=(10.0,28.0,8/3))\n",
    " \n",
    "def time_func():\n",
    "    odeint(f, u0, t, args=(10.0,28.0,8/3),rtol = 1e-8, atol=1e-8)\n",
    " \n",
    "time_func()\n",
    "timeit.Timer(time_func).timeit(number=100)/100 # 0.07502969299999997 seconds\n",
    " \n",
    "numba_f = numba.jit(f,nopython=True)\n",
    "def time_func():\n",
    "    odeint(numba_f, u0, t, args=(10.0,28.0,8/3),rtol = 1e-8, atol=1e-8)\n",
    " \n",
    "time_func()\n",
    "timeit.Timer(time_func).timeit(number=100)/100 # 0.04437951900000001 seconds"
   ]
  }
 ],
 "metadata": {
  "kernelspec": {
   "display_name": "Python 3",
   "language": "python",
   "name": "python3"
  },
  "language_info": {
   "codemirror_mode": {
    "name": "ipython",
    "version": 3
   },
   "file_extension": ".py",
   "mimetype": "text/x-python",
   "name": "python",
   "nbconvert_exporter": "python",
   "pygments_lexer": "ipython3",
   "version": "3.8.5"
  }
 },
 "nbformat": 4,
 "nbformat_minor": 4
}
