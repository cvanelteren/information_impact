{
 "cells": [
  {
   "cell_type": "markdown",
   "metadata": {},
   "source": [
    "# Bootstrapping\n",
    "\n",
    "Goal:\n",
    "- Get an estimate for what theta produces the most consistent result\n",
    "Methods:\n",
    "- Bootstrapping N samples to gain a confidence bounds the consistency of theta\n",
    "We define consistency as:\n",
    "\n",
    "$$\n",
    "C_\\theta = \\max \\{ f(x) \\}\n",
    "$$\n",
    "Where $f(x)$ is the proportion of node $x$ of the highest idt. \n",
    "## Bootstrapping methods\n",
    "From my understanding bootstrapping involves case resampling. This means I will re-draw $N$ samples $K$ times with replacement. From this new bootstrap distribution we can compute various statistical measures to gain a bound on the original sample. \n",
    "\n",
    "### Procedure:\n",
    "Here, we used th\n",
    "- Given a graph run $N$ simulations for temperature $t$ such that the $|<M>|$ = .9\n",
    "- For each of the $N$ samples compute the consistency of the idt\n",
    "- Re-draw $K$ samples from the consistency results \n"
   ]
  },
  {
   "cell_type": "code",
   "execution_count": 19,
   "metadata": {
    "scrolled": true
   },
   "outputs": [
    {
     "name": "stdout",
     "output_type": "stream",
     "text": [
      "/home/casper/projects/it/Data/1539187363.9923286\n",
      "{'repeat': 500, 'deltas': 20, 'nSamples': 1000, 'step': 1, 'burninSamples': 5, 'pulseSize': 1, 'updateMethod': 'sync'}\n"
     ]
    }
   ],
   "source": [
    "# load data compute the idt for each sample\n",
    "\n",
    "from matplotlib.pyplot import *\n",
    "from numpy import *\n",
    "from scipy import optimize\n",
    "import IO, os\n",
    "\n",
    "dataPath = f\"{os.getcwd()}/Data/\"\n",
    "tmp = \"1539187363.9923286\" # 11000\n",
    "# tmp = \"1539270407.651496\"\n",
    "extractThis = f\"{dataPath}{tmp}\"\n",
    "print(extractThis)\n",
    "data = IO.extractData(extractThis)\n",
    "t = next(iter(data)) # first\n",
    "controls  = data[t]['{}']\n",
    "\n",
    "func   = lambda x, a, b, c: a + b * exp(-c * x)# + d * exp(-e * (x - f))\n",
    "# thetas = [10**-i for i in range(1, 20)]\n",
    "thetas = [0.5,  .1, .01, .001]\n",
    "rooter = lambda x, y: x[0] + y * (x[0] + x[1])\n",
    "# compute the largest idt for each sample\n",
    "roots = zeros((len(samples), len(thetas), 2))\n",
    "\n",
    "print(IO.readSettings(extractThis))    "
   ]
  },
  {
   "cell_type": "code",
   "execution_count": 13,
   "metadata": {},
   "outputs": [],
   "source": [
    "# bootstrap the results\n",
    "consistency = lambda x: [max(histogram(i, arange(nNodes), density = 1)[0]) for i in x]\n",
    "\n",
    "\n",
    "# The graph\n"
   ]
  }
 ],
 "metadata": {
  "kernelspec": {
   "display_name": "Python 3",
   "language": "python",
   "name": "python3"
  },
  "language_info": {
   "codemirror_mode": {
    "name": "ipython",
    "version": 3
   },
   "file_extension": ".py",
   "mimetype": "text/x-python",
   "name": "python",
   "nbconvert_exporter": "python",
   "pygments_lexer": "ipython3",
   "version": "3.7.0"
  }
 },
 "nbformat": 4,
 "nbformat_minor": 2
}
