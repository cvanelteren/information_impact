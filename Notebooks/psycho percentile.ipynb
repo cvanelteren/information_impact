{
 "cells": [
  {
   "cell_type": "markdown",
   "metadata": {},
   "source": [
    "# Percentile results\n",
    "This notebook reflects the results obtained for the psycho network"
   ]
  },
  {
   "cell_type": "code",
   "execution_count": 137,
   "metadata": {},
   "outputs": [
    {
     "name": "stdout",
     "output_type": "stream",
     "text": [
      "Loading aucs\n",
      "Loading data\n",
      "Loading rata\n",
      "Loading settings\n",
      "Loading coeffs\n"
     ]
    }
   ],
   "source": [
    "import os, sys\n",
    "sys.path.insert(0, '../')\n",
    "from matplotlib import style\n",
    "style.use('seaborn-poster')\n",
    "from Utils import stats, IO\n",
    "import matplotlib.pyplot as plt, numpy as np, scipy,\\\n",
    "networkx as nx\n",
    "fn = 'data2019-11-11T11:16:28.427495.pickle'\n",
    "fn = 'data2019-11-17T10:00:22.689166.pickle'\n",
    "fn = 'data2019-11-18T13:29:47.801887.pickle'\n",
    "for k,v in IO.loadPickle(fn).items():\n",
    "    globals()[k] = v\n",
    "    print(f'Loading {k}')\n",
    "\n",
    "    \n",
    "centralities = dict(\\\n",
    "                   degree = nx.degree_centrality,\\\n",
    "                   betweenness = nx.betweenness_centrality,\\\n",
    "                   closeness  = nx.closeness_centrality,\\\n",
    "                   eigenvector = nx.eigenvector_centrality,\\\n",
    "                   )\n",
    "conditions = len(centralities) + 1\n",
    "# print(settings)\n",
    "\n",
    "%matplotlib widget\n",
    "# print(settings.values())\n",
    "# fn = '../Data//2019-11-18T09:29:52.086011/settings.pickle'\n",
    "# for k, v in IO.loadPickle(fn).items():\n",
    "#     print(k, v)"
   ]
  },
  {
   "cell_type": "code",
   "execution_count": 99,
   "metadata": {},
   "outputs": [
    {
     "name": "stdout",
     "output_type": "stream",
     "text": [
      "The autoreload extension is already loaded. To reload it, use:\n",
      "  %reload_ext autoreload\n",
      "(20, 12, 5, 3)\n"
     ]
    }
   ],
   "source": [
    "%load_ext autoreload\n",
    "%autoreload 2\n",
    "DRIVERS = {}\n",
    "alpha = .01\n",
    "from tqdm import tqdm_notebook as tqdm\n",
    "from Utils.stats import bootStrapDrivers\n",
    "N, n = int(1e4), 1000\n",
    "\n",
    "N = int(1e4)\n",
    "# for all aucs\n",
    "\n",
    "# from Utils.stats import bootStrapThresholds\n",
    "alphas = np.linspace(0.1, 1, 10)\n",
    "alphas  = np.array([0, .05])\n",
    "structuralData = {}\n",
    "for k, setting in settings.items():\n",
    "    m = setting.get('model')\n",
    "    g = m.graph\n",
    "    \n",
    "    buffer = np.zeros((m.nNodes))\n",
    "    centData = {}\n",
    "    for condition, cf in centralities.items():\n",
    "        c = cf(g)\n",
    "        for node, val in c.items():\n",
    "            idx = m.mapping[node]\n",
    "            buffer[idx] = val\n",
    "        MAX = buffer.max()\n",
    "        cdrivers = np.where(buffer == MAX)[0]\n",
    "        centData[condition] = cdrivers\n",
    "    structuralData[k] = centData\n",
    "    \n",
    "from Utils.stats import returnX\n",
    "from itertools import product\n",
    "\n",
    "\n",
    "from Utils.stats import bootStrapAll\n",
    "boots = {}\n",
    "alldrivers = {}\n",
    "total = int(1e4)\n",
    "batch = int(1e2)\n",
    "alpha = .5\n",
    "for k, v in aucs.items():\n",
    "    v = np.moveaxis(v, 0, 1) # swap trials and nodes\n",
    "    print(v.shape)\n",
    "    alldrivers[k] = bootStrapAll(v, returnX, total, batch, alpha)\n",
    " "
   ]
  },
  {
   "cell_type": "code",
   "execution_count": 95,
   "metadata": {},
   "outputs": [
    {
     "name": "stdout",
     "output_type": "stream",
     "text": [
      "(5, 3)\n"
     ]
    },
    {
     "data": {
      "application/vnd.jupyter.widget-view+json": {
       "model_id": "",
       "version_major": 2,
       "version_minor": 0
      },
      "text/plain": [
       "Canvas(toolbar=Toolbar(toolitems=[('Home', 'Reset original view', 'home', 'home'), ('Back', 'Back to previous …"
      ]
     },
     "metadata": {},
     "output_type": "display_data"
    }
   ],
   "source": [
    "from Utils.stats import computeMatchScore\n",
    "for k, v in alldrivers.items():\n",
    "    tmp = np.array([i[1] for i in v.flat], dtype = dict).reshape(v.shape)\n",
    "    print(tmp.shape)\n",
    "    overlap = computeMatchScore(tmp)\n",
    "\n",
    "npulse, ntemp = overlap.shape\n",
    "xr = np.arange(ntemp)\n",
    "width = 1 / npulse\n",
    "\n",
    "pulses = ['inf. impact', *settings[k].get('pulseSizes')]\n",
    "\n",
    "fig, ax = plt.subplots()\n",
    "for condition in range(1, npulse):\n",
    "    ax.bar(xr + condition * width, overlap[condition], \\\n",
    "           width = width,\\\n",
    "           label = pulses[condition])\n",
    "ax.legend()\n",
    "fig.show()\n",
    "\n",
    "\n"
   ]
  },
  {
   "cell_type": "code",
   "execution_count": null,
   "metadata": {},
   "outputs": [],
   "source": []
  },
  {
   "cell_type": "code",
   "execution_count": 7,
   "metadata": {},
   "outputs": [
    {
     "name": "stderr",
     "output_type": "stream",
     "text": [
      "/home/casper/miniconda3/envs/py38/lib/python3.8/site-packages/numpy/core/_methods.py:216: RuntimeWarning: Degrees of freedom <= 0 for slice\n",
      "  ret = _var(a, axis=axis, dtype=dtype, out=out, ddof=ddof,\n",
      "/home/casper/miniconda3/envs/py38/lib/python3.8/site-packages/numpy/core/_methods.py:206: RuntimeWarning: invalid value encountered in true_divide\n",
      "  ret = um.true_divide(\n",
      "<ipython-input-7-7dc0639e4082>:29: UserWarning: Matplotlib is currently using module://ipykernel.pylab.backend_inline, which is a non-GUI backend, so cannot show the figure.\n",
      "  fig.show()\n"
     ]
    },
    {
     "data": {
      "image/png": "[encoded data removed]",
      "text/plain": [
       "<Figure size 432x288 with 1 Axes>"
      ]
     },
     "metadata": {
      "needs_background": "light"
     },
     "output_type": "display_data"
    }
   ],
   "source": []
  },
  {
   "cell_type": "code",
   "execution_count": 43,
   "metadata": {},
   "outputs": [
    {
     "name": "stdout",
     "output_type": "stream",
     "text": [
      "(1, 12, 20, 5, 3)\n",
      "(5, 3)\n"
     ]
    },
    {
     "ename": "IndexError",
     "evalue": "too many indices for array",
     "output_type": "error",
     "traceback": [
      "\u001b[0;31m---------------------------------------------------------------------------\u001b[0m",
      "\u001b[0;31mIndexError\u001b[0m                                Traceback (most recent call last)",
      "\u001b[0;32m<ipython-input-43-918659d2730b>\u001b[0m in \u001b[0;36m<module>\u001b[0;34m\u001b[0m\n\u001b[1;32m     34\u001b[0m     \u001b[0;32mfor\u001b[0m \u001b[0;34m(\u001b[0m\u001b[0mci\u001b[0m\u001b[0;34m,\u001b[0m \u001b[0mti\u001b[0m\u001b[0;34m)\u001b[0m \u001b[0;32min\u001b[0m \u001b[0mproduct\u001b[0m\u001b[0;34m(\u001b[0m\u001b[0;34m*\u001b[0m\u001b[0mmap\u001b[0m\u001b[0;34m(\u001b[0m\u001b[0mrange\u001b[0m\u001b[0;34m,\u001b[0m \u001b[0;34m(\u001b[0m\u001b[0mnpulse\u001b[0m\u001b[0;34m,\u001b[0m \u001b[0mntemp\u001b[0m\u001b[0;34m)\u001b[0m\u001b[0;34m)\u001b[0m\u001b[0;34m)\u001b[0m\u001b[0;34m:\u001b[0m\u001b[0;34m\u001b[0m\u001b[0;34m\u001b[0m\u001b[0m\n\u001b[1;32m     35\u001b[0m         \u001b[0maxi\u001b[0m \u001b[0;34m=\u001b[0m \u001b[0mfig\u001b[0m\u001b[0;34m.\u001b[0m\u001b[0madd_subplot\u001b[0m\u001b[0;34m(\u001b[0m\u001b[0mgs\u001b[0m\u001b[0;34m[\u001b[0m\u001b[0mci\u001b[0m\u001b[0;34m,\u001b[0m \u001b[0mti\u001b[0m\u001b[0;34m]\u001b[0m\u001b[0;34m)\u001b[0m\u001b[0;34m\u001b[0m\u001b[0;34m\u001b[0m\u001b[0m\n\u001b[0;32m---> 36\u001b[0;31m         \u001b[0mdj\u001b[0m \u001b[0;34m=\u001b[0m \u001b[0md\u001b[0m\u001b[0;34m[\u001b[0m\u001b[0mci\u001b[0m\u001b[0;34m,\u001b[0m \u001b[0mti\u001b[0m\u001b[0;34m]\u001b[0m\u001b[0;34m\u001b[0m\u001b[0;34m\u001b[0m\u001b[0m\n\u001b[0m\u001b[1;32m     37\u001b[0m \u001b[0;34m\u001b[0m\u001b[0m\n\u001b[1;32m     38\u001b[0m         \u001b[0mmeans\u001b[0m \u001b[0;34m=\u001b[0m \u001b[0mnp\u001b[0m\u001b[0;34m.\u001b[0m\u001b[0marray\u001b[0m\u001b[0;34m(\u001b[0m\u001b[0;34m[\u001b[0m\u001b[0mmean\u001b[0m \u001b[0;32mfor\u001b[0m \u001b[0mmean\u001b[0m\u001b[0;34m,\u001b[0m \u001b[0m_\u001b[0m \u001b[0;32min\u001b[0m \u001b[0mdj\u001b[0m\u001b[0;34m.\u001b[0m\u001b[0mvalues\u001b[0m\u001b[0;34m(\u001b[0m\u001b[0;34m)\u001b[0m\u001b[0;34m]\u001b[0m\u001b[0;34m)\u001b[0m\u001b[0;34m\u001b[0m\u001b[0;34m\u001b[0m\u001b[0m\n",
      "\u001b[0;31mIndexError\u001b[0m: too many indices for array"
     ]
    },
    {
     "data": {
      "image/png": "[encoded data removed]",
      "text/plain": [
       "<Figure size 1440x2160 with 20 Axes>"
      ]
     },
     "metadata": {
      "needs_background": "light"
     },
     "output_type": "display_data"
    }
   ],
   "source": []
  },
  {
   "cell_type": "code",
   "execution_count": 21,
   "metadata": {},
   "outputs": [],
   "source": [
    "setting = next(iter(settings.values()))\n",
    "overlaps = np.array([i.get(bestAlpha).get('overlaps') for i in alphaData.values()])\n",
    "ALLDRIVERS = {k : i.get(bestAlpha).get('ALLDRIVERS') for k, i in alphaData.items()}\n",
    "driverSizes = np.array([i.get(bestAlpha).get('driverSizes') for i in alphaData.values()])\n",
    "\n",
    "\n",
    "pulses = np.array(setting.get('pulseSizes'))\n",
    "npulse = pulses.size + 1\n",
    "ntemp  = len(setting.get('equilibrium')['ratios'])\n",
    "\n",
    "\n",
    "from itertools import product\n",
    "overlaps = np.zeros((len(aucs), npulse, ntemp, conditions))\n",
    "\n",
    "driverSizes = np.zeros((len(aucs), npulse, ntemp))\n",
    "centSizes = np.zeros((len(aucs), conditions))\n",
    "for dataidx, (k, v) in enumerate(ALLDRIVERS.items()):\n",
    "    controls = v[..., 0]\n",
    "    centSizes[dataidx] = [len(i) for i in v[0, 0, :]]\n",
    "    for (pulse, temp, condition) in product(*map(range, (v.shape))):\n",
    "        a = np.array(v[0, temp, condition]).flat\n",
    "        b = np.array(controls[pulse, temp]).flat\n",
    "        a, b  = set(a), set(b)\n",
    "        overlaps[dataidx, pulse, temp, condition] = len(a.intersection(b)) / len(a.union(b))\n",
    "        \n",
    "        \n",
    "        driverSizes[dataidx, pulse, temp] = len(b)"
   ]
  },
  {
   "cell_type": "code",
   "execution_count": 13,
   "metadata": {},
   "outputs": [
    {
     "data": {
      "application/vnd.jupyter.widget-view+json": {
       "model_id": "a4ac7d613e824489b2a6c5b8ef489e06",
       "version_major": 2,
       "version_minor": 0
      },
      "text/plain": [
       "Canvas(toolbar=Toolbar(toolitems=[('Home', 'Reset original view', 'home', 'home'), ('Back', 'Back to previous …"
      ]
     },
     "metadata": {},
     "output_type": "display_data"
    }
   ],
   "source": [
    "from scipy.stats import sem\n",
    "tmp = next(iter(data.values()))\n",
    "\n",
    "\n",
    "nnodes, trials, npulse, ntemp, deltas = tmp.shape\n",
    "colors = plt.cm.tab20(range(nnodes))\n",
    "fig, ax = plt.subplots(npulse, ntemp, figsize = (15,10), sharex = 'all',\\\n",
    "                       sharey = 'all')\n",
    "xr = np.arange(deltas)\n",
    "for p in range(npulse):\n",
    "    for t in range(ntemp):\n",
    "        axi = ax[p, t]\n",
    "        \n",
    "        for node in range(nnodes):\n",
    "            axi.plot(xr, tmp[node, :, p, t, :].mean(0), \\\n",
    "                     color = colors[node],\\\n",
    "                    )\n",
    "#         axi.set_scale('log')\n",
    "fig.subplots_adjust(wspace = .05)\n",
    "fig.show()"
   ]
  },
  {
   "cell_type": "code",
   "execution_count": null,
   "metadata": {},
   "outputs": [],
   "source": []
  },
  {
   "cell_type": "code",
   "execution_count": 60,
   "metadata": {},
   "outputs": [],
   "source": [
    "overlaps = overlaps.squeeze()\n",
    "\n",
    "from Utils.stats import bootStrap, justReturnX, ratio\n",
    "\n",
    "N = int(1e5)\n",
    "Nbc = 1000\n",
    "boots = bootStrap(overlaps.reshape(-1, conditions), ratio, N, Nbc)\n",
    "tmp = np.moveaxis(overlaps, 1, 0) + 1e-2\n",
    "hboots = bootStrap(tmp, ratio, N, Nbc)\n"
   ]
  },
  {
   "cell_type": "code",
   "execution_count": 61,
   "metadata": {},
   "outputs": [
    {
     "name": "stdout",
     "output_type": "stream",
     "text": [
      "(100000, 4) (100000, 11, 4) (100000, 12, 4)\n"
     ]
    }
   ],
   "source": [
    "# concatenate data\n",
    "allboots = np.concatenate((hboots, boots[:, None]), axis = 1)\n",
    "\n",
    "print(boots.shape, hboots.shape, allboots.shape)\n",
    "_, statconditions, _ = allboots.shape\n",
    "binned = np.zeros((allboots.shape[1:]), dtype = list)\n",
    "\n",
    "for idx in range(statconditions):\n",
    "    for cond in range(conditions - 1):\n",
    "        tmp = allboots[..., idx, cond]\n",
    "        c, b = np.histogram(tmp, density = 1, bins = 50)\n",
    "        b = (b[:-1] + b[1:]) / 2\n",
    "        binned[idx, cond] = [b, c]\n"
   ]
  },
  {
   "cell_type": "code",
   "execution_count": 75,
   "metadata": {},
   "outputs": [
    {
     "name": "stderr",
     "output_type": "stream",
     "text": [
      "<ipython-input-75-f9ff8f8c5309>:21: UserWarning: Matplotlib is currently using module://ipykernel.pylab.backend_inline, which is a non-GUI backend, so cannot show the figure.\n",
      "  fig.show()\n"
     ]
    },
    {
     "data": {
      "image/png": "[encoded data removed]",
      "text/plain": [
       "<Figure size 720x864 with 12 Axes>"
      ]
     },
     "metadata": {
      "needs_background": "light"
     },
     "output_type": "display_data"
    }
   ],
   "source": [
    "%matplotlib inline\n",
    "\n",
    "hs = np.ones(statconditions)\n",
    "hs[-1] = 5\n",
    "\n",
    "gs = dict(height_ratios = hs)\n",
    "fig, ax = plt.subplots(statconditions, 1, sharex = 'all',\\\n",
    "                      gridspec_kw = gs,\\\n",
    "                      figsize = (10, 12))\n",
    "\n",
    "colors = plt.cm.tab10(range(conditions - 1))\n",
    "for idx, axi in enumerate(ax):\n",
    "    for cond in range(conditions - 1):\n",
    "        b, c = binned[idx, cond]\n",
    "#         print(c.max())\n",
    "#         c = (c - c.min()) / (c.max() - c.min())\n",
    "        axi.fill_between(b, 0, c, color = colors[cond])\n",
    "    axi.set_xlim(0, 10)\n",
    "    axi.axvline(0, 0, 1, linestyle = 'dashed',\\\n",
    "               color = 'gray')\n",
    "fig.show()\n"
   ]
  },
  {
   "cell_type": "markdown",
   "metadata": {},
   "source": [
    "# Time data widget"
   ]
  },
  {
   "cell_type": "code",
   "execution_count": 100,
   "metadata": {},
   "outputs": [
    {
     "name": "stdout",
     "output_type": "stream",
     "text": [
      "Warning: Cannot change to a different GUI toolkit: notebook. Using widget instead.\n"
     ]
    },
    {
     "data": {
      "application/vnd.jupyter.widget-view+json": {
       "model_id": "",
       "version_major": 2,
       "version_minor": 0
      },
      "text/plain": [
       "Canvas(toolbar=Toolbar(toolitems=[('Home', 'Reset original view', 'home', 'home'), ('Back', 'Back to previous …"
      ]
     },
     "metadata": {},
     "output_type": "display_data"
    },
    {
     "data": {
      "application/vnd.jupyter.widget-view+json": {
       "model_id": "2b1d206379344c9dbeb7b82487dafd36",
       "version_major": 2,
       "version_minor": 0
      },
      "text/plain": [
       "interactive(children=(Select(description='dataName', options=('Data/psycho/2019-11-18T09:48:58.046043',), valu…"
      ]
     },
     "metadata": {},
     "output_type": "display_data"
    }
   ],
   "source": [
    "%matplotlib notebook\n",
    "import ipywidgets as widgets\n",
    "from scipy.stats import sem\n",
    "from Utils.plotting import addGraphPretty\n",
    "\n",
    "npulse = 5\n",
    "# dataSlider = widgets.SelectionSlider(options = data.keys())\n",
    "dataSlider = widgets.Select(options = data.keys())\n",
    "tempSlider = widgets.IntSlider(min = 0, max = 2)\n",
    "\n",
    "\n",
    "pulseSlider = widgets.IntSlider(min = 1, max = npulse - 1)\n",
    "\n",
    "\n",
    "%matplotlib widget\n",
    "fig, (left, right) = plt.subplots(1, 2, figsize = (10, 7), sharey = 'all')\n",
    "mainax = fig.add_subplot(111, frameon = 0,\\\n",
    "                        xticks = [],\\\n",
    "                        yticks = [])\n",
    "mainax.set_xlabel('Time[step]', labelpad = 30)\n",
    "# inax.axis('off')\n",
    "@widgets.interact(dataName = dataSlider, \\\n",
    "                  temp = tempSlider, \\\n",
    "                  pulse = pulseSlider)\n",
    "def update(dataName, temp, pulse):\n",
    "    d = rata.get(dataName)\n",
    "    \n",
    "    for idx, i in enumerate(data.keys()):\n",
    "        if i == dataName:\n",
    "            break\n",
    "    drivers = alldrivers[dataName][pulse, temp][0]\n",
    "    print(drivers)\n",
    "    mainax.set_title(dataName + \"\\n\" + str(drivers))\n",
    "    g = settings.get(dataName).get('graph')\n",
    "    \n",
    "    nodes, trials, pulses, temps, deltas = d.shape\n",
    "    colors = plt.cm.tab20(range(nodes))\n",
    "    means = d.mean(1)\n",
    "    sems  =  2 * np.std(d, axis = 1)\n",
    "    xr = np.arange(d.shape[-1])\n",
    "    \n",
    "    left.cla(); right.cla()\n",
    "    \n",
    "    inax = right.inset_axes([.4, 0.4, .6, .6])\n",
    "    addGraphPretty(g, ax = inax)\n",
    "    inax.axis('off')\n",
    "    for node in range(nodes):\n",
    "        left.errorbar(xr, means[node, 0, temp], \\\n",
    "                      sems[node, 0, temp], \\\n",
    "                      color = colors[node],\\\n",
    "                      label = node)\n",
    "        right.errorbar(xr, means[node, pulse, temp], \\\n",
    "                       sems[node, pulse, temp], \\\n",
    "                       color = colors[node],\\\n",
    "                       label = node)\n",
    "    \n",
    "    \n",
    "    elems = [\\\n",
    "             plt.Line2D([], [], color = colors[node], \\\n",
    "                  label = f'{node}{\"*\" if node in drivers else \"\"}', \\\n",
    "                  marker = 'o', linestyle = 'None')\\\n",
    "                  for node in range(nodes)\\\n",
    "          ]\n",
    "    left.set_ylabel(r'$I(s_i^{t_0 + t} ; S^{t_0})$')\n",
    "    right.set_ylabel(r\"$D_{KL}(P' \\vert \\vert P)$\")\n",
    "    right.legend(handles = elems, \\\n",
    "                 bbox_to_anchor = (1.0, 1), loc = 'upper left',\\\n",
    "                title = 'Node', title_fontsize = 20,\\\n",
    "                frameon = 0,\\\n",
    "                borderaxespad = 0)\n",
    "    print(dataName)"
   ]
  },
  {
   "cell_type": "code",
   "execution_count": 138,
   "metadata": {},
   "outputs": [
    {
     "name": "stdout",
     "output_type": "stream",
     "text": [
      "Warning: Cannot change to a different GUI toolkit: notebook. Using widget instead.\n"
     ]
    }
   ],
   "source": [
    "%matplotlib notebook\n",
    "\n"
   ]
  }
 ],
 "metadata": {
  "kernelspec": {
   "display_name": "Python 3",
   "language": "python",
   "name": "python3"
  },
  "language_info": {
   "codemirror_mode": {
    "name": "ipython",
    "version": 3
   },
   "file_extension": ".py",
   "mimetype": "text/x-python",
   "name": "python",
   "nbconvert_exporter": "python",
   "pygments_lexer": "ipython3",
   "version": "3.8.0"
  }
 },
 "nbformat": 4,
 "nbformat_minor": 4
}
