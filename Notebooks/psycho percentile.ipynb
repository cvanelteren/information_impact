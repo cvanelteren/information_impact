{
 "cells": [
  {
   "cell_type": "markdown",
   "metadata": {},
   "source": [
    "# Percentile results\n",
    "This notebook reflects the results obtained for the psycho network"
   ]
  },
  {
   "cell_type": "code",
   "execution_count": 1,
   "metadata": {},
   "outputs": [
    {
     "name": "stdout",
     "output_type": "stream",
     "text": [
      "Loading aucs\n",
      "Loading data\n",
      "Loading rdata\n",
      "Loading settings\n",
      "Loading coeffs\n"
     ]
    }
   ],
   "source": [
    "%load_ext autoreload\n",
    "%autoreload 2\n",
    "import sys, os\n",
    "sys.path.insert(0, '../')\n",
    "from matplotlib import style\n",
    "style.use('seaborn-poster')\n",
    "\n",
    "import matplotlib.pyplot as plt, numpy as np, networkx as nx\n",
    "from Utils.stats import driverNodeEstimate\n",
    "from Utils import IO\n",
    "\n",
    "# fn = 'tester.pickle'\n",
    "fn = '../data2019-11-24T11:30:04.533109.pickle'\n",
    "fn = '../data2019-11-25T14:50:11.335203.pickle'\n",
    "fn = '../data2019-11-25T15:46:04.159519.pickle'\n",
    "fn = '../data2019-11-25T15:57:52.989087.pickle'\n",
    "fn = '../data2019-11-25T16:28:40.899209.pickle'\n",
    "for k, v in IO.loadPickle(fn).items():\n",
    "    print(f'Loading {k}')\n",
    "    globals()[k] = v\n",
    "\n",
    "s = next(iter(settings))\n",
    "setting = settings[s]\n",
    "centralities = dict(\\\n",
    "                   degree = nx.degree_centrality,\\\n",
    "                   betweenness = nx.betweenness_centrality,\\\n",
    "                   closeness  = nx.closeness_centrality,\\\n",
    "                   eigenvector = nx.eigenvector_centrality,\\\n",
    "                   )\n",
    "\n",
    "# print(plt.rcParams.keys())\n",
    "plt.rcParams['savefig.bbox'] = 'tight'\n",
    "plt.rcParams['savefig.pad_inches'] = 0\n",
    "plt.rcParams['savefig.transparent'] = 1\n",
    "\n"
   ]
  },
  {
   "cell_type": "code",
   "execution_count": 2,
   "metadata": {},
   "outputs": [
    {
     "name": "stdout",
     "output_type": "stream",
     "text": [
      "The autoreload extension is already loaded. To reload it, use:\n",
      "  %reload_ext autoreload\n",
      "{'depr': 0, 'effort': 1, 'sleep': 2, 'happy': 3, 'lonely': 4, 'enjoy': 5, 'appet': 6, 'sad': 7, 'dislike': 8, 'getgo': 9, 'loss': 10, 'unfr': 11}\n",
      "[0]\n",
      "[8]\n",
      "[0]\n",
      "[0]\n",
      "Data/psycho/1548025318.5751357 (20, 12, 3, 3)\n"
     ]
    }
   ],
   "source": [
    "%load_ext autoreload\n",
    "%autoreload 2\n",
    "DRIVERS = {}\n",
    "alpha = .01\n",
    "from tqdm import tqdm_notebook as tqdm\n",
    "from Utils.stats import bootStrapDrivers\n",
    "N, n = int(1e4), 20\n",
    "\n",
    "N = int(1e4)\n",
    "\n",
    "# for all aucs\n",
    "\n",
    "# from Utils.stats import bootStrapThresholds\n",
    "alphas = np.linspace(0.1, 1, 10)\n",
    "alphas  = np.array([0, .05])\n",
    "structuralData = {}\n",
    "for k, setting in settings.items():\n",
    "    m = setting.get('model')\n",
    "    print(m.mapping)\n",
    "    g = m.graph\n",
    "    \n",
    "    buffer = np.zeros((m.nNodes))\n",
    "    centData = {}\n",
    "    for condition, cf in centralities.items():\n",
    "        c = cf(g)\n",
    "        for node, val in c.items():\n",
    "            idx = m.mapping[node]\n",
    "            buffer[idx] = val\n",
    "        MAX = buffer.max()\n",
    "        cdrivers = np.where(buffer == MAX)[0]\n",
    "#         print(cdrivers, np.where(buffer == MAX))\n",
    "        print(cdrivers)\n",
    "        centData[condition] = cdrivers\n",
    "    structuralData[k] = centData\n",
    "    \n",
    "from Utils.stats import returnX\n",
    "from itertools import product\n",
    "\n",
    "\n",
    "from Utils.stats import bootStrapAll\n",
    "boots = {}\n",
    "alldrivers = {}\n",
    "total = int(1e4)\n",
    "batch = setting.get('nTrials')\n",
    "alpha = .5\n",
    "for k, v in aucs.items():\n",
    "    v = np.moveaxis(v, 0, 1) # swap trials and nodes\n",
    "    print(k, v.shape)\n",
    "    alldrivers[k] = drivers = bootStrapAll(v, returnX, total, batch, alpha)\n",
    "\n",
    "    \n"
   ]
  },
  {
   "cell_type": "code",
   "execution_count": 3,
   "metadata": {},
   "outputs": [
    {
     "name": "stderr",
     "output_type": "stream",
     "text": [
      "<ipython-input-3-3a133d38451b>:10: UserWarning: Matplotlib is currently using module://ipykernel.pylab.backend_inline, which is a non-GUI backend, so cannot show the figure.\n",
      "  fig.show()\n"
     ]
    },
    {
     "data": {
      "image/png": "[encoded data removed]",
      "text/plain": [
       "<Figure size 360x360 with 1 Axes>"
      ]
     },
     "metadata": {
      "needs_background": "light"
     },
     "output_type": "display_data"
    }
   ],
   "source": [
    "fig, ax = plt.subplots(figsize = (5,5))\n",
    "from Utils.plotting import addGraphPretty\n",
    "layout = nx.drawing.nx_agraph.pygraphviz_layout(g, 'neato')\n",
    "addGraphPretty(g, ax = ax, positions = layout, mapping = m.mapping, annotate = dict(fontsize = .6), circle = dict(radius = 12))\n",
    "ax.axis('equal')\n",
    "ax.axis('off')\n",
    "fig.savefig('pyscho_net.svg', transparent = 1,\\\n",
    "           bbox_inches = 'tight',\\\n",
    "           pad_inches = 0)\n",
    "fig.show()"
   ]
  },
  {
   "cell_type": "code",
   "execution_count": 12,
   "metadata": {},
   "outputs": [
    {
     "name": "stdout",
     "output_type": "stream",
     "text": [
      ">> (6, 2, 3)\n"
     ]
    }
   ],
   "source": [
    "from Utils.stats import computeMatchScore\n",
    "conditions = len(centralities) + 1\n",
    "# print(alldrivers)\n",
    "for k, v in alldrivers.items():\n",
    "    setting = settings.get(k)\n",
    "    pulses = np.array (setting.get('pulseSizes') )\n",
    "   \n",
    "    s = v.shape[:-1]\n",
    "    npulse, ntemps = s\n",
    "    tmp = np.array([list(i.keys()) for i in v[...,0].flat], dtype = dict).reshape(s)\n",
    "    \n",
    "    ti = np.array([i for i in structuralData[k].values()], dtype = list)\n",
    "    \n",
    "    d = np.zeros((conditions + 1, pulses.size, ntemps), dtype = list)\n",
    "    # print('>', tmp.shape, v.shape)\n",
    "    d[0] = tmp[1:]\n",
    "    d[1] = tmp[0]\n",
    "#     print(d)\n",
    "#     print(d.shape)\n",
    "    \n",
    "    \n",
    "    s = d.shape\n",
    "    d = d.reshape(conditions + 1, -1)\n",
    "    d[2:] = ti\n",
    "    d = d.reshape(s)\n",
    "    \n",
    "    d = d.reshape(-1)\n",
    "    driverSizes = np.zeros(d.shape)\n",
    "    for idx, i in enumerate (d):\n",
    "        try:\n",
    "            iter(i)\n",
    "        except:\n",
    "            d[idx] = [i]\n",
    "        driverSizes[idx] = len(d[idx])\n",
    "        \n",
    "    d = d.reshape(s)\n",
    "    driverSizes = driverSizes.reshape(s)\n",
    "#     print(ti, tmp.shape)\n",
    "    overlap = computeMatchScore(d)\n",
    "\n",
    "print('>>', overlap.shape)"
   ]
  },
  {
   "cell_type": "code",
   "execution_count": 13,
   "metadata": {},
   "outputs": [
    {
     "name": "stdout",
     "output_type": "stream",
     "text": [
      "(6, 2, 3)\n",
      "['Inf. impact', 'Degree', 'Betweenness', 'Closeness', 'Eigenvector']\n",
      "0.4\n",
      "(6, 2, 3)\n",
      "[[1. 0.]\n",
      " [0. 0.]\n",
      " [0. 1.]\n",
      " [0. 0.]\n",
      " [0. 0.]]\n"
     ]
    },
    {
     "name": "stderr",
     "output_type": "stream",
     "text": [
      "<ipython-input-13-8cf64110f0f7>:48: UserWarning: Matplotlib is currently using module://ipykernel.pylab.backend_inline, which is a non-GUI backend, so cannot show the figure.\n",
      "  fig.show()\n"
     ]
    },
    {
     "data": {
      "image/png": "[encoded data removed]",
      "text/plain": [
       "<Figure size 504x216 with 9 Axes>"
      ]
     },
     "metadata": {
      "needs_background": "light"
     },
     "output_type": "display_data"
    }
   ],
   "source": [
    "conditions, npulse, ntemps = overlap.shape\n",
    "print(overlap.shape)\n",
    "# show jaccard scores\n",
    "\n",
    "hr = np.ones(3)\n",
    "hr[-2] = .1\n",
    "hr[-1] = .05\n",
    "gs = dict(height_ratios = hr)\n",
    "fig, ax = plt.subplots(3, ntemps,\\\n",
    "                       figsize = (7,3),\\\n",
    "                      gridspec_kw = gs,\\\n",
    "                       sharey = 'row')\n",
    "\n",
    "cLabels = ['Inf. impact', *[i.capitalize() for i in centralities.keys()]]\n",
    "print(cLabels)\n",
    "ratios = setting.get('equilibrium').get('ratios').keys()\n",
    "ratios = list(ratios)\n",
    "xr = np.arange(pulses.size)\n",
    "\n",
    "yr = np.arange(conditions - 1)\n",
    "w = np.diff(yr)[0] /(yr.size *.5)\n",
    "print(w)\n",
    "print(overlap.shape)\n",
    "for tidx, axi in enumerate(ax[0]):\n",
    "#     print(tidx, overlap[1:,...,tidx])\n",
    "    h = axi.imshow(overlap[1:, :, tidx],\\\n",
    "                   aspect = 'auto',\\\n",
    "                   vmin = 0, vmax = 1, extent = [0, xr.size, yr.size, 0])\n",
    "    axi.set_xticks(xr + .5)\n",
    "    axi.set_xticklabels(pulses)\n",
    "    \n",
    "    if tidx == 0:\n",
    "        axi.set_yticks(yr + .5)\n",
    "    \n",
    "    axi.set_yticklabels(cLabels)\n",
    "    axi.set_title(ratios[tidx])\n",
    "for axi in ax[1:].flat:\n",
    "    axi.axis('off')\n",
    "\n",
    "print(overlap[1:, :, -1])\n",
    "# ax[0, -1].set_yticks(yr)\n",
    "    \n",
    "ax.flat[-1].axis('on')\n",
    "ax.flat[-1].set_xlim(0, 1)\n",
    "fig.colorbar(h, cax = ax.flat[-1], orientation = 'horizontal', ticks = (0, 1))\n",
    "fig.subplots_adjust(wspace = .05)\n",
    "fig.savefig('pyscho_jaccard.svg')\n",
    "fig.show()"
   ]
  },
  {
   "cell_type": "code",
   "execution_count": 14,
   "metadata": {},
   "outputs": [
    {
     "name": "stdout",
     "output_type": "stream",
     "text": [
      "(6, 2, 3)\n",
      "(3, 3)\n"
     ]
    },
    {
     "name": "stderr",
     "output_type": "stream",
     "text": [
      "<ipython-input-14-3aaeb1aac38f>:62: UserWarning: Matplotlib is currently using module://ipykernel.pylab.backend_inline, which is a non-GUI backend, so cannot show the figure.\n",
      "  fig.show()\n"
     ]
    },
    {
     "data": {
      "image/png": "[encoded data removed]",
      "text/plain": [
       "<Figure size 360x216 with 4 Axes>"
      ]
     },
     "metadata": {
      "needs_background": "light"
     },
     "output_type": "display_data"
    }
   ],
   "source": [
    "# plot driver sizes\n",
    "conditions, npulse, ntemps = driverSizes.shape\n",
    "print(driverSizes.shape)\n",
    "\n",
    "# wr = np.ones(ntemps + 1)\n",
    "# wr[1] = .1\n",
    "# gs = dict(width_ratios = wr)\n",
    "fig, ax = plt.subplots(1, ntemps + 1,\\\n",
    "#                       gridspec_kw = gs,\\\n",
    "                      figsize = (5, 3))\n",
    "ax[0].bar(np.arange(conditions - 2), driverSizes[2:, 0, 0])\n",
    "ax[0].set_ylim(0, 10)\n",
    "ax[0].spines['right'].set_visible(0)\n",
    "ax[0].set_xticks(np.arange(len(cLabels[:-1])))\n",
    "ax[0].set_xticklabels(cLabels[1:], rotation = 90)\n",
    "\n",
    "\n",
    "\n",
    "\n",
    "tmpSizes = np.zeros((npulse + 1, ntemps))\n",
    "tmpSizes[1:] = driverSizes[0]\n",
    "tmpSizes[0]  = driverSizes[1, 0]\n",
    "\n",
    "\n",
    "# width = 1/len(tmpSizes.T)\n",
    "width = 1/5\n",
    "\n",
    "print(tmpSizes.shape)\n",
    "xr = np.arange(0, 5) / width\n",
    "\n",
    "dLabels = ['Inf. impact', *pulses.round(1)]\n",
    "colors = plt.cm.tab10(range(len(tmpSizes) + 1))\n",
    "for idx, axi in enumerate(ax[1:]):\n",
    "    \n",
    "    d = tmpSizes[..., idx]\n",
    "#     print(d.shape)\n",
    "    \n",
    "    xr = []\n",
    "    for jdx, di in enumerate(d):\n",
    "#         print(jdx)\n",
    "        xr.append(width * jdx)\n",
    "        axi.bar(width * jdx,\\\n",
    "                height = di, width = .9 * width, \\\n",
    "                color = colors[jdx + 1])\n",
    "#     axi.set_xticks(xr)\n",
    "#     axi.set_xticklabels(dLabels, rotation = 90)\n",
    "    axi.set_ylim(0, 10)\n",
    "    axi.set_yticks([])\n",
    "    axi.set_xticks(xr)\n",
    "    axi.set_xticklabels(dLabels, rotation = 90)\n",
    "    axi.spines['left'].set_visible(0)\n",
    "    axi.set_title(ratios[idx])\n",
    "    if idx < ntemps - 1:\n",
    "        axi.spines['right'].set_visible(0)\n",
    "#     axi.bar(np.arange(2), height = driverSizes[:2, ..., tidx], aspect = 'auto')\n",
    "    if idx > 0:\n",
    "        axi.set_yticklabels([])\n",
    "#     axi.set_yticklabels(labels)\n",
    "#     axi.set_xticklabels(pulses)\n",
    "fig.subplots_adjust(wspace = 0)\n",
    "fig.savefig('pyscho_driver.svg')\n",
    "fig.show()\n"
   ]
  },
  {
   "cell_type": "markdown",
   "metadata": {},
   "source": [
    "# boostrap results"
   ]
  },
  {
   "cell_type": "code",
   "execution_count": 78,
   "metadata": {},
   "outputs": [
    {
     "name": "stdout",
     "output_type": "stream",
     "text": [
      "{2: (2.000946800065857, 7.196188329185282e-07)}\n"
     ]
    }
   ],
   "source": [
    "print(ALLDRIVERS[0, 1])"
   ]
  },
  {
   "cell_type": "code",
   "execution_count": 88,
   "metadata": {},
   "outputs": [
    {
     "name": "stderr",
     "output_type": "stream",
     "text": [
      "../Utils/stats.py:78: RuntimeWarning: divide by zero encountered in true_divide\n",
      "  return x[...,[0]] / x[..., 1:]\n",
      "../Utils/stats.py:78: RuntimeWarning: divide by zero encountered in true_divide\n",
      "  return x[...,[0]] / x[..., 1:]\n",
      "../Utils/stats.py:78: RuntimeWarning: divide by zero encountered in true_divide\n",
      "  return x[...,[0]] / x[..., 1:]\n",
      "../Utils/stats.py:78: RuntimeWarning: invalid value encountered in true_divide\n",
      "  return x[...,[0]] / x[..., 1:]\n",
      "../Utils/stats.py:78: RuntimeWarning: invalid value encountered in true_divide\n",
      "  return x[...,[0]] / x[..., 1:]\n",
      "../Utils/stats.py:78: RuntimeWarning: divide by zero encountered in true_divide\n",
      "  return x[...,[0]] / x[..., 1:]\n",
      "../Utils/stats.py:78: RuntimeWarning: divide by zero encountered in true_divide\n",
      "  return x[...,[0]] / x[..., 1:]\n",
      "../Utils/stats.py:78: RuntimeWarning: divide by zero encountered in true_divide\n",
      "  return x[...,[0]] / x[..., 1:]\n",
      "../Utils/stats.py:78: RuntimeWarning: invalid value encountered in true_divide\n",
      "  return x[...,[0]] / x[..., 1:]\n",
      "../Utils/stats.py:78: RuntimeWarning: invalid value encountered in true_divide\n",
      "  return x[...,[0]] / x[..., 1:]\n",
      "../Utils/stats.py:78: RuntimeWarning: invalid value encountered in true_divide\n",
      "  return x[...,[0]] / x[..., 1:]\n",
      "../Utils/stats.py:78: RuntimeWarning: invalid value encountered in true_divide\n",
      "  return x[...,[0]] / x[..., 1:]\n",
      "../Utils/stats.py:78: RuntimeWarning: divide by zero encountered in true_divide\n",
      "  return x[...,[0]] / x[..., 1:]\n",
      "../Utils/stats.py:78: RuntimeWarning: invalid value encountered in true_divide\n",
      "  return x[...,[0]] / x[..., 1:]\n",
      "../Utils/stats.py:78: RuntimeWarning: divide by zero encountered in true_divide\n",
      "  return x[...,[0]] / x[..., 1:]\n",
      "../Utils/stats.py:78: RuntimeWarning: invalid value encountered in true_divide\n",
      "  return x[...,[0]] / x[..., 1:]\n",
      "../Utils/stats.py:78: RuntimeWarning: divide by zero encountered in true_divide\n",
      "  return x[...,[0]] / x[..., 1:]\n",
      "../Utils/stats.py:78: RuntimeWarning: divide by zero encountered in true_divide\n",
      "  return x[...,[0]] / x[..., 1:]\n",
      "../Utils/stats.py:78: RuntimeWarning: invalid value encountered in true_divide\n",
      "  return x[...,[0]] / x[..., 1:]\n",
      "../Utils/stats.py:78: RuntimeWarning: invalid value encountered in true_divide\n",
      "  return x[...,[0]] / x[..., 1:]\n",
      "../Utils/stats.py:78: RuntimeWarning: divide by zero encountered in true_divide\n",
      "  return x[...,[0]] / x[..., 1:]\n",
      "../Utils/stats.py:78: RuntimeWarning: divide by zero encountered in true_divide\n",
      "  return x[...,[0]] / x[..., 1:]\n",
      "../Utils/stats.py:78: RuntimeWarning: divide by zero encountered in true_divide\n",
      "  return x[...,[0]] / x[..., 1:]\n",
      "../Utils/stats.py:78: RuntimeWarning: divide by zero encountered in true_divide\n",
      "  return x[...,[0]] / x[..., 1:]\n",
      "../Utils/stats.py:78: RuntimeWarning: invalid value encountered in true_divide\n",
      "  return x[...,[0]] / x[..., 1:]\n",
      "../Utils/stats.py:78: RuntimeWarning: invalid value encountered in true_divide\n",
      "  return x[...,[0]] / x[..., 1:]\n",
      "../Utils/stats.py:78: RuntimeWarning: invalid value encountered in true_divide\n",
      "  return x[...,[0]] / x[..., 1:]\n",
      "../Utils/stats.py:78: RuntimeWarning: invalid value encountered in true_divide\n",
      "  return x[...,[0]] / x[..., 1:]\n",
      "../Utils/stats.py:78: RuntimeWarning: divide by zero encountered in true_divide\n",
      "  return x[...,[0]] / x[..., 1:]\n",
      "../Utils/stats.py:78: RuntimeWarning: invalid value encountered in true_divide\n",
      "  return x[...,[0]] / x[..., 1:]\n",
      "../Utils/stats.py:78: RuntimeWarning: divide by zero encountered in true_divide\n",
      "  return x[...,[0]] / x[..., 1:]\n",
      "../Utils/stats.py:78: RuntimeWarning: invalid value encountered in true_divide\n",
      "  return x[...,[0]] / x[..., 1:]\n"
     ]
    },
    {
     "name": "stdout",
     "output_type": "stream",
     "text": [
      "(3, 2, 5) (100000, 2, 4) (100000, 4) (100000, 3, 4)\n",
      "KDE FIT (nan, nan)\n",
      "KDE FIT (inf, nan)\n",
      "KDE FIT (nan, nan)\n"
     ]
    }
   ],
   "source": [
    "# perform boostrap\n",
    "# print(overlap.shape)\n",
    "from Utils.stats import bootStrap, ratio \n",
    "tmp = overlap[1:]  \n",
    "nconditions, npulse, ntemp = tmp.shape\n",
    "\n",
    "tmp = np.moveaxis(tmp, 0, -1)\n",
    "tmp = np.moveaxis(tmp, 0, 1)\n",
    "total = int(1e5)\n",
    "\n",
    "tmp = tmp.reshape(-1, nconditions)\n",
    "batch = len(tmp)\n",
    "boots = bootStrap(tmp, ratio, total, batch)\n",
    "\n",
    "\n",
    "tmp = tmp.reshape(ntemp, npulse, nconditions)\n",
    "batch = len(tmp)\n",
    "hboots = bootStrap(tmp, ratio, \\\n",
    "                  total, batch)\n",
    "\n",
    "\n",
    "BOOTS = np.concatenate((boots[:, None, :], hboots), axis = 1)\n",
    "# BOOTS += np.random.rand(*BOOTS.shape) * 1e-16\n",
    "print(tmp.shape, hboots.shape, boots.shape, BOOTS.shape)\n",
    "\n",
    "\n",
    "# gest worst distributions\n",
    "worst = abs(BOOTS.mean(0)).argmin(-1)\n",
    "worst = np.array([BOOTS[...,idx, i] for idx, i in enumerate(worst)])\n",
    "kdeFits = np.zeros((worst.shape[-1], 2))\n",
    "for idx, di in enumerate(worst):\n",
    "    kdeFits[idx] = kde =  norm.fit(di)\n",
    "    print(f'KDE FIT {kde}')\n",
    "    "
   ]
  },
  {
   "cell_type": "code",
   "execution_count": 87,
   "metadata": {},
   "outputs": [
    {
     "name": "stdout",
     "output_type": "stream",
     "text": [
      "[1.33164667 0.28437053]\n",
      "[4.88301744e-16 1.20527925e-04 3.55544464e-04 7.99316057e-04\n",
      " 1.61064035e-03 3.04651244e-03 5.50587297e-03 9.58151717e-03\n",
      " 1.61143300e-02 2.62387756e-02 4.14028175e-02 6.33408020e-02\n",
      " 9.39766276e-02 1.35239327e-01 1.88785925e-01 2.55647204e-01\n",
      " 3.35838160e-01 4.28000568e-01 5.29162142e-01 6.34696846e-01\n",
      " 7.38548488e-01 8.33735019e-01 9.13091381e-01 9.70148302e-01\n",
      " 1.00000000e+00 1.00000000e+00 9.70148302e-01 9.13091381e-01\n",
      " 8.33735019e-01 7.38548488e-01 6.34696846e-01 5.29162142e-01\n",
      " 4.28000568e-01 3.35838160e-01 2.55647204e-01 1.88785925e-01\n",
      " 1.35239327e-01 9.39766276e-02 6.33408020e-02 4.14028175e-02\n",
      " 2.62387756e-02 1.61143300e-02 9.58151717e-03 5.50587297e-03\n",
      " 3.04651244e-03 1.61064035e-03 7.99316057e-04 3.55544464e-04\n",
      " 1.20527925e-04 0.00000000e+00]\n",
      "[2. 0.]\n",
      "[nan nan nan nan nan nan nan nan nan nan nan nan nan nan nan nan nan nan\n",
      " nan nan nan nan nan nan nan nan nan nan nan nan nan nan nan nan nan nan\n",
      " nan nan nan nan nan nan nan nan nan nan nan nan nan nan]\n",
      "[0.6654     0.13569801]\n",
      "[4.87884694e-16 1.20527925e-04 3.55544464e-04 7.99316057e-04\n",
      " 1.61064035e-03 3.04651244e-03 5.50587297e-03 9.58151717e-03\n",
      " 1.61143300e-02 2.62387756e-02 4.14028175e-02 6.33408020e-02\n",
      " 9.39766276e-02 1.35239327e-01 1.88785925e-01 2.55647204e-01\n",
      " 3.35838160e-01 4.28000568e-01 5.29162142e-01 6.34696846e-01\n",
      " 7.38548488e-01 8.33735019e-01 9.13091381e-01 9.70148302e-01\n",
      " 1.00000000e+00 1.00000000e+00 9.70148302e-01 9.13091381e-01\n",
      " 8.33735019e-01 7.38548488e-01 6.34696846e-01 5.29162142e-01\n",
      " 4.28000568e-01 3.35838160e-01 2.55647204e-01 1.88785925e-01\n",
      " 1.35239327e-01 9.39766276e-02 6.33408020e-02 4.14028175e-02\n",
      " 2.62387756e-02 1.61143300e-02 9.58151717e-03 5.50587297e-03\n",
      " 3.04651244e-03 1.61064035e-03 7.99316057e-04 3.55544464e-04\n",
      " 1.20527925e-04 0.00000000e+00]\n"
     ]
    },
    {
     "name": "stderr",
     "output_type": "stream",
     "text": [
      "<ipython-input-87-0342f4681fc1>:87: UserWarning: Matplotlib is currently using module://ipykernel.pylab.backend_inline, which is a non-GUI backend, so cannot show the figure.\n",
      "  fig.show()\n"
     ]
    },
    {
     "data": {
      "image/png": "[encoded data removed]",
      "text/plain": [
       "<Figure size 1080x360 with 3 Axes>"
      ]
     },
     "metadata": {
      "needs_background": "light"
     },
     "output_type": "display_data"
    }
   ],
   "source": [
    "from statistics import NormalDist\n",
    "from scipy.stats import norm\n",
    "theta = 1\n",
    "thetas = [1, 100]\n",
    "xr = np.arange(1, 100, dtype = int)\n",
    "n = xr.size\n",
    "\n",
    "start = 1e-5\n",
    "samples, aa, cc = BOOTS.shape\n",
    "# ax.imshow(boots, aspect = 'auto')\n",
    "# print(samples, aa, cc)\n",
    "bbox_props = dict(boxstyle=\"circle\",\\\n",
    "                        ec = 'gray', lw=2,\\\n",
    "                        pad = 0, \\\n",
    "                        fc = 'gray')\n",
    "\n",
    "\n",
    "alpha = 0.01\n",
    "titles = [' ', *pulses.round(1)]\n",
    "%matplotlib inline\n",
    "fig, ax = plt.subplots(1, aa, sharey = 'all',\\\n",
    "                      figsize = (15, 5))\n",
    "for idx, axi in enumerate(ax.flat):\n",
    "    for jdx in range(cc):\n",
    "        tmpi = BOOTS[:, idx, jdx]\n",
    "        dist = norm.fit(tmpi)\n",
    "        lims = [norm(*dist).ppf(theta) for theta in (start, 1 - start)]\n",
    "        xr = np.linspace(*lims)\n",
    "        p  = norm(*dist).pdf(xr)\n",
    "        p  = (p - p.min()) / (p.max() - p.min())\n",
    "#         axi.set_xscale('log')\n",
    "        axi.fill_between(xr, p, color = colors[jdx], linestyle = 'dashed', label = jdx)\n",
    "    \n",
    "    \n",
    "    \n",
    "    # visualize worst-case scenario\n",
    "    worstFit = kdeFits[idx] \n",
    "    # pvalue\n",
    "    pval = norm.cdf(1, *worstFit) # - norm.cdf(.5, *worstFit)\n",
    "    \n",
    "    # compute lims\n",
    "    lims = [norm(*worstFit).ppf(theta) for theta in (start, 1 - start)]\n",
    "    xr = np.linspace(*lims)\n",
    "    \n",
    "    print(worstFit)\n",
    "    # plot distribution\n",
    "    p  = norm(*worstFit).pdf(xr)\n",
    "    p  = (p - p.min()) / (p.max() - p.min())\n",
    "    \n",
    "    print(p)\n",
    "    axi.plot(xr, p, linestyle = 'dashed', color = 'k')\n",
    "    if pval < alpha:\n",
    "        axi.annotate(' ', (1,  axi.axis()[-1]/2),\\\n",
    "                    fontsize = 15,\\\n",
    "                    verticalalignment = 'center',\\\n",
    "                    horizontalalignment = 'center',\\\n",
    "                    bbox  = bbox_props,\\\n",
    "#                         textcoords = 'axes fraction',\\\n",
    "                    )\n",
    "    axi.set_title(titles[idx])\n",
    "    axi.axvline(1, linestyle = 'dashed', color = 'gray')\n",
    "#     axi.set_xscale('log')\n",
    "\n",
    "colors = plt.cm.tab10(range(4))\n",
    "elems = [] \n",
    "for idx, c in enumerate(centralities):\n",
    "    elems.append(plt.Line2D([], [], marker = 'o', linestyle = 'none',\\\n",
    "                           color = colors[idx],\\\n",
    "                           label = c.capitalize()))\n",
    "elems.append(plt.Line2D([], [], marker = 'o', linestyle = 'none',\\\n",
    "                       color = 'gray',\\\n",
    "                       label = '$\\int_0^1 P(x) dx < \\\\alpha$'))\n",
    "ax[1].legend(\\\n",
    "        handles = elems, loc = 'upper right',\\\n",
    "        bbox_to_anchor = (1, .85),\\\n",
    "        borderaxespad = 0,\\\n",
    "        handletextpad = 0, frameon = 1,\\\n",
    "        edgecolor = 'white',\\\n",
    "        facecolor = 'white',\\\n",
    "        framealpha = 1,\\\n",
    "        labelspacing = 0)\n",
    "          \n",
    "fig.subplots_adjust(wspace = 0)\n",
    "fig.savefig('psycho_bootstrap.svg', transparent = 1,\\\n",
    "           bbox_inches = 'tight',\\\n",
    "           pad_inches = 0)\n",
    "fig.show()\n",
    "        \n",
    "# print(overlap[1:, :, -1], overlap.shape)"
   ]
  },
  {
   "cell_type": "code",
   "execution_count": 20,
   "metadata": {},
   "outputs": [
    {
     "data": {
      "application/vnd.jupyter.widget-view+json": {
       "model_id": "",
       "version_major": 2,
       "version_minor": 0
      },
      "text/plain": [
       "Canvas(toolbar=Toolbar(toolitems=[('Home', 'Reset original view', 'home', 'home'), ('Back', 'Back to previous …"
      ]
     },
     "metadata": {},
     "output_type": "display_data"
    },
    {
     "name": "stdout",
     "output_type": "stream",
     "text": [
      "(12, 20, 3, 3, 49)\n",
      "{2: (5.695508923212718, 0.003097399341328293)}\n",
      "sleep\n",
      "{7: (11.61350614718974, 0.004964531921837389)}\n",
      "sad\n",
      "{7: (6.473791760065524, 0.00040363376093132823)}\n",
      "sad\n",
      "{2: (6.993899272812367, 0.026772236838546605)}\n",
      "sleep\n",
      "{7: (14.416981255612516, 0.04114089296015738)}\n",
      "sad\n",
      "{7: (9.257612293501948, 0.011082918363953692)}\n",
      "sad\n",
      "{4: (12.591290745359453, 0.07397142527489126)}\n",
      "lonely\n",
      "{8: (9.026883808540877, 0.0001234413314193753)}\n",
      "dislike\n",
      "{8: (7.069149897749861, 1.4609632282326509e-05)}\n"
     ]
    },
    {
     "name": "stderr",
     "output_type": "stream",
     "text": [
      "<ipython-input-20-8ce097a88edb>:48: UserWarning: You have used the `textcoords` kwarg, but not the `xytext` kwarg.  This can lead to surprising results.\n",
      "  axi.annotate(pulses.round(2)[p - 1], (.9, .5), textcoords = 'axes fraction', \\\n"
     ]
    },
    {
     "name": "stdout",
     "output_type": "stream",
     "text": [
      "dislike\n"
     ]
    },
    {
     "data": {
      "image/png": "[encoded data removed]",
      "text/plain": [
       "<Figure size 360x360 with 9 Axes>"
      ]
     },
     "metadata": {
      "needs_background": "light"
     },
     "output_type": "display_data"
    }
   ],
   "source": [
    "# get dataa\n",
    "\n",
    "ALLDRIVERS = np.array([i for i in alldrivers.values()]).squeeze()[..., 0]\n",
    "\n",
    "from scipy.stats import sem\n",
    "tmp = np.array([i for i in rdata.values()]).squeeze()\n",
    "pulses = np.array(setting.get('pulseSizes'))\n",
    "nodes, ntrials, npulse, ntemps, deltas = tmp.shape\n",
    "\n",
    "gs = dict()\n",
    "%matplotlib widget\n",
    "fig, ax = plt.subplots(npulse, ntemps, gridspec_kw = gs, \\\n",
    "                      figsize = (5, 5),\\\n",
    "                       sharex = 'all', sharey = 'col')\n",
    "\n",
    "print(tmp.shape)\n",
    "colors = plt.cm.tab20(range(nodes))\n",
    "xr = np.arange(deltas)\n",
    "for p in range(npulse):\n",
    "    for t in range(ntemps):\n",
    "        axi = ax[p, t]\n",
    "        d = tmp.mean(1)[..., p, t, :]\n",
    "        e = sem(tmp, 1)[..., p, t, :]\n",
    "        \n",
    "        drivers = ALLDRIVERS[p, t]\n",
    "        \n",
    "        print(drivers)\n",
    "        elems = []\n",
    "        for nodeLabel, node in m.mapping.items():\n",
    "            \n",
    "            if node in drivers.keys():\n",
    "                print(nodeLabel)\n",
    "                elem = plt.Line2D([], [], marker = 'o', linestyle = 'none', \\\n",
    "                                  color = colors[node])\n",
    "                elems.append(elem)\n",
    "                \n",
    "            axi.errorbar(xr, d[node], yerr = 2 * e[node], color = colors[node], \\\n",
    "                         )\n",
    "            \n",
    "        axi.legend(handles = elems, fancybox = 0,\\\n",
    "                  bbox_to_anchor = (0.5, .9), loc = 'center', ncol = 10, \\\n",
    "                   framealpha = 0, borderaxespad = 0, handletextpad = 0)\n",
    "        if t > 0:\n",
    "            axi.set_yticklabels([])\n",
    "        axi.set_ylim(0, 1.2)\n",
    "#         axi.set_xlim(0, 5)\n",
    "        if t == ntemps - 1 and p > 0:\n",
    "            axi.annotate(pulses.round(2)[p - 1], (.9, .5), textcoords = 'axes fraction', \\\n",
    "                        horizontalalignment = 'right', fontsize = 20)\n",
    "fig.subplots_adjust(wspace = 0,  hspace = 0.13)\n",
    "fig.savefig('pyscho_time.svg')\n",
    "fig.show()"
   ]
  },
  {
   "cell_type": "code",
   "execution_count": 90,
   "metadata": {},
   "outputs": [
    {
     "name": "stdout",
     "output_type": "stream",
     "text": [
      "{0: 'depr', 1: 'effort', 2: 'sleep', 3: 'happy', 4: 'lonely', 5: 'enjoy', 6: 'appet', 7: 'sad', 8: 'dislike', 9: 'getgo', 10: 'loss', 11: 'unfr'}\n",
      "0 0\n",
      "2 sleep\n",
      "0 1\n",
      "2 sleep\n",
      "0 2\n",
      "10 loss\n",
      "1 0\n",
      "2 sleep\n",
      "1 1\n",
      "2 sleep\n",
      "1 2\n",
      "9 getgo\n",
      "2 sleep\n",
      "10 loss\n",
      "2 0\n",
      "8 dislike\n",
      "0 depr\n",
      "2 1\n",
      "8 dislike\n",
      "2 2\n",
      "8 dislike\n"
     ]
    }
   ],
   "source": [
    "print(m.rmapping)\n",
    "\n",
    "s = ALLDRIVERS.shape\n",
    "for (i, j) in product(*map(range, s)):\n",
    "    print(i,j)\n",
    "    for k in ALLDRIVERS[i, j]:\n",
    "        print(k, m.rmapping[k])\n",
    "#     print(ALLDRIVERS[i,j].keys(), i, j)"
   ]
  },
  {
   "cell_type": "code",
   "execution_count": null,
   "metadata": {},
   "outputs": [],
   "source": []
  },
  {
   "cell_type": "markdown",
   "metadata": {},
   "source": [
    "# Time data widget"
   ]
  },
  {
   "cell_type": "code",
   "execution_count": 38,
   "metadata": {},
   "outputs": [
    {
     "name": "stdout",
     "output_type": "stream",
     "text": [
      "3\n",
      "Warning: Cannot change to a different GUI toolkit: notebook. Using widget instead.\n"
     ]
    },
    {
     "data": {
      "application/vnd.jupyter.widget-view+json": {
       "model_id": "",
       "version_major": 2,
       "version_minor": 0
      },
      "text/plain": [
       "Canvas(toolbar=Toolbar(toolitems=[('Home', 'Reset original view', 'home', 'home'), ('Back', 'Back to previous …"
      ]
     },
     "metadata": {},
     "output_type": "display_data"
    },
    {
     "data": {
      "application/vnd.jupyter.widget-view+json": {
       "model_id": "3d50309d3c30431aa460bc5a3e9bffc9",
       "version_major": 2,
       "version_minor": 0
      },
      "text/plain": [
       "interactive(children=(Select(description='dataName', options=('Data/psycho/1548025318.5751357',), value='Data/…"
      ]
     },
     "metadata": {},
     "output_type": "display_data"
    }
   ],
   "source": [
    "\n",
    "import ipywidgets as widgets\n",
    "from scipy.stats import sem\n",
    "from Utils.plotting import addGraphPretty\n",
    "# dataSlider = widgets.SelectionSlider(options = data.keys())\n",
    "dataSlider = widgets.Select(options = data.keys())\n",
    "tempSlider = widgets.IntSlider(min = 0, max = 2)\n",
    "\n",
    "print(npulse)\n",
    "pulseSlider = widgets.IntSlider(min = 1, max = npulse)\n",
    "\n",
    "\n",
    "%matplotlib notebook\n",
    "fig, (left, right) = plt.subplots(1, 2, figsize = (10, 7), sharey = 'all')\n",
    "mainax = fig.add_subplot(111, frameon = 0,\\\n",
    "                        xticks = [],\\\n",
    "                        yticks = [])\n",
    "mainax.set_xlabel('Time[step]', labelpad = 30)\n",
    "# inax.axis('off')\n",
    "@widgets.interact(dataName = dataSlider, \\\n",
    "                  temp = tempSlider, \\\n",
    "                  pulse = pulseSlider)\n",
    "def update(dataName, temp, pulse):\n",
    "    d = rdata.get(dataName)\n",
    "    \n",
    "    for idx, i in enumerate(data.keys()):\n",
    "        if i == dataName:\n",
    "            break\n",
    "    print(alldrivers[dataName].shape)\n",
    "    a = aucs.get(dataName)[..., pulse, temp].mean(1)\n",
    "    print(a, aucs[dataName].shape)\n",
    "    drivers = alldrivers[dataName][pulse, temp, 0]\n",
    "    print(drivers)\n",
    "    mainax.set_title(dataName + \"\\n\" + str(drivers.keys()))\n",
    "    g = settings.get(dataName).get('graph')\n",
    "\n",
    "    \n",
    "    nodes, trials, pulses, temps, deltas = d.shape\n",
    "    colors = plt.cm.tab20(range(nodes))\n",
    "    means = d.mean(1)\n",
    "    sems  =  2 * np.std(d, axis = 1)\n",
    "    xr = np.arange(d.shape[-1])\n",
    "    \n",
    "    left.cla(); right.cla()\n",
    "    \n",
    "    inax = right.inset_axes([.4, 0.4, .6, .6])\n",
    "    addGraphPretty(g, ax = inax)\n",
    "    inax.axis('off')\n",
    "    for node in range(nodes):\n",
    "        left.errorbar(xr, means[node, 0, temp], \\\n",
    "                      sems[node, 0, temp], \\\n",
    "                      color = colors[node],\\\n",
    "                      label = node)\n",
    "        right.errorbar(xr, means[node, pulse, temp], \\\n",
    "                       sems[node, pulse, temp], \\\n",
    "                       color = colors[node],\\\n",
    "                       label = node)\n",
    "#         left.set_yscale('log')\n",
    "#         right.set_yscale('log')\n",
    "    \n",
    "    elems = [\\\n",
    "             plt.Line2D([], [], color = colors[node], \\\n",
    "                  label = f'{node}{\"*\" if node in drivers else \"\"}', \\\n",
    "                  marker = 'o', linestyle = 'None')\\\n",
    "                  for node in range(nodes)\\\n",
    "          ]\n",
    "    left.set_ylabel(r'$I(s_i^{t_0 + t} ; S^{t_0})$')\n",
    "    right.set_ylabel(r\"$D_{KL}(P' \\vert \\vert P)$\")\n",
    "    right.legend(handles = elems, \\\n",
    "                 bbox_to_anchor = (1.0, 1), loc = 'upper left',\\\n",
    "                title = 'Node', title_fontsize = 20,\\\n",
    "                frameon = 0,\\\n",
    "                borderaxespad = 0)\n",
    "fig.show(0)"
   ]
  },
  {
   "cell_type": "markdown",
   "metadata": {},
   "source": [
    "# fit error plots"
   ]
  },
  {
   "cell_type": "code",
   "execution_count": 106,
   "metadata": {},
   "outputs": [
    {
     "name": "stderr",
     "output_type": "stream",
     "text": [
      "<ipython-input-106-deacb1dd8f4f>:35: UserWarning: Matplotlib is currently using module://ipykernel.pylab.backend_inline, which is a non-GUI backend, so cannot show the figure.\n",
      "  fig.show()\n"
     ]
    },
    {
     "data": {
      "image/png": "[encoded data removed]",
      "text/plain": [
       "<Figure size 432x288 with 1 Axes>"
      ]
     },
     "metadata": {
      "needs_background": "light"
     },
     "output_type": "display_data"
    }
   ],
   "source": [
    "from pipeline import func\n",
    "\n",
    "c = np.array([i for i in coeffs.values()]).squeeze()\n",
    "d = np.array([i for i in rdata.values()]).squeeze()\n",
    "\n",
    "\n",
    "s = c.shape # nodes trials pulse temp coeffs\n",
    "ss = d.shape # nodes trials pulse, temp deltas\n",
    "c = c.reshape(s[0], -1, s[-1])\n",
    "d = d.reshape(ss[0], -1, ss[-1])\n",
    "deltas = ss[-1]\n",
    "xr = np.arange(deltas)\n",
    "\n",
    "N = c.shape[1]\n",
    "errors = np.zeros((s[0], N))\n",
    "for node in range(s[0]):\n",
    "    for trial in range(N):\n",
    "        di = d[node, trial]\n",
    "        C = c[node, trial]\n",
    "        error = np.mean((func(xr, *C) - di)**2)\n",
    "        errors[node, trial] = error\n",
    "        \n",
    "nodes = np.arange(s[0])\n",
    "\n",
    "colors = plt.cm.tab20(range(nodes.size))\n",
    "fig, ax = plt.subplots()\n",
    "for node in nodes:\n",
    "    ax.errorbar(node, errors[node].mean(), sem(errors[node]), \\\n",
    "                linestyle = 'none', capthick = 5, color = 'black',\\\n",
    "               )\n",
    "    ax.bar(node, errors[node].mean(), color = colors[node])\n",
    "ax.set_xticks(nodes)\n",
    "ax.set_xticklabels([m.rmapping[i] for i in nodes], rotation = 90)\n",
    "fig.savefig('MSE_psycho.pdf')\n",
    "fig.show()"
   ]
  }
 ],
 "metadata": {
  "kernelspec": {
   "display_name": "Python 3",
   "language": "python",
   "name": "python3"
  },
  "language_info": {
   "codemirror_mode": {
    "name": "ipython",
    "version": 3
   },
   "file_extension": ".py",
   "mimetype": "text/x-python",
   "name": "python",
   "nbconvert_exporter": "python",
   "pygments_lexer": "ipython3",
   "version": "3.8.0"
  }
 },
 "nbformat": 4,
 "nbformat_minor": 4
}
