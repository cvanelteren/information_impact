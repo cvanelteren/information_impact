{
 "cells": [
  {
   "cell_type": "markdown",
   "metadata": {},
   "source": [
    "# Percentile results\n",
    "This notebook reflects the results obtained for the psycho network"
   ]
  },
  {
   "cell_type": "code",
   "execution_count": 6,
   "metadata": {},
   "outputs": [
    {
     "name": "stdout",
     "output_type": "stream",
     "text": [
      "Loading aucs\n",
      "Loading data\n",
      "Loading rdata\n",
      "Loading settings\n",
      "Loading coeffs\n"
     ]
    }
   ],
   "source": [
    "import sys, os\n",
    "sys.path.insert(0, '../')\n",
    "from matplotlib import style\n",
    "style.use('seaborn-poster')\n",
    "\n",
    "import matplotlib.pyplot as plt, numpy as np, networkx as nx\n",
    "from Utils.stats import driverNodeEstimate\n",
    "from Utils import IO\n",
    "\n",
    "# fn = 'tester.pickle'\n",
    "fn = '../data2019-11-24T11:30:04.533109.pickle'\n",
    "for k, v in IO.loadPickle(fn).items():\n",
    "    print(f'Loading {k}')\n",
    "    globals()[k] = v\n",
    "\n",
    "s = next(iter(settings))\n",
    "setting = settings[s]\n",
    "centralities = dict(\\\n",
    "                   degree = nx.degree_centrality,\\\n",
    "                   betweenness = nx.betweenness_centrality,\\\n",
    "                   closeness  = nx.closeness_centrality,\\\n",
    "                   eigenvector = nx.eigenvector_centrality,\\\n",
    "                   )"
   ]
  },
  {
   "cell_type": "code",
   "execution_count": 28,
   "metadata": {},
   "outputs": [
    {
     "name": "stdout",
     "output_type": "stream",
     "text": [
      "The autoreload extension is already loaded. To reload it, use:\n",
      "  %reload_ext autoreload\n",
      "[0]\n",
      "[9]\n",
      "[0]\n",
      "[0]\n",
      "Data/stupid/2019-11-20T11:48:39.216356 (20, 12, 6, 3)\n"
     ]
    }
   ],
   "source": [
    "%load_ext autoreload\n",
    "%autoreload 2\n",
    "DRIVERS = {}\n",
    "alpha = .01\n",
    "from tqdm import tqdm_notebook as tqdm\n",
    "from Utils.stats import bootStrapDrivers\n",
    "N, n = int(1e4), 20\n",
    "\n",
    "N = int(1e4)\n",
    "\n",
    "# for all aucs\n",
    "\n",
    "# from Utils.stats import bootStrapThresholds\n",
    "alphas = np.linspace(0.1, 1, 10)\n",
    "alphas  = np.array([0, .05])\n",
    "structuralData = {}\n",
    "for k, setting in settings.items():\n",
    "    m = setting.get('model')\n",
    "    g = m.graph\n",
    "    \n",
    "    buffer = np.zeros((m.nNodes))\n",
    "    centData = {}\n",
    "    for condition, cf in centralities.items():\n",
    "        c = cf(g)\n",
    "        for node, val in c.items():\n",
    "            idx = m.mapping[node]\n",
    "            buffer[idx] = val\n",
    "        MAX = buffer.max()\n",
    "        cdrivers = np.where(buffer == MAX)[0]\n",
    "#         print(cdrivers, np.where(buffer == MAX))\n",
    "        print(cdrivers)\n",
    "        centData[condition] = cdrivers\n",
    "    structuralData[k] = centData\n",
    "    \n",
    "from Utils.stats import returnX\n",
    "from itertools import product\n",
    "\n",
    "\n",
    "from Utils.stats import bootStrapAll\n",
    "boots = {}\n",
    "alldrivers = {}\n",
    "total = int(1e5)\n",
    "batch = 20\n",
    "alpha = .5\n",
    "for k, v in aucs.items():\n",
    "    v = np.moveaxis(v, 0, 1) # swap trials and nodes\n",
    "    print(k, v.shape)\n",
    "    alldrivers[k] = bootStrapAll(v, returnX, total, batch, alpha)\n"
   ]
  },
  {
   "cell_type": "code",
   "execution_count": 36,
   "metadata": {},
   "outputs": [
    {
     "name": "stdout",
     "output_type": "stream",
     "text": [
      ">> (6, 5, 3)\n"
     ]
    }
   ],
   "source": [
    "from Utils.stats import computeMatchScore\n",
    "conditions = len(centralities) + 1\n",
    "\n",
    "for k, v in alldrivers.items():\n",
    "    setting = settings.get(k)\n",
    "    pulses = np.array (setting.get('pulseSizes') )\n",
    "   \n",
    "    s = v.shape[:-1]\n",
    "    npulse, ntemps = s\n",
    "    tmp = np.array([list(i.keys()) for i in v[...,0].flat], dtype = dict).reshape(s)\n",
    "    \n",
    "    ti = np.array([i for i in structuralData[k].values()], dtype = list)\n",
    "    \n",
    "    d = np.zeros((conditions + 1, pulses.size, ntemps), dtype = list)\n",
    "    # print('>', tmp.shape, v.shape)\n",
    "    d[0] = tmp[1:]\n",
    "    d[1] = tmp[0]\n",
    "#     print(d)\n",
    "#     print(d.shape)\n",
    "    \n",
    "    \n",
    "    s = d.shape\n",
    "    d = d.reshape(conditions + 1, -1)\n",
    "    d[2:] = ti\n",
    "    d = d.reshape(s)\n",
    "    \n",
    "    d = d.reshape(-1)\n",
    "    driverSizes = np.zeros(d.shape)\n",
    "    for idx, i in enumerate (d):\n",
    "        try:\n",
    "            iter(i)\n",
    "        except:\n",
    "            d[idx] = [i]\n",
    "        driverSizes[idx] = len(d[idx])\n",
    "        \n",
    "    d = d.reshape(s)\n",
    "    driverSizes = driverSizes.reshape(s)\n",
    "#     print(ti, tmp.shape)\n",
    "    overlap = computeMatchScore(d)\n",
    "\n",
    "print('>>', overlap.shape)"
   ]
  },
  {
   "cell_type": "code",
   "execution_count": 30,
   "metadata": {},
   "outputs": [
    {
     "name": "stdout",
     "output_type": "stream",
     "text": [
      "(6, 5, 3)\n"
     ]
    },
    {
     "name": "stderr",
     "output_type": "stream",
     "text": [
      "<ipython-input-30-94abf512ca3f>:34: UserWarning: Matplotlib is currently using module://ipykernel.pylab.backend_inline, which is a non-GUI backend, so cannot show the figure.\n",
      "  fig.show()\n"
     ]
    },
    {
     "data": {
      "image/png": "[encoded data removed]",
      "text/plain": [
       "<Figure size 504x216 with 9 Axes>"
      ]
     },
     "metadata": {
      "needs_background": "light"
     },
     "output_type": "display_data"
    }
   ],
   "source": [
    "conditions, npulse, ntemps = overlap.shape\n",
    "print(overlap.shape)\n",
    "# show jaccard scores\n",
    "\n",
    "hr = np.ones(3)\n",
    "hr[-2] = .1\n",
    "hr[-1] = .05\n",
    "gs = dict(height_ratios = hr)\n",
    "fig, ax = plt.subplots(3, ntemps, sharey = 'row',\\\n",
    "                       figsize = (7,3),\\\n",
    "                      gridspec_kw = gs)\n",
    "\n",
    "yr = np.arange(conditions - 1)\n",
    "cLabels = ['Inf. impact', *[i.capitalize() for i in centralities.keys()]]\n",
    "\n",
    "ratios = setting.get('equilibrium').get('ratios').keys()\n",
    "ratios = list(ratios)\n",
    "for tidx, axi in enumerate(ax[0]):\n",
    "    h = axi.imshow(overlap[1:, :, tidx], aspect = 'auto', vmin = 0, vmax = 1)\n",
    "    xr = np.arange(pulses.size)\n",
    "    axi.set_xticks(xr)\n",
    "    axi.set_xticklabels(pulses)\n",
    "    axi.set_yticks(yr)\n",
    "    axi.set_yticklabels(cLabels)\n",
    "    axi.set_title(ratios[tidx])\n",
    "for axi in ax[1:].flat:\n",
    "    axi.axis('off')\n",
    "    \n",
    "axi.axis('on')\n",
    "axi.set_xlim(0, 1)\n",
    "fig.colorbar(h, cax = axi, orientation = 'horizontal', ticks = (0, 1))\n",
    "fig.subplots_adjust(wspace = .05)\n",
    "fig.savefig('pyscho_jaccard.svg')\n",
    "fig.show()"
   ]
  },
  {
   "cell_type": "code",
   "execution_count": 31,
   "metadata": {},
   "outputs": [
    {
     "name": "stdout",
     "output_type": "stream",
     "text": [
      "(6, 5, 3)\n",
      "(6, 3)\n"
     ]
    },
    {
     "name": "stderr",
     "output_type": "stream",
     "text": [
      "<ipython-input-31-3aaeb1aac38f>:62: UserWarning: Matplotlib is currently using module://ipykernel.pylab.backend_inline, which is a non-GUI backend, so cannot show the figure.\n",
      "  fig.show()\n"
     ]
    },
    {
     "data": {
      "image/png": "[encoded data removed]",
      "text/plain": [
       "<Figure size 360x216 with 4 Axes>"
      ]
     },
     "metadata": {
      "needs_background": "light"
     },
     "output_type": "display_data"
    }
   ],
   "source": [
    "# plot driver sizes\n",
    "conditions, npulse, ntemps = driverSizes.shape\n",
    "print(driverSizes.shape)\n",
    "\n",
    "# wr = np.ones(ntemps + 1)\n",
    "# wr[1] = .1\n",
    "# gs = dict(width_ratios = wr)\n",
    "fig, ax = plt.subplots(1, ntemps + 1,\\\n",
    "#                       gridspec_kw = gs,\\\n",
    "                      figsize = (5, 3))\n",
    "ax[0].bar(np.arange(conditions - 2), driverSizes[2:, 0, 0])\n",
    "ax[0].set_ylim(0, 10)\n",
    "ax[0].spines['right'].set_visible(0)\n",
    "ax[0].set_xticks(np.arange(len(cLabels[:-1])))\n",
    "ax[0].set_xticklabels(cLabels[1:], rotation = 90)\n",
    "\n",
    "\n",
    "\n",
    "\n",
    "tmpSizes = np.zeros((npulse + 1, ntemps))\n",
    "tmpSizes[1:] = driverSizes[0]\n",
    "tmpSizes[0]  = driverSizes[1, 0]\n",
    "\n",
    "\n",
    "# width = 1/len(tmpSizes.T)\n",
    "width = 1/5\n",
    "\n",
    "print(tmpSizes.shape)\n",
    "xr = np.arange(0, 5) / width\n",
    "\n",
    "dLabels = ['Inf. impact', *pulses.round(1)]\n",
    "colors = plt.cm.tab10(range(len(tmpSizes) + 1))\n",
    "for idx, axi in enumerate(ax[1:]):\n",
    "    \n",
    "    d = tmpSizes[..., idx]\n",
    "#     print(d.shape)\n",
    "    \n",
    "    xr = []\n",
    "    for jdx, di in enumerate(d):\n",
    "#         print(jdx)\n",
    "        xr.append(width * jdx)\n",
    "        axi.bar(width * jdx,\\\n",
    "                height = di, width = .9 * width, \\\n",
    "                color = colors[jdx + 1])\n",
    "#     axi.set_xticks(xr)\n",
    "#     axi.set_xticklabels(dLabels, rotation = 90)\n",
    "    axi.set_ylim(0, 10)\n",
    "    axi.set_yticks([])\n",
    "    axi.set_xticks(xr)\n",
    "    axi.set_xticklabels(dLabels, rotation = 90)\n",
    "    axi.spines['left'].set_visible(0)\n",
    "    axi.set_title(ratios[idx])\n",
    "    if idx < ntemps - 1:\n",
    "        axi.spines['right'].set_visible(0)\n",
    "#     axi.bar(np.arange(2), height = driverSizes[:2, ..., tidx], aspect = 'auto')\n",
    "    if idx > 0:\n",
    "        axi.set_yticklabels([])\n",
    "#     axi.set_yticklabels(labels)\n",
    "#     axi.set_xticklabels(pulses)\n",
    "fig.subplots_adjust(wspace = 0)\n",
    "fig.savefig('pyscho_driver.svg')\n",
    "fig.show()\n"
   ]
  },
  {
   "cell_type": "markdown",
   "metadata": {},
   "source": [
    "# boostrap results"
   ]
  },
  {
   "cell_type": "code",
   "execution_count": null,
   "metadata": {},
   "outputs": [],
   "source": []
  },
  {
   "cell_type": "code",
   "execution_count": 32,
   "metadata": {},
   "outputs": [
    {
     "name": "stdout",
     "output_type": "stream",
     "text": [
      "(3, 5, 5)\n"
     ]
    }
   ],
   "source": [
    "# perform boostrap\n",
    "tmp = overlap[1:]\n",
    "tmp = np.moveaxis(tmp, 1, -1)\n",
    "tmp = np.moveaxis(tmp, 0, 1)\n",
    "\n",
    "ntemps, npulse, nconditions = tmp.shape\n",
    "print(tmp.shape)\n",
    "tmp = tmp.reshape(-1, nconditions)\n",
    "tmp += 1e-3\n",
    "from Utils.stats import bootStrap, ratio\n",
    "boots = bootStrap(tmp, \\\n",
    "                  total = N, \\\n",
    "                  func = ratio,\\\n",
    "                  batch = len(tmp))"
   ]
  },
  {
   "cell_type": "code",
   "execution_count": 33,
   "metadata": {},
   "outputs": [
    {
     "name": "stdout",
     "output_type": "stream",
     "text": [
      "(10000, 4)\n",
      "0\n",
      "0.004448743783816155 0.9317282717282717\n",
      "1\n",
      "0.004448743783816155 0.9317282717282717\n",
      "2\n",
      "0.0077218131528816215 0.8642498951480988\n",
      "3\n"
     ]
    },
    {
     "name": "stderr",
     "output_type": "stream",
     "text": [
      "<ipython-input-33-c0121c5be328>:23: UserWarning: Matplotlib is currently using module://ipykernel.pylab.backend_inline, which is a non-GUI backend, so cannot show the figure.\n",
      "  fig.show()\n"
     ]
    },
    {
     "data": {
      "image/png": "[encoded data removed]",
      "text/plain": [
       "<Figure size 921.6x633.6 with 1 Axes>"
      ]
     },
     "metadata": {
      "needs_background": "light"
     },
     "output_type": "display_data"
    }
   ],
   "source": [
    "from statistics import NormalDist\n",
    "theta = 1\n",
    "thetas = [theta, 100-theta]\n",
    "fig, ax = plt.subplots()\n",
    "print(boots.shape)\n",
    "\n",
    "# ax.imshow(boots, aspect = 'auto')\n",
    "for idx, i in enumerate(boots.T):\n",
    "    print(idx)\n",
    "    try:\n",
    "        dist = NormalDist().from_samples(i)\n",
    "    #     dist.quantile()\n",
    "\n",
    "        quants = dist.quantiles(100)\n",
    "        print(dist.variance, dist.mean)\n",
    "    #     print(quants, i)\n",
    "    #     xr = np.linspace(left, right)\n",
    "        y =  np.array([dist.pdf(q) for q in quants])\n",
    "        y = (y - y.min()) / (y.max() - y.min())\n",
    "        ax.plot(quants, y)\n",
    "    except:\n",
    "        continue\n",
    "fig.show()"
   ]
  },
  {
   "cell_type": "code",
   "execution_count": 38,
   "metadata": {},
   "outputs": [
    {
     "data": {
      "application/vnd.jupyter.widget-view+json": {
       "model_id": "5c6646790865483e8fb20969ee842475",
       "version_major": 2,
       "version_minor": 0
      },
      "text/plain": [
       "Canvas(toolbar=Toolbar(toolitems=[('Home', 'Reset original view', 'home', 'home'), ('Back', 'Back to previous …"
      ]
     },
     "metadata": {},
     "output_type": "display_data"
    },
    {
     "name": "stdout",
     "output_type": "stream",
     "text": [
      "(12, 20, 6, 3, 14)\n"
     ]
    },
    {
     "name": "stderr",
     "output_type": "stream",
     "text": [
      "<ipython-input-38-5ea90d7eed58>:28: UserWarning: You have used the `textcoords` kwarg, but not the `xytext` kwarg.  This can lead to surprising results.\n",
      "  axi.annotate(pulses.round(2)[p - 1], (.9, .5), textcoords = 'axes fraction', \\\n"
     ]
    }
   ],
   "source": [
    "# get dataa\n",
    "from scipy.stats import sem\n",
    "tmp = np.array([i for i in rdata.values()]).squeeze()\n",
    "\n",
    "nodes, ntrials, npulse, ntemps, deltas = tmp.shape\n",
    "\n",
    "gs = dict()\n",
    "%matplotlib widget\n",
    "fig, ax = plt.subplots(npulse, ntemps, gridspec_kw = gs, \\\n",
    "                      figsize = (5, 5),\\\n",
    "                       sharex = 'all', sharey = 'col')\n",
    "\n",
    "print(tmp.shape)\n",
    "colors = plt.cm.tab20(range(nodes))\n",
    "xr = np.arange(deltas)\n",
    "for p in range(npulse):\n",
    "    for t in range(ntemps):\n",
    "        axi = ax[p, t]\n",
    "        d = tmp.mean(1)[..., p, t, :]\n",
    "        e = sem(tmp, 1)[..., p, t, :]\n",
    "        for node in range(nodes):\n",
    "            axi.errorbar(xr, d[node], yerr = 2 * e[node], color = colors[node])\n",
    "        if t > 0:\n",
    "            axi.set_yticklabels([])\n",
    "        axi.set_ylim(0, 1.2)\n",
    "#         axi.set_xlim(0, 5)\n",
    "        if t == ntemps - 1 and p > 0:\n",
    "            axi.annotate(pulses.round(2)[p - 1], (.9, .5), textcoords = 'axes fraction', \\\n",
    "                        horizontalalignment = 'right', fontsize = 20)\n",
    "fig.subplots_adjust(wspace = 0,  hspace = 0.13)\n",
    "fig.savefig('pyscho_time.svg')\n",
    "fig.show()"
   ]
  },
  {
   "cell_type": "code",
   "execution_count": 218,
   "metadata": {},
   "outputs": [],
   "source": [
    "\n",
    "plt.close('all')\n",
    "# hr = np.ones(3)"
   ]
  },
  {
   "cell_type": "code",
   "execution_count": null,
   "metadata": {},
   "outputs": [],
   "source": []
  },
  {
   "cell_type": "markdown",
   "metadata": {},
   "source": [
    "# Time data widget"
   ]
  },
  {
   "cell_type": "code",
   "execution_count": 25,
   "metadata": {},
   "outputs": [
    {
     "name": "stdout",
     "output_type": "stream",
     "text": [
      "4\n",
      "Warning: Cannot change to a different GUI toolkit: notebook. Using widget instead.\n"
     ]
    },
    {
     "data": {
      "application/vnd.jupyter.widget-view+json": {
       "model_id": "",
       "version_major": 2,
       "version_minor": 0
      },
      "text/plain": [
       "Canvas(toolbar=Toolbar(toolitems=[('Home', 'Reset original view', 'home', 'home'), ('Back', 'Back to previous …"
      ]
     },
     "metadata": {},
     "output_type": "display_data"
    },
    {
     "data": {
      "application/vnd.jupyter.widget-view+json": {
       "model_id": "2aa502aec3a1402f9f6cd09da7679b0b",
       "version_major": 2,
       "version_minor": 0
      },
      "text/plain": [
       "interactive(children=(Select(description='dataName', options=('Data/psycho/2019-11-18T13:46:57.312796',), valu…"
      ]
     },
     "metadata": {},
     "output_type": "display_data"
    }
   ],
   "source": [
    "\n",
    "import ipywidgets as widgets\n",
    "from scipy.stats import sem\n",
    "from Utils.plotting import addGraphPretty\n",
    "# dataSlider = widgets.SelectionSlider(options = data.keys())\n",
    "dataSlider = widgets.Select(options = data.keys())\n",
    "tempSlider = widgets.IntSlider(min = 0, max = 2)\n",
    "\n",
    "print(npulse)\n",
    "pulseSlider = widgets.IntSlider(min = 1, max = npulse)\n",
    "\n",
    "\n",
    "%matplotlib notebook\n",
    "fig, (left, right) = plt.subplots(1, 2, figsize = (10, 7), sharey = 'all')\n",
    "mainax = fig.add_subplot(111, frameon = 0,\\\n",
    "                        xticks = [],\\\n",
    "                        yticks = [])\n",
    "mainax.set_xlabel('Time[step]', labelpad = 30)\n",
    "# inax.axis('off')\n",
    "@widgets.interact(dataName = dataSlider, \\\n",
    "                  temp = tempSlider, \\\n",
    "                  pulse = pulseSlider)\n",
    "def update(dataName, temp, pulse):\n",
    "    d = rdata.get(dataName)\n",
    "    \n",
    "    for idx, i in enumerate(data.keys()):\n",
    "        if i == dataName:\n",
    "            break\n",
    "    print(alldrivers[dataName].shape)\n",
    "    a = aucs.get(dataName)[..., pulse, temp].mean(1)\n",
    "    print(a, aucs[dataName].shape)\n",
    "    drivers = alldrivers[dataName][pulse, temp, 0]\n",
    "    print(drivers)\n",
    "    mainax.set_title(dataName + \"\\n\" + str(drivers.keys()))\n",
    "    g = settings.get(dataName).get('graph')\n",
    "\n",
    "    \n",
    "    nodes, trials, pulses, temps, deltas = d.shape\n",
    "    colors = plt.cm.tab20(range(nodes))\n",
    "    means = d.mean(1)\n",
    "    sems  =  2 * np.std(d, axis = 1)\n",
    "    xr = np.arange(d.shape[-1])\n",
    "    \n",
    "    left.cla(); right.cla()\n",
    "    \n",
    "    inax = right.inset_axes([.4, 0.4, .6, .6])\n",
    "    addGraphPretty(g, ax = inax)\n",
    "    inax.axis('off')\n",
    "    for node in range(nodes):\n",
    "        left.errorbar(xr, means[node, 0, temp], \\\n",
    "                      sems[node, 0, temp], \\\n",
    "                      color = colors[node],\\\n",
    "                      label = node)\n",
    "        right.errorbar(xr, means[node, pulse, temp], \\\n",
    "                       sems[node, pulse, temp], \\\n",
    "                       color = colors[node],\\\n",
    "                       label = node)\n",
    "#         left.set_yscale('log')\n",
    "#         right.set_yscale('log')\n",
    "    \n",
    "    elems = [\\\n",
    "             plt.Line2D([], [], color = colors[node], \\\n",
    "                  label = f'{node}{\"*\" if node in drivers else \"\"}', \\\n",
    "                  marker = 'o', linestyle = 'None')\\\n",
    "                  for node in range(nodes)\\\n",
    "          ]\n",
    "    left.set_ylabel(r'$I(s_i^{t_0 + t} ; S^{t_0})$')\n",
    "    right.set_ylabel(r\"$D_{KL}(P' \\vert \\vert P)$\")\n",
    "    right.legend(handles = elems, \\\n",
    "                 bbox_to_anchor = (1.0, 1), loc = 'upper left',\\\n",
    "                title = 'Node', title_fontsize = 20,\\\n",
    "                frameon = 0,\\\n",
    "                borderaxespad = 0)\n",
    "fig.show(0)"
   ]
  },
  {
   "cell_type": "code",
   "execution_count": 23,
   "metadata": {},
   "outputs": [
    {
     "name": "stdout",
     "output_type": "stream",
     "text": [
      "[0.00081211 0.00223881 0.07561266 0.00092398 0.00098897 0.00062697\n",
      " 0.0001304  0.00060335 0.00090773 0.00012403 0.01651107 0.03018443]\n"
     ]
    },
    {
     "data": {
      "application/vnd.jupyter.widget-view+json": {
       "model_id": "",
       "version_major": 2,
       "version_minor": 0
      },
      "text/plain": [
       "Canvas(toolbar=Toolbar(toolitems=[('Home', 'Reset original view', 'home', 'home'), ('Back', 'Back to previous …"
      ]
     },
     "metadata": {},
     "output_type": "display_data"
    },
    {
     "name": "stdout",
     "output_type": "stream",
     "text": [
      "0.02881708991132045 [0.         0.         0.07561266 0.         0.         0.\n",
      " 0.         0.         0.         0.         0.01651107 0.03018443]\n"
     ]
    }
   ],
   "source": [
    "tmp = next(iter(rdata.values())).mean(1)[..., 1, 0,:]\n",
    "tmp = abs(np.diff(tmp, axis = 1).mean(1))\n",
    "print(tmp\n",
    "     )\n",
    "tmp[np.argwhere(tmp < .01)] = 0\n",
    "# tmp = np.sort(abs(tmp))\n",
    "fig, ax = plt.subplots()\n",
    "ax.plot(tmp)\n",
    "print(np.percentile(abs(tmp), 90), tmp)\n",
    "# print(tmp.mean(1))\n",
    "\n"
   ]
  },
  {
   "cell_type": "code",
   "execution_count": 51,
   "metadata": {},
   "outputs": [
    {
     "name": "stdout",
     "output_type": "stream",
     "text": [
      "2019-10-28T00:23:27.649748 {'magSide': '', 'updateType': '0.25', 'nudgeType': 'constant'} 30\n",
      "2019-11-20T15:23:33.819422 {'magSide': '', 'updateType': '0.5', 'nudgeType': 'constant'} 12\n",
      "2019-11-06T15:20:18.891135 {'magSide': '', 'updateType': '0.25', 'nudgeType': 'constant'} 12\n",
      "2019-11-10T10:27:25.105002 {'magSide': '', 'updateType': '0.25', 'nudgeType': 'constant'} 12\n",
      "2019-11-18T13:46:57.312796 {'magSide': 'neg', 'updateType': '0.5', 'nudgeType': 'constant'} 12\n",
      "2019-10-28T00:23:23.647182 {'magSide': '', 'updateType': '0.25', 'nudgeType': 'constant'} 30\n",
      "2019-11-17T12:25:12.527499 {'magSide': '', 'updateType': '0.5', 'nudgeType': 'constant'} 12\n",
      "2019-11-18T09:48:58.046043 {'magSide': 'neg', 'updateType': '0.5', 'nudgeType': 'constant'} 12\n",
      "2019-11-07T07:50:30.106371 {'magSide': '', 'updateType': '0.25', 'nudgeType': 'constant'} 12\n",
      "2019-10-31T14:33:34.823116 {'magSide': '', 'updateType': '0.25', 'nudgeType': 'constant'} 12\n",
      "2019-11-17T16:47:08.626152 {'magSide': '', 'updateType': '0.5', 'nudgeType': 'constant'} 12\n",
      "2019-11-20T11:48:39.216356 {'magSide': '', 'updateType': '0.5', 'nudgeType': 'constant'} 12\n",
      "2019-10-28T00:09:19.692751 {'magSide': '', 'updateType': '0.25', 'nudgeType': 'constant'} 30\n",
      "2019-10-31T14:27:56.074604 {'magSide': '', 'updateType': '0.25', 'nudgeType': 'constant'} 12\n",
      "2019-10-24T14:35:43.706123 {'magSide': 'neg', 'updateType': '0.25', 'nudgeType': 'constant'} 12\n",
      "2019-10-28T00:23:27.248443 {'magSide': '', 'updateType': '0.25', 'nudgeType': 'constant'} 30\n",
      "2019-11-17T12:24:55.805429 {'magSide': '', 'updateType': '0.5', 'nudgeType': 'constant'} 12\n",
      "2019-11-11T12:13:56.410782 {'magSide': '', 'updateType': '0.25', 'nudgeType': 'constant'} 12\n",
      "2019-10-31T14:32:17.730673 {'magSide': '', 'updateType': '0.25', 'nudgeType': 'constant'} 12\n",
      "2019-10-28T00:23:24.752831 {'magSide': '', 'updateType': '0.25', 'nudgeType': 'constant'} 30\n",
      "2019-10-28T00:08:17.932768 {'magSide': '', 'updateType': '0.25', 'nudgeType': 'constant'} 30\n",
      "2019-10-28T00:09:11.866212 {'magSide': '', 'updateType': '0.25', 'nudgeType': 'constant'} 30\n",
      "stupid_back {'magSide': '', 'updateType': '0.25', 'nudgeType': 'constant'} 12\n",
      "2019-10-24T14:09:06.406175 {'magSide': 'neg', 'updateType': '0.25', 'nudgeType': 'constant'} 10\n",
      "2019-10-28T00:09:03.836528 {'magSide': '', 'updateType': '0.25', 'nudgeType': 'constant'} 30\n",
      "2019-10-28T00:23:27.627308 {'magSide': '', 'updateType': '0.25', 'nudgeType': 'constant'} 30\n",
      "2019-10-28T00:09:02.402114 {'magSide': '', 'updateType': '0.25', 'nudgeType': 'constant'} 30\n",
      "2019-11-18T09:29:52.086011 {'magSide': '', 'updateType': '0.5', 'nudgeType': 'constant'} 12\n",
      "2019-11-14T11:06:03.856324 {'magSide': '', 'updateType': '0.25', 'nudgeType': 'constant'} 12\n"
     ]
    }
   ],
   "source": [
    "for dir in os.listdir('../Data'):\n",
    "    try:\n",
    "        s = IO.loadPickle(f'../Data/{dir}/settings.pickle')\n",
    "        print(dir, s.get('modelSettings'), s.get('graph').number_of_nodes())\n",
    "    except:\n",
    "        continue\n",
    "# s = IO.loadPickle('../Data/settings.pickle')\n",
    "# m = s.get('model')(s.get('graph'))\n",
    "# m.nNodes"
   ]
  }
 ],
 "metadata": {
  "kernelspec": {
   "display_name": "Python 3",
   "language": "python",
   "name": "python3"
  },
  "language_info": {
   "codemirror_mode": {
    "name": "ipython",
    "version": 3
   },
   "file_extension": ".py",
   "mimetype": "text/x-python",
   "name": "python",
   "nbconvert_exporter": "python",
   "pygments_lexer": "ipython3",
   "version": "3.8.0"
  }
 },
 "nbformat": 4,
 "nbformat_minor": 4
}
