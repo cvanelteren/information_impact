{
 "cells": [
  {
   "cell_type": "markdown",
   "metadata": {},
   "source": [
    "# Small manual\n",
    "\n",
    "The code is organized in such a way that we use a general model framework. Through inheritance one can make their own personal models. The model framework initializer contains all the minimal requirements for the inherrited models. \n",
    "\n",
    "Below I will show how an Ising model is initialized. \n",
    "\n",
    "The model framework deduces its structure based on a graph structure provided by networkx. "
   ]
  },
  {
   "cell_type": "code",
   "execution_count": 1,
   "metadata": {},
   "outputs": [
    {
     "ename": "ModuleNotFoundError",
     "evalue": "No module named 'fastIsing'",
     "output_type": "error",
     "traceback": [
      "\u001b[0;31m---------------------------------------------------------------------------\u001b[0m",
      "\u001b[0;31mModuleNotFoundError\u001b[0m                       Traceback (most recent call last)",
      "\u001b[0;32m<ipython-input-1-93b6ae08cda4>\u001b[0m in \u001b[0;36m<module>\u001b[0;34m()\u001b[0m\n\u001b[0;32m----> 1\u001b[0;31m \u001b[0;32mimport\u001b[0m \u001b[0mfastIsing\u001b[0m\u001b[0;34m\u001b[0m\u001b[0m\n\u001b[0m\u001b[1;32m      2\u001b[0m \u001b[0;32mimport\u001b[0m \u001b[0mnetworkx\u001b[0m \u001b[0;32mas\u001b[0m \u001b[0mnx\u001b[0m\u001b[0;34m,\u001b[0m \u001b[0mmatplotlib\u001b[0m\u001b[0;34m.\u001b[0m\u001b[0mpyplot\u001b[0m \u001b[0;32mas\u001b[0m \u001b[0mplt\u001b[0m\u001b[0;34m,\u001b[0m \u001b[0mplotting\u001b[0m \u001b[0;32mas\u001b[0m \u001b[0mplotz\u001b[0m\u001b[0;34m\u001b[0m\u001b[0m\n\u001b[1;32m      3\u001b[0m \u001b[0;34m\u001b[0m\u001b[0m\n\u001b[1;32m      4\u001b[0m \u001b[0mn\u001b[0m \u001b[0;34m=\u001b[0m \u001b[0;36m500\u001b[0m\u001b[0;34m\u001b[0m\u001b[0m\n\u001b[1;32m      5\u001b[0m \u001b[0mtemperature\u001b[0m \u001b[0;34m=\u001b[0m \u001b[0;36m.5\u001b[0m\u001b[0;34m\u001b[0m\u001b[0m\n",
      "\u001b[0;31mModuleNotFoundError\u001b[0m: No module named 'fastIsing'"
     ]
    }
   ],
   "source": [
    "import fastIsing \n",
    "import networkx as nx, matplotlib.pyplot as plt, plotting as plotz\n",
    "\n",
    "n = 500\n",
    "temperature = .5\n",
    "graph = nx.grid_2d_graph(n, n) # init grid n x n\n",
    "model = fastIsing.Ising(graph = graph, temperature = temperature, doBurnin = False)"
   ]
  },
  {
   "cell_type": "code",
   "execution_count": null,
   "metadata": {},
   "outputs": [],
   "source": [
    "# draw 100 samples spaced with 1 step\n",
    "res = model.simulate(nSamples = 1000, step = 1)\n",
    "print(res.shape)"
   ]
  },
  {
   "cell_type": "code",
   "execution_count": 2,
   "metadata": {
    "scrolled": false
   },
   "outputs": [],
   "source": [
    "# temporar function to show the results interactive\n",
    "%matplotlib notebook\n",
    "from ipywidgets import interact, interactive\n",
    "from ipywidgets.embed import embed_minimal_html\n",
    "from IPython.display import display\n",
    "import numpy as np\n",
    "from PIL import Image # pip install pillow\n",
    "def disp(images):\n",
    "    N, n = images.shape\n",
    "    n = int(np.sqrt(n))\n",
    "    images = images.reshape(-1, n, n)\n",
    "    fig, ax = plt.subplots()\n",
    "    h = ax.imshow(images[0])\n",
    "    def view(frame = 0):\n",
    "        h.set_data(images[frame])\n",
    "        fig.canvas.draw_idle()\n",
    "    interact(view, frame = (0, N -1))\n"
   ]
  },
  {
   "cell_type": "code",
   "execution_count": null,
   "metadata": {},
   "outputs": [],
   "source": [
    "a = disp(res)"
   ]
  },
  {
   "cell_type": "markdown",
   "metadata": {
    "scrolled": true
   },
   "source": [
    "# Information.py\n",
    "Information.py contains functions to compute source and sinc mutual information and related functions such as MC sampler, state sampler, data binner etc.\n",
    "Source mutual information is $I(x_0 \\vert X^T)$, and sinc mutual information is $I(X^0 \\vert x_i^t). The former shows how information spreads as a function of time, whereas the latter shows how nodes receive information over time. \n",
    "\n"
   ]
  }
 ],
 "metadata": {
  "kernelspec": {
   "display_name": "Python 3",
   "language": "python",
   "name": "python3"
  },
  "language_info": {
   "codemirror_mode": {
    "name": "ipython",
    "version": 3
   },
   "file_extension": ".py",
   "mimetype": "text/x-python",
   "name": "python",
   "nbconvert_exporter": "python",
   "pygments_lexer": "ipython3",
   "version": "3.6.6"
  }
 },
 "nbformat": 4,
 "nbformat_minor": 2
}
