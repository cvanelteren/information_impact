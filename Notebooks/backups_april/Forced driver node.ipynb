{
 "cells": [
  {
   "cell_type": "code",
   "execution_count": null,
   "metadata": {
    "scrolled": false
   },
   "outputs": [],
   "source": [
    "import sys, numpy as np, matplotlib.pyplot as plt, networkx as nx, scipy\n",
    "sys.path.insert(0, '../')\n",
    "from PlexSim.Models.FastIsing import Ising\n",
    "from Utils import IO\n",
    "\n",
    "g = nx.Graph()\n",
    "g.add_edge(0, 1, weight = 1); g.add_edge(1, 2, weight = 1); g.add_edge(2, 0, weight = 3)\n",
    "# g = nx.barabasi_albert_graph(100, 2)\n",
    "dataDir = '../Psycho' # relative path careful\n",
    "df    = IO.readCSV(f'{dataDir}/Graph_min1_1.csv', header = 0, index_col = 0)\n",
    "h     = IO.readCSV(f'{dataDir}/External_min1_1.csv', header = 0, index_col = 0)\n",
    "g   = nx.from_pandas_adjacency(df)\n",
    "#attr = {}\n",
    "#for node, row in h.iterrows():\n",
    "#    attr[node] = dict(H = row['externalField'], nudges = 0)\n",
    "#nx.set_node_attributes(g, attr)i\n",
    "print(g.edges())\n",
    "edge = np.random.choice(range(len(g.edges())))\n",
    "# a, b = list(g.edges())[edge]\n",
    "# WEIGHT = -np.inf\n",
    "# nx.set_edge_attributes(g, {(i,j): dict(weight = 1) if not (i,j) == (a, b) else dict(weight = WEIGHT) for i, j in g.edges()})\n",
    "print(list(g.edges())[edge])\n",
    "\n",
    "\n",
    "m = Ising(graph = g, updateType = 'single')\n",
    "temps = np.linspace(0, 5)\n",
    "mag, sus = np.asarray([m.matchMagnetization(temps, n = 100) for i in range(1)]).mean(0)\n",
    "from scipy import ndimage\n",
    "mag = ndimage.gaussian_filter1d(mag, 1)\n",
    "idx = np.argmin(abs(mag - .8 * mag.max()))\n",
    "# idx = np.argmax(sus)\n",
    "m.t = temps[idx]\n",
    "\n"
   ]
  },
  {
   "cell_type": "code",
   "execution_count": 2,
   "metadata": {},
   "outputs": [
    {
     "name": "stderr",
     "output_type": "stream",
     "text": [
      "/home/casper/miniconda3/lib/python3.7/site-packages/matplotlib/figure.py:445: UserWarning: Matplotlib is currently using module://ipykernel.pylab.backend_inline, which is a non-GUI backend, so cannot show the figure.\n",
      "  % get_backend())\n",
      "/home/casper/miniconda3/lib/python3.7/site-packages/matplotlib/figure.py:445: UserWarning: Matplotlib is currently using module://ipykernel.pylab.backend_inline, which is a non-GUI backend, so cannot show the figure.\n",
      "  % get_backend())\n"
     ]
    },
    {
     "name": "stdout",
     "output_type": "stream",
     "text": [
      "0.5102040816326531 [0. 0. 0. 0. 0. 0. 0. 0. 0. 0. 0. 0.]\n"
     ]
    },
    {
     "data": {
      "image/png": "[encoded data removed]",
      "text/plain": [
       "<Figure size 432x288 with 1 Axes>"
      ]
     },
     "metadata": {
      "needs_background": "light"
     },
     "output_type": "display_data"
    },
    {
     "data": {
      "image/png": "[encoded data removed]",
      "text/plain": [
       "<Figure size 432x288 with 2 Axes>"
      ]
     },
     "metadata": {
      "needs_background": "light"
     },
     "output_type": "display_data"
    }
   ],
   "source": [
    "# show adj\n",
    "fig, ax = plt.subplots()\n",
    "ax.imshow(nx.adj_matrix(m.graph).todense(), aspect = 'auto')\n",
    "fig.show()\n",
    "# plot mags  \n",
    "fig, ax = plt.subplots()\n",
    "ax.plot(temps, mag)\n",
    "tax = ax.twinx()\n",
    "tax.plot(temps, sus, color = 'red', linestyle = 'dashed')\n",
    "ax.scatter(temps[idx], mag[idx], color = 'red')\n",
    "fig.show()\n",
    "print(m.t, m.H.base)"
   ]
  },
  {
   "cell_type": "code",
   "execution_count": 3,
   "metadata": {},
   "outputs": [
    {
     "name": "stderr",
     "output_type": "stream",
     "text": [
      "100%|██████████| 1000/1000 [00:00<00:00, 5153.33it/s]\n",
      "100%|██████████| 164/164 [00:00<00:00, 539079.82it/s]\n",
      "  0%|          | 0/164 [00:00<?, ?it/s]"
     ]
    },
    {
     "name": "stdout",
     "output_type": "stream",
     "text": [
      "done\n",
      "Found 164 states\n",
      "Delta =  0.58 sec\n",
      "Decoding..\n",
      "starting runs\n"
     ]
    },
    {
     "name": "stderr",
     "output_type": "stream",
     "text": [
      "100%|██████████| 164/164 [00:22<00:00,  4.83it/s]\n",
      "/home/casper/miniconda3/lib/python3.7/site-packages/ipykernel_launcher.py:9: RuntimeWarning: divide by zero encountered in log2\n",
      "  if __name__ == '__main__':\n",
      "/home/casper/miniconda3/lib/python3.7/site-packages/ipykernel_launcher.py:9: RuntimeWarning: invalid value encountered in multiply\n",
      "  if __name__ == '__main__':\n"
     ]
    },
    {
     "name": "stdout",
     "output_type": "stream",
     "text": [
      "Delta =  22.63 sec\n"
     ]
    },
    {
     "ename": "KeyError",
     "evalue": "(-1, -1, -1, -1, 1, 1, -1, 1, -1, 1, -1, 1)",
     "output_type": "error",
     "traceback": [
      "\u001b[0;31m---------------------------------------------------------------------------\u001b[0m",
      "\u001b[0;31mKeyError\u001b[0m                                  Traceback (most recent call last)",
      "\u001b[0;32m<ipython-input-3-498e8fccdeec>\u001b[0m in \u001b[0;36m<module>\u001b[0;34m\u001b[0m\n\u001b[1;32m      7\u001b[0m \u001b[0mrepeats\u001b[0m \u001b[0;34m=\u001b[0m \u001b[0mint\u001b[0m\u001b[0;34m(\u001b[0m\u001b[0;36m1e4\u001b[0m\u001b[0;34m)\u001b[0m\u001b[0;34m\u001b[0m\u001b[0;34m\u001b[0m\u001b[0m\n\u001b[1;32m      8\u001b[0m \u001b[0msnapshots\u001b[0m    \u001b[0;34m=\u001b[0m \u001b[0minfcy\u001b[0m\u001b[0;34m.\u001b[0m\u001b[0mgetSnapShots\u001b[0m\u001b[0;34m(\u001b[0m\u001b[0mm\u001b[0m\u001b[0;34m,\u001b[0m \u001b[0mnSamples\u001b[0m \u001b[0;34m=\u001b[0m \u001b[0mnSamples\u001b[0m\u001b[0;34m,\u001b[0m \u001b[0msteps\u001b[0m \u001b[0;34m=\u001b[0m \u001b[0msteps\u001b[0m\u001b[0;34m,\u001b[0m  \u001b[0mnThreads\u001b[0m \u001b[0;34m=\u001b[0m \u001b[0;34m-\u001b[0m\u001b[0;36m1\u001b[0m\u001b[0;34m)\u001b[0m\u001b[0;34m\u001b[0m\u001b[0;34m\u001b[0m\u001b[0m\n\u001b[0;32m----> 9\u001b[0;31m \u001b[0mconditional\u001b[0m\u001b[0;34m,\u001b[0m \u001b[0mpx\u001b[0m\u001b[0;34m,\u001b[0m \u001b[0mmi\u001b[0m \u001b[0;34m=\u001b[0m \u001b[0minfcy\u001b[0m\u001b[0;34m.\u001b[0m\u001b[0mrunMC\u001b[0m\u001b[0;34m(\u001b[0m\u001b[0mm\u001b[0m\u001b[0;34m,\u001b[0m \u001b[0msnapshots\u001b[0m\u001b[0;34m,\u001b[0m \u001b[0mdeltas\u001b[0m\u001b[0;34m,\u001b[0m \u001b[0mrepeats\u001b[0m\u001b[0;34m)\u001b[0m\u001b[0;34m\u001b[0m\u001b[0;34m\u001b[0m\u001b[0m\n\u001b[0m\u001b[1;32m     10\u001b[0m \u001b[0;34m\u001b[0m\u001b[0m\n\u001b[1;32m     11\u001b[0m \u001b[0mout\u001b[0m \u001b[0;34m=\u001b[0m \u001b[0mnp\u001b[0m\u001b[0;34m.\u001b[0m\u001b[0mzeros\u001b[0m\u001b[0;34m(\u001b[0m\u001b[0;34m(\u001b[0m\u001b[0mm\u001b[0m\u001b[0;34m.\u001b[0m\u001b[0mnNodes\u001b[0m\u001b[0;34m,\u001b[0m \u001b[0mdeltas\u001b[0m\u001b[0;34m)\u001b[0m\u001b[0;34m)\u001b[0m\u001b[0;34m\u001b[0m\u001b[0;34m\u001b[0m\u001b[0m\n",
      "\u001b[0;32m~/projects/information_impact/Toolbox/infcy.pyx\u001b[0m in \u001b[0;36mToolbox.infcy.runMC\u001b[0;34m()\u001b[0m\n",
      "\u001b[0;32m~/projects/information_impact/Toolbox/infcy.pyx\u001b[0m in \u001b[0;36mToolbox.infcy.runMC\u001b[0;34m()\u001b[0m\n",
      "\u001b[0;32m~/projects/information_impact/Toolbox/infcy.pyx\u001b[0m in \u001b[0;36mToolbox.infcy.mutualInformation\u001b[0;34m()\u001b[0m\n",
      "\u001b[0;31mKeyError\u001b[0m: (-1, -1, -1, -1, 1, 1, -1, 1, -1, 1, -1, 1)"
     ]
    }
   ],
   "source": [
    "from Toolbox import infcy\n",
    "from Utils.stats import KL\n",
    "nSamples = 1000\n",
    "steps    = 1000\n",
    "deltas   = 100\n",
    "NUDGE = .1\n",
    "repeats = int(1e4)\n",
    "snapshots    = infcy.getSnapShots(m, nSamples = nSamples, steps = steps,  nThreads = -1)\n",
    "conditional, px, mi = infcy.runMC(m, snapshots, deltas, repeats)\n",
    "\n",
    "out = np.zeros((m.nNodes, deltas))\n",
    "for node, idx in m.mapping.items():\n",
    "    m.nudges = {node : NUDGE}\n",
    "    c, p, n = infcy.runMC(m, snapshots, deltas, repeats)\n",
    "    out[idx, :] = KL(px, p).sum(-1)"
   ]
  },
  {
   "cell_type": "code",
   "execution_count": null,
   "metadata": {},
   "outputs": [],
   "source": []
  },
  {
   "cell_type": "code",
   "execution_count": null,
   "metadata": {},
   "outputs": [],
   "source": [
    "from matplotlib import style; style.use('seaborn-poster')\n",
    "\n",
    "colors = plt.cm.tab20(np.arange(0, m.nNodes))\n",
    "causal_auc =  np.trapz(out[:, deltas // 2 : ], axis = 1)\n",
    "mi_auc     = np.trapz(mi[:deltas // 2, :], axis = 0)\n",
    "fig, ax = plt.subplots()\n",
    "for node, idx in m.mapping.items():\n",
    "    ax.scatter(mi_auc[idx], causal_auc[idx], label = node, color = colors[idx])\n",
    "ax.legend()\n",
    "ax.set(xlabel = 'MI auc', ylabel = 'Causal impact auc')\n",
    "fig.show()\n",
    "\n",
    "fig, (ax1, ax2) = plt.subplots(1, 2)\n",
    "for node, idx in m.mapping.items():\n",
    "    ax1.plot(mi[:, idx], label = node, color = colors[idx])\n",
    "    ax2.plot(out[idx], label = node, color = colors[idx])\n",
    "ax2.legend(bbox_to_anchor = (1.05, 1))\n",
    "# ax2.set_xlim(deltas // 2, deltas // 2 + 3)\n",
    "# ax1.set_xlim(0, 3)\n",
    "ax1.set_title('MI'); ax2.set_title('Causal impact)')\n",
    "print(out.shape, mi.shape)\n",
    "\n",
    "print(m.nudges.base)"
   ]
  }
 ],
 "metadata": {
  "kernelspec": {
   "display_name": "Python 3",
   "language": "python",
   "name": "python3"
  },
  "language_info": {
   "codemirror_mode": {
    "name": "ipython",
    "version": 3
   },
   "file_extension": ".py",
   "mimetype": "text/x-python",
   "name": "python",
   "nbconvert_exporter": "python",
   "pygments_lexer": "ipython3",
   "version": "3.8.2"
  }
 },
 "nbformat": 4,
 "nbformat_minor": 2
}
