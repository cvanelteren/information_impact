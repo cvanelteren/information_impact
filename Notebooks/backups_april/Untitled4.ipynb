{
 "cells": [
  {
   "cell_type": "code",
   "execution_count": 2,
   "metadata": {},
   "outputs": [
    {
     "name": "stdout",
     "output_type": "stream",
     "text": [
      "spawning threads\n",
      "Magnetizing temperatures\n"
     ]
    },
    {
     "name": "stderr",
     "output_type": "stream",
     "text": [
      "0% [##############################] 100% | ETA: 00:00:000% [########################      ] 100% | ETA: 00:00:000% [##########################    ] 100% | ETA: 00:00:000% [###########################   ] 100% | ETA: 00:00:000% [###########################   ] 100% | ETA: 00:00:000% [#######################       ] 100% | ETA: 00:00:000% [#################             ] 100% | ETA: 00:00:00\n",
      "Total time elapsed: 00:00:00\n"
     ]
    },
    {
     "name": "stdout",
     "output_type": "stream",
     "text": [
      "Optimization terminated successfully.\n",
      "         Current function value: 0.486951\n",
      "         Iterations: 35\n",
      "         Function evaluations: 87\n",
      "Sigmoid fit params [-0.01604062 -0.97783391 -4.40565207  0.01304864]\n",
      "At T=[-32.7675]\n"
     ]
    },
    {
     "data": {
      "application/vnd.jupyter.widget-view+json": {
       "model_id": "01cf2c35382944bdbe6e150fa9d4082b",
       "version_major": 2,
       "version_minor": 0
      },
      "text/plain": [
       "Canvas(toolbar=Toolbar(toolitems=[('Home', 'Reset original view', 'home', 'home'), ('Back', 'Back to previous …"
      ]
     },
     "metadata": {},
     "output_type": "display_data"
    }
   ],
   "source": [
    "import sys; [sys.path.insert(0, i) for i in '../ ../PlexSim'.split()]\n",
    "from matplotlib.pyplot import subplots, close\n",
    "close('all')\n",
    "from matplotlib import style, rcParams; \n",
    "style.use('seaborn-poster')\n",
    "rcParams['figure.figsize'] = (5,5)\n",
    "\n",
    "from plexsim.models import *\n",
    "from Utils.plotting import addGraphPretty\n",
    "from Toolbox import infcy\n",
    "\n",
    "import numpy as np\n",
    "%matplotlib widget\n",
    "# define model\n",
    "g  = nx.path_graph(2, nx.DiGraph())\n",
    "# g  = nx.random_regular_graph(2, 20)\n",
    "# g = nx.random_graphs.erdos_renyi_graph(30, .2)\n",
    "# g.add_edge(0, 1, weight = .1)\n",
    "# g = nx.path_graph(2)\n",
    "settings = dict(graph = g,\\\n",
    "                updateType = 'async',\\\n",
    "                sampleSize = 1,\\\n",
    "               nudgeType = \"constant\",\\\n",
    "               alpha = 1, #bornholdt\\\n",
    "               t = 5,\\\n",
    "               beta = .5,\\\n",
    "               mu = .001,\\\n",
    "               )\n",
    "m = Potts(\\\n",
    "          **settings)\n",
    "temps = np.geomspace(0.01, 5, 30)\n",
    "mag, sus = m.magnetize(temps = temps, n = 10000, \\\n",
    "                       match = .5)\n",
    "run = dict(\n",
    "window  = 100,\n",
    "nSteps = 100_000,\n",
    "center =  1,\n",
    ")\n",
    "fig, ax = subplots()\n",
    "ax.scatter(temps, mag)\n",
    "ax.twinx().scatter(temps, sus, color = 'red')\n",
    "ax.axvline(m.t, linestyle = 'dashed')\n",
    "fig.show()"
   ]
  },
  {
   "cell_type": "code",
   "execution_count": 5,
   "metadata": {},
   "outputs": [
    {
     "name": "stderr",
     "output_type": "stream",
     "text": [
      "<ipython-input-5-1b27a90dc375>:10: RuntimeWarning: divide by zero encountered in log2\n",
      "  mi = infcy.runMC(m, snapshots, 10, 10_000)[-1]\n",
      "<ipython-input-5-1b27a90dc375>:10: RuntimeWarning: invalid value encountered in multiply\n",
      "  mi = infcy.runMC(m, snapshots, 10, 10_000)[-1]\n"
     ]
    }
   ],
   "source": [
    "nTrials = 1\n",
    "RR = []\n",
    "# for i in range(nTrials):\n",
    "#     m.reset()\n",
    "#     m.init_random()\n",
    "#     mi = infcy.reverseMC(m, **run)[-1]\n",
    "   \n",
    "#     RR.append(mi)\n",
    "snapshots = infcy.getSnapShots(m, 10_000)\n",
    "mi = infcy.runMC(m, snapshots, 10, 10_000)[-1]"
   ]
  },
  {
   "cell_type": "code",
   "execution_count": 6,
   "metadata": {},
   "outputs": [
    {
     "data": {
      "application/vnd.jupyter.widget-view+json": {
       "model_id": "fc688de04492472ca8120f22224f2a5d",
       "version_major": 2,
       "version_minor": 0
      },
      "text/plain": [
       "Canvas(toolbar=Toolbar(toolitems=[('Home', 'Reset original view', 'home', 'home'), ('Back', 'Back to previous …"
      ]
     },
     "metadata": {},
     "output_type": "display_data"
    },
    {
     "name": "stderr",
     "output_type": "stream",
     "text": [
      "No handles with labels found to put in legend.\n"
     ]
    },
    {
     "name": "stdout",
     "output_type": "stream",
     "text": [
      "node\tdegree\n",
      "0\t1\n",
      "1\t1\n"
     ]
    }
   ],
   "source": [
    "fig, ax = subplots()\n",
    "xr = np.arange(mi.shape[1])\n",
    "from matplotlib import pyplot as plt\n",
    "\n",
    "color = plt.cm.tab20(range(m.nNodes)) \n",
    "ax.plot(mi)\n",
    "ax.legend(bbox_to_anchor = (1., 1.)); fig.show()\n",
    "\n",
    "print('node\\tdegree')\n",
    "for k, v in g.degree():\n",
    "    print(f'{k}\\t{v}')"
   ]
  }
 ],
 "metadata": {
  "kernelspec": {
   "display_name": "Python 3",
   "language": "python",
   "name": "python3"
  },
  "language_info": {
   "codemirror_mode": {
    "name": "ipython",
    "version": 3
   },
   "file_extension": ".py",
   "mimetype": "text/x-python",
   "name": "python",
   "nbconvert_exporter": "python",
   "pygments_lexer": "ipython3",
   "version": "3.8.2"
  }
 },
 "nbformat": 4,
 "nbformat_minor": 4
}
