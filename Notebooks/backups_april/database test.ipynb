{
 "cells": [
  {
   "cell_type": "code",
   "execution_count": 34,
   "metadata": {},
   "outputs": [
    {
     "name": "stdout",
     "output_type": "stream",
     "text": [
      "Saving test.pickle\n",
      "240000166\n",
      "270900303\n",
      "227140271\n"
     ]
    }
   ],
   "source": [
    "import msgpack as mp, numpy as np\n",
    "from h5py import File\n",
    "\n",
    "import sys, os\n",
    "sys.path.insert(0,'../')\n",
    "\n",
    "from Utils import IO\n",
    "\n",
    "\n",
    "a = np.random.rand(100, 300,100)\n",
    "\n",
    "fn = 'test'\n",
    "\n"
   ]
  },
  {
   "cell_type": "code",
   "execution_count": 42,
   "metadata": {},
   "outputs": [
    {
     "name": "stdout",
     "output_type": "stream",
     "text": [
      "Saving test.pickle\n"
     ]
    }
   ],
   "source": [
    "\n",
    "with open(fn + '.mp', 'wb') as f:\n",
    "    mp.pack(a.tolist(), f)\n",
    "    \n",
    "with File(fn + '.h5', 'w') as f:\n",
    "    f.create_dataset('test', data = a, compression = 'gzip')\n",
    "IO.savePickle(fn, a)\n"
   ]
  },
  {
   "cell_type": "code",
   "execution_count": 43,
   "metadata": {},
   "outputs": [
    {
     "name": "stdout",
     "output_type": "stream",
     "text": [
      "240000166\n",
      "270900303\n",
      "227140271\n"
     ]
    }
   ],
   "source": [
    "print(os.path.getsize(fn + '.pickle') )\n",
    "print(os.path.getsize(fn + '.mp'))\n",
    "print(os.path.getsize(fn + '.h5') )"
   ]
  }
 ],
 "metadata": {
  "kernelspec": {
   "display_name": "Python 3",
   "language": "python",
   "name": "python3"
  },
  "language_info": {
   "codemirror_mode": {
    "name": "ipython",
    "version": 3
   },
   "file_extension": ".py",
   "mimetype": "text/x-python",
   "name": "python",
   "nbconvert_exporter": "python",
   "pygments_lexer": "ipython3",
   "version": "3.7.3"
  },
  "toc": {
   "base_numbering": 1,
   "nav_menu": {},
   "number_sections": true,
   "sideBar": true,
   "skip_h1_title": false,
   "title_cell": "Table of Contents",
   "title_sidebar": "Contents",
   "toc_cell": false,
   "toc_position": {},
   "toc_section_display": true,
   "toc_window_display": false
  }
 },
 "nbformat": 4,
 "nbformat_minor": 2
}
