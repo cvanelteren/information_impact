{
 "cells": [
  {
   "cell_type": "code",
   "execution_count": 60,
   "metadata": {},
   "outputs": [
    {
     "data": {
      "application/vnd.jupyter.widget-view+json": {
       "model_id": "82eafdf9265942d59274edf5b124304c",
       "version_major": 2,
       "version_minor": 0
      },
      "text/plain": [
       "Map(center=[52, 10], controls=(ZoomControl(options=['position', 'zoom_in_text', 'zoom_in_title', 'zoom_out_tex…"
      ]
     },
     "metadata": {},
     "output_type": "display_data"
    }
   ],
   "source": [
    "from time import sleep\n",
    "from ipyleaflet import *\n",
    "\n",
    "m = Map(center=(52, 10), zoom=8, basemap=basemaps.Hydda.Full)\n",
    "m\n",
    "\n"
   ]
  },
  {
   "cell_type": "code",
   "execution_count": 66,
   "metadata": {},
   "outputs": [
    {
     "data": {
      "application/vnd.jupyter.widget-view+json": {
       "model_id": "766585dd9535487f83232ce38e1968eb",
       "version_major": 2,
       "version_minor": 0
      },
      "text/plain": [
       "interactive(children=(IntSlider(value=0, description='i', max=10), Output()), _dom_classes=('widget-interact',…"
      ]
     },
     "metadata": {},
     "output_type": "display_data"
    }
   ],
   "source": [
    "mark = Marker(location=(51.5, 10))\n",
    "m.add_layer(mark)\n",
    "\n",
    "# Animation part\n",
    "nb_steps = 10\n",
    "step = 0.1\n",
    "start_location = mark.location\n",
    "end_location = (52.2, 10)\n",
    "from ipywidgets import interact, IntSlider\n",
    "\n",
    "@interact(i = IntSlider(min = 0, max = 10, value = 0))\n",
    "def update(i):\n",
    "    percentage_animation = i / nb_steps\n",
    "    \n",
    "    a = 1 - percentage_animation\n",
    "    b = percentage_animation\n",
    "    \n",
    "    mark.location = (a * start_location[0] + b * end_location[0], a * start_location[1] + b * end_location[1])\n",
    " "
   ]
  }
 ],
 "metadata": {
  "kernelspec": {
   "display_name": "Python 3",
   "language": "python",
   "name": "python3"
  },
  "language_info": {
   "codemirror_mode": {
    "name": "ipython",
    "version": 3
   },
   "file_extension": ".py",
   "mimetype": "text/x-python",
   "name": "python",
   "nbconvert_exporter": "python",
   "pygments_lexer": "ipython3",
   "version": "3.8.2"
  }
 },
 "nbformat": 4,
 "nbformat_minor": 4
}
