{
 "cells": [
  {
   "cell_type": "code",
   "execution_count": null,
   "metadata": {
    "scrolled": true
   },
   "outputs": [
    {
     "ename": "ValueError",
     "evalue": "too many values to unpack (expected 2)",
     "output_type": "error",
     "traceback": [
      "\u001b[0;31m----------------------------------------------------------------------\u001b[0m",
      "\u001b[0;31mValueError\u001b[0m                           Traceback (most recent call last)",
      "\u001b[0;31mValueError\u001b[0m: too many values to unpack (expected 2)"
     ]
    }
   ],
   "source": [
    "import sys\n",
    "\n",
    "sys.path.insert(0, '../')\n",
    "from scipy import stats\n",
    "import matplotlib.pyplot as plt, numpy as np\n",
    "from PlexSim.plexsim.models import *\n",
    "import scipy, networkx as nx, multiprocessing as mp\n",
    "from tqdm import tqdm_notebook as tqdm\n",
    "from Utils import IO\n",
    "from Toolbox import infcy\n",
    "# %matplotlib \n",
    "dataDir = '../Graphs' # relative path careful\n",
    "df    = IO.readCSV('{}/Graph_min1_1.csv'.format(dataDir), header = 0, index_col = 0)\n",
    "h     = IO.readCSV('{}/External_min1_1.csv'.format(dataDir), header = 0, index_col = 0)\n",
    "# df[abs(df) > 0] = 1\n",
    "graph   = nx.from_pandas_adjacency(df) \n",
    "\n",
    "# print(df)\n",
    "# attr = {node : \\\n",
    "#         dict(H = row['externalField']) for node, row in h.iterrows()}\n",
    "# nx.set_node_attributes(graph, attr)\n",
    "# graph.__version__ = .5\n",
    "\n",
    "\n",
    "# assert 0\n",
    "# graph = nx.random_graphs.erdos_renyi_graph(10, .25)\n",
    "# graph  = nx.path_graph(5, nx.DiGraph())\n",
    "# graph.add_edge(0, 0)\n",
    "# graph  = nx.path_graph(5, nx.DiGraph())\n",
    "n = 64\n",
    "# graph  = nx.path_graph(n, nx.DiGraph())\n",
    "# graph.add_edge(0, 0, weight = 1);\n",
    "# graph.add_edge(0, n + 1)\n",
    "# graph = nx.random_regular_graph(4,10)\n",
    "\n",
    "graph = nx.grid_2d_graph(n,n, periodic = 1)\n",
    "# graph = nx.DiGraph()\n",
    "# graph.add_node(0)\n",
    "# graph.add_edge(0, 1)\n",
    "# graph = nx.erdos_renyi_graph(10, .5)\n",
    "# graph = nx.path_graph(3)\n",
    "# graph = nx.grid_2d_graph(64,64, periodic = True)\n",
    "# graph = nx.random_regular_graph(3, 10)\n",
    "agentStates = np.arange(0, 2).tolist()\n",
    "model = Ising(graph, \\\n",
    "              updateType= 'sync',\\\n",
    "             )\n",
    "# temps = np.geomspace(.01, 5, 20)\n",
    "temps = np.linspace(0, 5, 15)\n",
    "mag, sus = model.matchMagnetization(temps, n = 1000)\n",
    "# print(mag)\n",
    "# mag  = (mag - mag.min())  / (mag.max() - mag.min())\n",
    "func = lambda x, a, b, c, d :  a / (1 + np.exp(b * (x - c))) + d # tanh(-a * x)* b + c\n",
    "a, b = scipy.optimize.curve_fit(func, temps, mag, maxfev = 10000)\n",
    "xx = np.linspace(0, max(temps))\n",
    "\n",
    "match = .8* max(mag)\n",
    "print(match, max(mag))\n",
    "# match = .9\n",
    "fr  = lambda x : abs(func(x, *a) - match)\n",
    "# rr  = scipy.optimize.root(fr, 0, \\\n",
    "#            9               options = dict(bounds = (0, np.inf)))\n",
    "rr = scipy.optimize.fmin(fr, 0)\n",
    "print(rr)\n",
    "fig, ax = plt.subplots();\n",
    "ax.scatter(temps,  mag)\n",
    "ax.plot(xx, func(xx, *a), 'k--')\n",
    "ax.scatter(rr, func(rr, *a), c = 'red')\n",
    "model.t = 1\n",
    "plt.setp(ax, **dict(xlabel = 'Temperature', ylabel = '<abs(M)>'))\n",
    "fig.show()\n",
    "\n",
    "fig, ax = plt.subplots()\n",
    "ax.plot(model.simulate(100).mean(1))\n",
    "fig.show()\n",
    "print(model.adj)"
   ]
  },
  {
   "cell_type": "code",
   "execution_count": 5,
   "metadata": {},
   "outputs": [
    {
     "name": "stderr",
     "output_type": "stream",
     "text": [
      "<ipython-input-5-d4761de47248>:47: RuntimeWarning: divide by zero encountered in log2\n",
      "  px, mi = infcy.mutualInformation(pconditional, pstates)\n",
      "<ipython-input-5-d4761de47248>:47: RuntimeWarning: invalid value encountered in multiply\n",
      "  px, mi = infcy.mutualInformation(pconditional, pstates)\n",
      "<ipython-input-5-d4761de47248>:48: UserWarning: Matplotlib is currently using module://ipykernel.pylab.backend_inline, which is a non-GUI backend, so cannot show the figure.\n",
      "  fig, ax=  plt.subplots(); ax.plot(res.mean(1)) ; fig.show()\n",
      "<ipython-input-5-d4761de47248>:83: UserWarning: Matplotlib is currently using module://ipykernel.pylab.backend_inline, which is a non-GUI backend, so cannot show the figure.\n",
      "  fig.show()\n"
     ]
    },
    {
     "name": "stdout",
     "output_type": "stream",
     "text": [
      "[('0', 1), ('1', 1)]\n"
     ]
    },
    {
     "data": {
      "image/png": "[encoded data removed]",
      "text/plain": [
       "<Figure size 360x360 with 1 Axes>"
      ]
     },
     "metadata": {
      "needs_background": "light"
     },
     "output_type": "display_data"
    }
   ],
   "source": [
    "# model.nudges = {\"2\" : 1}\n",
    "model.nudges = {}\n",
    "model.reset()\n",
    "\n",
    "# model.t = rr\n",
    "# print(model.t, rr)\n",
    "res = model.simulate(10000)\n",
    "nWindow = 20\n",
    "binned = np.array([np.roll(res, i, axis = 0)[:nWindow] for i in range(len(res))])\n",
    "\n",
    "# create probability distribution of states\n",
    "from collections import Counter\n",
    "\n",
    "\n",
    "pstates = Counter((tuple(i) for i in binned[:, -1]))\n",
    "z       = sum(list(pstates.values()))\n",
    "pstates = {i : j / z for i, j in pstates.items()}\n",
    "\n",
    "pconditional = {}\n",
    "# collect conditional trials\n",
    "for b in binned:\n",
    "    target = tuple(b[-1])\n",
    "    tobebinned = b\n",
    "    \n",
    "    pconditional[target] = pconditional.get(target, ()) + (tobebinned,)\n",
    "\n",
    "mapper = {i : idx for idx, i in enumerate(model.agentStates)}\n",
    "from itertools import product\n",
    "\n",
    "mi = np.zeros((model.nNodes, nWindow), dtype = float)\n",
    "for state in pstates:\n",
    "    tobebinned = np.array([i for i in pconditional.get(state)])\n",
    "\n",
    "    nTrials, deltas, nnodes = tobebinned.shape\n",
    "    \n",
    "    cNode = np.zeros((deltas, nnodes, len(agentStates)), dtype = float)\n",
    "    for (delta, node) in product(*map(range, (deltas, nnodes))):\n",
    "        tmp = tobebinned[:, delta, node]\n",
    "        tmp = Counter(tmp)\n",
    "        z   = sum(list(tmp.values()))\n",
    "        tmp = {i : j / z for i, j in tmp.items()}\n",
    "        for nodestate, val in tmp.items():\n",
    "            idx = mapper[nodestate]\n",
    "            cNode[delta, node, idx] += val # * 1 / nTrials\n",
    "#     print(cNode); assert 0\n",
    "    pconditional[state]  = cNode\n",
    "px, mi = infcy.mutualInformation(pconditional, pstates)\n",
    "fig, ax=  plt.subplots(); ax.plot(res.mean(1)) ; fig.show()\n",
    "\n",
    "from matplotlib import style\n",
    "style.use('seaborn-poster')\n",
    "%matplotlib inline\n",
    "fig, right = plt.subplots(figsize = (5,5))\n",
    "# left.plot(res)\n",
    "# middle.plot(binned.mean(1))\n",
    "xr = np.arange(nWindow)[::-1] * - 1\n",
    "colors = plt.cm.tab20(range(model.nNodes))\n",
    "mi = (mi - mi.min()) / (mi.max() - mi.min())\n",
    "for i in range(model.nNodes):\n",
    "    right.plot(xr,  mi[:, i], color = colors[i],\\\n",
    "              linestyle = 'solid', markersize = 100) \n",
    "    right.scatter(xr, mi[:, i], color = colors[i],\\\n",
    "                 s = 70)\n",
    "    right.set_xlim(-20, 0)\n",
    "# right.set_yscale('log')\n",
    "inax = right.inset_axes([0, .5, .5, .5])\n",
    "from Utils.plotting import addGraphPretty\n",
    "theta = np.pi * 2 / model.nNodes\n",
    "positions = {node : (np.cos(theta * idx), np.sin(theta * idx)) for node, idx in model.mapping.items()}\n",
    "addGraphPretty(model.graph, ax = inax, positions = positions,\\\n",
    "               colors = colors,\\\n",
    "               circle = dict(radius = .3),\\\n",
    "              annotate = dict(fontsize = 60))\n",
    "inax.axis('off')\n",
    "inax.invert_xaxis()\n",
    "right.set_ylabel('$I(s_i^{t_0 + t}; S^{t_0})$')\n",
    "right.set_xlabel('t')\n",
    "# right.set_yticks((0, 1))\n",
    "# fig.savefig('example_reverse.svg',\\\n",
    "#            bbox_inches = 'tight',\\\n",
    "#            pad_inches = 0, transparent = 1)\n",
    "print(nx.degree(model.graph))\n",
    "fig.show() "
   ]
  },
  {
   "cell_type": "code",
   "execution_count": 10,
   "metadata": {},
   "outputs": [
    {
     "data": {
      "text/plain": [
       "array([[2.77141006e-04, 9.15422543e-05],\n",
       "       [3.97107392e-04, 1.47294448e-04],\n",
       "       [1.47553093e-04, 8.73753426e-06],\n",
       "       [1.38928305e-05, 1.21393380e-04],\n",
       "       [4.72922030e-04, 4.17241282e-05],\n",
       "       [6.12267832e-05, 4.31223959e-05],\n",
       "       [4.46481888e-05, 5.20482848e-05],\n",
       "       [4.40859131e-05, 1.00696674e-04],\n",
       "       [5.74304992e-05, 2.88443033e-05],\n",
       "       [1.58819309e-04, 2.52632984e-04],\n",
       "       [6.22545500e-05, 2.25209808e-04],\n",
       "       [0.00000000e+00, 1.77489044e-04],\n",
       "       [1.19475058e-04, 6.68934826e-05],\n",
       "       [2.44024691e-04, 7.20689371e-05],\n",
       "       [5.00898742e-04, 7.46444621e-05],\n",
       "       [8.74782407e-04, 5.31690077e-04],\n",
       "       [3.95025310e-03, 3.21161917e-03],\n",
       "       [2.75645202e-02, 2.47646451e-02],\n",
       "       [1.41548737e-01, 1.36019911e-01],\n",
       "       [1.00000000e+00, 9.99985255e-01]])"
      ]
     },
     "execution_count": 10,
     "metadata": {},
     "output_type": "execute_result"
    }
   ],
   "source": [
    "mi"
   ]
  },
  {
   "cell_type": "code",
   "execution_count": 66,
   "metadata": {},
   "outputs": [
    {
     "name": "stdout",
     "output_type": "stream",
     "text": [
      "{2: [0, 0], 0: [0, 0], 1: [1, 1, 0, 1]}\n",
      "None\n"
     ]
    },
    {
     "data": {
      "text/plain": [
       "array([[0, 1, 0],\n",
       "       [0, 1, 0],\n",
       "       [0, 1, 0],\n",
       "       [0, 1, 0],\n",
       "       [0, 1, 0],\n",
       "       [0, 1, 0],\n",
       "       [0, 1, 0],\n",
       "       [0, 1, 0],\n",
       "       [0, 1, 0],\n",
       "       [0, 1, 0]])"
      ]
     },
     "execution_count": 66,
     "metadata": {},
     "output_type": "execute_result"
    }
   ],
   "source": [
    "model.reset()\n",
    "print(model.rules)\n",
    "model.simulate(10)"
   ]
  },
  {
   "cell_type": "code",
   "execution_count": null,
   "metadata": {},
   "outputs": [],
   "source": []
  },
  {
   "cell_type": "code",
   "execution_count": 3,
   "metadata": {},
   "outputs": [
    {
     "ename": "NameError",
     "evalue": "name 'model' is not defined",
     "output_type": "error",
     "traceback": [
      "\u001b[0;31m---------------------------------------------------------------------------\u001b[0m",
      "\u001b[0;31mNameError\u001b[0m                                 Traceback (most recent call last)",
      "\u001b[0;32m<ipython-input-3-c657f2e4a79b>\u001b[0m in \u001b[0;36m<module>\u001b[0;34m\u001b[0m\n\u001b[0;32m----> 1\u001b[0;31m \u001b[0md\u001b[0m \u001b[0;34m=\u001b[0m \u001b[0mmodel\u001b[0m\u001b[0;34m.\u001b[0m\u001b[0msimuate\u001b[0m\u001b[0;34m(\u001b[0m\u001b[0;36m10\u001b[0m\u001b[0;34m)\u001b[0m\u001b[0;34m.\u001b[0m\u001b[0mbase\u001b[0m\u001b[0;34m\u001b[0m\u001b[0;34m\u001b[0m\u001b[0m\n\u001b[0m\u001b[1;32m      2\u001b[0m \u001b[0mnp\u001b[0m\u001b[0;34m.\u001b[0m\u001b[0mdigitize\u001b[0m\u001b[0;34m(\u001b[0m\u001b[0md\u001b[0m\u001b[0;34m,\u001b[0m \u001b[0mmodel\u001b[0m\u001b[0;34m.\u001b[0m\u001b[0magentStates\u001b[0m\u001b[0;34m)\u001b[0m\u001b[0;34m\u001b[0m\u001b[0;34m\u001b[0m\u001b[0m\n",
      "\u001b[0;31mNameError\u001b[0m: name 'model' is not defined"
     ]
    }
   ],
   "source": [
    "\n"
   ]
  },
  {
   "cell_type": "code",
   "execution_count": null,
   "metadata": {},
   "outputs": [],
   "source": [
    "# print(model.rules)"
   ]
  },
  {
   "cell_type": "code",
   "execution_count": null,
   "metadata": {},
   "outputs": [],
   "source": [
    "model.reset()\n",
    "\n",
    "model.t = rr\n",
    "# print(model.t, rr)\n",
    "res = model.simulate(1000)\n",
    "nWindow = 20\n",
    "binned = np.array([np.roll(res, i, axis = 0)[:nWindow] for i in range(len(res))])\n",
    "\n",
    "# create probability distribution of states\n",
    "from collections import Counter\n",
    "\n",
    "\n",
    "pstates = Counter((tuple(i) for i in binned[:, -1]))\n",
    "z       = sum(list(pstates.values()))\n",
    "pstates = {i : j / z for i, j in pstates.items()}\n",
    "\n",
    "pconditional = {}\n",
    "# collect conditional trials\n",
    "for b in binned:\n",
    "    target = tuple(b[-1])\n",
    "    tobebinned = b\n",
    "    \n",
    "    pconditional[target] = pconditional.get(target, ()) + (tobebinned,)\n",
    "\n",
    "print(model.agentStates)\n",
    "mapper = {i : idx for idx, i in enumerate(model.agentStates)}\n",
    "from itertools import product\n",
    "\n",
    "mi = np.zeros((model.nNodes, nWindow), dtype = float)\n",
    "for state in pstates:\n",
    "    tobebinned = np.array([i for i in pconditional.get(state)])\n",
    "\n",
    "    nTrials, deltas, nnodes = tobebinned.shape\n",
    "    \n",
    "    cNode = np.zeros((deltas, nnodes, len(agentStates)), dtype = float)\n",
    "    for (delta, node) in product(*map(range, (deltas, nnodes))):\n",
    "        tmp = tobebinned[:, delta, node]\n",
    "        tmp = Counter(tmp)\n",
    "        z   = sum(list(tmp.values()))\n",
    "        tmp = {i : j / z for i, j in tmp.items()}\n",
    "        for nodestate, val in tmp.items():\n",
    "            idx = mapper[nodestate]\n",
    "            cNode[delta, node, idx] += val # * 1 / nTrials\n",
    "#     print(cNode); assert 0\n",
    "    pconditional[state]  = cNode\n",
    "px, mi = infcy.mutualInformation(pconditional, pstates)\n",
    "fig, ax=  plt.subplots(); ax.plot(res.mean(1)) \n",
    "fig.show()"
   ]
  },
  {
   "cell_type": "code",
   "execution_count": null,
   "metadata": {
    "scrolled": true
   },
   "outputs": [],
   "source": [
    "from matplotlib import style\n",
    "style.use('seaborn-poster')\n",
    "%matplotlib inline\n",
    "fig, right = plt.subplots(figsize = (5,5))\n",
    "# left.plot(res)\n",
    "# middle.plot(binned.mean(1))\n",
    "xr = np.arange(nWindow)[::-1] * - 1\n",
    "colors = plt.cm.tab20(range(model.nNodes))\n",
    "mi = (mi - mi.min()) / (mi.max() - mi.min())\n",
    "for i in range(model.nNodes):\n",
    "    right.plot(xr,  mi[:, i], color = colors[i],\\\n",
    "              linestyle = 'solid', markersize = 100) \n",
    "    right.scatter(xr, mi[:, i], color = colors[i],\\\n",
    "                 s = 70)\n",
    "    right.set_xlim(-20, 0)\n",
    "    \n",
    "inax = right.inset_axes([0, .5, .5, .5])\n",
    "from Utils.plotting import addGraphPretty\n",
    "theta = np.pi * 2 / model.nNodes\n",
    "positions = {node : (np.cos(theta * idx), np.sin(theta * idx)) for node, idx in model.mapping.items()}\n",
    "addGraphPretty(model.graph, ax = inax, positions = positions,\\\n",
    "               colors = colors,\\\n",
    "               circle = dict(radius = .3),\\\n",
    "              annotate = dict(fontsize = 60))\n",
    "inax.axis('off')\n",
    "inax.invert_xaxis()\n",
    "right.set_ylabel('$I(s_i^{t_0 + t}; S^{t_0})$')\n",
    "right.set_xlabel('t')\n",
    "# right.set_yticks((0, 1))\n",
    "# fig.savefig('example_reverse.svg',\\\n",
    "#            bbox_inches = 'tight',\\\n",
    "#            pad_inches = 0, transparent = 1)\n",
    "print(nx.degree(model.graph))\n",
    "fig.show() "
   ]
  },
  {
   "cell_type": "code",
   "execution_count": null,
   "metadata": {},
   "outputs": [],
   "source": [
    "# plot mi\n",
    "fig, ax = subplots(); ax.plot(H);\n",
    "# ax.set_yscale('log')\n",
    "# ax.set_xscale('log')\n",
    "\n",
    "yy = res.mean(1)\n",
    "N  = 5\n",
    "xx = convolve(yy, np.ones((N,))/N, mode='valid')\n",
    "fig, ax = subplots(); ax.plot(xx) #\n",
    "fig, ax = subplots()\n",
    "for node in model.nodeIDs:\n",
    "    deg = len(model.edgeData[node])\n",
    "    ax.scatter(deg, H[-2, node], label = node)\n",
    "ax.legend(bbox_to_anchor = (1, 1))\n",
    "   \n",
    "fig, ax = subplots()\n",
    "ax.hist(list(dict(nx.degree(graph)).values()))\n",
    "setp(ax, **dict(xlabel = 'degree', ylabel = 'freq'));\n",
    "fig, ax = subplots(); ax.hist(cc.values())\n",
    "show()\n",
    "\n",
    "print(res.dtype)"
   ]
  },
  {
   "cell_type": "code",
   "execution_count": null,
   "metadata": {},
   "outputs": [],
   "source": [
    "# showing hellinger distance over time\n",
    "colors = cm.tab20(arange(model.nNodes))\n",
    "hd = lambda x, y: linalg.norm( sqrt(x) - sqrt (y), axis = -1) / sqrt(2)\n",
    "d = zeros(H.shape)\n",
    "for key, value in cond.items():\n",
    "    x = value[..., None] / cc[key]\n",
    "    d += hd(x,  1 - x)\n",
    "d /= len(cond)\n",
    "\n",
    "\n",
    "fig, ax = subplots(); \n",
    "[ax.plot(i, color = c) for i, c in zip(d.T, colors)]\n",
    "ax.set_title('hellinger distance over time')\n",
    "ax.set_xlim(len(x) - 15, len(x))"
   ]
  },
  {
   "cell_type": "code",
   "execution_count": null,
   "metadata": {},
   "outputs": [],
   "source": [
    "from scipy import optimize\n",
    "func = lambda x, a, b, c, d, e, f : a + b*exp(-c*x) + d * exp(-e * (x-f))\n",
    "f2   = lambda x, a, b : func(x, *a) - b\n",
    "fig, ax = subplots(figsize = (10, 10))\n",
    "s = 0\n",
    "idt = zeros((model.nNodes))\n",
    "theta = 1e-3\n",
    "colors = cm.tab20(arange(model.nNodes))\n",
    "for idx, y in enumerate(H.T):\n",
    "    y = y[::-1]\n",
    "    x = arange(len(y))\n",
    "    xx = linspace(0, 20, 1000)\n",
    "    try:\n",
    "        a, b = optimize.curve_fit(func, x,  y, maxfev = 100000) # fit\n",
    "        \n",
    "        ax.plot(xx, func(xx, *a), '--', color = colors[idx], alpha = 1) # plot fit\n",
    "        \n",
    "        findThis = a[0] + theta\n",
    "        r  = optimize.root(f2,  x0 = 0, args = (a, findThis))\n",
    "        rot = r.x if findThis < max(y) else 0\n",
    "\n",
    "        print(a[0], rot, func(rot, *a))\n",
    "        idt[idx] = rot\n",
    "        ax.scatter(rot, func(rot, *a), color = colors[idx], s = 150, marker = '^', label = idx) # plot root 1\n",
    "        s += 1\n",
    "    except Exception as e : print(e)\n",
    "    ax.scatter(x, y, color = colors[idx], s = 40)\n",
    "ax.legend()\n",
    "print(s / model.nNodes * 100)\n",
    "ax.set_xlim(0,40)\n",
    "ax.set_xlim(0, 3)\n",
    "# ax.set_ylim(0, 1)\n",
    "# ax.set_xscale('log')\n",
    "# ax.set_yscale('log')\n",
    "\n",
    "show()"
   ]
  },
  {
   "cell_type": "code",
   "execution_count": null,
   "metadata": {},
   "outputs": [],
   "source": [
    "imshow(log(H.T))\n"
   ]
  },
  {
   "cell_type": "code",
   "execution_count": null,
   "metadata": {},
   "outputs": [],
   "source": [
    "fig, ax = subplots()\n",
    "for node, deg in model.graph.degree():\n",
    "    idx = model.mapping[node]\n",
    "    ax.scatter(deg, idt[idx], c = colors[idx])\n",
    "# ax.set_ylim(0, -5)\n",
    "# axx.set_ylim(0, -5)\n",
    "# ax.set_yscale('log')\n",
    "\n"
   ]
  },
  {
   "cell_type": "code",
   "execution_count": null,
   "metadata": {},
   "outputs": [],
   "source": [
    "model.nudges\n"
   ]
  }
 ],
 "metadata": {
  "kernelspec": {
   "display_name": "Python 3",
   "language": "python",
   "name": "python3"
  },
  "language_info": {
   "codemirror_mode": {
    "name": "ipython",
    "version": 3
   },
   "file_extension": ".py",
   "mimetype": "text/x-python",
   "name": "python",
   "nbconvert_exporter": "python",
   "pygments_lexer": "ipython3",
   "version": "3.8.2"
  }
 },
 "nbformat": 4,
 "nbformat_minor": 4
}
