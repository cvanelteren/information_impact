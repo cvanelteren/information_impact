{
 "cells": [
  {
   "cell_type": "markdown",
   "metadata": {},
   "source": [
    "# Axelrod model \n",
    "\n",
    "- Used for modeling voter behavior. \n",
    "\n",
    "Consists of a graph $G = (V, E)$ where each $x \\in V$ is characterized by a vector $X(x)$ of $F$ cultural features, each assuming $q$ possible states. \n",
    "\n",
    "The system $S = \\{ s_1 (x), s_2(x), \\dots, s_n(x)\\}$ consists of nodes where each node is described as a set of features $F$ that each can consist of $q$ different microstates. Namely,\n",
    "\n",
    "\\[\n",
    "s_i (x) =     \\begin{cases}\n",
    "              F_1 = \\{q_1, \\dots q_n\\} \\\\\n",
    "              ... \\\\\n",
    "              F_n = \\{q_1', \\dots q_n' \\}\\\\\n",
    "              \\end{cases} \n",
    "\\]\n",
    "\n",
    "The state dynamics involves a three step process\n",
    "\n",
    "- Pick an edge $e  = (x, y) \\in E $ at random \n",
    "- Get the fraction of overlap of states between $x$ and $y$\n",
    "- Update the node according to the degree over mismatch. \n",
    "\n",
    "A node, therefore, mimics the state of the other enode in case of an update. At some time $t$ this result in the graph being partioned into certain feature groups. \n",
    "\n",
    "## Mismatch\n",
    "\n",
    "\\[\n",
    "F(x, y) = \\frac{1}{F} \\sum_{i = 1}^F s_i(x) = s_j(x)\n",
    "\\]"
   ]
  },
  {
   "cell_type": "code",
   "execution_count": null,
   "metadata": {},
   "outputs": [],
   "source": []
  }
 ],
 "metadata": {
  "kernelspec": {
   "display_name": "Python 3",
   "language": "python",
   "name": "python3"
  },
  "language_info": {
   "codemirror_mode": {
    "name": "ipython",
    "version": 3
   },
   "file_extension": ".py",
   "mimetype": "text/x-python",
   "name": "python",
   "nbconvert_exporter": "python",
   "pygments_lexer": "ipython3",
   "version": "3.7.1"
  },
  "latex_envs": {
   "LaTeX_envs_menu_present": false,
   "autoclose": false,
   "autocomplete": false,
   "bibliofile": "library.bib",
   "cite_by": "apalike",
   "current_citInitial": 1,
   "eqLabelWithNumbers": false,
   "eqNumInitial": 1,
   "hotkeys": {
    "equation": "Ctrl-E",
    "itemize": "Ctrl-I"
   },
   "labels_anchors": false,
   "latex_user_defs": false,
   "report_style_numbering": false,
   "user_envs_cfg": false
  }
 },
 "nbformat": 4,
 "nbformat_minor": 2
}
