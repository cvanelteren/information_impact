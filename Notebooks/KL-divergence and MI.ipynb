{
 "cells": [
  {
   "cell_type": "markdown",
   "metadata": {},
   "source": [
    "\n",
    "\\begin{aligned}\n",
    "D_{kl} (p(x, y) \\mid \\mid p(x) p(y)) &=  E_{p(x,y)} \\left[ \\log( \\frac{p(x,y)}{p(x) p(y)} ) \\right]   \\\\\n",
    "&= \\sum_{x,y} p(x,y) \\log ( \\frac{p(x,y)} {p(x) p(y)} )\\\\\n",
    "&= \\sum_{y} p(y) \\sum_x p(x \\mid y) \\log(p(x\\mid y)) - \\sum_x p(x) \\log(p(x))\\\\\n",
    "&= E_y [\\log(p(x \\mid y)] - E_x [\\log(p(x))]\\\\\n",
    "&= H(X) - H(X \\mid Y)\\\\\n",
    "\\end{aligned}"
   ]
  },
  {
   "cell_type": "markdown",
   "metadata": {},
   "source": [
    "\\begin{aligned}\n",
    "E_y \\left [ D_{kl} (p(x \\mid y) \\mid \\mid p(x))\\right ] &= E_y \\left[ E_{p(x \\mid y)} \\left[\\log \\frac{p(x \\mid y)} {p(x)}\\right]\\right]\\\\\n",
    "&= \\sum_y p(y) \\sum_x p(x \\mid y)  \\log \\frac{p(x \\mid y)} {p(x)} \\\\\n",
    "&= \\sum_y p(y) \\sum_x p(x \\mid y)\\log(p(x\\mid y) - \\sum_{x,y} p(y) p(x \\mid y) \\log(p(x))\\\\\n",
    "&= H(X) - H(X \\mid Y)\\\\\n",
    "&= I(X;Y)\n",
    "\\end{aligned}\n",
    "\n",
    "Where $H(X) = -\\sum_x p(x) \\log p(x)$"
   ]
  },
  {
   "cell_type": "markdown",
   "metadata": {},
   "source": [
    "$$\\sum_y p(y) \\sum_x p(x) = \\sum_{x,y} p(y) p(x)$$"
   ]
  },
  {
   "cell_type": "code",
   "execution_count": 3,
   "metadata": {},
   "outputs": [
    {
     "name": "stdout",
     "output_type": "stream",
     "text": [
      "36 48\n"
     ]
    }
   ],
   "source": []
  }
 ],
 "metadata": {
  "kernelspec": {
   "display_name": "Python 3",
   "language": "python",
   "name": "python3"
  },
  "language_info": {
   "codemirror_mode": {
    "name": "ipython",
    "version": 3
   },
   "file_extension": ".py",
   "mimetype": "text/x-python",
   "name": "python",
   "nbconvert_exporter": "python",
   "pygments_lexer": "ipython3",
   "version": "3.7.1"
  }
 },
 "nbformat": 4,
 "nbformat_minor": 2
}
