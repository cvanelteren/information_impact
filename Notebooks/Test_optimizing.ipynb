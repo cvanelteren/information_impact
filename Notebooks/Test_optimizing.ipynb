{
 "cells": [
  {
   "cell_type": "code",
   "execution_count": 2,
   "metadata": {},
   "outputs": [
    {
     "name": "stderr",
     "output_type": "stream",
     "text": [
      "\r",
      "  0%|          | 0/50 [00:00<?, ?it/s]"
     ]
    },
    {
     "name": "stdout",
     "output_type": "stream",
     "text": [
      "\n",
      "Computing mag per t\n"
     ]
    },
    {
     "name": "stderr",
     "output_type": "stream",
     "text": [
      "100%|██████████| 50/50 [00:01<00:00, 31.32it/s]\n"
     ]
    }
   ],
   "source": [
    "import networkx as nx, numpy as np\n",
    "import sys\n",
    "sys.path.insert(0, '../')\n",
    "from Models import fastIsing\n",
    "\n",
    "g = nx.erdos_renyi_graph(10, .25)\n",
    "g = nx.duplication_divergence_graph(10, .25)\n",
    "# g = nx.path_graph(5)\n",
    "print(g)\n",
    "m = fastIsing.Ising(graph = g, magSide = 'neg', updateType = 'async')\n",
    "\n",
    "temps = np.linspace(0, 5)\n",
    "samps = m.matchMagnetization(temps)\n"
   ]
  },
  {
   "cell_type": "code",
   "execution_count": 3,
   "metadata": {},
   "outputs": [
    {
     "name": "stderr",
     "output_type": "stream",
     "text": [
      "/home/casper/miniconda3/lib/python3.7/site-packages/ipykernel_launcher.py:14: UserWarning: Matplotlib is currently using module://ipykernel.pylab.backend_inline, which is a non-GUI backend, so cannot show the figure.\n",
      "  \n"
     ]
    }
   ],
   "source": [
    "from matplotlib import pyplot as plt\n",
    "from Toolbox import infcy\n",
    "from scipy import optimize\n",
    "def sig(x, a, b, c, d):\n",
    "    return a / (1 + np.exp(- b * (x - c))) + d\n",
    "c, v = optimize.curve_fit(sig, temps, samps[0], maxfev = int(1e6))\n",
    "\n",
    "x0 = optimize.fsolve(lambda x: sig(x, *c) - .8, 0)\n",
    "xr = np.linspace(0, temps.max(), 100)\n",
    "fig, ax = plt.subplots()\n",
    "ax.scatter(temps, samps[0])\n",
    "ax.plot(xr, sig(xr, *c))\n",
    "ax.axvline(x0)\n",
    "fig.show()\n",
    "m.t = x0\n"
   ]
  },
  {
   "cell_type": "code",
   "execution_count": 4,
   "metadata": {},
   "outputs": [
    {
     "name": "stderr",
     "output_type": "stream",
     "text": [
      "100%|██████████| 10000/10000 [00:05<00:00, 1836.32it/s]\n",
      "100%|██████████| 157/157 [00:00<00:00, 352142.10it/s]\n",
      "  0%|          | 0/157 [00:00<?, ?it/s]"
     ]
    },
    {
     "name": "stdout",
     "output_type": "stream",
     "text": [
      "done\n",
      "Found 157 states\n",
      "Delta =  5.90 sec\n",
      "Decoding..\n",
      "starting runs\n"
     ]
    },
    {
     "name": "stderr",
     "output_type": "stream",
     "text": [
      "100%|██████████| 157/157 [00:25<00:00,  5.96it/s]"
     ]
    },
    {
     "name": "stdout",
     "output_type": "stream",
     "text": [
      "Delta =  25.72 sec\n"
     ]
    },
    {
     "name": "stderr",
     "output_type": "stream",
     "text": [
      "\n",
      "/home/casper/miniconda3/lib/python3.7/site-packages/ipykernel_launcher.py:5: RuntimeWarning: divide by zero encountered in log2\n",
      "  \"\"\"\n",
      "/home/casper/miniconda3/lib/python3.7/site-packages/ipykernel_launcher.py:5: RuntimeWarning: invalid value encountered in multiply\n",
      "  \"\"\"\n"
     ]
    }
   ],
   "source": [
    "deltas = 30\n",
    "repeats = int(1e4)\n",
    "nSamples = int(1e4)\n",
    "snapshots = infcy.getSnapShots(m, nSamples = nSamples, steps = 1000)\n",
    "cpx, px, mi = infcy.runMC(m, snapshots, deltas, repeats)"
   ]
  },
  {
   "cell_type": "code",
   "execution_count": 6,
   "metadata": {},
   "outputs": [
    {
     "name": "stdout",
     "output_type": "stream",
     "text": [
      "(30, 10) (10,)\n",
      "0.9113103865526871 [0.09067134 0.29303841 0.08495051 0.8696517  0.08924539 0.91131039\n",
      " 0.60326587 0.08811663 0.78972729 0.31433915]\n"
     ]
    },
    {
     "name": "stderr",
     "output_type": "stream",
     "text": [
      "/home/casper/miniconda3/lib/python3.7/site-packages/ipykernel_launcher.py:25: UserWarning: Matplotlib is currently using module://ipykernel.pylab.backend_inline, which is a non-GUI backend, so cannot show the figure.\n"
     ]
    },
    {
     "data": {
      "image/png": "[encoded data removed]",
      "text/plain": [
       "<Figure size 432x288 with 1 Axes>"
      ]
     },
     "metadata": {
      "needs_background": "light"
     },
     "output_type": "display_data"
    }
   ],
   "source": [
    "from Utils.plotting import fit\n",
    "from Utils.stats import aucs\n",
    "def dex (x,  a, b, c, d, e, f, g):\n",
    "    return a + b * np.exp(- c * (x - d)) + e * np.exp(- f * (x - g))\n",
    "\n",
    "params = dict(\\\n",
    "             maxfev = int(1e6),\\\n",
    "             bounds = (0, np.inf))\n",
    "AUCS = aucs(mi.T, dex, params = params)\n",
    "\n",
    "print(mi.shape, AUCS.shape)\n",
    "node = np.argmax(AUCS)\n",
    "print(AUCS[node], AUCS)\n",
    "\n",
    "\n",
    "colors = plt.cm.tab20(range(m.nNodes))\n",
    "fig, ax = plt.subplots()\n",
    "for idx, (c, i) in enumerate(\\\n",
    "                             zip(colors, mi.T)):\n",
    "    \n",
    "    lab =  f'{m.rmapping[idx]}'\n",
    "    lab += '*' if idx == node else ''\n",
    "    ax.plot(i, color = c, label = lab)\n",
    "ax.legend()\n",
    "fig.show()"
   ]
  },
  {
   "cell_type": "code",
   "execution_count": null,
   "metadata": {},
   "outputs": [],
   "source": []
  },
  {
   "cell_type": "code",
   "execution_count": 7,
   "metadata": {},
   "outputs": [
    {
     "name": "stderr",
     "output_type": "stream",
     "text": [
      "100%|██████████| 157/157 [00:00<00:00, 415461.03it/s]\n",
      "  0%|          | 0/157 [00:00<?, ?it/s]"
     ]
    },
    {
     "name": "stdout",
     "output_type": "stream",
     "text": [
      "Decoding..\n",
      "starting runs\n"
     ]
    },
    {
     "name": "stderr",
     "output_type": "stream",
     "text": [
      "100%|██████████| 157/157 [00:26<00:00,  5.59it/s]\n",
      "/home/casper/miniconda3/lib/python3.7/site-packages/ipykernel_launcher.py:1: RuntimeWarning: divide by zero encountered in log2\n",
      "  \"\"\"Entry point for launching an IPython kernel.\n",
      "/home/casper/miniconda3/lib/python3.7/site-packages/ipykernel_launcher.py:1: RuntimeWarning: invalid value encountered in multiply\n",
      "  \"\"\"Entry point for launching an IPython kernel.\n",
      "100%|██████████| 157/157 [00:00<00:00, 512057.33it/s]\n",
      "  0%|          | 0/157 [00:00<?, ?it/s]"
     ]
    },
    {
     "name": "stdout",
     "output_type": "stream",
     "text": [
      "Delta =  26.67 sec\n",
      "Decoding..\n",
      "starting runs\n"
     ]
    },
    {
     "name": "stderr",
     "output_type": "stream",
     "text": [
      "100%|██████████| 157/157 [00:26<00:00,  4.03it/s]\n",
      "100%|██████████| 157/157 [00:00<00:00, 61953.69it/s]\n",
      "  0%|          | 0/157 [00:00<?, ?it/s]"
     ]
    },
    {
     "name": "stdout",
     "output_type": "stream",
     "text": [
      "Delta =  26.09 sec\n",
      "Decoding..\n",
      "starting runs\n"
     ]
    },
    {
     "name": "stderr",
     "output_type": "stream",
     "text": [
      "100%|██████████| 157/157 [00:27<00:00,  5.29it/s]\n",
      "100%|██████████| 157/157 [00:00<00:00, 204759.24it/s]\n",
      "  0%|          | 0/157 [00:00<?, ?it/s]"
     ]
    },
    {
     "name": "stdout",
     "output_type": "stream",
     "text": [
      "Delta =  27.48 sec\n",
      "Decoding..\n",
      "starting runs\n"
     ]
    },
    {
     "name": "stderr",
     "output_type": "stream",
     "text": [
      "100%|██████████| 157/157 [00:27<00:00,  3.63it/s]\n",
      "100%|██████████| 157/157 [00:00<00:00, 284451.72it/s]\n",
      "  0%|          | 0/157 [00:00<?, ?it/s]"
     ]
    },
    {
     "name": "stdout",
     "output_type": "stream",
     "text": [
      "Delta =  27.53 sec\n",
      "Decoding..\n",
      "starting runs\n"
     ]
    },
    {
     "name": "stderr",
     "output_type": "stream",
     "text": [
      "100%|██████████| 157/157 [00:28<00:00,  3.03it/s]\n",
      "100%|██████████| 157/157 [00:00<00:00, 68716.03it/s]\n",
      "  0%|          | 0/157 [00:00<?, ?it/s]"
     ]
    },
    {
     "name": "stdout",
     "output_type": "stream",
     "text": [
      "Delta =  28.16 sec\n",
      "Decoding..\n",
      "starting runs\n"
     ]
    },
    {
     "name": "stderr",
     "output_type": "stream",
     "text": [
      "100%|██████████| 157/157 [00:27<00:00,  5.70it/s]\n",
      "100%|██████████| 157/157 [00:00<00:00, 383744.60it/s]\n",
      "  0%|          | 0/157 [00:00<?, ?it/s]"
     ]
    },
    {
     "name": "stdout",
     "output_type": "stream",
     "text": [
      "Delta =  27.56 sec\n",
      "Decoding..\n",
      "starting runs\n"
     ]
    },
    {
     "name": "stderr",
     "output_type": "stream",
     "text": [
      "100%|██████████| 157/157 [00:28<00:00,  5.60it/s]\n",
      "100%|██████████| 157/157 [00:00<00:00, 63889.18it/s]\n",
      "  0%|          | 0/157 [00:00<?, ?it/s]"
     ]
    },
    {
     "name": "stdout",
     "output_type": "stream",
     "text": [
      "Delta =  28.06 sec\n",
      "Decoding..\n",
      "starting runs\n"
     ]
    },
    {
     "name": "stderr",
     "output_type": "stream",
     "text": [
      "100%|██████████| 157/157 [00:27<00:00,  5.37it/s]\n",
      "100%|██████████| 157/157 [00:00<00:00, 616001.62it/s]\n",
      "  0%|          | 0/157 [00:00<?, ?it/s]"
     ]
    },
    {
     "name": "stdout",
     "output_type": "stream",
     "text": [
      "Delta =  27.26 sec\n",
      "Decoding..\n",
      "starting runs\n"
     ]
    },
    {
     "name": "stderr",
     "output_type": "stream",
     "text": [
      "100%|██████████| 157/157 [00:27<00:00,  4.62it/s]\n",
      "100%|██████████| 157/157 [00:00<00:00, 91637.31it/s]\n",
      "  0%|          | 0/157 [00:00<?, ?it/s]"
     ]
    },
    {
     "name": "stdout",
     "output_type": "stream",
     "text": [
      "Delta =  27.67 sec\n",
      "Decoding..\n",
      "starting runs\n"
     ]
    },
    {
     "name": "stderr",
     "output_type": "stream",
     "text": [
      "100%|██████████| 157/157 [00:28<00:00,  5.53it/s]"
     ]
    },
    {
     "name": "stdout",
     "output_type": "stream",
     "text": [
      "Delta =  28.39 sec\n",
      "Optimization terminated successfully.\n",
      "         Current function value: 0.000000\n",
      "         Iterations: 26\n",
      "         Function evaluations: 52\n",
      "{'x0': array([1.2851875]), 'coeffs': array([0.98800368, 3.39809014, 1.27804082]), 'vars': array([[ 0.00015114, -0.00151832,  0.00022943],\n",
      "       [-0.00151832,  0.08683581, -0.0084128 ],\n",
      "       [ 0.00022943, -0.0084128 ,  0.00151209]]), 'nudges': array([ 0.01      ,  0.02154435,  0.04641589,  0.1       ,  0.21544347,\n",
      "        0.46415888,  1.        ,  2.15443469,  4.64158883, 10.        ]), 'output': array([0.00000000e+00, 1.20088135e-05, 2.18294305e-04, 1.51282142e-03,\n",
      "       9.77526708e-03, 4.89109808e-02, 2.91669294e-01, 9.13346099e-01,\n",
      "       9.99149902e-01, 1.00000000e+00])}\n"
     ]
    },
    {
     "name": "stderr",
     "output_type": "stream",
     "text": [
      "\n"
     ]
    }
   ],
   "source": [
    "tmp = infcy.optimizeNudge(m, str(node), snapshots, deltas, repeats, px)\n",
    "print(tmp)"
   ]
  },
  {
   "cell_type": "code",
   "execution_count": 9,
   "metadata": {},
   "outputs": [
    {
     "name": "stdout",
     "output_type": "stream",
     "text": [
      "Optimization terminated successfully.\n",
      "         Current function value: 0.000000\n",
      "         Iterations: 26\n",
      "         Function evaluations: 52\n",
      "[1.2851875]\n"
     ]
    },
    {
     "name": "stderr",
     "output_type": "stream",
     "text": [
      "/home/casper/miniconda3/lib/python3.7/site-packages/ipykernel_launcher.py:15: UserWarning: Matplotlib is currently using module://ipykernel.pylab.backend_inline, which is a non-GUI backend, so cannot show the figure.\n",
      "  from ipykernel import kernelapp as app\n"
     ]
    },
    {
     "data": {
      "image/png": "[encoded data removed]",
      "text/plain": [
       "<Figure size 432x288 with 1 Axes>"
      ]
     },
     "metadata": {
      "needs_background": "light"
     },
     "output_type": "display_data"
    }
   ],
   "source": [
    "x, y = [tmp.get(i) for i in 'nudges output'.split()]\n",
    "def sig(x, a, b, c, d):\n",
    "    return a / (1 + np.exp(-b * (x - c) )) # + d\n",
    "c = optimize.curve_fit(sig, x, y )[0]\n",
    "\n",
    "x1= optimize.fmin(lambda x: abs(sig(x, *c) - .5), 0)\n",
    "print(x1)\n",
    "xr = np.linspace(-10, 10)\n",
    "fig, ax = plt.subplots()\n",
    "ax.plot(xr, sig(xr, *c))\n",
    "ax.axvline(tmp.get('x0'), color = 'green')\n",
    "ax.axvline(x1, color = 'red', linestyle = 'dashed')\n",
    "ax.scatter(x, y)\n",
    "ax.plot(xr, abs(sig(xr, *c) - .5))\n",
    "fig.show()"
   ]
  },
  {
   "cell_type": "code",
   "execution_count": 10,
   "metadata": {},
   "outputs": [
    {
     "name": "stderr",
     "output_type": "stream",
     "text": [
      "100%|██████████| 157/157 [00:00<00:00, 289453.07it/s]\n",
      "  0%|          | 0/157 [00:00<?, ?it/s]"
     ]
    },
    {
     "name": "stdout",
     "output_type": "stream",
     "text": [
      "[1.2851875]\n",
      "Decoding..\n",
      "starting runs\n"
     ]
    },
    {
     "name": "stderr",
     "output_type": "stream",
     "text": [
      "100%|██████████| 157/157 [00:26<00:00,  6.77it/s]\n",
      "/home/casper/miniconda3/lib/python3.7/site-packages/ipykernel_launcher.py:8: RuntimeWarning: divide by zero encountered in log2\n",
      "  \n",
      "/home/casper/miniconda3/lib/python3.7/site-packages/ipykernel_launcher.py:8: RuntimeWarning: invalid value encountered in multiply\n",
      "  \n",
      "100%|██████████| 157/157 [00:00<00:00, 650697.36it/s]\n",
      "  0%|          | 0/157 [00:00<?, ?it/s]"
     ]
    },
    {
     "name": "stdout",
     "output_type": "stream",
     "text": [
      "Delta =  26.55 sec\n",
      "Decoding..\n",
      "starting runs\n"
     ]
    },
    {
     "name": "stderr",
     "output_type": "stream",
     "text": [
      "100%|██████████| 157/157 [00:28<00:00,  3.90it/s]\n",
      "100%|██████████| 157/157 [00:00<00:00, 558055.70it/s]\n",
      "  0%|          | 0/157 [00:00<?, ?it/s]"
     ]
    },
    {
     "name": "stdout",
     "output_type": "stream",
     "text": [
      "Delta =  28.59 sec\n",
      "Decoding..\n",
      "starting runs\n"
     ]
    },
    {
     "name": "stderr",
     "output_type": "stream",
     "text": [
      "100%|██████████| 157/157 [00:28<00:00,  5.61it/s]\n",
      "100%|██████████| 157/157 [00:00<00:00, 521382.21it/s]\n",
      "  0%|          | 0/157 [00:00<?, ?it/s]"
     ]
    },
    {
     "name": "stdout",
     "output_type": "stream",
     "text": [
      "Delta =  28.01 sec\n",
      "Decoding..\n",
      "starting runs\n"
     ]
    },
    {
     "name": "stderr",
     "output_type": "stream",
     "text": [
      "100%|██████████| 157/157 [00:27<00:00,  6.09it/s]\n",
      "100%|██████████| 157/157 [00:00<00:00, 514055.99it/s]\n",
      "  0%|          | 0/157 [00:00<?, ?it/s]"
     ]
    },
    {
     "name": "stdout",
     "output_type": "stream",
     "text": [
      "Delta =  27.16 sec\n",
      "Decoding..\n",
      "starting runs\n"
     ]
    },
    {
     "name": "stderr",
     "output_type": "stream",
     "text": [
      "100%|██████████| 157/157 [00:26<00:00,  6.02it/s]\n",
      "100%|██████████| 157/157 [00:00<00:00, 516475.08it/s]\n",
      "  0%|          | 0/157 [00:00<?, ?it/s]"
     ]
    },
    {
     "name": "stdout",
     "output_type": "stream",
     "text": [
      "Delta =  26.09 sec\n",
      "Decoding..\n",
      "starting runs\n"
     ]
    },
    {
     "name": "stderr",
     "output_type": "stream",
     "text": [
      "100%|██████████| 157/157 [00:26<00:00,  4.81it/s]\n",
      "100%|██████████| 157/157 [00:00<00:00, 652632.04it/s]\n",
      "  0%|          | 0/157 [00:00<?, ?it/s]"
     ]
    },
    {
     "name": "stdout",
     "output_type": "stream",
     "text": [
      "Delta =  26.39 sec\n",
      "Decoding..\n",
      "starting runs\n"
     ]
    },
    {
     "name": "stderr",
     "output_type": "stream",
     "text": [
      "100%|██████████| 157/157 [00:26<00:00,  4.95it/s]\n",
      "100%|██████████| 157/157 [00:00<00:00, 691707.70it/s]\n",
      "  0%|          | 0/157 [00:00<?, ?it/s]"
     ]
    },
    {
     "name": "stdout",
     "output_type": "stream",
     "text": [
      "Delta =  26.26 sec\n",
      "Decoding..\n",
      "starting runs\n"
     ]
    },
    {
     "name": "stderr",
     "output_type": "stream",
     "text": [
      "100%|██████████| 157/157 [00:25<00:00,  7.00it/s]\n",
      "100%|██████████| 157/157 [00:00<00:00, 501909.85it/s]\n",
      "  0%|          | 0/157 [00:00<?, ?it/s]"
     ]
    },
    {
     "name": "stdout",
     "output_type": "stream",
     "text": [
      "Delta =  26.03 sec\n",
      "Decoding..\n",
      "starting runs\n"
     ]
    },
    {
     "name": "stderr",
     "output_type": "stream",
     "text": [
      "100%|██████████| 157/157 [00:25<00:00,  6.05it/s]\n",
      "100%|██████████| 157/157 [00:00<00:00, 65536.00it/s]\n",
      "  0%|          | 0/157 [00:00<?, ?it/s]"
     ]
    },
    {
     "name": "stdout",
     "output_type": "stream",
     "text": [
      "Delta =  25.95 sec\n",
      "Decoding..\n",
      "starting runs\n"
     ]
    },
    {
     "name": "stderr",
     "output_type": "stream",
     "text": [
      "100%|██████████| 157/157 [00:26<00:00,  5.90it/s]"
     ]
    },
    {
     "name": "stdout",
     "output_type": "stream",
     "text": [
      "Delta =  26.15 sec\n"
     ]
    },
    {
     "name": "stderr",
     "output_type": "stream",
     "text": [
      "\n"
     ]
    }
   ],
   "source": [
    "# nudge = {node : tmp.get('x0')}\n",
    "x0 = tmp.get('x0')\n",
    "print(x0)\n",
    "D = {}\n",
    "for node in m.graph.nodes():\n",
    "    nudge = {str(node) : x0}\n",
    "    m.nudges = nudge\n",
    "    cicpx, cipx, mi = infcy.runMC(m, snapshots, deltas, repeats)\n",
    "    D[node] = dict(\\\n",
    "                  cicpx = cicpx, cipx = cipx, mi = mi,\\\n",
    "                  )"
   ]
  },
  {
   "cell_type": "code",
   "execution_count": 11,
   "metadata": {},
   "outputs": [
    {
     "name": "stdout",
     "output_type": "stream",
     "text": [
      "16\n",
      "(14, 10, 2) (14, 10, 2)\n",
      "16\n",
      "(14, 10, 2) (14, 10, 2)\n",
      "16\n",
      "(14, 10, 2) (14, 10, 2)\n",
      "16\n",
      "(14, 10, 2) (14, 10, 2)\n",
      "16\n",
      "(14, 10, 2) (14, 10, 2)\n",
      "16\n",
      "(14, 10, 2) (14, 10, 2)\n",
      "16\n",
      "(14, 10, 2) (14, 10, 2)\n",
      "16\n",
      "(14, 10, 2) (14, 10, 2)\n",
      "16\n",
      "(14, 10, 2) (14, 10, 2)\n",
      "16\n",
      "(14, 10, 2) (14, 10, 2)\n"
     ]
    },
    {
     "name": "stderr",
     "output_type": "stream",
     "text": [
      "/home/casper/miniconda3/lib/python3.7/site-packages/ipykernel_launcher.py:24: IntegrationWarning: The integral is probably divergent, or slowly convergent.\n",
      "/home/casper/miniconda3/lib/python3.7/site-packages/ipykernel_launcher.py:37: UserWarning: Matplotlib is currently using module://ipykernel.pylab.backend_inline, which is a non-GUI backend, so cannot show the figure.\n"
     ]
    },
    {
     "name": "stdout",
     "output_type": "stream",
     "text": [
      "[0.08495051 0.08811663 0.08924539 0.09067134 0.29303841 0.31433915\n",
      " 0.60326587 0.78972729 0.8696517  0.91131039] [0.08563239 0.09866593 0.20711751 0.21300995 1.0982689  1.23442041\n",
      " 1.61810056 2.47328545 2.9748146  3.47553581]\n",
      "5 5\n"
     ]
    },
    {
     "data": {
      "image/png": "[encoded data removed]",
      "text/plain": [
       "<Figure size 432x288 with 2 Axes>"
      ]
     },
     "metadata": {
      "needs_background": "light"
     },
     "output_type": "display_data"
    }
   ],
   "source": [
    "from Utils.stats import KL\n",
    "d = np.zeros((m.nNodes))\n",
    "\n",
    "\n",
    "decays = np.zeros((m.nNodes, deltas // 2 - 1))\n",
    "for k, v in D.items():\n",
    "#     print(k)\n",
    "    cipx = v.get('cipx')\n",
    "    \n",
    "    print(deltas // 2 + 1)\n",
    "    x = cipx[deltas // 2 + 1 : ]\n",
    "    y =  px[:deltas // 2 - 1]\n",
    "    print(x.shape, y.shape)\n",
    "    t =  KL(x, y).sum(-1)\n",
    "    decays[int(k)] = t\n",
    "    \n",
    "\n",
    "\n",
    "c = fit(decays, dex, params = params)[0]\n",
    "\n",
    "CIAUCS = np.zeros((m.nNodes))\n",
    "from scipy import integrate\n",
    "for cidx, ci in enumerate(c):\n",
    "    y = integrate.quad(lambda x: dex(x, *ci), 0, np.inf)\n",
    "#     print(y)\n",
    "    CIAUCS[cidx] = y[0]\n",
    "\n",
    "fig, (ax1, ax2) = plt.subplots(1,2)\n",
    "\n",
    "for node in range(m.nNodes):\n",
    "    ax1.plot(decays[node], color = colors[node])\n",
    "    ax2.plot(mi[:, node], color = colors[node], linestyle = 'dashed')\n",
    "# ax.plot(decays.T)\n",
    "# ax.plot(mi)\n",
    "# ax1.set(xlim = (0, 3))\n",
    "# ax2.set(xlim = (0,3))\n",
    "fig.show()\n",
    "\n",
    "print(np.sort(AUCS), np.sort(CIAUCS))\n",
    "print(AUCS.argmax(), CIAUCS.argmax())"
   ]
  }
 ],
 "metadata": {
  "kernelspec": {
   "display_name": "Python 3",
   "language": "python",
   "name": "python3"
  },
  "language_info": {
   "codemirror_mode": {
    "name": "ipython",
    "version": 3
   },
   "file_extension": ".py",
   "mimetype": "text/x-python",
   "name": "python",
   "nbconvert_exporter": "python",
   "pygments_lexer": "ipython3",
   "version": "3.7.3"
  },
  "toc": {
   "base_numbering": 1,
   "nav_menu": {},
   "number_sections": true,
   "sideBar": true,
   "skip_h1_title": false,
   "title_cell": "Table of Contents",
   "title_sidebar": "Contents",
   "toc_cell": false,
   "toc_position": {},
   "toc_section_display": true,
   "toc_window_display": false
  }
 },
 "nbformat": 4,
 "nbformat_minor": 2
}
