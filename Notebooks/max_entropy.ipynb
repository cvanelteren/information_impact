{
 "cells": [
  {
   "cell_type": "markdown",
   "metadata": {},
   "source": [
    "# loaded dice example\n",
    "The theory of max entropy states that the distribution that best fits the data is that distribution that has maximal entropy. This solution is always unique. Recall that the naive estimate will always yield a uniform prior which has maximal entropy. However, in the face of constraint, e.g. through data or a priori biases, one can create other distributions\n",
    "\n",
    "The constraints are put and solved using Lagrange multipliers. \n",
    "\n",
    "\n",
    "Let's assume we have some set of observations from a dice throw and we want to find out whether the dice is loaded or not. We observa mean of 4.5, find the distribution that best fits the data.\n",
    "Two constraints must be met:\n",
    "\n",
    "\\begin{aligned}\n",
    "\\sum_i p_i = 1 \\\\\n",
    "\\mathbb{E}[x] = \\sum_i x_i p(x_i) = 4.5\n",
    "\\end{aligned}\n",
    "\n",
    "We have to maximize\n",
    "$$ F(p_i) = \\mathbb{E}[-\\log x] = - \\sum_i p(x_i) \\log(x_i)$$\n",
    "under the constraints above:"
   ]
  },
  {
   "cell_type": "code",
   "execution_count": 18,
   "metadata": {},
   "outputs": [
    {
     "name": "stderr",
     "output_type": "stream",
     "text": [
      "<ipython-input-18-adda17c6e2f0>:29: UserWarning: Matplotlib is currently using module://ipykernel.pylab.backend_inline, which is a non-GUI backend, so cannot show the figure.\n",
      "  fig.show()\n"
     ]
    },
    {
     "data": {
      "image/png": "[encoded data removed]",
      "text/plain": [
       "<Figure size 432x288 with 1 Axes>"
      ]
     },
     "metadata": {
      "needs_background": "light"
     },
     "output_type": "display_data"
    }
   ],
   "source": [
    "import numpy as np, matplotlib.pyplot as plt\n",
    "from scipy import optimize\n",
    "\n",
    "# forget minize as we want to maximize\n",
    "entropy = lambda x:  (x * np.log(x)).sum()\n",
    "\n",
    "meanTest = 4.5\n",
    "# works in arbitrary dimensions\n",
    "N    = 6\n",
    "dice = np.arange(1, N + 1)\n",
    "\n",
    "constraint = (\\\n",
    "              # expectation value\n",
    "             dict(type = 'eq',\\\n",
    "                 fun = lambda x: dice.dot(x) - meanTest),\\\n",
    "              # normalization constraint\n",
    "             dict(type = 'eq',\\\n",
    "                 fun = lambda p: p.sum() - 1))\n",
    "\n",
    "init = np.ones(N) * 1/N\n",
    "test = optimize.minimize(\\\n",
    "     entropy, init, constraints = constraint,\\\n",
    "                        )\n",
    "\n",
    "fig, ax = plt.subplots()\n",
    "ax.bar(dice, test.x)\n",
    "ax.set(xlabel = 'x', \\\n",
    "      ylabel = 'P(x)')\n",
    "fig.show()"
   ]
  }
 ],
 "metadata": {
  "kernelspec": {
   "display_name": "Python 3",
   "language": "python",
   "name": "python3"
  },
  "language_info": {
   "codemirror_mode": {
    "name": "ipython",
    "version": 3
   },
   "file_extension": ".py",
   "mimetype": "text/x-python",
   "name": "python",
   "nbconvert_exporter": "python",
   "pygments_lexer": "ipython3",
   "version": "3.8.0"
  }
 },
 "nbformat": 4,
 "nbformat_minor": 2
}
