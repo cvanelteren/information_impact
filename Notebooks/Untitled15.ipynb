{
 "cells": [
  {
   "cell_type": "code",
   "execution_count": 2,
   "metadata": {},
   "outputs": [
    {
     "name": "stdout",
     "output_type": "stream",
     "text": [
      "Added aucs\n",
      "Added data\n",
      "Added rdata\n",
      "Added settings\n",
      "Added coeffs\n"
     ]
    }
   ],
   "source": [
    "import sys; sys.path.insert(0, '../')\n",
    "from matplotlib import style\n",
    "style.use('seaborn-poster')\n",
    "import matplotlib.pyplot as plt, numpy as np, networkx as nx, \\\n",
    "json, os\n",
    "\n",
    "from Utils import IO\n",
    "fn = '../data2019-11-25T14:50:11.335203.pickle'\n",
    "for k, v in IO.loadPickle(fn).items():\n",
    "    globals()[k] = v\n",
    "    print(f'Added {k}')\n"
   ]
  },
  {
   "cell_type": "code",
   "execution_count": 4,
   "metadata": {},
   "outputs": [
    {
     "name": "stdout",
     "output_type": "stream",
     "text": [
      "(1, 12, 20, 3, 3, 49)\n"
     ]
    }
   ],
   "source": [
    "tmp = np.array([i for i in rdata.values()]).s\n",
    "print(tmp.shape)"
   ]
  }
 ],
 "metadata": {
  "kernelspec": {
   "display_name": "Python 3",
   "language": "python",
   "name": "python3"
  },
  "language_info": {
   "codemirror_mode": {
    "name": "ipython",
    "version": 3
   },
   "file_extension": ".py",
   "mimetype": "text/x-python",
   "name": "python",
   "nbconvert_exporter": "python",
   "pygments_lexer": "ipython3",
   "version": "3.8.0"
  }
 },
 "nbformat": 4,
 "nbformat_minor": 4
}
