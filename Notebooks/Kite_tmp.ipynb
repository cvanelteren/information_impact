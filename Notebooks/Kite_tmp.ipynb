{
 "cells": [
  {
   "cell_type": "code",
   "execution_count": null,
   "metadata": {},
   "outputs": [],
   "source": [
    "# kite graph stuff\n",
    "\n",
    "import sys\n",
    "sys.path.insert(0, '../') # python should allow for better imports..\n",
    "import networkx as nx\n",
    "from Utils import plotting as plotz, IO\n",
    "import matplotlib.pyplot as plt, numpy as np\n",
    "plt.style.use('seaborn-poster')\n",
    "graph = nx.krackhardt_kite_graph()\n",
    "\n",
    "pos = {i: np.array(j) * .08 for i, j in nx.nx_agraph.graphviz_layout(graph, prog = 'neato').items()}\n",
    "fig, ax = plt.subplots()\n",
    "plotz.addGraphPretty(graph, ax = ax, positions = pos, annotate = dict(annotate = False))\n",
    "ax.axis('off')\n",
    "\n",
    "# fig.savefig('../../thesis/presentation/kite.eps')\n",
    "fig.show()\n",
    "\n",
    "centralities = dict(Degree = nx.degree_centrality, \\\n",
    "                    Betweenness = nx.betweenness_centrality, \\\n",
    "                    Closeness   = nx.closeness_centrality, \\\n",
    "                    Current_flow= nx.current_flow_betweenness_centrality)\n",
    "from matplotlib.patches import Circle\n",
    "mapping = {node : idx for idx, node in enumerate(graph.nodes())}\n",
    "\n",
    "fig, ax = plt.subplots(2, 2, figsize = (20, 20))\n",
    "for tax, (name, f) in zip(ax.ravel(), centralities.items()):\n",
    "    c = dict(f(graph))\n",
    "    s = np.array(list(c.values()))\n",
    "    s = (s - s.min()) /(s.max() - s.min()) \n",
    "    tax.axis('off')\n",
    "    tax.set_aspect('equal','box')\n",
    "    tax.set_title(name.replace('_', ' '), fontsize = 40)\n",
    "    plotz.addGraphPretty(graph, tax, pos, \\\n",
    "                         mapping = mapping,\\\n",
    "                         annotate = dict(annotate = False),\\\n",
    "                        )\n",
    "    for artist in tax.get_children():\n",
    "        if isinstance(artist, Circle):\n",
    "            lab = artist.get_label()\n",
    "            lab = int(lab) if lab.isdigit() else lab\n",
    "            pidx = mapping[lab]\n",
    "            tmp  = (s[pidx]) * artist.radius \n",
    "            tax.add_artist(Circle(artist.center, facecolor = artist.get_facecolor(), radius = tmp))\n",
    "            artist.set(facecolor = 'none')\n",
    "# fig.savefig('../../thesis/presentation/figures/kite_cent.eps')"
   ]
  }
 ],
 "metadata": {
  "kernelspec": {
   "display_name": "Python 3",
   "language": "python",
   "name": "python3"
  },
  "language_info": {
   "codemirror_mode": {
    "name": "ipython",
    "version": 3
   },
   "file_extension": ".py",
   "mimetype": "text/x-python",
   "name": "python",
   "nbconvert_exporter": "python",
   "pygments_lexer": "ipython3",
   "version": "3.7.1"
  }
 },
 "nbformat": 4,
 "nbformat_minor": 2
}
