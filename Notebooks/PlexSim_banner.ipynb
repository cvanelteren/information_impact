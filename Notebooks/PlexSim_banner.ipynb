{
 "cells": [
  {
   "cell_type": "code",
   "execution_count": 13,
   "metadata": {},
   "outputs": [
    {
     "name": "stdout",
     "output_type": "stream",
     "text": [
      "6.825685739517212\n"
     ]
    }
   ],
   "source": [
    "import sys; sys.path.insert(0, '../')\n",
    "from PlexSim.Models.Potts import Potts\n",
    "from PlexSim.Models.RBN import RBN\n",
    "from PlexSim.Models.FastIsing import Ising\n",
    "from PlexSim.Models.SIR import SIR\n",
    "from PlexSim.Models.Circular import CCA\n",
    "from PlexSim.Models.Percolation import Percolation\n",
    "import networkx as nx, numpy as np\n",
    "n = 64\n",
    "g = nx.grid_2d_graph(n, n, periodic = 1)\n",
    "\n",
    "settings = dict(updateType = 'async')\n",
    "models = [\n",
    "    Ising(graph = g, **settings),\\\n",
    "    Potts(graph = g, agentStates = np.arange(0, 4).tolist(),\\\n",
    "          **settings),\\\n",
    "    RBN(graph = g, **settings),\\\n",
    "    SIR(graph = g, mu = .05, beta = .5, \\\n",
    "        **settings),\\\n",
    "    CCA(graph = g, agentStates = np.arange(0,4).tolist(),\\\n",
    "       threshold = .05),\n",
    "    Percolation(graph = g, p = .05)\n",
    "]\n",
    "\n",
    "models[-1].states = 0\n",
    "models[-1].states[np.random.randint(models[-1].nNodes)] = 1 \n",
    "T = 100\n",
    "import time\n",
    "start = time.time()\n",
    "results = np.zeros((len(models), T, g.number_of_nodes()))\n",
    "for idx, m in enumerate(models):\n",
    "    results[idx] = m.simulate(T*10)[::10]\n",
    "results = results.reshape(-1, T, n, n)\n",
    "print(time.time() - start)"
   ]
  },
  {
   "cell_type": "code",
   "execution_count": 14,
   "metadata": {},
   "outputs": [
    {
     "data": {
      "application/vnd.jupyter.widget-view+json": {
       "model_id": "6347b1375cd34903aab98b1a07c75d14",
       "version_major": 2,
       "version_minor": 0
      },
      "text/plain": [
       "Canvas(toolbar=Toolbar(toolitems=[('Home', 'Reset original view', 'home', 'home'), ('Back', 'Back to previous …"
      ]
     },
     "metadata": {},
     "output_type": "display_data"
    },
    {
     "data": {
      "application/vnd.jupyter.widget-view+json": {
       "model_id": "182097889bb14e4aa6f227e40cd71421",
       "version_major": 2,
       "version_minor": 0
      },
      "text/plain": [
       "interactive(children=(IntSlider(value=0, description='t', max=99), Output()), _dom_classes=('widget-interact',…"
      ]
     },
     "metadata": {},
     "output_type": "display_data"
    }
   ],
   "source": [
    "import matplotlib.pyplot as plt\n",
    "from ipywidgets import interact, IntSlider\n",
    "import matplotlib as mpl\n",
    "from mpl_toolkits.axes_grid1 import make_axes_locatable as mal\n",
    "%matplotlib widget\n",
    "ts = IntSlider(min = 0, max = T - 1, value = 0)\n",
    "fig, ax = plt.subplots(2, 3, figsize = (5,5))\n",
    "\n",
    "fig.subplots_adjust(wspace = .12, hspace = .0001)\n",
    "#setup figure\n",
    "hs  = []\n",
    "pad = .01\n",
    "size = '5%'\n",
    "titles = \"Ising\\tPotts\\tRandom Boolean\\tSIR\\tCCA\\tPercolation\".split(\"\\t\")\n",
    "for idx, (m, axi) in enumerate(zip(models, ax.flat)):\n",
    "    div = mal(axi)\n",
    "    cbr = div.append_axes('bottom', size = size, pad = pad)\n",
    "#     div = mal(cbr)\n",
    "#     cbr = div.append_axes('right', size = size, pad = pad)\n",
    "    AS = models[idx].agentStates\n",
    "    NS = len(AS) \n",
    "    cmap = mpl.colors.LinearSegmentedColormap.from_list(\\\n",
    "          None, plt.cm.viridis(np.linspace(0, 255, NS,\\\n",
    "                                          dtype = int)), NS)\n",
    "    h = axi.imshow(results[idx, 0], cmap = cmap, vmin = AS[0],\\\n",
    "                  vmax = AS[-1])\n",
    "    axi.set_title(titles[idx])\n",
    "    axi.axis(\"off\")\n",
    "    tmp = fig.colorbar(h, cax = cbr, ticks = AS,\\\n",
    "                       orientation = 'horizontal')\n",
    "    if idx == 3:\n",
    "        tmp.set_ticklabels(\"Sus. Inf. Rec.\".split())\n",
    "    hs.append(h)\n",
    "mainax = fig.add_subplot(111, frameon = 0,\\\n",
    "                        xticks = [], yticks = [])\n",
    "mainax.set_xlabel(f'T = 0')\n",
    "@interact(t = ts)\n",
    "def update(t):\n",
    "    for idx, h in enumerate(hs):\n",
    "        h.set_data(results[idx, t])\n",
    "    mainax.set_xlabel(f'T = {t}')\n",
    "    fig.canvas.flush_events()\n",
    "    fig.canvas.draw()\n",
    "from matplotlib.animation import FuncAnimation as fan\n",
    "fig.show()"
   ]
  },
  {
   "cell_type": "code",
   "execution_count": 51,
   "metadata": {},
   "outputs": [],
   "source": [
    "#an = fan(fig, update, frames = np.arange(0, int(T*1), 10), interval = 100,\\\n",
    "#         blit = True) \n",
    "#an.save('PlexSim_banner.mp4', writer = 'ffmpeg')"
   ]
  }
 ],
 "metadata": {
  "kernelspec": {
   "display_name": "Python 3",
   "language": "python",
   "name": "python3"
  },
  "language_info": {
   "codemirror_mode": {
    "name": "ipython",
    "version": 3
   },
   "file_extension": ".py",
   "mimetype": "text/x-python",
   "name": "python",
   "nbconvert_exporter": "python",
   "pygments_lexer": "ipython3",
   "version": "3.8.2"
  }
 },
 "nbformat": 4,
 "nbformat_minor": 4
}
