{
 "cells": [
  {
   "cell_type": "code",
   "execution_count": 11,
   "metadata": {},
   "outputs": [
    {
     "name": "stdout",
     "output_type": "stream",
     "text": [
      "17.218539476394653\n"
     ]
    },
    {
     "data": {
      "application/vnd.jupyter.widget-view+json": {
       "model_id": "41f97f55aaaf46c185b734276be8f7b9",
       "version_major": 2,
       "version_minor": 0
      },
      "text/plain": [
       "Canvas(toolbar=Toolbar(toolitems=[('Home', 'Reset original view', 'home', 'home'), ('Back', 'Back to previous …"
      ]
     },
     "metadata": {},
     "output_type": "display_data"
    },
    {
     "data": {
      "application/vnd.jupyter.widget-view+json": {
       "model_id": "95a7e2cc8d994c73a4f1df3a1e41ffc5",
       "version_major": 2,
       "version_minor": 0
      },
      "text/plain": [
       "interactive(children=(IntSlider(value=0, description='t', max=999), Output()), _dom_classes=('widget-interact'…"
      ]
     },
     "metadata": {},
     "output_type": "display_data"
    }
   ],
   "source": [
    "import sys; sys.path.insert(0, '../')\n",
    "from PlexSim.plexsim.models import *\n",
    "n = 256\n",
    "g = nx.grid_2d_graph(n, n, periodic = 1)\n",
    "\n",
    "settings = dict(graph = g,\\\n",
    "                updateType = 'sync',\\\n",
    "                )\n",
    "\n",
    "\n",
    "models = dict(\n",
    "#     Potts = Potts(agentStates = [0, 1, 2],\\\n",
    "#           **settings),\\\n",
    "#     Ising = Ising(agentStates = np.arange(0, 4).tolist(),\\\n",
    "#           **settings),\\\n",
    "#     RBN = RBN(**settings),\\\n",
    "#     SIRS = SIRS(\\\n",
    "#         mu = 0.05, \\\n",
    "#         kappa = .001,\\\n",
    "#         beta = .5, \\\n",
    "#         **settings),\\\n",
    "#     CCA(\\\n",
    "#         agentStates = np.arange(0,4).tolist(),\\\n",
    "#         threshold = .001, **settings),\n",
    "#     Percolation(p = .2,\\\n",
    "#                **settings),\\\n",
    "   Bornholdt = Bornholdt(t = .5,\\\n",
    "              alpha = 4,\\\n",
    "              sampleSize = .25,\\\n",
    "              **settings)\n",
    ")\n",
    "\n",
    "# models.get(\"Bornholdt\").sampleSize = 1\n",
    "if m := models.get(\"SIRS\"):\n",
    "    m.states = 0\n",
    "    m.states[m.sampleNodes(1)[0,0]] = 1\n",
    "T = 1000\n",
    "\n",
    "import time\n",
    "start = time.time()\n",
    "results = np.zeros((len(models), T, g.number_of_nodes()))\n",
    "for idx, m in enumerate(models.values()):\n",
    "    results[idx] = m.simulate(T)\n",
    "results = results.reshape(-1, T, n, n)\n",
    "print(time.time() - start)\n",
    "\n",
    "import matplotlib.pyplot as plt\n",
    "from ipywidgets import interact, IntSlider\n",
    "import matplotlib as mpl\n",
    "from mpl_toolkits.axes_grid1 import make_axes_locatable as mal\n",
    "%matplotlib widget\n",
    "ts = IntSlider(min = 0, max = T - 1, value = 0)\n",
    "fig, ax = plt.subplots(1, 2, figsize = (5,5))\n",
    "\n",
    "fig.subplots_adjust(wspace = .12, hspace = .0001)\n",
    "#setup figure\n",
    "hs  = []\n",
    "pad = .01\n",
    "size = '5%'\n",
    "for idx, ( (modelName, m), axi) in enumerate(zip(models.items(), ax.flat)):\n",
    "    div = mal(axi)\n",
    "    cbr = div.append_axes('bottom', size = size, pad = pad)\n",
    "#     div = mal(cbr)\n",
    "#     cbr = div.append_axes('right', size = size, pad = pad)\n",
    "    AS = m.agentStates\n",
    "    NS = len(AS) \n",
    "    cmap = mpl.colors.LinearSegmentedColormap.from_list(\\\n",
    "          None, plt.cm.viridis(np.linspace(0, 255, NS,\\\n",
    "                                          dtype = int)), NS)\n",
    "    h = axi.imshow(results[idx, 0], cmap = cmap, vmin = AS[0],\\\n",
    "                  vmax = AS[-1])\n",
    "    axi.set_title(modelName)\n",
    "    axi.axis(\"off\")\n",
    "    tmp = fig.colorbar(h, cax = cbr, ticks = AS,\\\n",
    "                       orientation = 'horizontal')\n",
    "    if modelName == 'SIRS':\n",
    "        tmp.set_ticklabels(\"Sus. Inf. Rec.\".split())\n",
    "    hs.append(h)\n",
    "mainax = fig.add_subplot(111, frameon = 0,\\\n",
    "                        xticks = [], yticks = [])\n",
    "mainax.set_xlabel(f'T = 0')\n",
    "@interact(t = ts)\n",
    "def update(t):\n",
    "    for idx, h in enumerate(hs):\n",
    "        h.set_data(results[idx, t])\n",
    "    mainax.set_xlabel(f'T = {t}')\n",
    "    fig.canvas.flush_events()\n",
    "    fig.canvas.draw()\n",
    "fig.show()"
   ]
  },
  {
   "cell_type": "code",
   "execution_count": 12,
   "metadata": {},
   "outputs": [
    {
     "name": "stdout",
     "output_type": "stream",
     "text": [
      "16384\n"
     ]
    },
    {
     "data": {
      "text/plain": [
       "array([[ 9236, 11569, 31863, ..., 23432, 54270, 24593],\n",
       "       [ 9236, 11569, 31863, ..., 23432, 54270, 24593],\n",
       "       [ 9236, 11569, 31863, ..., 23432, 54270, 24593],\n",
       "       ...,\n",
       "       [58954,  5112, 51408, ...,  8393, 58120,  5181],\n",
       "       [58954,  5112, 51408, ...,  8393, 58120,  5181],\n",
       "       [58954,  5112, 51408, ...,  8393, 58120,  5181]])"
      ]
     },
     "execution_count": 12,
     "metadata": {},
     "output_type": "execute_result"
    }
   ],
   "source": [
    "import ipywidgets, asyncio\n",
    "m = models.get(\"Bornholdt\")\n",
    "print(m.sampleSize)\n",
    "m.sampleNodes(10).base"
   ]
  },
  {
   "cell_type": "code",
   "execution_count": 3,
   "metadata": {},
   "outputs": [
    {
     "ename": "NameError",
     "evalue": "name 'out' is not defined",
     "output_type": "error",
     "traceback": [
      "\u001b[0;31m----------------------------------------------------------------------\u001b[0m",
      "\u001b[0;31mNameError\u001b[0m                            Traceback (most recent call last)",
      "\u001b[0;32m<ipython-input-3-9bc27bdc8279>\u001b[0m in \u001b[0;36m<module>\u001b[0;34m\u001b[0m\n\u001b[0;32m----> 1\u001b[0;31m \u001b[0mout\u001b[0m\u001b[0;34m\u001b[0m\u001b[0;34m\u001b[0m\u001b[0m\n\u001b[0m",
      "\u001b[0;31mNameError\u001b[0m: name 'out' is not defined"
     ]
    }
   ],
   "source": [
    "out"
   ]
  },
  {
   "cell_type": "code",
   "execution_count": null,
   "metadata": {},
   "outputs": [],
   "source": [
    "from matplotlib.animation import FuncAnimation as fan\n",
    "#an = fan(fig, update, frames = np.arange(0, int(T*1), 10), interval = 100,\\\n",
    "\n",
    "#         blit = True) \n",
    "#an.save('PlexSim_banner.mp4', writer = 'ffmpeg')"
   ]
  },
  {
   "cell_type": "code",
   "execution_count": null,
   "metadata": {},
   "outputs": [],
   "source": []
  }
 ],
 "metadata": {
  "kernelspec": {
   "display_name": "Python 3",
   "language": "python",
   "name": "python3"
  },
  "language_info": {
   "codemirror_mode": {
    "name": "ipython",
    "version": 3
   },
   "file_extension": ".py",
   "mimetype": "text/x-python",
   "name": "python",
   "nbconvert_exporter": "python",
   "pygments_lexer": "ipython3",
   "version": "3.8.2"
  }
 },
 "nbformat": 4,
 "nbformat_minor": 4
}
