{
 "cells": [
  {
   "cell_type": "code",
   "execution_count": null,
   "metadata": {},
   "outputs": [],
   "source": []
  },
  {
   "cell_type": "code",
   "execution_count": 4,
   "metadata": {},
   "outputs": [
    {
     "name": "stdout",
     "output_type": "stream",
     "text": [
      "starting sims\n",
      "7.300043821334839\n"
     ]
    },
    {
     "data": {
      "application/vnd.jupyter.widget-view+json": {
       "model_id": "5586a5cdeaa74dc5a0e30cd421d0e371",
       "version_major": 2,
       "version_minor": 0
      },
      "text/plain": [
       "Canvas(toolbar=Toolbar(toolitems=[('Home', 'Reset original view', 'home', 'home'), ('Back', 'Back to previous …"
      ]
     },
     "metadata": {},
     "output_type": "display_data"
    },
    {
     "data": {
      "application/vnd.jupyter.widget-view+json": {
       "model_id": "ef30d029c50347c8b8f4a19296d412b3",
       "version_major": 2,
       "version_minor": 0
      },
      "text/plain": [
       "interactive(children=(IntSlider(value=0, description='t', max=999), Output()), _dom_classes=('widget-interact'…"
      ]
     },
     "metadata": {},
     "output_type": "display_data"
    }
   ],
   "source": [
    "import sys; sys.path.insert(0, '../')\n",
    "from PlexSim.plexsim.models import *\n",
    "n = 128\n",
    "g = nx.grid_graph([n, n])\n",
    "# g = nx.grid_2d_graph(n, n, periodic = 1)\n",
    "\n",
    "settings = dict(graph = g,\\\n",
    "                updateType = 'async',\\\n",
    "#                 sampleSize = .1,\\\n",
    "                alpha = 4,\\\n",
    "                mu = .001,\\\n",
    "                nu = .1,\\\n",
    "                kappa = .001,\\\n",
    "                beta = .5,\\\n",
    "                threshold = .01,\\\n",
    "                p = .1,\\\n",
    "               t = .5)\n",
    "\n",
    "models = dict(\n",
    "    Potts = Potts(agentStates = np.arange(5).tolist(),\\\n",
    "          **settings),\\\n",
    "#     Ising = Ising(\\\n",
    "#           **settings),\\\n",
    "#     Bornholdt = Bornholdt(\\\n",
    "#               **settings),\\\n",
    "#     RBN = RBN(**settings),\\\n",
    "#     SIRS = SIRS(\\\n",
    "#         **settings),\\\n",
    "#    CCA = CCA(\\\n",
    "#         agentStates = np.arange(0,4).tolist(),\\\n",
    "#         **settings),\\\n",
    "#    Percolation = Percolation(\\\n",
    "#                **settings),\\\n",
    "   \n",
    ")\n",
    "\n",
    "# models.get(\"Bornholdt\").sampleSize = 1\n",
    "if m := models.get(\"SIRS\"):\n",
    "    m.states = 0\n",
    "    m.states[m.sampleNodes(1)[0,0]] = 1\n",
    "print(\"starting sims\")\n",
    "T = 1000\n",
    "import time\n",
    "start = time.time()\n",
    "results = np.zeros((len(models), T, g.number_of_nodes()))\n",
    "for idx, m in enumerate(models.values()):\n",
    "    results[idx] = m.simulate(T)\n",
    "results = results.reshape(-1, T, n, n)\n",
    "\n",
    "# print(results.shape)\n",
    "# results = results[-1, T,:, :, 0]\n",
    "print(time.time() - start)\n",
    "\n",
    "import matplotlib.pyplot as plt\n",
    "from ipywidgets import interact, IntSlider\n",
    "import matplotlib as mpl\n",
    "from mpl_toolkits.axes_grid1 import make_axes_locatable as mal\n",
    "%matplotlib widget\n",
    "ts = IntSlider(min = 0, max = T - 1, value = 0)\n",
    "\n",
    "columns, rows = divmod(len(models), 2)\n",
    "fig, ax = plt.subplots(rows +1, columns +1, figsize = (5,5))\n",
    "\n",
    "fig.subplots_adjust(wspace = .12, hspace = .0001)\n",
    "#setup figure\n",
    "hs  = []\n",
    "pad = .01\n",
    "size = '5%'\n",
    "for idx, ( (modelName, m), axi) in enumerate(zip(models.items(), ax.flat)):\n",
    "    div = mal(axi)\n",
    "    cbr = div.append_axes('bottom', size = size, pad = pad)\n",
    "#     div = mal(cbr)\n",
    "#     cbr = div.append_axes('right', size = size, pad = pad)\n",
    "    AS = m.agentStates\n",
    "    NS = len(AS) \n",
    "    cmap = mpl.colors.LinearSegmentedColormap.from_list(\\\n",
    "          None, plt.cm.viridis(np.linspace(0, 255, NS,\\\n",
    "                                          dtype = int)), NS)\n",
    "    h = axi.imshow(results[idx, 0], cmap = cmap, vmin = AS[0],\\\n",
    "                  vmax = AS[-1])\n",
    "    axi.set_title(modelName)\n",
    "    axi.axis(\"off\")\n",
    "    tmp = fig.colorbar(h, cax = cbr, ticks = AS,\\\n",
    "                       orientation = 'horizontal')\n",
    "    if modelName == 'SIRS':\n",
    "        tmp.set_ticklabels(\"Sus. Inf. Rec.\".split())\n",
    "    hs.append(h)\n",
    "mainax = fig.add_subplot(111, frameon = 0,\\\n",
    "                        xticks = [], yticks = [])\n",
    "[axi.axis('off') for axi in ax.flat[rows * columns:]]\n",
    "mainax.set_xlabel(f'T = 0')\n",
    "@interact(t = ts)\n",
    "def update(t):\n",
    "    for idx, h in enumerate(hs):\n",
    "        h.set_data(results[idx, t])\n",
    "#         h.autoscale()\n",
    "    mainax.set_xlabel(f'T = {t}')\n",
    "    fig.canvas.flush_events()\n",
    "    fig.canvas.draw()\n",
    "    \n",
    "fig.show()\n",
    "\n",
    "# next(iter(models.values())).magnetize()"
   ]
  },
  {
   "cell_type": "code",
   "execution_count": null,
   "metadata": {},
   "outputs": [],
   "source": []
  },
  {
   "cell_type": "code",
   "execution_count": 2,
   "metadata": {},
   "outputs": [],
   "source": [
    "# %load_ext line_profiler\n",
    "# %reload_ext line_profiler\n",
    "# %load_ext memory_profiler\n",
    "# m = models.get(\"Ising\")\n",
    "# # %prun -s line m.simulate(100)\n",
    "# # from model_profile import test\n",
    "# %prun -s nfl m.sampleNodes(100)\n",
    "# # divmod(len(models), 2)"
   ]
  },
  {
   "cell_type": "code",
   "execution_count": null,
   "metadata": {},
   "outputs": [],
   "source": []
  },
  {
   "cell_type": "code",
   "execution_count": 3,
   "metadata": {},
   "outputs": [],
   "source": [
    "from matplotlib.animation import FuncAnimation as fan\n",
    "#an = fan(fig, update, frames = np.arange(0, int(T*1), 10), interval = 100,\\\n",
    "\n",
    "#         blit = True) \n",
    "#an.save('PlexSim_banner.mp4', writer = 'ffmpeg')"
   ]
  },
  {
   "cell_type": "code",
   "execution_count": null,
   "metadata": {},
   "outputs": [],
   "source": []
  }
 ],
 "metadata": {
  "kernelspec": {
   "display_name": "Python 3",
   "language": "python",
   "name": "python3"
  },
  "language_info": {
   "codemirror_mode": {
    "name": "ipython",
    "version": 3
   },
   "file_extension": ".py",
   "mimetype": "text/x-python",
   "name": "python",
   "nbconvert_exporter": "python",
   "pygments_lexer": "ipython3",
   "version": "3.8.2"
  }
 },
 "nbformat": 4,
 "nbformat_minor": 4
}
