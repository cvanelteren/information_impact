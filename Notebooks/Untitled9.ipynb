{
 "cells": [
  {
   "cell_type": "code",
   "execution_count": 11,
   "metadata": {},
   "outputs": [
    {
     "name": "stdout",
     "output_type": "stream",
     "text": [
      "The autoreload extension is already loaded. To reload it, use:\n",
      "  %reload_ext autoreload\n",
      "[False  True False False  True] [ True  True  True  True  True]\n",
      "[-1 -1  1 -1  1] [ 1 -1 -1  1  1] [-1 -1  1 -1  1]\n"
     ]
    }
   ],
   "source": [
    "%load_ext autoreload\n",
    "%autoreload 2\n",
    "import sys, networkx as nx\n",
    "sys.path.insert(0, '../')\n",
    "\n",
    "from  Models.FastIsing import Ising\n",
    "\n",
    "g = nx.path_graph(5)\n",
    "m = Ising(g)\n",
    "\n",
    "import pickle\n",
    "b = pickle.loads(pickle.dumps(m))\n",
    "\n",
    "c = m.states.base.copy()\n",
    "\n",
    "m.simulate(10)\n",
    "\n",
    "print(b.states.base == m.states.base, b.states.base == c)\n",
    "print(b.states.base, m.states.base, c)\n",
    "# protocol=kle.dumps(m, protocol = pickle.HIGHEST_PROTOCOL)"
   ]
  }
 ],
 "metadata": {
  "kernelspec": {
   "display_name": "Python 3",
   "language": "python",
   "name": "python3"
  },
  "language_info": {
   "codemirror_mode": {
    "name": "ipython",
    "version": 3
   },
   "file_extension": ".py",
   "mimetype": "text/x-python",
   "name": "python",
   "nbconvert_exporter": "python",
   "pygments_lexer": "ipython3",
   "version": "3.7.4"
  },
  "toc": {
   "base_numbering": 1,
   "nav_menu": {},
   "number_sections": true,
   "sideBar": true,
   "skip_h1_title": false,
   "title_cell": "Table of Contents",
   "title_sidebar": "Contents",
   "toc_cell": false,
   "toc_position": {},
   "toc_section_display": true,
   "toc_window_display": false
  }
 },
 "nbformat": 4,
 "nbformat_minor": 2
}
