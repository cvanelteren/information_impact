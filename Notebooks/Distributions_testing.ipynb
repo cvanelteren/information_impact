{
 "cells": [
  {
   "cell_type": "code",
   "execution_count": 178,
   "metadata": {},
   "outputs": [
    {
     "name": "stdout",
     "output_type": "stream",
     "text": [
      "{}\n"
     ]
    },
    {
     "name": "stderr",
     "output_type": "stream",
     "text": [
      "100%|██████████| 100000/100000 [00:30<00:00, 3235.86it/s]"
     ]
    },
    {
     "name": "stdout",
     "output_type": "stream",
     "text": [
      "done\n",
      "Found 8 states\n",
      "Delta =  31.39 sec\n"
     ]
    },
    {
     "name": "stderr",
     "output_type": "stream",
     "text": [
      "\n"
     ]
    }
   ],
   "source": [
    "import sys; sys.path.insert(0, '../')\n",
    "from PlexSim.Models.FastIsing import Ising\n",
    "from Toolbox import infcy\n",
    "import networkx as nx\n",
    "from dit.algorithms import stats\n",
    "g = nx.random_graphs.erdos_renyi_graph(3, 0)\n",
    "m = Ising(g, t = np.inf)\n",
    "print(m.adj)\n",
    "snapshots = infcy.getSnapShots(m, 100000)"
   ]
  },
  {
   "cell_type": "code",
   "execution_count": 179,
   "metadata": {},
   "outputs": [
    {
     "name": "stderr",
     "output_type": "stream",
     "text": [
      "<ipython-input-179-c2809addf8e5>:15: UserWarning: Matplotlib is currently using module://ipykernel.pylab.backend_inline, which is a non-GUI backend, so cannot show the figure.\n",
      "  fig.show()\n"
     ]
    },
    {
     "data": {
      "image/png": "[encoded data removed]",
      "text/plain": [
       "<Figure size 432x288 with 1 Axes>"
      ]
     },
     "metadata": {
      "needs_background": "light"
     },
     "output_type": "display_data"
    }
   ],
   "source": [
    "import dit, numpy as np\n",
    "dist = dit.ScalarDistribution(snapshots)\n",
    "\n",
    "from matplotlib.pyplot import subplots\n",
    "tmp = dist.rand(size = 1000)\n",
    "\n",
    "c = {}\n",
    "for i in tmp:\n",
    "    c[i] = c.get(i, 0) + 1/len(tmp)\n",
    "fig, ax = subplots()\n",
    "x = np.arange(len(c))\n",
    "ax.bar(x,  c.values())\n",
    "ax.set_xticks(x)\n",
    "ax.set_xticklabels(c.keys(), rotation = 90)\n",
    "fig.show()"
   ]
  }
 ],
 "metadata": {
  "kernelspec": {
   "display_name": "Python 3",
   "language": "python",
   "name": "python3"
  },
  "language_info": {
   "codemirror_mode": {
    "name": "ipython",
    "version": 3
   },
   "file_extension": ".py",
   "mimetype": "text/x-python",
   "name": "python",
   "nbconvert_exporter": "python",
   "pygments_lexer": "ipython3",
   "version": "3.8.2"
  }
 },
 "nbformat": 4,
 "nbformat_minor": 4
}
