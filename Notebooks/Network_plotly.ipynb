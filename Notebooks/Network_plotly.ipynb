{
 "cells": [
  {
   "cell_type": "markdown",
   "metadata": {},
   "source": [
    "# Visualization of networks"
   ]
  },
  {
   "cell_type": "code",
   "execution_count": 2,
   "metadata": {},
   "outputs": [
    {
     "ename": "ModuleNotFoundError",
     "evalue": "No module named 'jupyter_plotly_dash'",
     "output_type": "error",
     "traceback": [
      "\u001b[0;31m---------------------------------------------------------------------------\u001b[0m",
      "\u001b[0;31mModuleNotFoundError\u001b[0m                       Traceback (most recent call last)",
      "\u001b[0;32m<ipython-input-2-47388ee3fb8b>\u001b[0m in \u001b[0;36m<module>\u001b[0;34m\u001b[0m\n\u001b[0;32m----> 1\u001b[0;31m \u001b[0;32mfrom\u001b[0m \u001b[0mjupyter_plotly_dash\u001b[0m \u001b[0;32mimport\u001b[0m \u001b[0mJupyterDash\u001b[0m\u001b[0;34m\u001b[0m\u001b[0;34m\u001b[0m\u001b[0m\n\u001b[0m\u001b[1;32m      2\u001b[0m \u001b[0;32mimport\u001b[0m \u001b[0mdash\u001b[0m\u001b[0;34m\u001b[0m\u001b[0;34m\u001b[0m\u001b[0m\n\u001b[1;32m      3\u001b[0m \u001b[0;32mimport\u001b[0m \u001b[0mdash_core_components\u001b[0m \u001b[0;32mas\u001b[0m \u001b[0mdcc\u001b[0m\u001b[0;34m\u001b[0m\u001b[0;34m\u001b[0m\u001b[0m\n\u001b[1;32m      4\u001b[0m \u001b[0;32mimport\u001b[0m \u001b[0mdash_html_components\u001b[0m \u001b[0;32mas\u001b[0m \u001b[0mhtml\u001b[0m\u001b[0;34m\u001b[0m\u001b[0;34m\u001b[0m\u001b[0m\n\u001b[1;32m      5\u001b[0m \u001b[0;32mfrom\u001b[0m \u001b[0mdash\u001b[0m\u001b[0;34m.\u001b[0m\u001b[0mdependencies\u001b[0m \u001b[0;32mimport\u001b[0m \u001b[0mInput\u001b[0m\u001b[0;34m,\u001b[0m \u001b[0mOutput\u001b[0m\u001b[0;34m\u001b[0m\u001b[0;34m\u001b[0m\u001b[0m\n",
      "\u001b[0;31mModuleNotFoundError\u001b[0m: No module named 'jupyter_plotly_dash'"
     ]
    }
   ],
   "source": [
    "from jupyter_plotly_dash import JupyterDash\n",
    "import dash\n",
    "import dash_core_components as dcc\n",
    "import dash_html_components as html\n",
    "from dash.dependencies import Input, Output\n",
    "import plotly.express as px, plotly.graph_objects as go, numpy as np,\\\n",
    "networkx as nx\n",
    "\n",
    "# app = JupyterDash('SimpleExample')\n",
    "# app.layout = html.Div([\n",
    "#     html.Div(id = 'app_test'),\\\n",
    "#     html.Div([\n",
    "#         dcc.Slider(\n",
    "#         id   = 'time-slider',\n",
    "#         min  = 0,\n",
    "#         max  = 10,\n",
    "#         step = 1,\n",
    "#         value= 0,\n",
    "#         updatemode=  'drag'),\\\n",
    "#     dcc.Graph(id = 'animation'),\\\n",
    "#     ],\n",
    "# #     style = dict(width = 100, height = 100, margin = 'auto'), \n",
    "#     ),\n",
    "#     html.Div([\n",
    "\n",
    "#     ],\\\n",
    "#         style = dict(width = 50, height = 50,\\\n",
    "#                       margin = 'auto')),\\\n",
    "#     html.Div(id = 'time-slider-output')\n",
    "\n",
    "# ])\n",
    "# app"
   ]
  },
  {
   "cell_type": "code",
   "execution_count": null,
   "metadata": {},
   "outputs": [],
   "source": [
    "edges = []\n",
    "nodes = []\n",
    "g     = nx.erdos_renyi_graph(50, .5)\n",
    "pos   = nx.random_layout(g)\n",
    "seen  = set()\n",
    "\n",
    "for idx, edge in enumerate(g.edges()):\n",
    "    x1, x2 = [pos.get(i) for i in edge]\n",
    "    weight = g[edge[0]][edge[1]].get('weight', 1)\n",
    "    e = go.Scatter(x = [i[0] for i in [x1, x2]], \\\n",
    "                  y = [i[1] for i in [x1, x2]],\\\n",
    "                  mode = 'lines',\\\n",
    "                  line = dict(\\\n",
    "                             width = weight,\\\n",
    "                            color = 'green'),\\\n",
    "                  showlegend = False)\n",
    "    \n",
    "    edges.append(e)\n",
    "    for i in edge:\n",
    "        if i not in seen:\n",
    "            xi, yi = pos.get(i)\n",
    "            node = go.Scatter(x = [xi], y = [yi],\\\n",
    "                             mode = 'markers',\\\n",
    "                             marker = dict(size =10,\\\n",
    "                                          color = 'cornflowerblue'),\\\n",
    "                             showlegend = False)\n",
    "            nodes.append(node)\n",
    "            seen.add(i)\n",
    "\n",
    "fig = go.Figure()\n",
    "fig.add_traces(edges)\n",
    "fig.add_traces(nodes)\n",
    "fig.update_layout(xaxis = dict(showticklabels = False),\\\n",
    "                 yaxis = dict(showticklabels = False),\\\n",
    "                 width = 100,\\\n",
    "                 )\n",
    "fig.show()\n",
    "    "
   ]
  },
  {
   "cell_type": "code",
   "execution_count": null,
   "metadata": {},
   "outputs": [],
   "source": [
    "# this approach is less code, but you cannot control the individual elements\n",
    "# plotly seems to be a trace based approach; control graphical units and add them.\n",
    "\n",
    "# coordinates = np.array(coordinates)\n",
    "# print(coordinates[:, :3].shape, coordinates.shape)\n",
    "\n",
    "# markers = go.Scatter(x = coordinates[:, :2].flatten(), \\\n",
    "#                      y = coordinates[:, 3:].flatten(),\\\n",
    "# #                      mode = \"lines\",\\\n",
    "#                      line = dict(\\\n",
    "#                                 width = 3),\\\n",
    "# #                       marker = dict(\\\n",
    "# #                                    color = 'red'),\\\n",
    "# )\n",
    "# nodes = go.Scatter(x = coordinates[:, :2].flatten(),\\\n",
    "#                    y = coordinates[:, 3:].flatten(),\\\n",
    "#                    mode = \"markers\", \\\n",
    "#                   labels = ['a' for _ in range(len(coordinates))])\n",
    "# fig = go.Figure()\n",
    "# fig.add_trace(markers)\n",
    "# fig.add_trace(nodes)\n",
    "# fig.update_layout(width = 150)\n",
    "# fig.show()"
   ]
  }
 ],
 "metadata": {
  "kernelspec": {
   "display_name": "Python 3",
   "language": "python",
   "name": "python3"
  },
  "language_info": {
   "codemirror_mode": {
    "name": "ipython",
    "version": 3
   },
   "file_extension": ".py",
   "mimetype": "text/x-python",
   "name": "python",
   "nbconvert_exporter": "python",
   "pygments_lexer": "ipython3",
   "version": "3.8.3"
  }
 },
 "nbformat": 4,
 "nbformat_minor": 4
}
