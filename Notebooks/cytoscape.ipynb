{
 "cells": [
  {
   "cell_type": "code",
   "execution_count": 90,
   "metadata": {},
   "outputs": [
    {
     "data": {
      "application/vnd.jupyter.widget-view+json": {
       "model_id": "6a31433884094ffcb09d8dd67fc0afde",
       "version_major": 2,
       "version_minor": 0
      },
      "text/plain": [
       "interactive(children=(IntSlider(value=0, description='x', max=9999), Output()), _dom_classes=('widget-interact…"
      ]
     },
     "metadata": {},
     "output_type": "display_data"
    },
    {
     "data": {
      "application/vnd.jupyter.widget-view+json": {
       "model_id": "c751fa2a7c2d4635885a2c4cd221e559",
       "version_major": 2,
       "version_minor": 0
      },
      "text/plain": [
       "CytoscapeWidget(cytoscape_layout={'name': 'cose'}, cytoscape_style=[{'selector': 'node', 'css': {'background-c…"
      ]
     },
     "metadata": {},
     "output_type": "display_data"
    }
   ],
   "source": [
    "import numpy as np\n",
    "from ipycytoscape import CytoscapeWidget\n",
    "import ipywidgets as iw\n",
    "import networkx as nx, numpy as np, matplotlib.pyplot as plt, matplotlib as mpl\n",
    "from imi.utils.plotting import get_linear_cmap\n",
    "from plexsim.models import Potts\n",
    "from ipycytoscape import CytoscapeWidget\n",
    "class Visualizer:\n",
    "    def __init__(self, graph, style = [],\n",
    "                 layout = dict(name = \"cose\",\n",
    "                               animate = False),\n",
    "                 positions = dict(),\n",
    "                ):\n",
    "        self.graph = graph\n",
    "        self.widget= CytoscapeWidget()\n",
    "        self.widget.graph.add_graph_from_networkx(graph,)\n",
    "        self.update_nodes()\n",
    "        \n",
    "        if not style:\n",
    "            style = [\n",
    "            dict(selector = 'node',\n",
    "                  css = {\n",
    "                      \"background-color\": \"data(color)\",\n",
    "                      \"text-outline-width\" : 1,\n",
    "                      \"position\" : \"position\",\n",
    "                        }),\n",
    "                dict(selector = ':selected',\n",
    "                    css = {\"background-color\" : 'red',\n",
    "                           \"line-color\" : \"black\",\n",
    "                           \"source-arrow-color\" : \"yellow\",\n",
    "                           \"target-arrow-color\" : \"purple\"})]\n",
    "        \n",
    "        self.nodes = {node.data['id']: node for node in self.widget.graph.nodes}    \n",
    "        if positions:\n",
    "            self.set_positions(positions)\n",
    "            \n",
    "         \n",
    "        self.widget.set_style(style)\n",
    "        self.widget.set_layout(**layout)\n",
    "    def set_positions(self, positions : dict):\n",
    "        for k, (x, y) in positions.items():\n",
    "            k = str(k)\n",
    "            c = dict(x = x, y = y)\n",
    "            self.nodes[k].position = c\n",
    "            \n",
    "    def update_nodes(self, data = None, colors = None):\n",
    "        if not isinstance(None, type(data)):\n",
    "            for idx, c in enumerate(data):\n",
    "                node = self.widget.graph.nodes[idx]\n",
    "                node.data['color'] = colors[int(c)]\n",
    "        else:\n",
    "            for node in self.widget.graph.nodes:\n",
    "                if np.random.rand() < .5:\n",
    "                    node.data['color'] = 'red'\n",
    "                else:\n",
    "                    node.data['color'] = 'blue'\n",
    "\n",
    "\n",
    "from imi.utils.graph import recursive_tree\n",
    "from imi.utils.plotting import get_shell_layout\n",
    "g = nx.barabasi_albert_graph(50, 4)\n",
    "g = recursive_tree(6)\n",
    "p = get_shell_layout(g, rotate = -.1)\n",
    "m = Potts(g, t = 1.5, sampleSize = 1)\n",
    "data = m.simulate(10000)\n",
    "\n",
    "colors = [mpl.colors.to_hex(i) for i in get_linear_cmap(m.nStates)]\n",
    "layout = dict(name = 'cose',\n",
    "             )\n",
    "p = nx.random_layout(g)\n",
    "v = Visualizer(m.graph, layout = layout, positions = p)\n",
    "ts = iw.IntSlider(min = 0, max = len(data) - 1, step = 1)\n",
    "def callback(*args, **kwargs):\n",
    "    x = kwargs.get('x')\n",
    "    v.update_nodes(data = data[x], colors = colors)\n",
    "plot = iw.interactive(callback, x = ts)\n",
    "display(plot)\n",
    "v.widget"
   ]
  },
  {
   "cell_type": "code",
   "execution_count": 62,
   "metadata": {},
   "outputs": [
    {
     "data": {
      "text/plain": [
       "{}"
      ]
     },
     "execution_count": 62,
     "metadata": {},
     "output_type": "execute_result"
    }
   ],
   "source": [
    "v.widget.graph.nodes[0].position"
   ]
  },
  {
   "cell_type": "code",
   "execution_count": null,
   "metadata": {},
   "outputs": [],
   "source": []
  },
  {
   "cell_type": "code",
   "execution_count": null,
   "metadata": {},
   "outputs": [],
   "source": []
  }
 ],
 "metadata": {
  "kernelspec": {
   "display_name": "Python 3",
   "language": "python",
   "name": "python3"
  },
  "language_info": {
   "codemirror_mode": {
    "name": "ipython",
    "version": 3
   },
   "file_extension": ".py",
   "mimetype": "text/x-python",
   "name": "python",
   "nbconvert_exporter": "python",
   "pygments_lexer": "ipython3",
   "version": "3.8.3"
  }
 },
 "nbformat": 4,
 "nbformat_minor": 4
}
