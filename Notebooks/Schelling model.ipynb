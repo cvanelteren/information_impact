{
 "cells": [
  {
   "cell_type": "markdown",
   "metadata": {},
   "source": [
    "# Schelling model of social segregation\n",
    "\n",
    "In 1969 Schelling studied the emergent property of segregation. He developed a very simple model where agents have a 'happiness' factor when they are in the vincinity of other people that share similar traits. The model shows that even a small fraction of preference regardless of intent can lead to total segregation. \n",
    "\n",
    "## Agent behavior\n",
    "An agent is said to be happy if $\\theta$ nearest neighbor share fraction $\\rho$ of similar features.  The amount of overlap in preference $\\rho$ will form a decision boundary for the agent to move or not. It will move if the agent is unhappy and conversely remain fixed in position if it is happy. The agents will be spawned on a unit grid  $G = (0, 1)^2$ and each agent will have a position on that grid $s_i \\in G$. Each agent will be given an arbritrary label $q \\in Q_n := \\{0, 1, \\dots n\\}$ of at most $n$ states. \n"
   ]
  },
  {
   "cell_type": "code",
   "execution_count": null,
   "metadata": {},
   "outputs": [],
   "source": [
    "import numpy as np, matplotlib.pyplot as plt\n",
    "\n",
    "n      = 100 # number of agents\n",
    "nStates= 2   # preference labels\n",
    "theta  = 5  # neighbors to consider\n",
    "rho    = .5  # fraction to consider\n",
    "eta    = 0.1e-3 # update for move\n",
    "dims   = np.array([[0, 1], [0, 1]], dtype = int) # grid \n",
    "\n",
    "states = np.random.randint(0, nStates, size = n) # states of agents\n",
    "nSim   = 500\n",
    "\n",
    "idx    = np.arange(n)\n",
    "# naive approach; need method for fast local nearest neighbor -> partition the space?\n",
    "\n",
    "data = np.random.rand(nSim, n, 2) # keep track of positions\n",
    "\n",
    "for time in range(1, nSim):\n",
    "    np.random.shuffle(idx)\n",
    "    for agent in idx:\n",
    "        # get nearest neighbors\n",
    "        s    = np.linalg.norm(data[time - 1], axis = 1)\n",
    "        sidx = np.argsort(s)\n",
    "        # move\n",
    "        rho_bar = (states[sidx[theta:]] == states[agent]).mean()\n",
    "        if rho_bar < rho:\n",
    "            # random move? diffusion move? \n",
    "            \n",
    "            prop = data[nSim - 1, agent] + np.random.rand(1, 2) * eta\n",
    "            while not np.all(prop > dims):\n",
    "                prop = data[nSim - 1, agent] + np.random.rand(1, 2) * eta\n",
    "                \n",
    "            print(np.all(prop > dims))\n",
    "            data[nSim, agent] = prop\n",
    "            \n",
    "            \n",
    "colors = plt.cm.tab20(states)\n",
    "%matplotlib notebook\n",
    "fig, ax = plt.subplots()\n",
    "ax.set(xlim = (0, 1), ylim = (0, 1))\n",
    "h = ax.scatter(*data[0].T, color = colors)\n",
    "# h.set_offset_position('data')\n",
    "print(h)\n",
    "fig.show()\n",
    "\n",
    "from ipywidgets import interact, interactive, fixed, interact_manual\n",
    "import ipywidgets as widgets\n",
    "\n",
    "slider = widgets.IntSlider(min = 0, max = nSim - 1, value = 0)\n",
    "@interact(time = slider)\n",
    "def update(time = 0):\n",
    "    h.set_offsets(data[time])# ?\n",
    "    fig.canvas.draw()\n",
    "    fig.canvas.flush_events()\n"
   ]
  },
  {
   "cell_type": "code",
   "execution_count": 3,
   "metadata": {},
   "outputs": [
    {
     "data": {
      "image/png": "[encoded data removed]",
      "text/plain": [
       "<Figure size 432x288 with 1 Axes>"
      ]
     },
     "metadata": {
      "needs_background": "light"
     },
     "output_type": "display_data"
    }
   ],
   "source": [
    "fig, ax = plt.subplots()\n",
    "ax.imshow(data[:, 0], aspect = 'auto')\n",
    "fig.show()\n",
    "\n"
   ]
  },
  {
   "cell_type": "code",
   "execution_count": null,
   "metadata": {},
   "outputs": [],
   "source": [
    "h.update(dict(offsets = data[0]))\n",
    "\n",
    "np.all(data[0] == h.get_offsets())"
   ]
  }
 ],
 "metadata": {
  "kernelspec": {
   "display_name": "Python 3",
   "language": "python",
   "name": "python3"
  },
  "language_info": {
   "codemirror_mode": {
    "name": "ipython",
    "version": 3
   },
   "file_extension": ".py",
   "mimetype": "text/x-python",
   "name": "python",
   "nbconvert_exporter": "python",
   "pygments_lexer": "ipython3",
   "version": "3.7.3"
  }
 },
 "nbformat": 4,
 "nbformat_minor": 2
}
