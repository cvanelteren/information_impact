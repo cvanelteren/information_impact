{
 "cells": [
  {
   "cell_type": "code",
   "execution_count": 37,
   "metadata": {},
   "outputs": [
    {
     "name": "stdout",
     "output_type": "stream",
     "text": [
      "{'model': {'name': 'plexsim.models.Ising', 'graph': {'name': 'Utils.graphs.recursive_tree', 'settings': {'n': 10, 'jump': 0}}}, 'simulation': {'snapshots': {'n': 1000000}, 'conditional': {'n': 10000, 'time_steps': 2}}}\n"
     ]
    }
   ],
   "source": [
    "import toml, sys; sys.path.insert(0, '../')\n",
    "import importlib\n",
    "from importlib import import_module\n",
    "settings = toml.load('../run_settings.toml')\n",
    "print(settings)\n",
    "# from plexsim import models\n",
    "\n",
    "def load_class(string):\n",
    "    \"\"\"Assume string is dotted\"\"\"\n",
    "    string_  = string.split(\".\")\n",
    "    splitted = \".\".join(string_[:-1])\n",
    "    m = importlib.import_module(splitted)\n",
    "    return getattr(m, string_[-1])\n",
    "\n",
    "model = load_class(settings.get('model').get(\"name\"))"
   ]
  }
 ],
 "metadata": {
  "kernelspec": {
   "display_name": "Python 3",
   "language": "python",
   "name": "python3"
  },
  "language_info": {
   "codemirror_mode": {
    "name": "ipython",
    "version": 3
   },
   "file_extension": ".py",
   "mimetype": "text/x-python",
   "name": "python",
   "nbconvert_exporter": "python",
   "pygments_lexer": "ipython3",
   "version": "3.8.5"
  }
 },
 "nbformat": 4,
 "nbformat_minor": 4
}
