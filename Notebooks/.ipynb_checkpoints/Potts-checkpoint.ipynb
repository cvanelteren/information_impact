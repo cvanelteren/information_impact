{
 "cells": [
  {
   "cell_type": "code",
   "execution_count": null,
   "metadata": {},
   "outputs": [],
   "source": [
    "%load_ext autoreload\n",
    "%autoreload 2\n",
    "import sys, networkx as nx, matplotlib.pyplot as plt\n",
    "sys.path.insert(0, '../')\n",
    "from Models.potts import Potts\n",
    "from Models.fastIsing import Ising\n",
    "import numpy as np\n",
    "\n",
    "n = 64\n",
    "g = nx.grid_2d_graph(n, n)\n",
    "model = Potts(g, agentStates = [0, 1, 2])\n",
    "\n",
    "model.reset()\n",
    "model.updateType = 'async'\n",
    "model.t = .5\n",
    "res = model.simulate(int(1e4))\n",
    "%matplotlib notebook\n",
    "from ipywidgets import interact, interactive, fixed, interact_manual\n",
    "import ipywidgets as widgets\n",
    "fig, ax = plt.subplots(figsize = (5,5))\n",
    "ax.set_xlabel('Node', fontsize = 20)\n",
    "ax.set_ylabel('Node', fontsize = 20)\n",
    "ax.set(xticks = [], yticks = [])\n",
    "h = ax.imshow(res[0].reshape(n,n), aspect = 'equal')\n",
    "def update(time_step = 0):\n",
    "    try:\n",
    "        h.set_data(res[time_step].reshape(n,n))\n",
    "#     ax.set_title(f'Time = {time_step}')\n",
    "        fig.canvas.draw()\n",
    "    except Exception as e: print(e)\n",
    "interact(update, time_step = widgets.IntSlider(min = 0, max = res.shape[0]-1, value = 0));"
   ]
  },
  {
   "cell_type": "code",
   "execution_count": null,
   "metadata": {},
   "outputs": [],
   "source": [
    "fig, ax = plt.subplots()\n",
    "ax.imshow(res[-1].reshape(n, n))"
   ]
  },
  {
   "cell_type": "code",
   "execution_count": null,
   "metadata": {},
   "outputs": [],
   "source": [
    "fig, ax = plt.subplots()\n",
    "ax.plot(res.mean(1))\n"
   ]
  }
 ],
 "metadata": {
  "kernelspec": {
   "display_name": "Python 3",
   "language": "python",
   "name": "python3"
  },
  "language_info": {
   "codemirror_mode": {
    "name": "ipython",
    "version": 3
   },
   "file_extension": ".py",
   "mimetype": "text/x-python",
   "name": "python",
   "nbconvert_exporter": "python",
   "pygments_lexer": "ipython3",
   "version": "3.7.1"
  },
  "latex_envs": {
   "LaTeX_envs_menu_present": false,
   "autoclose": false,
   "autocomplete": false,
   "bibliofile": "library.bib",
   "cite_by": "apalike",
   "current_citInitial": 1,
   "eqLabelWithNumbers": false,
   "eqNumInitial": 1,
   "hotkeys": {
    "equation": "Ctrl-E",
    "itemize": "Ctrl-I"
   },
   "labels_anchors": false,
   "latex_user_defs": false,
   "report_style_numbering": false,
   "user_envs_cfg": false
  }
 },
 "nbformat": 4,
 "nbformat_minor": 2
}
