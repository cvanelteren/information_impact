{
 "cells": [
  {
   "cell_type": "code",
   "execution_count": null,
   "metadata": {
    "scrolled": true
   },
   "outputs": [
    {
     "name": "stderr",
     "output_type": "stream",
     "text": [
      "\n",
      "\n",
      "\n",
      "\n",
      "  0%|          | 0/100 [00:00<?, ?it/s]\u001b[A\u001b[A\u001b[A\u001b[A"
     ]
    },
    {
     "name": "stdout",
     "output_type": "stream",
     "text": [
      "[0, 1, 2]\n",
      "Computing mag per t\n"
     ]
    },
    {
     "name": "stderr",
     "output_type": "stream",
     "text": [
      "\n",
      "\n",
      "\n",
      "\n",
      "  1%|          | 1/100 [00:07<12:19,  7.47s/it]\u001b[A\u001b[A\u001b[A\u001b[A\n",
      "\n",
      "\n",
      "\n",
      "  3%|▎         | 3/100 [00:11<08:03,  4.98s/it]\u001b[A\u001b[A\u001b[A\u001b[A\n",
      "\n",
      "\n",
      "\n",
      "  5%|▌         | 5/100 [00:15<05:22,  3.39s/it]\u001b[A\u001b[A\u001b[A\u001b[A\n",
      "\n",
      "\n",
      "\n",
      "  7%|▋         | 7/100 [00:18<05:49,  3.76s/it]\u001b[A\u001b[A\u001b[A\u001b[A\n",
      "\n",
      "\n",
      "\n",
      "  9%|▉         | 9/100 [00:19<06:55,  4.57s/it]\u001b[A\u001b[A\u001b[A\u001b[A\n",
      "\n",
      "\n",
      "\n",
      " 10%|█         | 10/100 [00:24<08:20,  5.56s/it]\u001b[A\u001b[A\u001b[A\u001b[A\n",
      "\n",
      "\n",
      "\n",
      " 12%|█▏        | 12/100 [00:25<09:33,  6.52s/it]\u001b[A\u001b[A\u001b[A\u001b[A\n",
      "\n",
      "\n",
      "\n",
      " 12%|█▏        | 12/100 [00:25<09:33,  6.52s/it]\u001b[A\u001b[A\u001b[A\u001b[A\n",
      "\n",
      "\n",
      "\n",
      " 13%|█▎        | 13/100 [00:27<10:30,  7.24s/it]\u001b[A\u001b[A\u001b[A\u001b[A\n",
      "\n",
      "\n",
      "\n",
      " 14%|█▍        | 14/100 [00:29<10:44,  7.49s/it]\u001b[A\u001b[A\u001b[A\u001b[A\n",
      "\n",
      "\n",
      "\n",
      " 15%|█▌        | 15/100 [00:31<11:30,  8.12s/it]\u001b[A\u001b[A\u001b[A\u001b[A\n",
      "\n",
      "\n",
      "\n",
      " 16%|█▌        | 16/100 [00:33<12:45,  9.11s/it]\u001b[A\u001b[A\u001b[A\u001b[A\n",
      "\n",
      "\n",
      "\n",
      " 18%|█▊        | 18/100 [00:34<12:20,  9.04s/it]\u001b[A\u001b[A\u001b[A\u001b[A\n",
      "\n",
      "\n",
      "\n",
      " 18%|█▊        | 18/100 [00:37<12:20,  9.04s/it]\u001b[A\u001b[A\u001b[A\u001b[A\n",
      "\n",
      "\n",
      "\n",
      " 20%|██        | 20/100 [00:40<13:36, 10.20s/it]\u001b[A\u001b[A\u001b[A\u001b[A\n",
      "\n",
      "\n",
      "\n",
      " 21%|██        | 21/100 [00:40<13:54, 10.57s/it]\u001b[A\u001b[A\u001b[A\u001b[A"
     ]
    }
   ],
   "source": [
    "import sys\n",
    "sys.path.insert(0, '../')\n",
    "from matplotlib import style; style.use('seaborn-notebook')\n",
    "from PlexSim import *\n",
    "from PlexSim.Models import Potts\n",
    "from PlexSim.Models.FastIsing import Ising\n",
    "import networkx as nx, matplotlib.pyplot as plt, numpy as np\n",
    "from Utils import IO\n",
    "%matplotlib widget\n",
    "n = 32\n",
    "\n",
    "# g = nx.erdos_renyi_graph(n, .2)\n",
    "# g = nx.complete_graph(50)\n",
    "\n",
    "# dataDir = '../Graphs' # relative path careful\n",
    "# df    = IO.readCSV('{}/Graph_min1_1.csv'.format(dataDir), header = 0, index_col = 0)\n",
    "# h     = IO.readCSV('{}/External_min1_1.csv'.format(dataDir), header = 0, index_col = 0)\n",
    "# g   = nx.from_pandas_adjacency(df) \n",
    "# attr = {node : \\\n",
    "#         dict(H = row['externalField']) for node, row in h.iterrows()}\n",
    "# nx.set_node_attributes(g, attr)\n",
    "\n",
    "g = nx.grid_2d_graph(n, n)\n",
    "# states = np.arange(0, 1000).tolist()\n",
    "states = np.arange(0, 3).tolist()\n",
    "# states = [-1, 1]\n",
    "print(states)\n",
    "m =  Potts.Potts(graph = g, \\\n",
    "                 agentStates = states,\\\n",
    "                 updateType = '0.5',\\\n",
    "                magSide = '', memorySize = 10)\n",
    "\n",
    "\n",
    "# fig, ax = plt.subplots()\n",
    "# ax.imshow(m.simulate(100))\n",
    "# fig.show()\n",
    "\n",
    "# m =  Ising(graph = g, updateType = '0.25')\n",
    "temps = np.geomspace(1e-5, 10, 100)\n",
    "\n",
    "# print(temps)\n",
    "mag, sus = m.matchMagnetization(temps, 1000)\n",
    "\n",
    "# print(mag)"
   ]
  },
  {
   "cell_type": "code",
   "execution_count": null,
   "metadata": {},
   "outputs": [],
   "source": [
    "def sig(x, a, b, c):\n",
    "    return 1/(1 + np.exp(-b * (x - c)))\n",
    "\n",
    "def exp(x, a, b):\n",
    "    return np.exp(-b * (x - a))\n",
    "from scipy import interpolate\n",
    "func = sig\n",
    "# f = interpolate.BSpline(temps, mag, k = 1, extrapolate  = 0)\n",
    "from scipy import optimize\n",
    "a, b = optimize.curve_fit(func, temps, mag, maxfev = 1000)\n",
    "\n",
    "\n",
    "%matplotlib widget\n",
    "xr = np.linspace(temps.min(), temps.max())\n",
    "fig, ax = plt.subplots(figsize = (10, 3))\n",
    "ax.scatter(temps, mag)\n",
    "tax = ax.twinx()\n",
    "tax.scatter(temps, sus, color = 'red')\n",
    "\n",
    "ax.plot(xr, func(xr, *a), linestyle = 'dashed', color = 'k')\n",
    "ax.plot(xr, f(xr), linestyle = 'dashed', color = 'green')\n",
    "\n",
    "ax.set(xlabel = 'temperature', ylabel = 'average mag')\n",
    "tax.set_ylabel('suseptibility')\n",
    "idx = np.argmin(abs(mag - .5 * mag.max()))\n",
    "ax.axvline(temps[idx], color = 'red', linestyle = 'dashed')\n",
    "# ax.set(xlim = (0, 20))\n",
    "# ax.set(xscale = 'log')\n",
    "fig.show()\n",
    "\n",
    "t = optimize.fmin(lambda x: abs(func(x, *a) - .5 * mag.max()), 0)\n"
   ]
  },
  {
   "cell_type": "code",
   "execution_count": null,
   "metadata": {},
   "outputs": [],
   "source": [
    "%matplotlib notebook\n",
    "import ipywidgets as ipy\n",
    "\n",
    "m.reset()\n",
    "m.t = t\n",
    "res = m.simulate(10000)\n",
    "\n",
    "%matplotlib widget\n",
    "fig, ax = plt.subplots(figsize = (4, 4))\n",
    "h = ax.imshow(res[0].reshape(n, n))\n",
    "fig.show()\n",
    "\n",
    "timeSlider = ipy.widgets.IntSlider(min = 0, max = res.shape[0] - 1, \\\n",
    "                                   value = 0, orientation = 'vertical')\n",
    "# ipy.VBox([timeSlider, fig])\n",
    "# @ipy.interact(time = timeSlider)\n",
    "def update(time):\n",
    "    h.set_data(res[time].reshape(n, n))\n",
    "    fig.canvas.draw(); fig.canvas.flush_events()\n",
    "#     fig.show()\n",
    "widget = ipy.interactive(update, time = timeSlider)\n",
    "layout = ipy.Layout(display = 'flex',\\\n",
    "                   flex_flow = 'row',\\\n",
    "                   justify_content = 'space-between',\\\n",
    "                   align_items = 'center',\\\n",
    "                   )\n",
    "widgets = ipy.HBox(widget.children[::-1], layout = layout)\n",
    "from IPython.display import display\n",
    "display(widgets)"
   ]
  },
  {
   "cell_type": "code",
   "execution_count": 15,
   "metadata": {},
   "outputs": [
    {
     "data": {
      "application/vnd.jupyter.widget-view+json": {
       "model_id": "",
       "version_major": 2,
       "version_minor": 0
      },
      "text/plain": [
       "Canvas(toolbar=Toolbar(toolitems=[('Home', 'Reset original view', 'home', 'home'), ('Back', 'Back to previous …"
      ]
     },
     "metadata": {},
     "output_type": "display_data"
    }
   ],
   "source": [
    "fig, ax = plt.subplots()\n",
    "ax.plot(res.mean(1))\n",
    "fig.show()"
   ]
  },
  {
   "cell_type": "code",
   "execution_count": 16,
   "metadata": {},
   "outputs": [
    {
     "data": {
      "application/vnd.jupyter.widget-view+json": {
       "model_id": "",
       "version_major": 2,
       "version_minor": 0
      },
      "text/plain": [
       "Canvas(toolbar=Toolbar(toolitems=[('Home', 'Reset original view', 'home', 'home'), ('Back', 'Back to previous …"
      ]
     },
     "metadata": {},
     "output_type": "display_data"
    },
    {
     "name": "stdout",
     "output_type": "stream",
     "text": [
      "(240,)\n",
      "(240, 2)\n"
     ]
    },
    {
     "data": {
      "application/vnd.jupyter.widget-view+json": {
       "model_id": "",
       "version_major": 2,
       "version_minor": 0
      },
      "text/plain": [
       "Canvas(toolbar=Toolbar(toolitems=[('Home', 'Reset original view', 'home', 'home'), ('Back', 'Back to previous …"
      ]
     },
     "metadata": {},
     "output_type": "display_data"
    }
   ],
   "source": [
    "fig, ax = plt.subplots()\n",
    "x = np.random.standard_normal(100)\n",
    "\n",
    "x = np.random.rand(100)\n",
    "y = 2 + 3  * x + 4 * np.random.standard_normal(x.size)\n",
    "\n",
    "\n",
    "g = nx.hexagonal_lattice_graph(10, 10)\n",
    "states = np.arange(0, 4).tolist()\n",
    "m =  Potts.Potts(graph = g, \\\n",
    "                 agentStates = states,\\\n",
    "                 updateType = '.25')\n",
    "\n",
    "y = m.simulate(100).mean(0)\n",
    "\n",
    "print(y.shape)\n",
    "x = np.asarray(g.nodes())\n",
    "print(x.shape)\n",
    "fig, ax = plt.subplots()\n",
    "h = ax.hexbin(*x.T, C = y)\n",
    "fig.show()"
   ]
  },
  {
   "cell_type": "code",
   "execution_count": 17,
   "metadata": {},
   "outputs": [
    {
     "ename": "ModuleNotFoundError",
     "evalue": "No module named 'Models'",
     "output_type": "error",
     "traceback": [
      "\u001b[0;31m---------------------------------------------------------------------------\u001b[0m",
      "\u001b[0;31mModuleNotFoundError\u001b[0m                       Traceback (most recent call last)",
      "\u001b[0;32m<ipython-input-17-0d9516b4c439>\u001b[0m in \u001b[0;36m<module>\u001b[0;34m\u001b[0m\n\u001b[1;32m      1\u001b[0m \u001b[0mget_ipython\u001b[0m\u001b[0;34m(\u001b[0m\u001b[0;34m)\u001b[0m\u001b[0;34m.\u001b[0m\u001b[0mrun_line_magic\u001b[0m\u001b[0;34m(\u001b[0m\u001b[0;34m'load_ext'\u001b[0m\u001b[0;34m,\u001b[0m \u001b[0;34m'autoreload'\u001b[0m\u001b[0;34m)\u001b[0m\u001b[0;34m\u001b[0m\u001b[0;34m\u001b[0m\u001b[0m\n\u001b[1;32m      2\u001b[0m \u001b[0mget_ipython\u001b[0m\u001b[0;34m(\u001b[0m\u001b[0;34m)\u001b[0m\u001b[0;34m.\u001b[0m\u001b[0mrun_line_magic\u001b[0m\u001b[0;34m(\u001b[0m\u001b[0;34m'autoreload'\u001b[0m\u001b[0;34m,\u001b[0m \u001b[0;34m'2'\u001b[0m\u001b[0;34m)\u001b[0m\u001b[0;34m\u001b[0m\u001b[0;34m\u001b[0m\u001b[0m\n\u001b[0;32m----> 3\u001b[0;31m \u001b[0;32mfrom\u001b[0m \u001b[0mModels\u001b[0m\u001b[0;34m.\u001b[0m\u001b[0mFastIsing\u001b[0m \u001b[0;32mimport\u001b[0m \u001b[0mIsing\u001b[0m\u001b[0;34m\u001b[0m\u001b[0;34m\u001b[0m\u001b[0m\n\u001b[0m\u001b[1;32m      4\u001b[0m \u001b[0;32mfrom\u001b[0m \u001b[0mToolbox\u001b[0m \u001b[0;32mimport\u001b[0m \u001b[0minfcy\u001b[0m\u001b[0;34m\u001b[0m\u001b[0;34m\u001b[0m\u001b[0m\n\u001b[1;32m      5\u001b[0m \u001b[0;34m\u001b[0m\u001b[0m\n",
      "\u001b[0;31mModuleNotFoundError\u001b[0m: No module named 'Models'"
     ]
    }
   ],
   "source": [
    "%load_ext autoreload\n",
    "%autoreload 2\n",
    "from Models.FastIsing import Ising\n",
    "from Toolbox import infcy\n",
    "\n",
    "m = Ising(g)\n",
    "m.matchMagnetization()\n",
    "\n",
    "m.matchMagnetization()\n",
    "snapshots = infcy.getSnapShots(m, 100)\n",
    "infcy.runMC(m, snapshots, 10, 30)"
   ]
  },
  {
   "cell_type": "code",
   "execution_count": null,
   "metadata": {},
   "outputs": [],
   "source": [
    "a = np.random.rand(10, 3)\n",
    "np.isfortran(a)"
   ]
  },
  {
   "cell_type": "code",
   "execution_count": null,
   "metadata": {},
   "outputs": [],
   "source": [
    "ratios = m.matched.get('ratios').items()\n",
    "ratios = np.asarray(list(ratios))\n",
    "\n",
    "print(ratios.shape, ratios)\n",
    "fig, ax = plt.subplots()\n",
    "ax.plot(*m.matched.get('mag')[[0, 1]], linestyle = '-', marker = '.')\n",
    "ax.scatter(ratios[:,1], ratios[:, 0], color = 'red')\n",
    "fig.show()"
   ]
  },
  {
   "cell_type": "code",
   "execution_count": null,
   "metadata": {},
   "outputs": [],
   "source": [
    "from IPython.display import display, clear_output\n",
    "from ipywidgets import interact, fixed, IntSlider, HBox, Layout, Output, VBox\n",
    "import numpy as np \n",
    "import matplotlib.pyplot as plt\n",
    "%matplotlib notebook\n",
    "\n",
    "def rotate(theta, xs, ys):\n",
    "    new_xs = xs * np.cos(np.deg2rad(theta)) - ys * np.sin(np.deg2rad(theta))\n",
    "    new_xs -= new_xs.min()\n",
    "    new_ys = xs * np.sin(np.deg2rad(theta)) + ys * np.cos(np.deg2rad(theta))\n",
    "    new_ys -= new_ys.min()\n",
    "    return new_xs, new_ys\n",
    "\n",
    "out = Output(layout={'width': '300px', 'height': '300px'})\n",
    "xs = np.random.randint(0, 10, 50) \n",
    "ys = np.random.randint(0, 10, 50) \n",
    "\n",
    "fig, ax = plt.subplots(figsize = (4,4))\n",
    "scat, = ax.plot(xs, ys, 'kx', markersize=1000)      \n",
    "ax.grid(which='both', color='.25', lw=.1)\n",
    "ax.set_aspect('equal'), ax.set_title('Rotate')\n",
    "fig.show()\n",
    "def update_plot(change): \n",
    "    theta = change['new'] # new slider value \n",
    "    with out: \n",
    "        clear_output(wait=True)\n",
    "#         fig = plt.figure(figsize=(4,4))\n",
    "#         ax = fig.add_subplot(111)\n",
    "        new_xs, new_ys = rotate(theta, xs, ys) \n",
    "        scat.set_data(new_xs, new_ys)\n",
    "#         ax.relim()\n",
    "        ax.set_xlim(new_xs.min() - 500, new_xs.max() + 500)\n",
    "        ax.set_ylim(new_ys.min() - 500, new_ys.max() + 500)\n",
    "        fig.canvas.flush_events()\n",
    "        fig.canvas.draw()\n",
    "        fig.show()\n",
    "#     print('Done')\n",
    "        \n",
    "\n",
    "slider = IntSlider(min=-180, max=180, step=5, value=0, orientation='vertical') \n",
    "slider.observe(update_plot, 'value')\n",
    "update_plot({'new': slider.value}) \n",
    "display(HBox([out, slider]))"
   ]
  },
  {
   "cell_type": "code",
   "execution_count": null,
   "metadata": {},
   "outputs": [],
   "source": [
    "scat.get_data()"
   ]
  }
 ],
 "metadata": {
  "kernelspec": {
   "display_name": "Python 3",
   "language": "python",
   "name": "python3"
  },
  "language_info": {
   "codemirror_mode": {
    "name": "ipython",
    "version": 3
   },
   "file_extension": ".py",
   "mimetype": "text/x-python",
   "name": "python",
   "nbconvert_exporter": "python",
   "pygments_lexer": "ipython3",
   "version": "3.8.0"
  },
  "toc": {
   "base_numbering": 1,
   "nav_menu": {},
   "number_sections": true,
   "sideBar": true,
   "skip_h1_title": false,
   "title_cell": "Table of Contents",
   "title_sidebar": "Contents",
   "toc_cell": false,
   "toc_position": {},
   "toc_section_display": true,
   "toc_window_display": false
  }
 },
 "nbformat": 4,
 "nbformat_minor": 4
}
