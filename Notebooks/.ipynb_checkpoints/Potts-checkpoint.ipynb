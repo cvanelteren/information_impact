{
 "cells": [
  {
   "cell_type": "code",
   "execution_count": null,
   "metadata": {
    "scrolled": true
   },
   "outputs": [
    {
     "data": {
      "application/vnd.jupyter.widget-view+json": {
       "model_id": "7d46013ba7b84d66a5a85e636e9a5dd3",
       "version_major": 2,
       "version_minor": 0
      },
      "text/plain": [
       "Canvas(toolbar=Toolbar(toolitems=[('Home', 'Reset original view', 'home', 'home'), ('Back', 'Back to previous …"
      ]
     },
     "metadata": {},
     "output_type": "display_data"
    }
   ],
   "source": [
    "import sys\n",
    "sys.path.insert(0, '../')\n",
    "from matplotlib import style; style.use('seaborn-notebook')\n",
    "from PlexSim.Models import Models\n",
    "from PlexSim.Models.Potts import Potts\n",
    "from PlexSim.Models.RBN import RBN\n",
    "from PlexSim.Models.FastIsing import Ising\n",
    "import networkx as nx, matplotlib.pyplot as plt, numpy as np\n",
    "from Utils import IO\n",
    "# %matplotlib notebook\n",
    "n = 128\n",
    "\n",
    "# g = nx.erdos_renyi_graph(n, .2)\n",
    "# g = nx.complete_graph(50)\n",
    "\n",
    "dataDir = '../Graphs' # relative path careful\n",
    "df    = IO.readCSV('{}/Graph_min1_1.csv'.format(dataDir), header = 0, index_col = 0)\n",
    "# h     = IO.readCSV('{}/External_min1_1.csv'.format(dataDir), header = 0, index_col = 0)\n",
    "# g   = nx.from_pandas_adjacency(df) \n",
    "# attr = {node : \\\n",
    "#         dict(H = row['externalField']) for node, row in h.iterrows()}\n",
    "# nx.set_node_attributes(g, attr)\n",
    "\n",
    "# g = nx.erdos_renyi_graph(10, .4)\n",
    "# g = nx.random_regular_graph(4, 10)\n",
    "g = nx.grid_2d_graph(n, n)\n",
    "fig, ax = plt.subplots(); nx.draw(g, ax = ax); fig.show()\n",
    "# states = np.arange(0, 1000).tolist()\n",
    "# g = nx.path_graph(3)\n",
    "\n",
    "states = np.arange(0, 3).tolist()\n",
    "n = 0\n",
    "n = 1\n",
    "\n",
    "m =  Potts(graph = g,\n",
    "           t = n,\\\n",
    "           updateType = \"single\",\n",
    "        agentStates = states)\n",
    "\n",
    "# fig, ax = plt.subplots()\n",
    "# ax.imshow(m.simulate(100))\n",
    "# fig.show()\n",
    "# m.updateType = '0.25'\n",
    "print(m.sampleNodes(10).base)\n",
    "# m =  Ising(graph = g, updateType = '0.25')\n",
    "temps = np.geomspace(1e-5, 10, 100)\n",
    "fig, ax = plt.subplots(figsize = (2,2)); ax.imshow(m.simulate(100), aspect = 'auto'); fig.show()\n",
    "# print(temps)\n",
    "#mag, sus = m.matchMagnetization(temps, 100)\n",
    "#print(mag, sus)\n",
    "# print(mag)\n",
    "# res = np.asarray(m.simulate(10000))\n",
    "# set(res.flat)\n",
    "# r = m.simulate(100)\n",
    "# fig, ax = plt.subplots()\n",
    "# ax.plot(r.mean(1))\n",
    "# m.rules[0]\n",
    "\n"
   ]
  },
  {
   "cell_type": "code",
   "execution_count": 1,
   "metadata": {},
   "outputs": [
    {
     "ename": "NameError",
     "evalue": "name 'm' is not defined",
     "output_type": "error",
     "traceback": [
      "\u001b[0;31m---------------------------------------------------------------------------\u001b[0m",
      "\u001b[0;31mNameError\u001b[0m                                 Traceback (most recent call last)",
      "\u001b[0;32m<ipython-input-1-461f4a0afb5d>\u001b[0m in \u001b[0;36m<module>\u001b[0;34m\u001b[0m\n\u001b[0;32m----> 1\u001b[0;31m \u001b[0mm\u001b[0m\u001b[0;34m.\u001b[0m\u001b[0mupdateType\u001b[0m \u001b[0;34m=\u001b[0m \u001b[0;34m'sync'\u001b[0m\u001b[0;34m\u001b[0m\u001b[0;34m\u001b[0m\u001b[0m\n\u001b[0m\u001b[1;32m      2\u001b[0m \u001b[0;31m# fig, ax = plt.subplots()\u001b[0m\u001b[0;34m\u001b[0m\u001b[0;34m\u001b[0m\u001b[0;34m\u001b[0m\u001b[0m\n\u001b[1;32m      3\u001b[0m \u001b[0mm\u001b[0m\u001b[0;34m.\u001b[0m\u001b[0mt\u001b[0m \u001b[0;34m=\u001b[0m \u001b[0;36m1\u001b[0m\u001b[0;34m\u001b[0m\u001b[0;34m\u001b[0m\u001b[0m\n\u001b[1;32m      4\u001b[0m \u001b[0;31m# ax.plot(m.simulate(10000).mean(1))\u001b[0m\u001b[0;34m\u001b[0m\u001b[0;34m\u001b[0m\u001b[0;34m\u001b[0m\u001b[0m\n\u001b[1;32m      5\u001b[0m \u001b[0;31m# N = 10\u001b[0m\u001b[0;34m\u001b[0m\u001b[0;34m\u001b[0m\u001b[0;34m\u001b[0m\u001b[0m\n",
      "\u001b[0;31mNameError\u001b[0m: name 'm' is not defined"
     ]
    }
   ],
   "source": [
    "m.updateType = 'sync'\n",
    "# fig, ax = plt.subplots()\n",
    "m.t = 1\n",
    "# ax.plot(m.simulate(10000).mean(1))\n",
    "# N = 10\n",
    "m.reset()\n",
    "m.t = 0\n",
    "\n",
    "fig, ax = plt.subplots()\n",
    "ax.plot(m.simulate(1000).mean(1))"
   ]
  },
  {
   "cell_type": "code",
   "execution_count": null,
   "metadata": {},
   "outputs": [],
   "source": [
    "iter(1)"
   ]
  },
  {
   "cell_type": "code",
   "execution_count": null,
   "metadata": {},
   "outputs": [],
   "source": [
    "\n"
   ]
  },
  {
   "cell_type": "code",
   "execution_count": null,
   "metadata": {},
   "outputs": [],
   "source": []
  },
  {
   "cell_type": "code",
   "execution_count": 2,
   "metadata": {},
   "outputs": [
    {
     "name": "stdout",
     "output_type": "stream",
     "text": [
      "Using circular_layout\n"
     ]
    },
    {
     "data": {
      "image/png": "[encoded data removed]",
      "text/plain": [
       "<Figure size 432x288 with 1 Axes>"
      ]
     },
     "metadata": {
      "needs_background": "light"
     },
     "output_type": "display_data"
    }
   ],
   "source": [
    "import networkx as nx\n",
    "from Utils.plotting import addGraphPretty\n",
    "g = nx.erdos_renyi_graph(5, .3)\n",
    "\n",
    "fig, ax = plt.subplots()\n",
    "pos =  addGraphPretty(g, ax = ax, pos = nx.kamada_kawai_layout,\\\n",
    "                     circle = dict(\\\n",
    "                                  radius = .2))\n",
    "# nx.draw(g, ax = ax, pos = pos)\n",
    "ax.axis('square')\n",
    "ax.axis('off')\n",
    "fig.savefig('kamada3.png', dpi = 300, transparent = 1,\\\n",
    "           bbox_inches = 'tight', \\\n",
    "           pad_inches = 0)"
   ]
  },
  {
   "cell_type": "code",
   "execution_count": 3,
   "metadata": {},
   "outputs": [
    {
     "ename": "KeyboardInterrupt",
     "evalue": "",
     "output_type": "error",
     "traceback": [
      "\u001b[0;31m----------------------------\u001b[0m",
      "\u001b[0;31mKeyboardInterrupt\u001b[0mTraceback (most recent call last)",
      "\u001b[0;32m<ipython-input-3-1d366b993739>\u001b[0m in \u001b[0;36m<module>\u001b[0;34m\u001b[0m\n\u001b[1;32m      3\u001b[0m \u001b[0;32mfor\u001b[0m \u001b[0mi\u001b[0m \u001b[0;32min\u001b[0m \u001b[0mrange\u001b[0m\u001b[0;34m(\u001b[0m\u001b[0;36m1000\u001b[0m\u001b[0;34m)\u001b[0m\u001b[0;34m:\u001b[0m\u001b[0;34m\u001b[0m\u001b[0;34m\u001b[0m\u001b[0m\n\u001b[1;32m      4\u001b[0m     \u001b[0mm\u001b[0m\u001b[0;34m.\u001b[0m\u001b[0mreset\u001b[0m\u001b[0;34m(\u001b[0m\u001b[0;34m)\u001b[0m\u001b[0;34m\u001b[0m\u001b[0;34m\u001b[0m\u001b[0m\n\u001b[0;32m----> 5\u001b[0;31m     \u001b[0mres\u001b[0m \u001b[0;34m=\u001b[0m \u001b[0mm\u001b[0m\u001b[0;34m.\u001b[0m\u001b[0msimulate\u001b[0m\u001b[0;34m(\u001b[0m\u001b[0;36m1000\u001b[0m\u001b[0;34m)\u001b[0m\u001b[0;34m[\u001b[0m\u001b[0;34m-\u001b[0m\u001b[0;36m10\u001b[0m\u001b[0;34m:\u001b[0m\u001b[0;34m]\u001b[0m\u001b[0;34m\u001b[0m\u001b[0;34m\u001b[0m\u001b[0m\n\u001b[0m\u001b[1;32m      6\u001b[0m     \u001b[0mtmp\u001b[0m\u001b[0;34m.\u001b[0m\u001b[0mappend\u001b[0m\u001b[0;34m(\u001b[0m\u001b[0mres\u001b[0m\u001b[0;34m)\u001b[0m\u001b[0;34m\u001b[0m\u001b[0;34m\u001b[0m\u001b[0m\n\u001b[1;32m      7\u001b[0m \u001b[0;34m\u001b[0m\u001b[0m\n",
      "\u001b[0;31mKeyboardInterrupt\u001b[0m: "
     ]
    }
   ],
   "source": [
    "tmp = []\n",
    "\n",
    "for i in range(1000):\n",
    "    m.reset()\n",
    "    res = m.simulate(1000)[-10:]\n",
    "    tmp.append(res)\n",
    "\n",
    "tmp = np.array(tmp)\n",
    "from collections import Counter\n",
    "n, t , N = tmp.shape\n",
    "\n",
    "counters = {}\n",
    "for i in range(t):\n",
    "    d = [tuple(i) for i in tmp[:, i, :]]\n",
    "    \n",
    "    di = Counter(d)\n",
    "    \n",
    "    for j in di:\n",
    "        counters[j] = counters.get(j, []) + [di[j]]\n",
    "\n",
    "print(len(counters))"
   ]
  },
  {
   "cell_type": "code",
   "execution_count": null,
   "metadata": {},
   "outputs": [],
   "source": [
    "fig, ax = plt.subplots()\n",
    "xr = np.arange(len(counters))\n",
    "print(next(iter(counters)))\n",
    "for idx, counter in enumerate(counters):\n",
    "    ax.plot(counter)\n",
    "#     [ax.bar(xr[idx], i) for i in counter.values()]\n",
    "#     ax.fill_between(xr, di.values())\n",
    "#     ax.set_xscale('log')\n",
    "fig.show()"
   ]
  },
  {
   "cell_type": "code",
   "execution_count": null,
   "metadata": {},
   "outputs": [],
   "source": [
    "def sig(x, a, b, c):\n",
    "    return 1/(1 + np.exp(-b * (x - c)))\n",
    "\n",
    "def exp(x, a, b):\n",
    "    return np.exp(-b * (x - a))\n",
    "from scipy import interpolate\n",
    "func = sig\n",
    "# f = interpolate.BSpline(temps, mag, k = 1, extrapolate  = 0)\n",
    "from scipy import optimize\n",
    "a, b = optimize.curve_fit(func, temps, mag, maxfev = 10000)\n",
    "theta = .75\n",
    "t = optimize.fmin(lambda x: abs(func(x, *a) - theta * mag.max()), 0)\n",
    "m.t = t\n",
    "%matplotlib widget\n",
    "xr = np.linspace(temps.min(), temps.max())\n",
    "fig, ax = plt.subplots(figsize = (10, 3))\n",
    "ax.scatter(temps, mag)\n",
    "tax = ax.twinx()\n",
    "tax.scatter(temps, sus, color = 'red')\n",
    "\n",
    "ax.plot(xr, func(xr, *a), linestyle = 'dashed', color = 'k')\n",
    "# ax.plot(xr, f(xr), linestyle = 'dashed', color = 'green')\n",
    "\n",
    "ax.set(xlabel = 'temperature', ylabel = 'average mag')\n",
    "tax.set_ylabel('suseptibility')\n",
    "# idx = np.argmin(abs(mag - .5 * mag.max()))\n",
    "ax.axvline(t, linestyle = 'dashed')\n",
    "# ax.set(xlim = (0, 20))\n",
    "# ax.set(xscale = 'log')\n",
    "fig.show()\n",
    "\n"
   ]
  },
  {
   "cell_type": "code",
   "execution_count": null,
   "metadata": {},
   "outputs": [],
   "source": [
    "\n",
    "import ipywidgets as ipy\n",
    "m.updateType = 'single'\n",
    "m.reset()\n",
    "m.t = 0.001# np.inf\n",
    "m.reset()\n",
    "n = int(np.sqrt(m.nNodes))\n",
    "res = m.simulate(500).reshape(-1, n, n)\n",
    "%matplotlib widget\n",
    "\n",
    "fig, ax = plt.subplots(figsize = (4, 4))\n",
    "h = ax.imshow(res[0].reshape(n, n))\n",
    "fig.show()\n",
    "\n",
    "timeSlider = ipy.widgets.IntSlider(min = 0, max = res.shape[0] - 1, \\\n",
    "                                   value = 0, orientation = 'vertical')\n",
    "\n",
    "# ipy.VBox([timeSlider, fig])\n",
    "@ipy.interact(time = timeSlider)\n",
    "def update(time):\n",
    "    h.set_data(res[time])\n",
    "    fig.canvas.flush_events()\n",
    "    fig.canvas.draw(); \n",
    "#     fig.show()\n",
    "widget = ipy.interactive(update, time = timeSlider)\n",
    "layout = ipy.Layout(display = 'flex',\\\n",
    "                   flex_flow = 'row',\\\n",
    "                   justify_content = 'space-between',\\\n",
    "                   align_items = 'center',\\\n",
    "                   )\n",
    "widgets = ipy.HBox(widget.children[::-1], layout = layout)\n",
    "from IPython.display import display\n",
    "from sidecar import Sidecar\n",
    "sc = Sidecar();\n",
    "with sc:\n",
    "    display(widgets)"
   ]
  },
  {
   "cell_type": "code",
   "execution_count": 8,
   "metadata": {},
   "outputs": [
    {
     "name": "stdout",
     "output_type": "stream",
     "text": [
      "in G {'kwargs': 3}\n",
      "in F {'kwargs': 3}\n",
      "3\n"
     ]
    }
   ],
   "source": [
    "def g(**kwargs):\n",
    "    print(\"in G\", kwargs)\n",
    "    f(**kwargs)\n",
    "    print(kwargs.get('kwargs'))\n",
    "def f(**kwargs):\n",
    "    print(\"in F\", kwargs)\n",
    "g(kwargs = 3)"
   ]
  },
  {
   "cell_type": "code",
   "execution_count": null,
   "metadata": {},
   "outputs": [],
   "source": [
    "from matplotlib.animation import FuncAnimation\n",
    "m.reset()\n",
    "m.updateType = '.5'\n",
    "res = m.simulate(1000)\n",
    "N, nodes = res.shape\n",
    "# N = 1000\n",
    "# print(N); assert 0\n",
    "%matplotlib qt5\n",
    "fig, ax = plt.subplots()\n",
    "h = ax.imshow(res[0].reshape(n,n))\n",
    "\n",
    "# ax.set_xlim(0, 32)\n",
    "# ax.set_ylim(0, 32)\n",
    "ax.set_position([0.05, 0.05, .95, .85])\n",
    "ax.axis('tight')\n",
    "mng = plt.get_current_fig_manager()\n",
    "# mng.frame.Maximize(True)\n",
    "# mng.window.state(\"zoomed\")\n",
    "def update(i):\n",
    "    ax.set_title(f't={i}', fontsize = 40)\n",
    "    h.set_data(res[i].reshape(n,n))\n",
    "    f = plt.gcf()\n",
    "    f.set_facecolor('black')\n",
    "    fig.canvas.flush_events()\n",
    "    fig.canvas.draw()\n",
    "    \n",
    "    \n",
    "anim = FuncAnimation(fig, update, \\\n",
    "                    blit = 1, \\\n",
    "                    interval = 100,\\\n",
    "                    frames = np.linspace(0, N - 1, 50, dtype = int))\n",
    "anim.save('lowtemp_potts_5.gif', \\\n",
    "          writer = 'matplotlib.animation.PillowWriter',\\\n",
    "         )\n",
    "print('done')"
   ]
  },
  {
   "cell_type": "code",
   "execution_count": null,
   "metadata": {},
   "outputs": [],
   "source": [
    "fig, ax = plt.subplots()\n",
    "x = np.random.standard_normal(100)\n",
    "\n",
    "x = np.random.rand(100)\n",
    "y = 2 + 3  * x + 4 * np.random.standard_normal(x.size)\n",
    "\n",
    "\n",
    "g = nx.hexagonal_lattice_graph(10, 10)\n",
    "states = np.arange(0, 4).tolist()\n",
    "m =  Potts.Potts(graph = g, \\\n",
    "                 agentStates = states,\\\n",
    "                 updateType = '.25')\n",
    "\n",
    "y = m.simulate(100).mean(0)\n",
    "\n",
    "print(y.shape)\n",
    "x = np.asarray(g.nodes())\n",
    "print(x.shape)\n",
    "fig, ax = plt.subplots()\n",
    "h = ax.hexbin(*x.T, C = y)\n",
    "fig.show()"
   ]
  },
  {
   "cell_type": "code",
   "execution_count": null,
   "metadata": {},
   "outputs": [],
   "source": [
    "%load_ext autoreload\n",
    "%autoreload 2\n",
    "from Models.FastIsing import Ising\n",
    "from Toolbox import infcy\n",
    "\n",
    "m = Ising(g)\n",
    "m.matchMagnetization()\n",
    "\n",
    "m.matchMagnetization()\n",
    "snapshots = infcy.getSnapShots(m, 100)\n",
    "infcy.runMC(m, snapshots, 10, 30)"
   ]
  },
  {
   "cell_type": "code",
   "execution_count": null,
   "metadata": {},
   "outputs": [],
   "source": [
    "a = np.random.rand(10, 3)\n",
    "np.isfortran(a)"
   ]
  },
  {
   "cell_type": "code",
   "execution_count": null,
   "metadata": {},
   "outputs": [],
   "source": [
    "ratios = m.matched.get('ratios').items()\n",
    "ratios = np.asarray(list(ratios))\n",
    "\n",
    "print(ratios.shape, ratios)\n",
    "fig, ax = plt.subplots()\n",
    "ax.plot(*m.matched.get('mag')[[0, 1]], linestyle = '-', marker = '.')\n",
    "ax.scatter(ratios[:,1], ratios[:, 0], color = 'red')\n",
    "fig.show()"
   ]
  },
  {
   "cell_type": "code",
   "execution_count": null,
   "metadata": {},
   "outputs": [],
   "source": [
    "from IPython.display import display, clear_output\n",
    "from ipywidgets import interact, fixed, IntSlider, HBox, Layout, Output, VBox\n",
    "import numpy as np \n",
    "import matplotlib.pyplot as plt\n",
    "%matplotlib notebook\n",
    "\n",
    "def rotate(theta, xs, ys):\n",
    "    new_xs = xs * np.cos(np.deg2rad(theta)) - ys * np.sin(np.deg2rad(theta))\n",
    "    new_xs -= new_xs.min()\n",
    "    new_ys = xs * np.sin(np.deg2rad(theta)) + ys * np.cos(np.deg2rad(theta))\n",
    "    new_ys -= new_ys.min()\n",
    "    return new_xs, new_ys\n",
    "\n",
    "out = Output(layout={'width': '300px', 'height': '300px'})\n",
    "xs = np.random.randint(0, 10, 50) \n",
    "ys = np.random.randint(0, 10, 50) \n",
    "\n",
    "fig, ax = plt.subplots(figsize = (4,4))\n",
    "scat, = ax.plot(xs, ys, 'kx', markersize=1000)      \n",
    "ax.grid(which='both', color='.25', lw=.1)\n",
    "ax.set_aspect('equal'), ax.set_title('Rotate')\n",
    "fig.show()\n",
    "def update_plot(change): \n",
    "    theta = change['new'] # new slider value \n",
    "    with out: \n",
    "        clear_output(wait=True)\n",
    "#         fig = plt.figure(figsize=(4,4))\n",
    "#         ax = fig.add_subplot(111)\n",
    "        new_xs, new_ys = rotate(theta, xs, ys) \n",
    "        scat.set_data(new_xs, new_ys)\n",
    "#         ax.relim()\n",
    "        ax.set_xlim(new_xs.min() - 500, new_xs.max() + 500)\n",
    "        ax.set_ylim(new_ys.min() - 500, new_ys.max() + 500)\n",
    "        fig.canvas.flush_events()\n",
    "        fig.canvas.draw()\n",
    "        fig.show()\n",
    "#     print('Done')\n",
    "        \n",
    "\n",
    "slider = IntSlider(min=-180, max=180, step=5, value=0, orientation='vertical') \n",
    "slider.observe(update_plot, 'value')\n",
    "update_plot({'new': slider.value}) \n",
    "display(HBox([out, slider]))"
   ]
  },
  {
   "cell_type": "code",
   "execution_count": null,
   "metadata": {},
   "outputs": [],
   "source": [
    "scat.get_data()"
   ]
  }
 ],
 "metadata": {
  "kernelspec": {
   "display_name": "Python 3",
   "language": "python",
   "name": "python3"
  },
  "language_info": {
   "codemirror_mode": {
    "name": "ipython",
    "version": 3
   },
   "file_extension": ".py",
   "mimetype": "text/x-python",
   "name": "python",
   "nbconvert_exporter": "python",
   "pygments_lexer": "ipython3",
   "version": "3.8.2"
  },
  "toc": {
   "base_numbering": 1,
   "nav_menu": {},
   "number_sections": true,
   "sideBar": true,
   "skip_h1_title": false,
   "title_cell": "Table of Contents",
   "title_sidebar": "Contents",
   "toc_cell": false,
   "toc_position": {},
   "toc_section_display": true,
   "toc_window_display": false
  }
 },
 "nbformat": 4,
 "nbformat_minor": 4
}
