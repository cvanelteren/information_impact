{
 "cells": [
  {
   "cell_type": "code",
   "execution_count": 1,
   "metadata": {},
   "outputs": [
    {
     "name": "stderr",
     "output_type": "stream",
     "text": [
      "<ipython-input-1-4f00ea76a32e>:21: UserWarning: Matplotlib is currently using module://ipykernel.pylab.backend_inline, which is a non-GUI backend, so cannot show the figure.\n",
      "  fig.show()\n"
     ]
    },
    {
     "data": {
      "image/png": "[encoded data removed]",
      "text/plain": [
       "<Figure size 288x288 with 1 Axes>"
      ]
     },
     "metadata": {
      "needs_background": "light"
     },
     "output_type": "display_data"
    }
   ],
   "source": [
    "import sys\n",
    "sys.path.insert(0, '../')\n",
    "import networkx as nx, numpy as np\n",
    "from matplotlib.pyplot import subplots\n",
    "from PlexSim.Models import *\n",
    "from PlexSim.Models.RBN import RBN\n",
    "from PlexSim.Models.FastIsing import Ising\n",
    "N = 10\n",
    "k = 3\n",
    "pn = k/N\n",
    "graph = nx.random_regular_graph(k, N) \n",
    "# graph = nx.random_graphs.erdos_renyi_graph(10, .3)\n",
    "m = Ising(graph = graph, updateType = 'async',\\\n",
    "            )\n",
    "# print(m.rules)\n",
    "m.reset()\n",
    "# print(m.updateType, m.rules)\n",
    "res = m.simulate(100)\n",
    "fig, ax = subplots(figsize = (4,4))\n",
    "ax.imshow(res, aspect = 'auto')\n",
    "fig.show()"
   ]
  },
  {
   "cell_type": "code",
   "execution_count": 2,
   "metadata": {},
   "outputs": [
    {
     "name": "stderr",
     "output_type": "stream",
     "text": [
      "100%|██████████| 1000/1000 [00:00<00:00, 2813.18it/s]\n",
      "100%|██████████| 181/181 [00:00<00:00, 60070.35it/s]\n",
      "  8%|▊         | 14/181 [00:00<00:01, 101.91it/s]"
     ]
    },
    {
     "name": "stdout",
     "output_type": "stream",
     "text": [
      "done\n",
      "Found 181 states\n",
      "Delta =  0.82 sec\n",
      "Decoding..\n",
      "starting runs\n"
     ]
    },
    {
     "name": "stderr",
     "output_type": "stream",
     "text": [
      "100%|██████████| 181/181 [00:01<00:00, 128.41it/s]\n",
      "<ipython-input-2-26470477264e>:5: RuntimeWarning: divide by zero encountered in log2\n",
      "  results = infcy.runMC(m, snapshots, 10, 1000)\n",
      "<ipython-input-2-26470477264e>:5: RuntimeWarning: invalid value encountered in multiply\n",
      "  results = infcy.runMC(m, snapshots, 10, 1000)\n"
     ]
    },
    {
     "name": "stdout",
     "output_type": "stream",
     "text": [
      "Delta =  1.43 sec\n"
     ]
    }
   ],
   "source": [
    "from Toolbox import infcy\n",
    "nsamples = 1000\n",
    "snapshots = infcy.getSnapShots(m, nsamples)\n",
    "\n",
    "results = infcy.runMC(m, snapshots, 10, 1000)"
   ]
  },
  {
   "cell_type": "code",
   "execution_count": 5,
   "metadata": {},
   "outputs": [
    {
     "name": "stderr",
     "output_type": "stream",
     "text": [
      "<ipython-input-5-f231c3877e33>:5: UserWarning: Matplotlib is currently using module://ipykernel.pylab.backend_inline, which is a non-GUI backend, so cannot show the figure.\n",
      "  fig.show()\n"
     ]
    },
    {
     "data": {
      "image/png": "[encoded data removed]",
      "text/plain": [
       "<Figure size 432x288 with 1 Axes>"
      ]
     },
     "metadata": {
      "needs_background": "light"
     },
     "output_type": "display_data"
    }
   ],
   "source": [
    "cpx, px, mi = results\n",
    "from matplotlib import pyplot as plt\n",
    "fig, ax = plt.subplots()\n",
    "ax.plot(mi)\n",
    "fig.show()"
   ]
  },
  {
   "cell_type": "code",
   "execution_count": 5,
   "metadata": {},
   "outputs": [
    {
     "data": {
      "application/vnd.jupyter.widget-view+json": {
       "model_id": "805e766553cc44c2b7b6a18723926a39",
       "version_major": 2,
       "version_minor": 0
      },
      "text/plain": [
       "Canvas(toolbar=Toolbar(toolitems=[('Home', 'Reset original view', 'home', 'home'), ('Back', 'Back to previous …"
      ]
     },
     "metadata": {},
     "output_type": "display_data"
    },
    {
     "data": {
      "application/vnd.jupyter.widget-view+json": {
       "model_id": "14e33c4f7fc14224972a0961a35ccd93",
       "version_major": 2,
       "version_minor": 0
      },
      "text/plain": [
       "interactive(children=(IntSlider(value=0, description='idx'), Output()), _dom_classes=('widget-interact',))"
      ]
     },
     "metadata": {},
     "output_type": "display_data"
    }
   ],
   "source": [
    "from ipywidgets import interact, IntSlider\n",
    "%matplotlib widget\n",
    "fig, ax = subplots()\n",
    "m.reset()\n",
    "res = m.simulate(100)\n",
    "h = ax.imshow(res[[0]])\n",
    "slider = IntSlider(value = 0, min = 0, max = len(res))\n",
    "@interact(idx = slider)\n",
    "def update(idx):\n",
    "    h.set_data(res[[idx]])\n",
    "    fig.canvas.draw()\n",
    "fig.show()"
   ]
  }
 ],
 "metadata": {
  "kernelspec": {
   "display_name": "Python 3",
   "language": "python",
   "name": "python3"
  },
  "language_info": {
   "codemirror_mode": {
    "name": "ipython",
    "version": 3
   },
   "file_extension": ".py",
   "mimetype": "text/x-python",
   "name": "python",
   "nbconvert_exporter": "python",
   "pygments_lexer": "ipython3",
   "version": "3.8.2"
  }
 },
 "nbformat": 4,
 "nbformat_minor": 4
}
