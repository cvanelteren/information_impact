{
 "cells": [
  {
   "cell_type": "code",
   "execution_count": null,
   "metadata": {},
   "outputs": [],
   "source": [
    "import os, sys\n",
    "sys.path.inser(0, '../')\n",
    "from matplotlib import style\n",
    "style.use('seaborn-poster')\n",
    "from Utils import stats, IO\n",
    "import matplotlib.pyplot as plt, numpy as np, scipy\n",
    "\n",
    "\n",
    "fn = ''\n",
    "\n",
    "for k,v in IO.loadPickle(fn).items():\n",
    "    globals()[k] = v\n",
    "    print(f'Loading {k}')\n",
    "    "
   ]
  },
  {
   "cell_type": "code",
   "execution_count": null,
   "metadata": {},
   "outputs": [],
   "source": [
    "%autoreload 2\n",
    "DRIVERS = {}\n",
    "alpha = .01\n",
    "from tqdm import tqdm_notebook as tqdm\n",
    "from Utils.stats import bootStrapDrivers\n",
    "N, n = int(1e4), 1000\n",
    "\n",
    "CENTDRIVERS = {}\n",
    "ALLDRIVERS = {}\n",
    "alpha = .01\n",
    "for k, v in tqdm(aucs.items()):\n",
    "    s = v.shape\n",
    "    v = v.reshape(*s[:2], -1)\n",
    "    drivers = np.zeros(s[2:], dtype = list)\n",
    "    ss = drivers.shape\n",
    "    drivers = drivers.reshape(-1)\n",
    "    \n",
    "    allDrivers = np.zeros((11, 3, conditions), dtype = list).reshape(-1, conditions)\n",
    "    for idx, i in enumerate(v.T):\n",
    "        d = [i for i in bootStrapDrivers(i, N, n, alpha)[1]]\n",
    "        drivers[idx] = d\n",
    "    allDrivers[..., 0] = drivers # np.array([list(i) for i in drivers], dtype = list).flat\n",
    "    \n",
    "    m = settings.get(k)['model']\n",
    "    tmp = np.zeros((m.nNodes))\n",
    "    for idx, cf in enumerate(centralities.values()):\n",
    "        d = cf(m.graph)\n",
    "        for node in d:\n",
    "            tmp[m.mapping[node]] = d[node]\n",
    "        mcf = tmp.max()\n",
    "        cdrivers = np.where(tmp == mcf)[0]\n",
    "        allDrivers[:, idx + 1] = [cdrivers]\n",
    "    ALLDRIVERS[k] = allDrivers.reshape(11, 3, conditions)\n",
    "    DRIVERS[k] = allDrivers"
   ]
  }
 ],
 "metadata": {
  "kernelspec": {
   "display_name": "Python 3",
   "language": "python",
   "name": "python3"
  },
  "language_info": {
   "codemirror_mode": {
    "name": "ipython",
    "version": 3
   },
   "file_extension": ".py",
   "mimetype": "text/x-python",
   "name": "python",
   "nbconvert_exporter": "python",
   "pygments_lexer": "ipython3",
   "version": "3.8.0"
  }
 },
 "nbformat": 4,
 "nbformat_minor": 2
}
