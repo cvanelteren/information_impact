{
 "cells": [
  {
   "cell_type": "code",
   "execution_count": 1,
   "metadata": {},
   "outputs": [],
   "source": [
    "import sys; sys.path.insert(0, '../')\n",
    "from Toolbox import infcy\n",
    "from plexsim.models import *\n",
    "from plotly  import graph_objects as go\n",
    "import networkx as nx\n",
    "\n",
    "sick = dict(eta = .1, \\\n",
    "            beta = 1.5, \\\n",
    "            mu = .5)\n",
    "g = nx.krackhardt_kite_graph()\n",
    "g_prime = g.copy()\n",
    "t = 1.5\n",
    "\n",
    "\n",
    "for neighbor in list(g.neighbors(3))[::-2]:\n",
    "    g_prime.remove_edge(3, neighbor)\n",
    "models = [\\\n",
    "#           Ising(graph = g, t = t), \\\n",
    "#           Ising(graph = g_prime, t = t), \\\n",
    "          Pottsis(g, **sick), \\\n",
    "          Pottsis(g_prime, **sick)\\\n",
    "         ]"
   ]
  },
  {
   "cell_type": "code",
   "execution_count": null,
   "metadata": {},
   "outputs": [
    {
     "name": "stderr",
     "output_type": "stream",
     "text": [
      "0% [#######                       ] 100% | ETA: 00:01:55"
     ]
    }
   ],
   "source": [
    "results = []\n",
    "for m in models:\n",
    "    sim = infcy.Simulator(m)\n",
    "    snapshots = sim.snapshots(n_samples = int(1e3), step = 2)\n",
    "    output    = sim.forward(snapshots, repeats = int(1e3)) \n",
    "    \n",
    "    results.append(\\\n",
    "                   dict(snapshots = snapshots, \\\n",
    "                conditional = output.get('conditional')))\n",
    "    "
   ]
  },
  {
   "cell_type": "code",
   "execution_count": 30,
   "metadata": {},
   "outputs": [
    {
     "name": "stderr",
     "output_type": "stream",
     "text": [
      "<ipython-input-30-f5212f6389b1>:3: RuntimeWarning:\n",
      "\n",
      "divide by zero encountered in log2\n",
      "\n",
      "<ipython-input-30-f5212f6389b1>:3: RuntimeWarning:\n",
      "\n",
      "invalid value encountered in multiply\n",
      "\n"
     ]
    }
   ],
   "source": [
    "mis = []\n",
    "for r in results:\n",
    "    px, mi =  infcy.mutualInformation(**r)\n",
    "    mis.append(mi)\n",
    "    "
   ]
  },
  {
   "cell_type": "code",
   "execution_count": 32,
   "metadata": {},
   "outputs": [
    {
     "data": {
      "application/vnd.plotly.v1+json": {
       "config": {
        "plotlyServerURL": "https://plot.ly"
       },
       "data": [
        {
         "type": "scatter",
         "xaxis": "x",
         "y": [
          0.9886994082884982,
          0.010385080938664193,
          0.0009424978916372506,
          0.0007064402432095385,
          0.0007128081544115483,
          0.0006658577931609733,
          0.0005944654796593563,
          0.000781543221070824,
          0.0006344499613414323,
          0.0006999805028227168
         ],
         "yaxis": "y"
        },
        {
         "type": "scatter",
         "xaxis": "x",
         "y": [
          0.9879999401104697,
          0.01063318138031022,
          0.0008839394377322396,
          0.0007042125951873812,
          0.0006216939872047966,
          0.0007142575144957197,
          0.0006349781198630167,
          0.0007477241212544561,
          0.0006605578431503334,
          0.0006759799389585153
         ],
         "yaxis": "y"
        },
        {
         "type": "scatter",
         "xaxis": "x",
         "y": [
          0.9876990908188338,
          0.011706124229293624,
          0.0009541058115936085,
          0.0007688992308620968,
          0.0007871461302485505,
          0.0007272610702391269,
          0.0006857305479023301,
          0.0007601893810104121,
          0.0007078508642479608,
          0.0007482722049405588
         ],
         "yaxis": "y"
        },
        {
         "type": "scatter",
         "xaxis": "x",
         "y": [
          0.9935622310496103,
          0.006962320375937359,
          0.000819674379057278,
          0.0006703261639209313,
          0.0007311815574010394,
          0.0007535538945905307,
          0.0006629527384507394,
          0.0008157288571231103,
          0.0007202934688002038,
          0.0007958319761102173
         ],
         "yaxis": "y"
        },
        {
         "type": "scatter",
         "xaxis": "x",
         "y": [
          0.9878875618206426,
          0.01147881933805539,
          0.0009022324359918565,
          0.0007002905404619453,
          0.0006933875938972545,
          0.0006589016461836517,
          0.0006901827921338421,
          0.0007382974991838598,
          0.0007682408668471252,
          0.0006933719013015871
         ],
         "yaxis": "y"
        },
        {
         "type": "scatter",
         "xaxis": "x",
         "y": [
          0.9902716614103882,
          0.008854691865651132,
          0.0007503187093530483,
          0.0007175031758928085,
          0.0007363612373768591,
          0.0007597705838554569,
          0.0006839178883768504,
          0.0007464160650135776,
          0.0007324115486375682,
          0.0006901515306440009
         ],
         "yaxis": "y"
        },
        {
         "type": "scatter",
         "xaxis": "x",
         "y": [
          0.9914126182594035,
          0.008523425083043046,
          0.0008518035024996928,
          0.0007290455096206072,
          0.0007200020790206763,
          0.0007447885392317666,
          0.0006415117439634299,
          0.0007276257923997109,
          0.0007325468189904871,
          0.0007590656195309853
         ],
         "yaxis": "y"
        },
        {
         "type": "scatter",
         "xaxis": "x",
         "y": [
          0.9854878531159853,
          0.011685079884042882,
          0.0009271674972869404,
          0.000689566786596818,
          0.0006977849587981311,
          0.0007139473870567681,
          0.0006545068655622321,
          0.0007948222426189533,
          0.0007030032132795405,
          0.0007094789535437851
         ],
         "yaxis": "y"
        },
        {
         "type": "scatter",
         "xaxis": "x",
         "y": [
          0.980796160299202,
          0.012576312324224959,
          0.0008812497124240926,
          0.0007002206730909455,
          0.0007499257715484209,
          0.000709743317640954,
          0.0007021153220508891,
          0.0007097228706441916,
          0.0007510788293204618,
          0.0007236526694232026
         ],
         "yaxis": "y"
        },
        {
         "type": "scatter",
         "xaxis": "x",
         "y": [
          0.9864977973701697,
          0.014686203940832976,
          0.0010305237768909459,
          0.0006605648996820257,
          0.0007540708573203769,
          0.0006894102561616489,
          0.0006662871511596835,
          0.000737578907922809,
          0.0007795863534553193,
          0.0007444223155614882
         ],
         "yaxis": "y"
        },
        {
         "type": "scatter",
         "xaxis": "x2",
         "y": [
          0.988626777021051,
          0.01002963594388917,
          0.0009116630124581526,
          0.0007464617854215927,
          0.0007326016156399273,
          0.0007372231760964798,
          0.0007389445769714342,
          0.0007302751385374062,
          0.0006825273105298679,
          0.0006807546602802805
         ],
         "yaxis": "y2"
        },
        {
         "type": "scatter",
         "xaxis": "x2",
         "y": [
          0.9878123495132072,
          0.01132173207304632,
          0.000915584759822452,
          0.0007457402143046243,
          0.0006712565143489613,
          0.000659364668461615,
          0.0007331939018588862,
          0.0006932566682512631,
          0.0006674831586813701,
          0.0006912224534587619
         ],
         "yaxis": "y2"
        },
        {
         "type": "scatter",
         "xaxis": "x2",
         "y": [
          0.9872021966281,
          0.01153457882287967,
          0.00094561909568458,
          0.0007381531747051584,
          0.0007058657673210122,
          0.0006864725383305403,
          0.000715314787218646,
          0.0006771758329034983,
          0.0006073233163669256,
          0.0006604172757274096
         ],
         "yaxis": "y2"
        },
        {
         "type": "scatter",
         "xaxis": "x2",
         "y": [
          0.9861384541049318,
          0.011799299363446147,
          0.0009074036237025629,
          0.0007077923252684082,
          0.000674430664768022,
          0.0007067261701619865,
          0.0006741505634192402,
          0.0006325997887399737,
          0.0006200039137804758,
          0.0006716177889466435
         ],
         "yaxis": "y2"
        },
        {
         "type": "scatter",
         "xaxis": "x2",
         "y": [
          0.9846534003155613,
          0.012885980530147778,
          0.0009947910943850502,
          0.0007355084969108416,
          0.0007468975047221216,
          0.0007376210957166229,
          0.0006851032319000749,
          0.0007056042263430262,
          0.0006935662955003252,
          0.0007708864170229424
         ],
         "yaxis": "y2"
        },
        {
         "type": "scatter",
         "xaxis": "x2",
         "y": [
          0.9922438966713558,
          0.008900362957729446,
          0.0007936488046158541,
          0.0007687116529937477,
          0.0007058936265913474,
          0.0007360455880357497,
          0.0007349932127638237,
          0.0007600290895546369,
          0.0006713770481479031,
          0.0007106810543575648
         ],
         "yaxis": "y2"
        },
        {
         "type": "scatter",
         "xaxis": "x2",
         "y": [
          0.9926289719961584,
          0.01053345334514677,
          0.0008375995341153297,
          0.0007067598933814256,
          0.0007307348883268672,
          0.000667817043679686,
          0.0006907580442636618,
          0.000672867322499715,
          0.0007040470423714806,
          0.0006992830956911167
         ],
         "yaxis": "y2"
        },
        {
         "type": "scatter",
         "xaxis": "x2",
         "y": [
          0.9864977973701697,
          0.011728236388155455,
          0.0009738019235112638,
          0.000724402448456396,
          0.0007049086025240348,
          0.0007089866991456528,
          0.0006864823749614946,
          0.0006808820988744024,
          0.0006924935301148016,
          0.0007656178733548291
         ],
         "yaxis": "y2"
        },
        {
         "type": "scatter",
         "xaxis": "x2",
         "y": [
          0.9837518430172136,
          0.013378957690488136,
          0.0009508571684441192,
          0.000699000876729361,
          0.0007697827275719993,
          0.0006597968554350464,
          0.0006565680788764849,
          0.0007199388982768173,
          0.0007281196609107976,
          0.0006377657533784831
         ],
         "yaxis": "y2"
        },
        {
         "type": "scatter",
         "xaxis": "x2",
         "y": [
          0.9769706358100078,
          0.014437804591721393,
          0.000998083623072965,
          0.0007681539247388347,
          0.0007249553434409695,
          0.0007311692255504987,
          0.0007304832358075997,
          0.0007816219978091787,
          0.0007015656413046356,
          0.0007040406378995279
         ],
         "yaxis": "y2"
        }
       ],
       "layout": {
        "autosize": true,
        "template": {
         "data": {
          "bar": [
           {
            "error_x": {
             "color": "#2a3f5f"
            },
            "error_y": {
             "color": "#2a3f5f"
            },
            "marker": {
             "line": {
              "color": "#E5ECF6",
              "width": 0.5
             }
            },
            "type": "bar"
           }
          ],
          "barpolar": [
           {
            "marker": {
             "line": {
              "color": "#E5ECF6",
              "width": 0.5
             }
            },
            "type": "barpolar"
           }
          ],
          "carpet": [
           {
            "aaxis": {
             "endlinecolor": "#2a3f5f",
             "gridcolor": "white",
             "linecolor": "white",
             "minorgridcolor": "white",
             "startlinecolor": "#2a3f5f"
            },
            "baxis": {
             "endlinecolor": "#2a3f5f",
             "gridcolor": "white",
             "linecolor": "white",
             "minorgridcolor": "white",
             "startlinecolor": "#2a3f5f"
            },
            "type": "carpet"
           }
          ],
          "choropleth": [
           {
            "colorbar": {
             "outlinewidth": 0,
             "ticks": ""
            },
            "type": "choropleth"
           }
          ],
          "contour": [
           {
            "colorbar": {
             "outlinewidth": 0,
             "ticks": ""
            },
            "colorscale": [
             [
              0,
              "#0d0887"
             ],
             [
              0.1111111111111111,
              "#46039f"
             ],
             [
              0.2222222222222222,
              "#7201a8"
             ],
             [
              0.3333333333333333,
              "#9c179e"
             ],
             [
              0.4444444444444444,
              "#bd3786"
             ],
             [
              0.5555555555555556,
              "#d8576b"
             ],
             [
              0.6666666666666666,
              "#ed7953"
             ],
             [
              0.7777777777777778,
              "#fb9f3a"
             ],
             [
              0.8888888888888888,
              "#fdca26"
             ],
             [
              1,
              "#f0f921"
             ]
            ],
            "type": "contour"
           }
          ],
          "contourcarpet": [
           {
            "colorbar": {
             "outlinewidth": 0,
             "ticks": ""
            },
            "type": "contourcarpet"
           }
          ],
          "heatmap": [
           {
            "colorbar": {
             "outlinewidth": 0,
             "ticks": ""
            },
            "colorscale": [
             [
              0,
              "#0d0887"
             ],
             [
              0.1111111111111111,
              "#46039f"
             ],
             [
              0.2222222222222222,
              "#7201a8"
             ],
             [
              0.3333333333333333,
              "#9c179e"
             ],
             [
              0.4444444444444444,
              "#bd3786"
             ],
             [
              0.5555555555555556,
              "#d8576b"
             ],
             [
              0.6666666666666666,
              "#ed7953"
             ],
             [
              0.7777777777777778,
              "#fb9f3a"
             ],
             [
              0.8888888888888888,
              "#fdca26"
             ],
             [
              1,
              "#f0f921"
             ]
            ],
            "type": "heatmap"
           }
          ],
          "heatmapgl": [
           {
            "colorbar": {
             "outlinewidth": 0,
             "ticks": ""
            },
            "colorscale": [
             [
              0,
              "#0d0887"
             ],
             [
              0.1111111111111111,
              "#46039f"
             ],
             [
              0.2222222222222222,
              "#7201a8"
             ],
             [
              0.3333333333333333,
              "#9c179e"
             ],
             [
              0.4444444444444444,
              "#bd3786"
             ],
             [
              0.5555555555555556,
              "#d8576b"
             ],
             [
              0.6666666666666666,
              "#ed7953"
             ],
             [
              0.7777777777777778,
              "#fb9f3a"
             ],
             [
              0.8888888888888888,
              "#fdca26"
             ],
             [
              1,
              "#f0f921"
             ]
            ],
            "type": "heatmapgl"
           }
          ],
          "histogram": [
           {
            "marker": {
             "colorbar": {
              "outlinewidth": 0,
              "ticks": ""
             }
            },
            "type": "histogram"
           }
          ],
          "histogram2d": [
           {
            "colorbar": {
             "outlinewidth": 0,
             "ticks": ""
            },
            "colorscale": [
             [
              0,
              "#0d0887"
             ],
             [
              0.1111111111111111,
              "#46039f"
             ],
             [
              0.2222222222222222,
              "#7201a8"
             ],
             [
              0.3333333333333333,
              "#9c179e"
             ],
             [
              0.4444444444444444,
              "#bd3786"
             ],
             [
              0.5555555555555556,
              "#d8576b"
             ],
             [
              0.6666666666666666,
              "#ed7953"
             ],
             [
              0.7777777777777778,
              "#fb9f3a"
             ],
             [
              0.8888888888888888,
              "#fdca26"
             ],
             [
              1,
              "#f0f921"
             ]
            ],
            "type": "histogram2d"
           }
          ],
          "histogram2dcontour": [
           {
            "colorbar": {
             "outlinewidth": 0,
             "ticks": ""
            },
            "colorscale": [
             [
              0,
              "#0d0887"
             ],
             [
              0.1111111111111111,
              "#46039f"
             ],
             [
              0.2222222222222222,
              "#7201a8"
             ],
             [
              0.3333333333333333,
              "#9c179e"
             ],
             [
              0.4444444444444444,
              "#bd3786"
             ],
             [
              0.5555555555555556,
              "#d8576b"
             ],
             [
              0.6666666666666666,
              "#ed7953"
             ],
             [
              0.7777777777777778,
              "#fb9f3a"
             ],
             [
              0.8888888888888888,
              "#fdca26"
             ],
             [
              1,
              "#f0f921"
             ]
            ],
            "type": "histogram2dcontour"
           }
          ],
          "mesh3d": [
           {
            "colorbar": {
             "outlinewidth": 0,
             "ticks": ""
            },
            "type": "mesh3d"
           }
          ],
          "parcoords": [
           {
            "line": {
             "colorbar": {
              "outlinewidth": 0,
              "ticks": ""
             }
            },
            "type": "parcoords"
           }
          ],
          "pie": [
           {
            "automargin": true,
            "type": "pie"
           }
          ],
          "scatter": [
           {
            "marker": {
             "colorbar": {
              "outlinewidth": 0,
              "ticks": ""
             }
            },
            "type": "scatter"
           }
          ],
          "scatter3d": [
           {
            "line": {
             "colorbar": {
              "outlinewidth": 0,
              "ticks": ""
             }
            },
            "marker": {
             "colorbar": {
              "outlinewidth": 0,
              "ticks": ""
             }
            },
            "type": "scatter3d"
           }
          ],
          "scattercarpet": [
           {
            "marker": {
             "colorbar": {
              "outlinewidth": 0,
              "ticks": ""
             }
            },
            "type": "scattercarpet"
           }
          ],
          "scattergeo": [
           {
            "marker": {
             "colorbar": {
              "outlinewidth": 0,
              "ticks": ""
             }
            },
            "type": "scattergeo"
           }
          ],
          "scattergl": [
           {
            "marker": {
             "colorbar": {
              "outlinewidth": 0,
              "ticks": ""
             }
            },
            "type": "scattergl"
           }
          ],
          "scattermapbox": [
           {
            "marker": {
             "colorbar": {
              "outlinewidth": 0,
              "ticks": ""
             }
            },
            "type": "scattermapbox"
           }
          ],
          "scatterpolar": [
           {
            "marker": {
             "colorbar": {
              "outlinewidth": 0,
              "ticks": ""
             }
            },
            "type": "scatterpolar"
           }
          ],
          "scatterpolargl": [
           {
            "marker": {
             "colorbar": {
              "outlinewidth": 0,
              "ticks": ""
             }
            },
            "type": "scatterpolargl"
           }
          ],
          "scatterternary": [
           {
            "marker": {
             "colorbar": {
              "outlinewidth": 0,
              "ticks": ""
             }
            },
            "type": "scatterternary"
           }
          ],
          "surface": [
           {
            "colorbar": {
             "outlinewidth": 0,
             "ticks": ""
            },
            "colorscale": [
             [
              0,
              "#0d0887"
             ],
             [
              0.1111111111111111,
              "#46039f"
             ],
             [
              0.2222222222222222,
              "#7201a8"
             ],
             [
              0.3333333333333333,
              "#9c179e"
             ],
             [
              0.4444444444444444,
              "#bd3786"
             ],
             [
              0.5555555555555556,
              "#d8576b"
             ],
             [
              0.6666666666666666,
              "#ed7953"
             ],
             [
              0.7777777777777778,
              "#fb9f3a"
             ],
             [
              0.8888888888888888,
              "#fdca26"
             ],
             [
              1,
              "#f0f921"
             ]
            ],
            "type": "surface"
           }
          ],
          "table": [
           {
            "cells": {
             "fill": {
              "color": "#EBF0F8"
             },
             "line": {
              "color": "white"
             }
            },
            "header": {
             "fill": {
              "color": "#C8D4E3"
             },
             "line": {
              "color": "white"
             }
            },
            "type": "table"
           }
          ]
         },
         "layout": {
          "annotationdefaults": {
           "arrowcolor": "#2a3f5f",
           "arrowhead": 0,
           "arrowwidth": 1
          },
          "coloraxis": {
           "colorbar": {
            "outlinewidth": 0,
            "ticks": ""
           }
          },
          "colorscale": {
           "diverging": [
            [
             0,
             "#8e0152"
            ],
            [
             0.1,
             "#c51b7d"
            ],
            [
             0.2,
             "#de77ae"
            ],
            [
             0.3,
             "#f1b6da"
            ],
            [
             0.4,
             "#fde0ef"
            ],
            [
             0.5,
             "#f7f7f7"
            ],
            [
             0.6,
             "#e6f5d0"
            ],
            [
             0.7,
             "#b8e186"
            ],
            [
             0.8,
             "#7fbc41"
            ],
            [
             0.9,
             "#4d9221"
            ],
            [
             1,
             "#276419"
            ]
           ],
           "sequential": [
            [
             0,
             "#0d0887"
            ],
            [
             0.1111111111111111,
             "#46039f"
            ],
            [
             0.2222222222222222,
             "#7201a8"
            ],
            [
             0.3333333333333333,
             "#9c179e"
            ],
            [
             0.4444444444444444,
             "#bd3786"
            ],
            [
             0.5555555555555556,
             "#d8576b"
            ],
            [
             0.6666666666666666,
             "#ed7953"
            ],
            [
             0.7777777777777778,
             "#fb9f3a"
            ],
            [
             0.8888888888888888,
             "#fdca26"
            ],
            [
             1,
             "#f0f921"
            ]
           ],
           "sequentialminus": [
            [
             0,
             "#0d0887"
            ],
            [
             0.1111111111111111,
             "#46039f"
            ],
            [
             0.2222222222222222,
             "#7201a8"
            ],
            [
             0.3333333333333333,
             "#9c179e"
            ],
            [
             0.4444444444444444,
             "#bd3786"
            ],
            [
             0.5555555555555556,
             "#d8576b"
            ],
            [
             0.6666666666666666,
             "#ed7953"
            ],
            [
             0.7777777777777778,
             "#fb9f3a"
            ],
            [
             0.8888888888888888,
             "#fdca26"
            ],
            [
             1,
             "#f0f921"
            ]
           ]
          },
          "colorway": [
           "#636efa",
           "#EF553B",
           "#00cc96",
           "#ab63fa",
           "#FFA15A",
           "#19d3f3",
           "#FF6692",
           "#B6E880",
           "#FF97FF",
           "#FECB52"
          ],
          "font": {
           "color": "#2a3f5f"
          },
          "geo": {
           "bgcolor": "white",
           "lakecolor": "white",
           "landcolor": "#E5ECF6",
           "showlakes": true,
           "showland": true,
           "subunitcolor": "white"
          },
          "hoverlabel": {
           "align": "left"
          },
          "hovermode": "closest",
          "mapbox": {
           "style": "light"
          },
          "paper_bgcolor": "white",
          "plot_bgcolor": "#E5ECF6",
          "polar": {
           "angularaxis": {
            "gridcolor": "white",
            "linecolor": "white",
            "ticks": ""
           },
           "bgcolor": "#E5ECF6",
           "radialaxis": {
            "gridcolor": "white",
            "linecolor": "white",
            "ticks": ""
           }
          },
          "scene": {
           "xaxis": {
            "backgroundcolor": "#E5ECF6",
            "gridcolor": "white",
            "gridwidth": 2,
            "linecolor": "white",
            "showbackground": true,
            "ticks": "",
            "zerolinecolor": "white"
           },
           "yaxis": {
            "backgroundcolor": "#E5ECF6",
            "gridcolor": "white",
            "gridwidth": 2,
            "linecolor": "white",
            "showbackground": true,
            "ticks": "",
            "zerolinecolor": "white"
           },
           "zaxis": {
            "backgroundcolor": "#E5ECF6",
            "gridcolor": "white",
            "gridwidth": 2,
            "linecolor": "white",
            "showbackground": true,
            "ticks": "",
            "zerolinecolor": "white"
           }
          },
          "shapedefaults": {
           "line": {
            "color": "#2a3f5f"
           }
          },
          "ternary": {
           "aaxis": {
            "gridcolor": "white",
            "linecolor": "white",
            "ticks": ""
           },
           "baxis": {
            "gridcolor": "white",
            "linecolor": "white",
            "ticks": ""
           },
           "bgcolor": "#E5ECF6",
           "caxis": {
            "gridcolor": "white",
            "linecolor": "white",
            "ticks": ""
           }
          },
          "title": {
           "x": 0.05
          },
          "xaxis": {
           "automargin": true,
           "gridcolor": "white",
           "linecolor": "white",
           "ticks": "",
           "title": {
            "standoff": 15
           },
           "zerolinecolor": "white",
           "zerolinewidth": 2
          },
          "yaxis": {
           "automargin": true,
           "gridcolor": "white",
           "linecolor": "white",
           "ticks": "",
           "title": {
            "standoff": 15
           },
           "zerolinecolor": "white",
           "zerolinewidth": 2
          }
         }
        },
        "xaxis": {
         "anchor": "y",
         "autorange": true,
         "domain": [
          0,
          0.45
         ],
         "matches": "x3",
         "range": [
          -0.6895518993100311,
          9.68955189931003
         ],
         "showticklabels": false,
         "title": {
          "text": "Time [step]"
         }
        },
        "xaxis2": {
         "anchor": "y2",
         "autorange": true,
         "domain": [
          0.55,
          1
         ],
         "matches": "x4",
         "range": [
          -0.6895518993100311,
          9.68955189931003
         ],
         "showticklabels": false
        },
        "xaxis3": {
         "anchor": "y3",
         "domain": [
          0,
          0.45
         ],
         "range": [
          -0.6895518993100311,
          9.68955189931003
         ]
        },
        "xaxis4": {
         "anchor": "y4",
         "domain": [
          0.55,
          1
         ],
         "range": [
          -0.6895518993100311,
          9.68955189931003
         ]
        },
        "yaxis": {
         "anchor": "x",
         "autorange": true,
         "domain": [
          0.575,
          1
         ],
         "range": [
          -0.09776921685753624,
          1.0919259133868058
         ],
         "title": {
          "text": "$I(s_i^{t_0 + t} ; S^{t_0})$"
         },
         "type": "linear"
        },
        "yaxis2": {
         "anchor": "x2",
         "autorange": true,
         "domain": [
          0.575,
          1
         ],
         "matches": "y",
         "range": [
          -0.09776921685753624,
          1.0919259133868058
         ],
         "showticklabels": false,
         "type": "linear"
        },
        "yaxis3": {
         "anchor": "x3",
         "domain": [
          0,
          0.425
         ]
        },
        "yaxis4": {
         "anchor": "x4",
         "domain": [
          0,
          0.425
         ],
         "matches": "y3",
         "showticklabels": false
        }
       }
      },
      "image/png": "[encoded data removed]",
      "text/html": [
       "<div>\n",
       "        \n",
       "        \n",
       "            <div id=\"38a5890b-9528-4da4-9f74-642d420b7d30\" class=\"plotly-graph-div\" style=\"height:525px; width:100%;\"></div>\n",
       "            <script type=\"text/javascript\">\n",
       "                require([\"plotly\"], function(Plotly) {\n",
       "                    window.PLOTLYENV=window.PLOTLYENV || {};\n",
       "                    \n",
       "                if (document.getElementById(\"38a5890b-9528-4da4-9f74-642d420b7d30\")) {\n",
       "                    Plotly.newPlot(\n",
       "                        '38a5890b-9528-4da4-9f74-642d420b7d30',\n",
       "                        [{\"type\": \"scatter\", \"xaxis\": \"x\", \"y\": [0.9886994082884982, 0.010385080938664193, 0.0009424978916372506, 0.0007064402432095385, 0.0007128081544115483, 0.0006658577931609733, 0.0005944654796593563, 0.000781543221070824, 0.0006344499613414323, 0.0006999805028227168], \"yaxis\": \"y\"}, {\"type\": \"scatter\", \"xaxis\": \"x\", \"y\": [0.9879999401104697, 0.01063318138031022, 0.0008839394377322396, 0.0007042125951873812, 0.0006216939872047966, 0.0007142575144957197, 0.0006349781198630167, 0.0007477241212544561, 0.0006605578431503334, 0.0006759799389585153], \"yaxis\": \"y\"}, {\"type\": \"scatter\", \"xaxis\": \"x\", \"y\": [0.9876990908188338, 0.011706124229293624, 0.0009541058115936085, 0.0007688992308620968, 0.0007871461302485505, 0.0007272610702391269, 0.0006857305479023301, 0.0007601893810104121, 0.0007078508642479608, 0.0007482722049405588], \"yaxis\": \"y\"}, {\"type\": \"scatter\", \"xaxis\": \"x\", \"y\": [0.9935622310496103, 0.006962320375937359, 0.000819674379057278, 0.0006703261639209313, 0.0007311815574010394, 0.0007535538945905307, 0.0006629527384507394, 0.0008157288571231103, 0.0007202934688002038, 0.0007958319761102173], \"yaxis\": \"y\"}, {\"type\": \"scatter\", \"xaxis\": \"x\", \"y\": [0.9878875618206426, 0.01147881933805539, 0.0009022324359918565, 0.0007002905404619453, 0.0006933875938972545, 0.0006589016461836517, 0.0006901827921338421, 0.0007382974991838598, 0.0007682408668471252, 0.0006933719013015871], \"yaxis\": \"y\"}, {\"type\": \"scatter\", \"xaxis\": \"x\", \"y\": [0.9902716614103882, 0.008854691865651132, 0.0007503187093530483, 0.0007175031758928085, 0.0007363612373768591, 0.0007597705838554569, 0.0006839178883768504, 0.0007464160650135776, 0.0007324115486375682, 0.0006901515306440009], \"yaxis\": \"y\"}, {\"type\": \"scatter\", \"xaxis\": \"x\", \"y\": [0.9914126182594035, 0.008523425083043046, 0.0008518035024996928, 0.0007290455096206072, 0.0007200020790206763, 0.0007447885392317666, 0.0006415117439634299, 0.0007276257923997109, 0.0007325468189904871, 0.0007590656195309853], \"yaxis\": \"y\"}, {\"type\": \"scatter\", \"xaxis\": \"x\", \"y\": [0.9854878531159853, 0.011685079884042882, 0.0009271674972869404, 0.000689566786596818, 0.0006977849587981311, 0.0007139473870567681, 0.0006545068655622321, 0.0007948222426189533, 0.0007030032132795405, 0.0007094789535437851], \"yaxis\": \"y\"}, {\"type\": \"scatter\", \"xaxis\": \"x\", \"y\": [0.980796160299202, 0.012576312324224959, 0.0008812497124240926, 0.0007002206730909455, 0.0007499257715484209, 0.000709743317640954, 0.0007021153220508891, 0.0007097228706441916, 0.0007510788293204618, 0.0007236526694232026], \"yaxis\": \"y\"}, {\"type\": \"scatter\", \"xaxis\": \"x\", \"y\": [0.9864977973701697, 0.014686203940832976, 0.0010305237768909459, 0.0006605648996820257, 0.0007540708573203769, 0.0006894102561616489, 0.0006662871511596835, 0.000737578907922809, 0.0007795863534553193, 0.0007444223155614882], \"yaxis\": \"y\"}, {\"type\": \"scatter\", \"xaxis\": \"x2\", \"y\": [0.988626777021051, 0.01002963594388917, 0.0009116630124581526, 0.0007464617854215927, 0.0007326016156399273, 0.0007372231760964798, 0.0007389445769714342, 0.0007302751385374062, 0.0006825273105298679, 0.0006807546602802805], \"yaxis\": \"y2\"}, {\"type\": \"scatter\", \"xaxis\": \"x2\", \"y\": [0.9878123495132072, 0.01132173207304632, 0.000915584759822452, 0.0007457402143046243, 0.0006712565143489613, 0.000659364668461615, 0.0007331939018588862, 0.0006932566682512631, 0.0006674831586813701, 0.0006912224534587619], \"yaxis\": \"y2\"}, {\"type\": \"scatter\", \"xaxis\": \"x2\", \"y\": [0.9872021966281, 0.01153457882287967, 0.00094561909568458, 0.0007381531747051584, 0.0007058657673210122, 0.0006864725383305403, 0.000715314787218646, 0.0006771758329034983, 0.0006073233163669256, 0.0006604172757274096], \"yaxis\": \"y2\"}, {\"type\": \"scatter\", \"xaxis\": \"x2\", \"y\": [0.9861384541049318, 0.011799299363446147, 0.0009074036237025629, 0.0007077923252684082, 0.000674430664768022, 0.0007067261701619865, 0.0006741505634192402, 0.0006325997887399737, 0.0006200039137804758, 0.0006716177889466435], \"yaxis\": \"y2\"}, {\"type\": \"scatter\", \"xaxis\": \"x2\", \"y\": [0.9846534003155613, 0.012885980530147778, 0.0009947910943850502, 0.0007355084969108416, 0.0007468975047221216, 0.0007376210957166229, 0.0006851032319000749, 0.0007056042263430262, 0.0006935662955003252, 0.0007708864170229424], \"yaxis\": \"y2\"}, {\"type\": \"scatter\", \"xaxis\": \"x2\", \"y\": [0.9922438966713558, 0.008900362957729446, 0.0007936488046158541, 0.0007687116529937477, 0.0007058936265913474, 0.0007360455880357497, 0.0007349932127638237, 0.0007600290895546369, 0.0006713770481479031, 0.0007106810543575648], \"yaxis\": \"y2\"}, {\"type\": \"scatter\", \"xaxis\": \"x2\", \"y\": [0.9926289719961584, 0.01053345334514677, 0.0008375995341153297, 0.0007067598933814256, 0.0007307348883268672, 0.000667817043679686, 0.0006907580442636618, 0.000672867322499715, 0.0007040470423714806, 0.0006992830956911167], \"yaxis\": \"y2\"}, {\"type\": \"scatter\", \"xaxis\": \"x2\", \"y\": [0.9864977973701697, 0.011728236388155455, 0.0009738019235112638, 0.000724402448456396, 0.0007049086025240348, 0.0007089866991456528, 0.0006864823749614946, 0.0006808820988744024, 0.0006924935301148016, 0.0007656178733548291], \"yaxis\": \"y2\"}, {\"type\": \"scatter\", \"xaxis\": \"x2\", \"y\": [0.9837518430172136, 0.013378957690488136, 0.0009508571684441192, 0.000699000876729361, 0.0007697827275719993, 0.0006597968554350464, 0.0006565680788764849, 0.0007199388982768173, 0.0007281196609107976, 0.0006377657533784831], \"yaxis\": \"y2\"}, {\"type\": \"scatter\", \"xaxis\": \"x2\", \"y\": [0.9769706358100078, 0.014437804591721393, 0.000998083623072965, 0.0007681539247388347, 0.0007249553434409695, 0.0007311692255504987, 0.0007304832358075997, 0.0007816219978091787, 0.0007015656413046356, 0.0007040406378995279], \"yaxis\": \"y2\"}],\n",
       "                        {\"template\": {\"data\": {\"bar\": [{\"error_x\": {\"color\": \"#2a3f5f\"}, \"error_y\": {\"color\": \"#2a3f5f\"}, \"marker\": {\"line\": {\"color\": \"#E5ECF6\", \"width\": 0.5}}, \"type\": \"bar\"}], \"barpolar\": [{\"marker\": {\"line\": {\"color\": \"#E5ECF6\", \"width\": 0.5}}, \"type\": \"barpolar\"}], \"carpet\": [{\"aaxis\": {\"endlinecolor\": \"#2a3f5f\", \"gridcolor\": \"white\", \"linecolor\": \"white\", \"minorgridcolor\": \"white\", \"startlinecolor\": \"#2a3f5f\"}, \"baxis\": {\"endlinecolor\": \"#2a3f5f\", \"gridcolor\": \"white\", \"linecolor\": \"white\", \"minorgridcolor\": \"white\", \"startlinecolor\": \"#2a3f5f\"}, \"type\": \"carpet\"}], \"choropleth\": [{\"colorbar\": {\"outlinewidth\": 0, \"ticks\": \"\"}, \"type\": \"choropleth\"}], \"contour\": [{\"colorbar\": {\"outlinewidth\": 0, \"ticks\": \"\"}, \"colorscale\": [[0.0, \"#0d0887\"], [0.1111111111111111, \"#46039f\"], [0.2222222222222222, \"#7201a8\"], [0.3333333333333333, \"#9c179e\"], [0.4444444444444444, \"#bd3786\"], [0.5555555555555556, \"#d8576b\"], [0.6666666666666666, \"#ed7953\"], [0.7777777777777778, \"#fb9f3a\"], [0.8888888888888888, \"#fdca26\"], [1.0, \"#f0f921\"]], \"type\": \"contour\"}], \"contourcarpet\": [{\"colorbar\": {\"outlinewidth\": 0, \"ticks\": \"\"}, \"type\": \"contourcarpet\"}], \"heatmap\": [{\"colorbar\": {\"outlinewidth\": 0, \"ticks\": \"\"}, \"colorscale\": [[0.0, \"#0d0887\"], [0.1111111111111111, \"#46039f\"], [0.2222222222222222, \"#7201a8\"], [0.3333333333333333, \"#9c179e\"], [0.4444444444444444, \"#bd3786\"], [0.5555555555555556, \"#d8576b\"], [0.6666666666666666, \"#ed7953\"], [0.7777777777777778, \"#fb9f3a\"], [0.8888888888888888, \"#fdca26\"], [1.0, \"#f0f921\"]], \"type\": \"heatmap\"}], \"heatmapgl\": [{\"colorbar\": {\"outlinewidth\": 0, \"ticks\": \"\"}, \"colorscale\": [[0.0, \"#0d0887\"], [0.1111111111111111, \"#46039f\"], [0.2222222222222222, \"#7201a8\"], [0.3333333333333333, \"#9c179e\"], [0.4444444444444444, \"#bd3786\"], [0.5555555555555556, \"#d8576b\"], [0.6666666666666666, \"#ed7953\"], [0.7777777777777778, \"#fb9f3a\"], [0.8888888888888888, \"#fdca26\"], [1.0, \"#f0f921\"]], \"type\": \"heatmapgl\"}], \"histogram\": [{\"marker\": {\"colorbar\": {\"outlinewidth\": 0, \"ticks\": \"\"}}, \"type\": \"histogram\"}], \"histogram2d\": [{\"colorbar\": {\"outlinewidth\": 0, \"ticks\": \"\"}, \"colorscale\": [[0.0, \"#0d0887\"], [0.1111111111111111, \"#46039f\"], [0.2222222222222222, \"#7201a8\"], [0.3333333333333333, \"#9c179e\"], [0.4444444444444444, \"#bd3786\"], [0.5555555555555556, \"#d8576b\"], [0.6666666666666666, \"#ed7953\"], [0.7777777777777778, \"#fb9f3a\"], [0.8888888888888888, \"#fdca26\"], [1.0, \"#f0f921\"]], \"type\": \"histogram2d\"}], \"histogram2dcontour\": [{\"colorbar\": {\"outlinewidth\": 0, \"ticks\": \"\"}, \"colorscale\": [[0.0, \"#0d0887\"], [0.1111111111111111, \"#46039f\"], [0.2222222222222222, \"#7201a8\"], [0.3333333333333333, \"#9c179e\"], [0.4444444444444444, \"#bd3786\"], [0.5555555555555556, \"#d8576b\"], [0.6666666666666666, \"#ed7953\"], [0.7777777777777778, \"#fb9f3a\"], [0.8888888888888888, \"#fdca26\"], [1.0, \"#f0f921\"]], \"type\": \"histogram2dcontour\"}], \"mesh3d\": [{\"colorbar\": {\"outlinewidth\": 0, \"ticks\": \"\"}, \"type\": \"mesh3d\"}], \"parcoords\": [{\"line\": {\"colorbar\": {\"outlinewidth\": 0, \"ticks\": \"\"}}, \"type\": \"parcoords\"}], \"pie\": [{\"automargin\": true, \"type\": \"pie\"}], \"scatter\": [{\"marker\": {\"colorbar\": {\"outlinewidth\": 0, \"ticks\": \"\"}}, \"type\": \"scatter\"}], \"scatter3d\": [{\"line\": {\"colorbar\": {\"outlinewidth\": 0, \"ticks\": \"\"}}, \"marker\": {\"colorbar\": {\"outlinewidth\": 0, \"ticks\": \"\"}}, \"type\": \"scatter3d\"}], \"scattercarpet\": [{\"marker\": {\"colorbar\": {\"outlinewidth\": 0, \"ticks\": \"\"}}, \"type\": \"scattercarpet\"}], \"scattergeo\": [{\"marker\": {\"colorbar\": {\"outlinewidth\": 0, \"ticks\": \"\"}}, \"type\": \"scattergeo\"}], \"scattergl\": [{\"marker\": {\"colorbar\": {\"outlinewidth\": 0, \"ticks\": \"\"}}, \"type\": \"scattergl\"}], \"scattermapbox\": [{\"marker\": {\"colorbar\": {\"outlinewidth\": 0, \"ticks\": \"\"}}, \"type\": \"scattermapbox\"}], \"scatterpolar\": [{\"marker\": {\"colorbar\": {\"outlinewidth\": 0, \"ticks\": \"\"}}, \"type\": \"scatterpolar\"}], \"scatterpolargl\": [{\"marker\": {\"colorbar\": {\"outlinewidth\": 0, \"ticks\": \"\"}}, \"type\": \"scatterpolargl\"}], \"scatterternary\": [{\"marker\": {\"colorbar\": {\"outlinewidth\": 0, \"ticks\": \"\"}}, \"type\": \"scatterternary\"}], \"surface\": [{\"colorbar\": {\"outlinewidth\": 0, \"ticks\": \"\"}, \"colorscale\": [[0.0, \"#0d0887\"], [0.1111111111111111, \"#46039f\"], [0.2222222222222222, \"#7201a8\"], [0.3333333333333333, \"#9c179e\"], [0.4444444444444444, \"#bd3786\"], [0.5555555555555556, \"#d8576b\"], [0.6666666666666666, \"#ed7953\"], [0.7777777777777778, \"#fb9f3a\"], [0.8888888888888888, \"#fdca26\"], [1.0, \"#f0f921\"]], \"type\": \"surface\"}], \"table\": [{\"cells\": {\"fill\": {\"color\": \"#EBF0F8\"}, \"line\": {\"color\": \"white\"}}, \"header\": {\"fill\": {\"color\": \"#C8D4E3\"}, \"line\": {\"color\": \"white\"}}, \"type\": \"table\"}]}, \"layout\": {\"annotationdefaults\": {\"arrowcolor\": \"#2a3f5f\", \"arrowhead\": 0, \"arrowwidth\": 1}, \"coloraxis\": {\"colorbar\": {\"outlinewidth\": 0, \"ticks\": \"\"}}, \"colorscale\": {\"diverging\": [[0, \"#8e0152\"], [0.1, \"#c51b7d\"], [0.2, \"#de77ae\"], [0.3, \"#f1b6da\"], [0.4, \"#fde0ef\"], [0.5, \"#f7f7f7\"], [0.6, \"#e6f5d0\"], [0.7, \"#b8e186\"], [0.8, \"#7fbc41\"], [0.9, \"#4d9221\"], [1, \"#276419\"]], \"sequential\": [[0.0, \"#0d0887\"], [0.1111111111111111, \"#46039f\"], [0.2222222222222222, \"#7201a8\"], [0.3333333333333333, \"#9c179e\"], [0.4444444444444444, \"#bd3786\"], [0.5555555555555556, \"#d8576b\"], [0.6666666666666666, \"#ed7953\"], [0.7777777777777778, \"#fb9f3a\"], [0.8888888888888888, \"#fdca26\"], [1.0, \"#f0f921\"]], \"sequentialminus\": [[0.0, \"#0d0887\"], [0.1111111111111111, \"#46039f\"], [0.2222222222222222, \"#7201a8\"], [0.3333333333333333, \"#9c179e\"], [0.4444444444444444, \"#bd3786\"], [0.5555555555555556, \"#d8576b\"], [0.6666666666666666, \"#ed7953\"], [0.7777777777777778, \"#fb9f3a\"], [0.8888888888888888, \"#fdca26\"], [1.0, \"#f0f921\"]]}, \"colorway\": [\"#636efa\", \"#EF553B\", \"#00cc96\", \"#ab63fa\", \"#FFA15A\", \"#19d3f3\", \"#FF6692\", \"#B6E880\", \"#FF97FF\", \"#FECB52\"], \"font\": {\"color\": \"#2a3f5f\"}, \"geo\": {\"bgcolor\": \"white\", \"lakecolor\": \"white\", \"landcolor\": \"#E5ECF6\", \"showlakes\": true, \"showland\": true, \"subunitcolor\": \"white\"}, \"hoverlabel\": {\"align\": \"left\"}, \"hovermode\": \"closest\", \"mapbox\": {\"style\": \"light\"}, \"paper_bgcolor\": \"white\", \"plot_bgcolor\": \"#E5ECF6\", \"polar\": {\"angularaxis\": {\"gridcolor\": \"white\", \"linecolor\": \"white\", \"ticks\": \"\"}, \"bgcolor\": \"#E5ECF6\", \"radialaxis\": {\"gridcolor\": \"white\", \"linecolor\": \"white\", \"ticks\": \"\"}}, \"scene\": {\"xaxis\": {\"backgroundcolor\": \"#E5ECF6\", \"gridcolor\": \"white\", \"gridwidth\": 2, \"linecolor\": \"white\", \"showbackground\": true, \"ticks\": \"\", \"zerolinecolor\": \"white\"}, \"yaxis\": {\"backgroundcolor\": \"#E5ECF6\", \"gridcolor\": \"white\", \"gridwidth\": 2, \"linecolor\": \"white\", \"showbackground\": true, \"ticks\": \"\", \"zerolinecolor\": \"white\"}, \"zaxis\": {\"backgroundcolor\": \"#E5ECF6\", \"gridcolor\": \"white\", \"gridwidth\": 2, \"linecolor\": \"white\", \"showbackground\": true, \"ticks\": \"\", \"zerolinecolor\": \"white\"}}, \"shapedefaults\": {\"line\": {\"color\": \"#2a3f5f\"}}, \"ternary\": {\"aaxis\": {\"gridcolor\": \"white\", \"linecolor\": \"white\", \"ticks\": \"\"}, \"baxis\": {\"gridcolor\": \"white\", \"linecolor\": \"white\", \"ticks\": \"\"}, \"bgcolor\": \"#E5ECF6\", \"caxis\": {\"gridcolor\": \"white\", \"linecolor\": \"white\", \"ticks\": \"\"}}, \"title\": {\"x\": 0.05}, \"xaxis\": {\"automargin\": true, \"gridcolor\": \"white\", \"linecolor\": \"white\", \"ticks\": \"\", \"title\": {\"standoff\": 15}, \"zerolinecolor\": \"white\", \"zerolinewidth\": 2}, \"yaxis\": {\"automargin\": true, \"gridcolor\": \"white\", \"linecolor\": \"white\", \"ticks\": \"\", \"title\": {\"standoff\": 15}, \"zerolinecolor\": \"white\", \"zerolinewidth\": 2}}}, \"xaxis\": {\"anchor\": \"y\", \"domain\": [0.0, 0.45], \"matches\": \"x3\", \"showticklabels\": false, \"title\": {\"text\": \"Time [step]\"}}, \"xaxis2\": {\"anchor\": \"y2\", \"domain\": [0.55, 1.0], \"matches\": \"x4\", \"showticklabels\": false}, \"xaxis3\": {\"anchor\": \"y3\", \"domain\": [0.0, 0.45]}, \"xaxis4\": {\"anchor\": \"y4\", \"domain\": [0.55, 1.0]}, \"yaxis\": {\"anchor\": \"x\", \"domain\": [0.575, 1.0], \"title\": {\"text\": \"$I(s_i^{t_0 + t} ; S^{t_0})$\"}}, \"yaxis2\": {\"anchor\": \"x2\", \"domain\": [0.575, 1.0], \"matches\": \"y\", \"showticklabels\": false}, \"yaxis3\": {\"anchor\": \"x3\", \"domain\": [0.0, 0.425]}, \"yaxis4\": {\"anchor\": \"x4\", \"domain\": [0.0, 0.425], \"matches\": \"y3\", \"showticklabels\": false}},\n",
       "                        {\"responsive\": true}\n",
       "                    ).then(function(){\n",
       "                            \n",
       "var gd = document.getElementById('38a5890b-9528-4da4-9f74-642d420b7d30');\n",
       "var x = new MutationObserver(function (mutations, observer) {{\n",
       "        var display = window.getComputedStyle(gd).display;\n",
       "        if (!display || display === 'none') {{\n",
       "            console.log([gd, 'removed!']);\n",
       "            Plotly.purge(gd);\n",
       "            observer.disconnect();\n",
       "        }}\n",
       "}});\n",
       "\n",
       "// Listen for the removal of the full notebook cells\n",
       "var notebookContainer = gd.closest('#notebook-container');\n",
       "if (notebookContainer) {{\n",
       "    x.observe(notebookContainer, {childList: true});\n",
       "}}\n",
       "\n",
       "// Listen for the clearing of the current output cell\n",
       "var outputEl = gd.closest('.output');\n",
       "if (outputEl) {{\n",
       "    x.observe(outputEl, {childList: true});\n",
       "}}\n",
       "\n",
       "                        })\n",
       "                };\n",
       "                });\n",
       "            </script>\n",
       "        </div>"
      ]
     },
     "metadata": {},
     "output_type": "display_data"
    }
   ],
   "source": [
    "from plotly.subplots import make_subplots\n",
    "\n",
    "fig = make_subplots(2, 2, shared_xaxes = True,\\\n",
    "                   shared_yaxes = True)\n",
    "for idx, mi in enumerate(mis):\n",
    "    lines = []\n",
    "    for node in range(models[idx].nNodes):\n",
    "        line = go.Scatter(y = mi[:, node])\n",
    "        lines.append(line)\n",
    "    \n",
    "    r, c = np.unravel_index(idx, (2, 2))\n",
    "    fig.add_traces(lines, cols = c + 1, rows = r + 1)\n",
    "fig.update_layout(xaxis = dict(title = 'Time [step]'),\\\n",
    "                 yaxis = dict(title = '$I(s_i^{t_0 + t} ; S^{t_0})$'))\n",
    "fig.show()"
   ]
  },
  {
   "cell_type": "code",
   "execution_count": 25,
   "metadata": {},
   "outputs": [
    {
     "ename": "IndexError",
     "evalue": "list index out of range",
     "output_type": "error",
     "traceback": [
      "\u001b[0;31m---------------------------------------------------------------------------\u001b[0m",
      "\u001b[0;31mIndexError\u001b[0m                                Traceback (most recent call last)",
      "\u001b[0;32m<ipython-input-25-ae6be02e7e77>\u001b[0m in \u001b[0;36m<module>\u001b[0;34m\u001b[0m\n\u001b[1;32m      8\u001b[0m \u001b[0;31m#           zip(\"A A B B\".split(), '1 2 1 2'.split())]\u001b[0m\u001b[0;34m\u001b[0m\u001b[0;34m\u001b[0m\u001b[0;34m\u001b[0m\u001b[0m\n\u001b[1;32m      9\u001b[0m \u001b[0;32mfor\u001b[0m \u001b[0midx\u001b[0m\u001b[0;34m,\u001b[0m \u001b[0maxi\u001b[0m \u001b[0;32min\u001b[0m \u001b[0menumerate\u001b[0m\u001b[0;34m(\u001b[0m\u001b[0max\u001b[0m\u001b[0;34m.\u001b[0m\u001b[0mflat\u001b[0m\u001b[0;34m)\u001b[0m\u001b[0;34m:\u001b[0m\u001b[0;34m\u001b[0m\u001b[0;34m\u001b[0m\u001b[0m\n\u001b[0;32m---> 10\u001b[0;31m     \u001b[0magp\u001b[0m\u001b[0;34m(\u001b[0m\u001b[0mmodels\u001b[0m\u001b[0;34m[\u001b[0m\u001b[0midx\u001b[0m\u001b[0;34m]\u001b[0m\u001b[0;34m.\u001b[0m\u001b[0mgraph\u001b[0m\u001b[0;34m,\u001b[0m \u001b[0max\u001b[0m \u001b[0;34m=\u001b[0m \u001b[0maxi\u001b[0m\u001b[0;34m,\u001b[0m \u001b[0mpositions\u001b[0m \u001b[0;34m=\u001b[0m \u001b[0mlayout\u001b[0m\u001b[0;34m)\u001b[0m\u001b[0;34m\u001b[0m\u001b[0;34m\u001b[0m\u001b[0m\n\u001b[0m\u001b[1;32m     11\u001b[0m     \u001b[0;32mfor\u001b[0m \u001b[0mpatch\u001b[0m \u001b[0;32min\u001b[0m \u001b[0maxi\u001b[0m\u001b[0;34m.\u001b[0m\u001b[0mpatches\u001b[0m\u001b[0;34m:\u001b[0m\u001b[0;34m\u001b[0m\u001b[0;34m\u001b[0m\u001b[0m\n\u001b[1;32m     12\u001b[0m         \u001b[0;32mif\u001b[0m \u001b[0mlabel\u001b[0m \u001b[0;34m:=\u001b[0m \u001b[0mpatch\u001b[0m\u001b[0;34m.\u001b[0m\u001b[0mget_label\u001b[0m\u001b[0;34m(\u001b[0m\u001b[0;34m)\u001b[0m\u001b[0;34m:\u001b[0m\u001b[0;34m\u001b[0m\u001b[0;34m\u001b[0m\u001b[0m\n",
      "\u001b[0;31mIndexError\u001b[0m: list index out of range"
     ]
    },
    {
     "data": {
      "image/png": "[encoded data removed]",
      "text/plain": [
       "<Figure size 720x720 with 4 Axes>"
      ]
     },
     "metadata": {
      "needs_background": "light"
     },
     "output_type": "display_data"
    }
   ],
   "source": [
    "sizes = [mi.sum(0) for mi in mis]\n",
    "import matplotlib.pyplot as plt\n",
    "from Utils.plotting import addGraphPretty as agp\n",
    "layout = nx.kamada_kawai_layout(models[0].graph)\n",
    "fig, ax = plt.subplots(2, 2, figsize = (10, 10))\n",
    "\n",
    "# labels = [f\"Dynamics {i}\\nStructure {j}\" for i, j in \\\n",
    "#           zip(\"A A B B\".split(), '1 2 1 2'.split())]\n",
    "for idx, axi in enumerate(ax.flat):\n",
    "    agp(models[idx].graph, ax = axi, positions = layout)\n",
    "    for patch in axi.patches:\n",
    "        if label := patch.get_label():\n",
    "                size = sizes[idx]\n",
    "                size = (size - size.min()) / (size.max() - size.min()) \n",
    "                size = size[models[idx].mapping[label]]\n",
    "                patch.set(radius = size * 1e-1)\n",
    "        else:\n",
    "            patch.set(linewidth = 5)\n",
    "#             print(patch.edgewidth(10))\n",
    "        axi.axis('off')\n",
    "#         axi.set_title(labels[idx], color = 'white')\n",
    "fig.tight_layout()\n",
    "fig.subplots_adjust(wspace = -.2, hspace = -.1)\n",
    "fig.show()"
   ]
  },
  {
   "cell_type": "code",
   "execution_count": null,
   "metadata": {},
   "outputs": [],
   "source": [
    "\n",
    "fig.savefig('dynamics_and_structure.png', transparent = True, bbox_inches = \"tight\", pad_inches = 0)"
   ]
  }
 ],
 "metadata": {
  "kernelspec": {
   "display_name": "Python 3",
   "language": "python",
   "name": "python3"
  },
  "language_info": {
   "codemirror_mode": {
    "name": "ipython",
    "version": 3
   },
   "file_extension": ".py",
   "mimetype": "text/x-python",
   "name": "python",
   "nbconvert_exporter": "python",
   "pygments_lexer": "ipython3",
   "version": "3.8.5"
  }
 },
 "nbformat": 4,
 "nbformat_minor": 4
}
