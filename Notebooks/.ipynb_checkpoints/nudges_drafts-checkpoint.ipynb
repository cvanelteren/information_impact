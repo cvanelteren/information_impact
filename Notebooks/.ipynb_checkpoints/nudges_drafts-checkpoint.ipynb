{
 "cells": [
  {
   "cell_type": "markdown",
   "metadata": {},
   "source": [
    "# Model definition preamble"
   ]
  },
  {
   "cell_type": "code",
   "execution_count": 1,
   "metadata": {},
   "outputs": [
    {
     "name": "stdout",
     "output_type": "stream",
     "text": [
      "spawning threads\n",
      "Magnetizing temperatures\n"
     ]
    },
    {
     "name": "stderr",
     "output_type": "stream",
     "text": [
      "0% [##############################] 100% | ETA: 00:00:000% [##############################] 100% | ETA: 00:00:000% [##########################    ] 100% | ETA: 00:00:000% [###########################   ] 100% | ETA: 00:00:000% [#####################         ] 100% | ETA: 00:00:000% [#######                       ] 100% | ETA: 00:00:01"
     ]
    },
    {
     "name": "stdout",
     "output_type": "stream",
     "text": [
      "Optimization terminated successfully.\n",
      "         Current function value: 0.000194\n",
      "         Iterations: 17\n",
      "         Function evaluations: 34\n",
      "Sigmoid fit params [9.89699209e-01 2.19081933e+01 8.36391868e+00 1.65271126e-02]\n",
      "At T=[0.38390625]\n"
     ]
    },
    {
     "name": "stderr",
     "output_type": "stream",
     "text": [
      "\n",
      "Total time elapsed: 00:00:01\n",
      "\n",
      "Total time elapsed: 00:00:01\n"
     ]
    }
   ],
   "source": [
    "import sys; [sys.path.insert(0, i) for i in '../ ../PlexSim'.split()]\n",
    "from matplotlib.pyplot import subplots, close\n",
    "close('all')\n",
    "from matplotlib import style, rcParams; \n",
    "style.use('seaborn-poster')\n",
    "rcParams['figure.figsize'] = (5,5)\n",
    "\n",
    "from plexsim.models import *\n",
    "from Utils.plotting import addGraphPretty\n",
    "from Toolbox import infcy\n",
    "import numpy as np\n",
    "%matplotlib widget\n",
    "# define model\n",
    "# g  = nx.path_graph(2, nx.DiGraph())\n",
    "# g.add_edge(0, 1, weight = .1)\n",
    "g = nx.star_graph(5)\n",
    "# g = nx.grid_graph([8, 8])\n",
    "# g.add_edge(1,1)\n",
    "settings = dict(graph = g,\\\n",
    "                updateType = 'async',\\\n",
    "                agentStates = np.arange(3).tolist(),\\\n",
    "#                 sampleSize = 1,\\\n",
    "               nudgeType = \"constant\",\\\n",
    "               t = 1,\\\n",
    "               )\n",
    "# rules = nx.Graph()\n",
    "# rules.add_edge(0, 1)\n",
    "# rules.add_edge(1, 2)\n",
    "m = Potts(\\\n",
    "#           rules = rules,\\\n",
    "          **settings)\n",
    "# get snapshots\n",
    "temps = np.geomspace(.01, 5, 50)\n",
    "match = .5 # magnetize at this level\n",
    "mag, sus = m.magnetize(temps = temps, n = 10000, \\\n",
    "                               match = match)"
   ]
  },
  {
   "cell_type": "code",
   "execution_count": 2,
   "metadata": {},
   "outputs": [
    {
     "data": {
      "application/vnd.jupyter.widget-view+json": {
       "model_id": "876a2a137b80450bb232f50d994c1849",
       "version_major": 2,
       "version_minor": 0
      },
      "text/plain": [
       "Canvas(toolbar=Toolbar(toolitems=[('Home', 'Reset original view', 'home', 'home'), ('Back', 'Back to previous …"
      ]
     },
     "metadata": {},
     "output_type": "display_data"
    }
   ],
   "source": [
    "\n",
    "fig, ax = subplots()\n",
    "\n",
    "tax = ax.twinx()\n",
    "tax.scatter(temps, sus, color = \"red\")\n",
    "ax.set_xlabel(\"T\")\n",
    "tax.set_ylabel(r\"$\\chi$\")\n",
    "ax.set_ylabel(\"<M>\")\n",
    "ax.scatter(temps, mag)\n",
    "\n",
    "ax.axvline(m.t, \\\n",
    "           linestyle = 'dashed',\\\n",
    "           color = 'k', \\\n",
    "           label = match,\\\n",
    "           )\n",
    "ax.legend()\n",
    "fig.show()"
   ]
  },
  {
   "cell_type": "markdown",
   "metadata": {},
   "source": [
    "## Nudging nodes"
   ]
  },
  {
   "cell_type": "code",
   "execution_count": 3,
   "metadata": {},
   "outputs": [],
   "source": [
    "np.seterr('ignore')\n",
    "# single nudges for now\n",
    "from Utils.stats import KL # kl-divergence\n",
    "from Utils.stats import JS\n",
    "from tqdm.notebook import tqdm\n",
    "from scipy.stats import sem\n",
    "from copy import deepcopy\n",
    "\n",
    "# show results\n",
    "import matplotlib.pyplot as plt\n",
    "def tmp_plot(nudge_impacts: dict) -> None:\n",
    "    fig, ax = subplots(1, len(nudge_impacts), figsize = (5,4), \\\n",
    "                      sharey = 'all')\n",
    "    fig.subplots_adjust(wspace = 0)\n",
    "    color = plt.cm.tab20(range(m.nNodes))\n",
    "    for axi, (nudge, data) in zip(ax.flat, \\\n",
    "                                 nudge_impacts.items() ):\n",
    "        tmp = []\n",
    "        data = {k : v for k, v in data.items() if k != 'control'}\n",
    "        for node, trials in data.items():\n",
    "            tmp_ = [trial.mean() for trial in trials]\n",
    "            tmp_ = (np.mean(tmp_), 1 * sem(tmp_))\n",
    "            tmp.append(tmp_)\n",
    "        axi.bar(data.keys(), [i[0] for i in tmp], color = color)\n",
    "        axi.errorbar(data.keys(), [i[0] for i in tmp],[i[1] for i in tmp],\\\n",
    "                   linestyle = 'none', color = 'k',\\\n",
    "                   capthick = 3)\n",
    "        axi.tick_params('y', labelsize = 8, pad = 0)\n",
    "        axi.set(title = f\"$\\eta$={nudge}\")\n",
    "    \n",
    "    inax = axi.inset_axes((1, .5, .3, .3))\n",
    "    mainax = fig.add_subplot(111, frameon = 0, xticks = [], yticks = [])\n",
    "    mainax.set(ylabel = dict(ylabel = 'KL-divergence \\n(nudged vs control)',\\\n",
    "                            fontsize = 10, labelpad = 30))\n",
    "    addGraphPretty(m.graph, ax = inax, circle = dict(radius = .4), annotate = dict(fontsize = 30))\n",
    "    inax.axis('off')\n",
    "    fig.suptitle(f'kNudges = {m.kNudges}', fontsize = 23, \\\n",
    "                 y = 1.03,\\\n",
    "                )\n",
    "    fig.show()\n",
    "    return fig"
   ]
  },
  {
   "cell_type": "code",
   "execution_count": null,
   "metadata": {},
   "outputs": [
    {
     "name": "stdout",
     "output_type": "stream",
     "text": [
      "Starting trials\n"
     ]
    }
   ],
   "source": [
    "#sim params\n",
    "\n",
    "sim = dict(\n",
    "    nTrials = 1,\\\n",
    "    nSamples = 10_000,\n",
    "    repeats  = 1_000,\n",
    "    deltas   = 10,\n",
    "    reverse  = 0,\n",
    "    center   = 1,\n",
    "#     nudgeSizes = np.array([.01, .5, 2])\n",
    "    nudgeSizes  = np.array([.1, .2, 1])\n",
    ")\n",
    "# infcy methods not working yet\n",
    "nudge_impacts = infcy.doTrial(m, **sim)"
   ]
  },
  {
   "cell_type": "markdown",
   "metadata": {},
   "source": [
    "\n",
    "Nudging works by picking a random edge with probabililty `nudgeSize`. All the edge weights in the system are set to 1. The parameter `kNudges` modifies the nudged edge with a double value what its assigned to. \n",
    "\n",
    "Above I simulate two differen situations. \n",
    "- `kNudges` = 1 corresponds to the situation where the edge weight is not edited, just the input from that edge is uniform over the possible states\n",
    "- `kNudges` = 10000. Strong nudges. Whatever the node is modified too, it will carry a lot of weight. This would correspond more to a 'overwhelming' nudge. "
   ]
  },
  {
   "cell_type": "code",
   "execution_count": null,
   "metadata": {},
   "outputs": [],
   "source": [
    "fig = tmp_plot(nudge_impacts)\n",
    "#tmp_plot(nudge_impacts_1)\n",
    "#tmp_plot(nudge_impacts_inf)\n",
    "import os\n",
    "os.system('jupyter nbconvert --to html nudges_drafts.ipynb')"
   ]
  },
  {
   "cell_type": "code",
   "execution_count": null,
   "metadata": {},
   "outputs": [],
   "source": [
    "tmp = []\n",
    "for k, v in nudge_impacts.items():\n",
    "    for kk in v['control']:\n",
    "        tmp.append(kk['mi'])\n",
    "tmp = np.array(tmp)\n",
    "\n",
    "fig, ax = plt.subplots()\n",
    "ax.plot(tmp.mean(0))\n",
    "fig.show()"
   ]
  },
  {
   "cell_type": "markdown",
   "metadata": {},
   "source": []
  }
 ],
 "metadata": {
  "kernelspec": {
   "display_name": "Python 3",
   "language": "python",
   "name": "python3"
  },
  "language_info": {
   "codemirror_mode": {
    "name": "ipython",
    "version": 3
   },
   "file_extension": ".py",
   "mimetype": "text/x-python",
   "name": "python",
   "nbconvert_exporter": "python",
   "pygments_lexer": "ipython3",
   "version": "3.8.2"
  },
  "widgets": {
   "application/vnd.jupyter.widget-state+json": {
    "state": {
     "0ac9bd322c674933894c694bc84316af": {
      "model_module": "@jupyter-widgets/controls",
      "model_module_version": "1.5.0",
      "model_name": "DescriptionStyleModel",
      "state": {
       "description_width": ""
      }
     },
     "28ff655999aa4a6daa1ab6a77647bd6b": {
      "model_module": "@jupyter-widgets/base",
      "model_module_version": "1.2.0",
      "model_name": "LayoutModel",
      "state": {}
     },
     "54e488e02cc04661ba3430f89b181bfd": {
      "model_module": "@jupyter-widgets/controls",
      "model_module_version": "1.5.0",
      "model_name": "FloatProgressModel",
      "state": {
       "description": "100%",
       "layout": "IPY_MODEL_5c32b63a0474472ca1220ce984c8c1a4",
       "max": 40,
       "style": "IPY_MODEL_d71c978e4fb440abbf1eec993f4e4319",
       "value": 40
      }
     },
     "5b57a3376f734ba2a26deec080ad589c": {
      "model_module": "@jupyter-widgets/base",
      "model_module_version": "1.2.0",
      "model_name": "LayoutModel",
      "state": {}
     },
     "5c32b63a0474472ca1220ce984c8c1a4": {
      "model_module": "@jupyter-widgets/base",
      "model_module_version": "1.2.0",
      "model_name": "LayoutModel",
      "state": {}
     },
     "724f907074964fd981eb1de3c6087daf": {
      "model_module": "@jupyter-widgets/base",
      "model_module_version": "1.2.0",
      "model_name": "LayoutModel",
      "state": {}
     },
     "747d82e444cf4b92be198d2ffe77f682": {
      "model_module": "@jupyter-widgets/controls",
      "model_module_version": "1.5.0",
      "model_name": "HTMLModel",
      "state": {
       "layout": "IPY_MODEL_5b57a3376f734ba2a26deec080ad589c",
       "style": "IPY_MODEL_0ac9bd322c674933894c694bc84316af",
       "value": " 40/40 [07:48&lt;00:00,  4.42s/it]"
      }
     },
     "8aa015cbc0c448b3b39b139c58a98b7e": {
      "model_module": "@jupyter-widgets/controls",
      "model_module_version": "1.5.0",
      "model_name": "HTMLModel",
      "state": {
       "layout": "IPY_MODEL_28ff655999aa4a6daa1ab6a77647bd6b",
       "style": "IPY_MODEL_d91abd18759b4e2281505554670e1f8f",
       "value": " 40/40 [07:25&lt;00:00,  8.17s/it]"
      }
     },
     "9f7f3c35e06e48779083c0a4d5fd1577": {
      "model_module": "@jupyter-widgets/controls",
      "model_module_version": "1.5.0",
      "model_name": "FloatProgressModel",
      "state": {
       "description": "100%",
       "layout": "IPY_MODEL_724f907074964fd981eb1de3c6087daf",
       "max": 40,
       "style": "IPY_MODEL_c979b8451f024b82ad3865e404186b20",
       "value": 40
      }
     },
     "a1ddc1a4ec494b43a639c1121b2f233b": {
      "model_module": "@jupyter-widgets/base",
      "model_module_version": "1.2.0",
      "model_name": "LayoutModel",
      "state": {}
     },
     "a4ee25e000fe4c0b9fb9f47a518c9b54": {
      "model_module": "@jupyter-widgets/controls",
      "model_module_version": "1.5.0",
      "model_name": "HBoxModel",
      "state": {
       "children": [
        "IPY_MODEL_54e488e02cc04661ba3430f89b181bfd",
        "IPY_MODEL_8aa015cbc0c448b3b39b139c58a98b7e"
       ],
       "layout": "IPY_MODEL_a1ddc1a4ec494b43a639c1121b2f233b"
      }
     },
     "c979b8451f024b82ad3865e404186b20": {
      "model_module": "@jupyter-widgets/controls",
      "model_module_version": "1.5.0",
      "model_name": "ProgressStyleModel",
      "state": {
       "description_width": "initial"
      }
     },
     "d5bc8815eba3439ca92a6bfc0f7c21e2": {
      "model_module": "@jupyter-widgets/controls",
      "model_module_version": "1.5.0",
      "model_name": "HBoxModel",
      "state": {
       "children": [
        "IPY_MODEL_9f7f3c35e06e48779083c0a4d5fd1577",
        "IPY_MODEL_747d82e444cf4b92be198d2ffe77f682"
       ],
       "layout": "IPY_MODEL_e0cb79c85e114f8e9e8c05f560d754d6"
      }
     },
     "d71c978e4fb440abbf1eec993f4e4319": {
      "model_module": "@jupyter-widgets/controls",
      "model_module_version": "1.5.0",
      "model_name": "ProgressStyleModel",
      "state": {
       "description_width": "initial"
      }
     },
     "d91abd18759b4e2281505554670e1f8f": {
      "model_module": "@jupyter-widgets/controls",
      "model_module_version": "1.5.0",
      "model_name": "DescriptionStyleModel",
      "state": {
       "description_width": ""
      }
     },
     "e0cb79c85e114f8e9e8c05f560d754d6": {
      "model_module": "@jupyter-widgets/base",
      "model_module_version": "1.2.0",
      "model_name": "LayoutModel",
      "state": {}
     }
    },
    "version_major": 2,
    "version_minor": 0
   }
  }
 },
 "nbformat": 4,
 "nbformat_minor": 4
}
