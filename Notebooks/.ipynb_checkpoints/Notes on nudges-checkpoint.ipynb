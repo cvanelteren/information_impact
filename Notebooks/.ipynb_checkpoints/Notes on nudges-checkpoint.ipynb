{
 "cells": [
  {
   "cell_type": "markdown",
   "metadata": {},
   "source": [
    "## Notes on nudging\n",
    "\n",
    "Currently the added energy $\\delta$ is added with nudge $\\eta$ as:\n",
    "\n",
    "$$ \\delta = - \\eta s_i $$\n",
    "\n",
    "where $s_i$ is the node state.\n",
    "\n",
    "### Magnetization matching\n",
    "Since we are interesting in local interactions, we force the system to be on one side of the magnetization curve. This causes a side effect with the above approach. \n",
    "\n",
    "- a nudge of -inf will yield the best possible separation\n",
    "- a nudge of inf will yield random bits but dodgy separation\n",
    "    - sometimes it works\n",
    "A -inf nudge. We could describe the results in a way where in real networks this is not necessarily the case (pyscho network for instance)\n",
    "\n",
    "\n"
   ]
  }
 ],
 "metadata": {
  "kernelspec": {
   "display_name": "Python 3",
   "language": "python",
   "name": "python3"
  },
  "language_info": {
   "codemirror_mode": {
    "name": "ipython",
    "version": 3
   },
   "file_extension": ".py",
   "mimetype": "text/x-python",
   "name": "python",
   "nbconvert_exporter": "python",
   "pygments_lexer": "ipython3",
   "version": "3.7.3"
  }
 },
 "nbformat": 4,
 "nbformat_minor": 2
}
