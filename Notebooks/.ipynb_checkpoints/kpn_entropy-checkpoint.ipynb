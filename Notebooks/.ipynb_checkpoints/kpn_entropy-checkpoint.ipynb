{
 "cells": [
  {
   "cell_type": "code",
   "execution_count": null,
   "metadata": {},
   "outputs": [],
   "source": [
    "import numpy as np, matplotlib.pyplot as plt, sklearn, scipy as sp\n",
    "import sys; sys.path.insert(0, '../')\n",
    "from Toolbox import infcy\n",
    "def log(x):\n",
    "    return np.ma.filled(np.log(np.ma.masked_equal(x, 0)), 0)\n",
    "\n",
    "from sklearn.neighbors import NearestNeighbors\n",
    "def f(tmp):\n",
    "    ni, x, pNN, k = tmp\n",
    "    # assume gaussian on point, estimate the hyper-parameters\n",
    "    k_distance = pNN[0][ni]\n",
    "\n",
    "    b  = k_distance[k]\n",
    "    a_ = x[ni] - b\n",
    "    b_ = x[ni] + b\n",
    "\n",
    "\n",
    "    mu_idx = pNN[1][ni]\n",
    "    mu     = x[mu_idx].mean(0)\n",
    "    sigma = np.cov(x[mu_idx].T)\n",
    "    gauss = sp.stats.multivariate_normal(mu, sigma,\\\n",
    "                                        allow_singular = 1)\n",
    "    gxi = gauss.pdf(x[ni])\n",
    "\n",
    "    Gi   = gauss.cdf(b_) - gauss.cdf(a_)\n",
    "    H_c = 1/n * (log(Gi) - log(gxi))\n",
    "    return H_c\n",
    "def kpn_entropy(x, k, p):\n",
    "    assert p >= k\n",
    "    if x.ndim < 2:\n",
    "        x = x[:, None]\n",
    "    n = x.shape[0]\n",
    "    \n",
    "    pNN = NearestNeighbors(n_neighbors = p, metric = 'chebyshev').fit(x).kneighbors()\n",
    "    H = sp.special.digamma(n) - sp.special.digamma(k)\n",
    "    H_c = 0\n",
    "    \n",
    "    import multiprocessing as mp\n",
    "    \n",
    "    with mp.Pool() as p:\n",
    "        h = sum(p.map(f, ((i, x, pNN, k) for i in range(n))))\n",
    "#     print(h, H)\n",
    "    return H + h\n",
    "# np.random.seed(0)\n",
    "n = int(1e3)\n",
    "m = 1\n",
    "means = np.zeros(m)\n",
    "cov   = np.eye(means.size) # * .5 + .5\n",
    "dist = sp.stats.multivariate_normal(means, cov)\n",
    "x = dist.rvs(n)\n",
    "# print(x.shape); assert 0\n",
    "# x = np.random.choice([-1, 1], size = (n, 1))\n",
    "theta = .04\n",
    "p  = int(theta * n)\n",
    "k  = 2\n",
    "h = kpn_entropy(x, k, int(theta * n)) \n",
    "\n",
    "# h = infcy.kpn_entropy(x, k, p)\n",
    "true = 1/2 * np.log(np.linalg.det(2 * np.pi * np.exp(1) * dist.cov))\n",
    "# print(h, true)\n",
    "# print((h - true)/true, h , true, 1)\n",
    "\n",
    "print(h, true, (h-true)/true * 100)"
   ]
  },
  {
   "cell_type": "code",
   "execution_count": 20,
   "metadata": {},
   "outputs": [
    {
     "name": "stdout",
     "output_type": "stream",
     "text": [
      "3.0176821295625427 2.694036030183455\n"
     ]
    }
   ],
   "source": []
  },
  {
   "cell_type": "code",
   "execution_count": 2,
   "metadata": {},
   "outputs": [
    {
     "name": "stdout",
     "output_type": "stream",
     "text": [
      "12.7 s ± 740 ms per loop (mean ± std. dev. of 7 runs, 1 loop each)\n"
     ]
    }
   ],
   "source": [
    "# %%timeit \n",
    "# hpy = kpn_entropy(x, k, p)"
   ]
  },
  {
   "cell_type": "code",
   "execution_count": 3,
   "metadata": {},
   "outputs": [
    {
     "name": "stdout",
     "output_type": "stream",
     "text": [
      "10 s ± 105 ms per loop (mean ± std. dev. of 7 runs, 1 loop each)\n"
     ]
    }
   ],
   "source": [
    "%%timeit\n",
    "hcy = infcy.kpn_entropy(x, k, p)"
   ]
  },
  {
   "cell_type": "code",
   "execution_count": 4,
   "metadata": {},
   "outputs": [
    {
     "ename": "NameError",
     "evalue": "name 'hpy' is not defined",
     "output_type": "error",
     "traceback": [
      "\u001b[0;31m---------------------------------------------------------------------------\u001b[0m",
      "\u001b[0;31mNameError\u001b[0m                                 Traceback (most recent call last)",
      "\u001b[0;32m<ipython-input-4-f50be0a527a5>\u001b[0m in \u001b[0;36m<module>\u001b[0;34m\u001b[0m\n\u001b[0;32m----> 1\u001b[0;31m \u001b[0mprint\u001b[0m\u001b[0;34m(\u001b[0m\u001b[0mhpy\u001b[0m\u001b[0;34m,\u001b[0m \u001b[0mhcy\u001b[0m\u001b[0;34m)\u001b[0m\u001b[0;34m\u001b[0m\u001b[0;34m\u001b[0m\u001b[0m\n\u001b[0m",
      "\u001b[0;31mNameError\u001b[0m: name 'hpy' is not defined"
     ]
    }
   ],
   "source": [
    "print(hpy, hcy)"
   ]
  },
  {
   "cell_type": "code",
   "execution_count": null,
   "metadata": {},
   "outputs": [],
   "source": []
  }
 ],
 "metadata": {
  "kernelspec": {
   "display_name": "Python 3",
   "language": "python",
   "name": "python3"
  },
  "language_info": {
   "codemirror_mode": {
    "name": "ipython",
    "version": 3
   },
   "file_extension": ".py",
   "mimetype": "text/x-python",
   "name": "python",
   "nbconvert_exporter": "python",
   "pygments_lexer": "ipython3",
   "version": "3.8.5"
  }
 },
 "nbformat": 4,
 "nbformat_minor": 4
}
