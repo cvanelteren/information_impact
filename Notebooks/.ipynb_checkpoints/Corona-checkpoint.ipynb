{
 "cells": [
  {
   "cell_type": "code",
   "execution_count": null,
   "metadata": {},
   "outputs": [],
   "source": [
    "from matplotlib.pyplot import subplots\n",
    "import numpy as np\n",
    "\n"
   ]
  },
  {
   "cell_type": "markdown",
   "metadata": {},
   "source": [
    "# Transition matrix\n",
    "\n",
    "$$\n",
    "P(t + \\delta t) = \\hat T | P(t) \n",
    "$$\n",
    "\n",
    "$$\n",
    "\\hat T = 1 - \\frac{\\alpha}{N} \\sum_{kj} [ A_{jk} ( 1 - \\hat n_j - \\hat \\sigma_j^+) + \\Gamma \\delta_{kj} ( 1 - \\hat \\sigma_j^-)] \\hat n_k\n",
    "$$"
   ]
  },
  {
   "cell_type": "markdown",
   "metadata": {},
   "source": [
    "Read the previous cell as \"The update function is a markov update with transition table \\hat T\". The transition table is a probability bounded 0, 1 (normalized?). "
   ]
  }
 ],
 "metadata": {
  "kernelspec": {
   "display_name": "Python 3",
   "language": "python",
   "name": "python3"
  },
  "language_info": {
   "codemirror_mode": {
    "name": "ipython",
    "version": 3
   },
   "file_extension": ".py",
   "mimetype": "text/x-python",
   "name": "python",
   "nbconvert_exporter": "python",
   "pygments_lexer": "ipython3",
   "version": "3.8.1"
  }
 },
 "nbformat": 4,
 "nbformat_minor": 4
}
