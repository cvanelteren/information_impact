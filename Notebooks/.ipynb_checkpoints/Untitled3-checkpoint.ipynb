{
 "cells": [
  {
   "cell_type": "code",
   "execution_count": null,
   "metadata": {},
   "outputs": [],
   "source": [
    "%%capture\n",
    "import sys\n",
    "sys.path.insert(0, '../')\n",
    "from plexsim.models import *\n",
    "import numpy as np, networkx as nx\n",
    "# import infcy\n",
    "from Toolbox import infcy \n",
    "n = 10 \n",
    "g = nx.grid_graph([n, n])\n",
    "m = Potts(g, t = 1.5)\n",
    "sim = infcy.Simulator(m)\n",
    "\n",
    "print(sim)\n",
    "import time\n",
    "\n",
    "\n",
    "def time_function(f, repeats):\n",
    "    print('starting tests')\n",
    "    start = time.time()\n",
    "    for n in range(repeats):\n",
    "        f(snapshots, repeats = int(1e4))\n",
    "    end = time.time() - start\n",
    "    print(f'Took {end} steps')\n",
    "    return end\n",
    "snapshots = sim.snapshots(1000, step = 1)\n",
    "print(snapshots)\n",
    "end1 = time_function(sim.forward2, 1)\n",
    "end2 = time_function(sim.forward, 1)\n",
    "\n",
    "\n"
   ]
  },
  {
   "cell_type": "code",
   "execution_count": null,
   "metadata": {},
   "outputs": [],
   "source": [
    "print(end1, end2, len(snapshots))"
   ]
  }
 ],
 "metadata": {
  "kernelspec": {
   "display_name": "Python 3",
   "language": "python",
   "name": "python3"
  },
  "language_info": {
   "codemirror_mode": {
    "name": "ipython",
    "version": 3
   },
   "file_extension": ".py",
   "mimetype": "text/x-python",
   "name": "python",
   "nbconvert_exporter": "python",
   "pygments_lexer": "ipython3",
   "version": "3.8.5"
  }
 },
 "nbformat": 4,
 "nbformat_minor": 4
}
