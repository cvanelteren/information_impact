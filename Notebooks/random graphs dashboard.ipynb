{
 "cells": [
  {
   "cell_type": "code",
   "execution_count": 2,
   "metadata": {
    "scrolled": true
   },
   "outputs": [
    {
     "name": "stderr",
     "output_type": "stream",
     "text": [
      "\r",
      "  0%|          | 0/220 [00:00<?, ?it/s]"
     ]
    },
    {
     "name": "stdout",
     "output_type": "stream",
     "text": [
      "Extracting data...\n",
      "Done\n",
      "Reading settings in ../Data/new25/2019-07-21T16:01:20.028286: using json\n",
      "loading graph\n"
     ]
    },
    {
     "name": "stderr",
     "output_type": "stream",
     "text": [
      "100%|█████████▉| 219/220 [00:36<00:00,  5.63it/s]"
     ]
    }
   ],
   "source": [
    "import numpy as np, sys, os, holoviews as hv, scipy\n",
    "sys.path.insert(0, '../') # add normal modules\n",
    "from Utils import IO, plotting as plotz\n",
    "import matplotlib.pyplot as plt\n",
    "from matplotlib import style\n",
    "style.use('seaborn-notebook')\n",
    "\n",
    "root = '../Data/new25/'\n",
    "data = IO.DataLoader(root)\n",
    "data = {os.path.join(root, k): v for k,v in data.items()}\n",
    "\n",
    "# settings = {k: IO.Settings(os.path.join(root, k)) for k in data}\n",
    "\n",
    "import multiprocessing as mp\n",
    "from multiprocessing.pool import ThreadPool\n",
    "processes = mp.cpu_count()\n",
    "\n",
    "aucs = loadedData = {}\n",
    "settings = IO.loadSets(data)"
   ]
  },
  {
   "cell_type": "code",
   "execution_count": 4,
   "metadata": {
    "scrolled": true
   },
   "outputs": [
    {
     "name": "stderr",
     "output_type": "stream",
     "text": [
      "\n",
      "  0%|          | 0/1 [00:00<?, ?it/s]\u001b[A\n",
      "100%|██████████| 1/1 [00:03<00:00,  3.41s/it]\u001b[A"
     ]
    }
   ],
   "source": [
    "def worker(sample):\n",
    "    # tmp workaround\n",
    "    if len(sample.shape) == 1:\n",
    "        sample = sample.reshape(-1, 1)\n",
    "    auc = np.zeros((len(sample), 2))\n",
    "    coeffs, errors = plotz.fit(sample, func, params = fitParam)\n",
    "    for nodei, c in enumerate(coeffs):\n",
    "        tmp = 0\n",
    "        F      = lambda x: func(x, *c) - c[0]\n",
    "        tmp, _ = scipy.integrate.quad(F, 0, LIMIT)\n",
    "        auc[nodei, 0] = tmp\n",
    "        auc[nodei, 1] = errors[nodei]\n",
    "        if errors[nodei] > .1:\n",
    "            print('error large')\n",
    "    auc[auc < np.finfo(auc.dtype).eps ] = 0\n",
    "    return auc[:, 0]\n",
    "from tqdm import tqdm\n",
    "\n",
    "double = lambda x, a, b, c, d, e, f, g: a + b * np.exp(-c*(x - g)) + d * np.exp(- e * (x-f))\n",
    "\n",
    "double_= lambda x, a, b, c, d, e, f, g: a +  b * np.exp(-c*(x - g)) + d * np.exp(- e * (x - f ))\n",
    "single = lambda x, a, b, c : a + b * np.exp(-c * x)\n",
    "single_= lambda x, a, b, c : a + b * np.exp(-c * x)\n",
    "special= lambda x, a, b, c, d: a  + b * np.exp(- (x)**c - d)\n",
    "\n",
    "func        = double\n",
    "p0          = np.ones((func.__code__.co_argcount - 1)); # p0[0] = 0\n",
    "fitParam    = dict(\\\n",
    "                   maxfev = int(1e6), \\\n",
    "                   bounds = (0, np.inf), p0 = p0,\\\n",
    "                   jac = 'cs'\n",
    "                  )\n",
    "aucs = {}\n",
    "for k, setting in tqdm(settings.items()):\n",
    "    LIMIT = setting.deltas // 2 - 1\n",
    "    LIMIT = np.inf\n",
    "    s = setting.data.shape\n",
    "    v = setting.data.reshape(-1, *s[-2:])\n",
    "    with mp.Pool(mp.cpu_count()) as p:\n",
    "        auc = np.asarray(p.map(worker, v)).reshape(s[:-1])\n",
    "    aucs[k] = auc"
   ]
  },
  {
   "cell_type": "code",
   "execution_count": 7,
   "metadata": {},
   "outputs": [
    {
     "ename": "ValueError",
     "evalue": "'c' argument has 10 elements, which is not acceptable for use with 'x' with size 200, 'y' with size 200.",
     "output_type": "error",
     "traceback": [
      "\u001b[0;31m---------------------------------------------------------------------------\u001b[0m",
      "\u001b[0;31mValueError\u001b[0m                                Traceback (most recent call last)",
      "\u001b[0;32m~/miniconda3/lib/python3.7/site-packages/matplotlib/axes/_axes.py\u001b[0m in \u001b[0;36m_parse_scatter_color_args\u001b[0;34m(c, edgecolors, kwargs, xshape, yshape, get_next_color_func)\u001b[0m\n\u001b[1;32m   4282\u001b[0m                     \u001b[0mvalid_shape\u001b[0m \u001b[0;34m=\u001b[0m \u001b[0;32mFalse\u001b[0m\u001b[0;34m\u001b[0m\u001b[0;34m\u001b[0m\u001b[0m\n\u001b[0;32m-> 4283\u001b[0;31m                     \u001b[0;32mraise\u001b[0m \u001b[0mValueError\u001b[0m\u001b[0;34m\u001b[0m\u001b[0;34m\u001b[0m\u001b[0m\n\u001b[0m\u001b[1;32m   4284\u001b[0m             \u001b[0;32mexcept\u001b[0m \u001b[0mValueError\u001b[0m\u001b[0;34m:\u001b[0m\u001b[0;34m\u001b[0m\u001b[0;34m\u001b[0m\u001b[0m\n",
      "\u001b[0;31mValueError\u001b[0m: ",
      "\nDuring handling of the above exception, another exception occurred:\n",
      "\u001b[0;31mValueError\u001b[0m                                Traceback (most recent call last)",
      "\u001b[0;32m<ipython-input-7-59bcc886c61d>\u001b[0m in \u001b[0;36m<module>\u001b[0;34m\u001b[0m\n\u001b[1;32m      4\u001b[0m     \u001b[0mv\u001b[0m \u001b[0;34m=\u001b[0m \u001b[0mv\u001b[0m\u001b[0;34m.\u001b[0m\u001b[0msqueeze\u001b[0m\u001b[0;34m(\u001b[0m\u001b[0;34m)\u001b[0m\u001b[0;34m\u001b[0m\u001b[0;34m\u001b[0m\u001b[0m\n\u001b[1;32m      5\u001b[0m     \u001b[0mcolors\u001b[0m \u001b[0;34m=\u001b[0m \u001b[0mplt\u001b[0m\u001b[0;34m.\u001b[0m\u001b[0mcm\u001b[0m\u001b[0;34m.\u001b[0m\u001b[0mtab20\u001b[0m\u001b[0;34m(\u001b[0m\u001b[0mrange\u001b[0m\u001b[0;34m(\u001b[0m\u001b[0mv\u001b[0m\u001b[0;34m.\u001b[0m\u001b[0mshape\u001b[0m\u001b[0;34m[\u001b[0m\u001b[0;34m-\u001b[0m\u001b[0;36m1\u001b[0m\u001b[0;34m]\u001b[0m\u001b[0;34m)\u001b[0m\u001b[0;34m)\u001b[0m\u001b[0;34m\u001b[0m\u001b[0;34m\u001b[0m\u001b[0m\n\u001b[0;32m----> 6\u001b[0;31m     \u001b[0max\u001b[0m\u001b[0;34m.\u001b[0m\u001b[0mscatter\u001b[0m\u001b[0;34m(\u001b[0m\u001b[0;34m*\u001b[0m\u001b[0mv\u001b[0m\u001b[0;34m[\u001b[0m\u001b[0msets\u001b[0m\u001b[0;34m]\u001b[0m\u001b[0;34m,\u001b[0m \u001b[0mcolor\u001b[0m \u001b[0;34m=\u001b[0m \u001b[0mcolors\u001b[0m\u001b[0;34m)\u001b[0m\u001b[0;34m\u001b[0m\u001b[0;34m\u001b[0m\u001b[0m\n\u001b[0m\u001b[1;32m      7\u001b[0m \u001b[0mfig\u001b[0m\u001b[0;34m.\u001b[0m\u001b[0mshow\u001b[0m\u001b[0;34m(\u001b[0m\u001b[0;34m)\u001b[0m\u001b[0;34m\u001b[0m\u001b[0;34m\u001b[0m\u001b[0m\n",
      "\u001b[0;32m~/miniconda3/lib/python3.7/site-packages/matplotlib/__init__.py\u001b[0m in \u001b[0;36minner\u001b[0;34m(ax, data, *args, **kwargs)\u001b[0m\n\u001b[1;32m   1587\u001b[0m     \u001b[0;32mdef\u001b[0m \u001b[0minner\u001b[0m\u001b[0;34m(\u001b[0m\u001b[0max\u001b[0m\u001b[0;34m,\u001b[0m \u001b[0;34m*\u001b[0m\u001b[0margs\u001b[0m\u001b[0;34m,\u001b[0m \u001b[0mdata\u001b[0m\u001b[0;34m=\u001b[0m\u001b[0;32mNone\u001b[0m\u001b[0;34m,\u001b[0m \u001b[0;34m**\u001b[0m\u001b[0mkwargs\u001b[0m\u001b[0;34m)\u001b[0m\u001b[0;34m:\u001b[0m\u001b[0;34m\u001b[0m\u001b[0;34m\u001b[0m\u001b[0m\n\u001b[1;32m   1588\u001b[0m         \u001b[0;32mif\u001b[0m \u001b[0mdata\u001b[0m \u001b[0;32mis\u001b[0m \u001b[0;32mNone\u001b[0m\u001b[0;34m:\u001b[0m\u001b[0;34m\u001b[0m\u001b[0;34m\u001b[0m\u001b[0m\n\u001b[0;32m-> 1589\u001b[0;31m             \u001b[0;32mreturn\u001b[0m \u001b[0mfunc\u001b[0m\u001b[0;34m(\u001b[0m\u001b[0max\u001b[0m\u001b[0;34m,\u001b[0m \u001b[0;34m*\u001b[0m\u001b[0mmap\u001b[0m\u001b[0;34m(\u001b[0m\u001b[0msanitize_sequence\u001b[0m\u001b[0;34m,\u001b[0m \u001b[0margs\u001b[0m\u001b[0;34m)\u001b[0m\u001b[0;34m,\u001b[0m \u001b[0;34m**\u001b[0m\u001b[0mkwargs\u001b[0m\u001b[0;34m)\u001b[0m\u001b[0;34m\u001b[0m\u001b[0;34m\u001b[0m\u001b[0m\n\u001b[0m\u001b[1;32m   1590\u001b[0m \u001b[0;34m\u001b[0m\u001b[0m\n\u001b[1;32m   1591\u001b[0m         \u001b[0mbound\u001b[0m \u001b[0;34m=\u001b[0m \u001b[0mnew_sig\u001b[0m\u001b[0;34m.\u001b[0m\u001b[0mbind\u001b[0m\u001b[0;34m(\u001b[0m\u001b[0max\u001b[0m\u001b[0;34m,\u001b[0m \u001b[0;34m*\u001b[0m\u001b[0margs\u001b[0m\u001b[0;34m,\u001b[0m \u001b[0;34m**\u001b[0m\u001b[0mkwargs\u001b[0m\u001b[0;34m)\u001b[0m\u001b[0;34m\u001b[0m\u001b[0;34m\u001b[0m\u001b[0m\n",
      "\u001b[0;32m~/miniconda3/lib/python3.7/site-packages/matplotlib/axes/_axes.py\u001b[0m in \u001b[0;36mscatter\u001b[0;34m(self, x, y, s, c, marker, cmap, norm, vmin, vmax, alpha, linewidths, verts, edgecolors, plotnonfinite, **kwargs)\u001b[0m\n\u001b[1;32m   4444\u001b[0m             self._parse_scatter_color_args(\n\u001b[1;32m   4445\u001b[0m                 \u001b[0mc\u001b[0m\u001b[0;34m,\u001b[0m \u001b[0medgecolors\u001b[0m\u001b[0;34m,\u001b[0m \u001b[0mkwargs\u001b[0m\u001b[0;34m,\u001b[0m \u001b[0mxshape\u001b[0m\u001b[0;34m,\u001b[0m \u001b[0myshape\u001b[0m\u001b[0;34m,\u001b[0m\u001b[0;34m\u001b[0m\u001b[0;34m\u001b[0m\u001b[0m\n\u001b[0;32m-> 4446\u001b[0;31m                 get_next_color_func=self._get_patches_for_fill.get_next_color)\n\u001b[0m\u001b[1;32m   4447\u001b[0m \u001b[0;34m\u001b[0m\u001b[0m\n\u001b[1;32m   4448\u001b[0m         \u001b[0;32mif\u001b[0m \u001b[0mplotnonfinite\u001b[0m \u001b[0;32mand\u001b[0m \u001b[0mcolors\u001b[0m \u001b[0;32mis\u001b[0m \u001b[0;32mNone\u001b[0m\u001b[0;34m:\u001b[0m\u001b[0;34m\u001b[0m\u001b[0;34m\u001b[0m\u001b[0m\n",
      "\u001b[0;32m~/miniconda3/lib/python3.7/site-packages/matplotlib/axes/_axes.py\u001b[0m in \u001b[0;36m_parse_scatter_color_args\u001b[0;34m(c, edgecolors, kwargs, xshape, yshape, get_next_color_func)\u001b[0m\n\u001b[1;32m   4288\u001b[0m                         \u001b[0;34m\"acceptable for use with 'x' with size {xs}, \"\u001b[0m\u001b[0;34m\u001b[0m\u001b[0;34m\u001b[0m\u001b[0m\n\u001b[1;32m   4289\u001b[0m                         \u001b[0;34m\"'y' with size {ys}.\"\u001b[0m\u001b[0;34m\u001b[0m\u001b[0;34m\u001b[0m\u001b[0m\n\u001b[0;32m-> 4290\u001b[0;31m                             \u001b[0;34m.\u001b[0m\u001b[0mformat\u001b[0m\u001b[0;34m(\u001b[0m\u001b[0mnc\u001b[0m\u001b[0;34m=\u001b[0m\u001b[0mn_elem\u001b[0m\u001b[0;34m,\u001b[0m \u001b[0mxs\u001b[0m\u001b[0;34m=\u001b[0m\u001b[0mxsize\u001b[0m\u001b[0;34m,\u001b[0m \u001b[0mys\u001b[0m\u001b[0;34m=\u001b[0m\u001b[0mysize\u001b[0m\u001b[0;34m)\u001b[0m\u001b[0;34m\u001b[0m\u001b[0;34m\u001b[0m\u001b[0m\n\u001b[0m\u001b[1;32m   4291\u001b[0m                     )\n\u001b[1;32m   4292\u001b[0m                 \u001b[0;32melse\u001b[0m\u001b[0;34m:\u001b[0m\u001b[0;34m\u001b[0m\u001b[0;34m\u001b[0m\u001b[0m\n",
      "\u001b[0;31mValueError\u001b[0m: 'c' argument has 10 elements, which is not acceptable for use with 'x' with size 200, 'y' with size 200."
     ]
    },
    {
     "data": {
      "image/png": "[encoded data removed]",
      "text/plain": [
       "<Figure size 576x396 with 1 Axes>"
      ]
     },
     "metadata": {
      "needs_background": "light"
     },
     "output_type": "display_data"
    }
   ],
   "source": [
    "fig, ax = plt.subplots()\n",
    "sets = [0, 1]\n",
    "for k, v in aucs.items():\n",
    "    v = v.squeeze()\n",
    "    colors = plt.cm.tab20(range(v.shape[-1]))\n",
    "    ax.scatter(*v[sets], color = colors)\n",
    "fig.show()"
   ]
  },
  {
   "cell_type": "code",
   "execution_count": 10,
   "metadata": {},
   "outputs": [
    {
     "name": "stdout",
     "output_type": "stream",
     "text": [
      "(3, 10, 14)\n"
     ]
    },
    {
     "ename": "AssertionError",
     "evalue": "",
     "output_type": "error",
     "traceback": [
      "\u001b[0;31m---------------------------------------------------\u001b[0m",
      "\u001b[0;31mAssertionError\u001b[0m    Traceback (most recent call last)",
      "\u001b[0;32m<ipython-input-10-411d43539916>\u001b[0m in \u001b[0;36m<module>\u001b[0;34m\u001b[0m\n\u001b[1;32m      8\u001b[0m     \u001b[0;32mfor\u001b[0m \u001b[0mvi\u001b[0m \u001b[0;32min\u001b[0m \u001b[0mrange\u001b[0m\u001b[0;34m(\u001b[0m\u001b[0mv\u001b[0m\u001b[0;34m.\u001b[0m\u001b[0mshape\u001b[0m\u001b[0;34m[\u001b[0m\u001b[0;34m-\u001b[0m\u001b[0;36m2\u001b[0m\u001b[0;34m]\u001b[0m\u001b[0;34m)\u001b[0m\u001b[0;34m:\u001b[0m\u001b[0;34m\u001b[0m\u001b[0;34m\u001b[0m\u001b[0m\n\u001b[1;32m      9\u001b[0m         \u001b[0md\u001b[0m \u001b[0;34m=\u001b[0m  \u001b[0mv\u001b[0m\u001b[0;34m[\u001b[0m\u001b[0mz\u001b[0m\u001b[0;34m,\u001b[0m \u001b[0;34m:\u001b[0m\u001b[0;34m,\u001b[0m \u001b[0mvi\u001b[0m\u001b[0;34m]\u001b[0m\u001b[0;34m\u001b[0m\u001b[0;34m\u001b[0m\u001b[0m\n\u001b[0;32m---> 10\u001b[0;31m         \u001b[0max\u001b[0m\u001b[0;34m.\u001b[0m\u001b[0merrorbar\u001b[0m\u001b[0;34m(\u001b[0m\u001b[0mx\u001b[0m\u001b[0;34m,\u001b[0m \u001b[0md\u001b[0m\u001b[0;34m.\u001b[0m\u001b[0mmean\u001b[0m\u001b[0;34m(\u001b[0m\u001b[0;36m0\u001b[0m\u001b[0;34m)\u001b[0m\u001b[0;34m,\u001b[0m \u001b[0myerr\u001b[0m \u001b[0;34m=\u001b[0m \u001b[0;36m2\u001b[0m \u001b[0;34m*\u001b[0m \u001b[0md\u001b[0m\u001b[0;34m.\u001b[0m\u001b[0mstd\u001b[0m\u001b[0;34m(\u001b[0m\u001b[0;36m0\u001b[0m\u001b[0;34m)\u001b[0m\u001b[0;34m,\u001b[0m \u001b[0mcolor\u001b[0m \u001b[0;34m=\u001b[0m \u001b[0mcolors\u001b[0m\u001b[0;34m[\u001b[0m\u001b[0mvi\u001b[0m\u001b[0;34m]\u001b[0m\u001b[0;34m)\u001b[0m\u001b[0;34m\u001b[0m\u001b[0;34m\u001b[0m\u001b[0m\n\u001b[0m\u001b[1;32m     11\u001b[0m \u001b[0mfig\u001b[0m\u001b[0;34m.\u001b[0m\u001b[0mshow\u001b[0m\u001b[0;34m(\u001b[0m\u001b[0;34m)\u001b[0m\u001b[0;34m\u001b[0m\u001b[0;34m\u001b[0m\u001b[0m\n",
      "\u001b[0;32m~/miniconda3/lib/python3.7/site-packages/matplotlib/__init__.py\u001b[0m in \u001b[0;36minner\u001b[0;34m(ax, data, *args, **kwargs)\u001b[0m\n\u001b[1;32m   1587\u001b[0m     \u001b[0;32mdef\u001b[0m \u001b[0minner\u001b[0m\u001b[0;34m(\u001b[0m\u001b[0max\u001b[0m\u001b[0;34m,\u001b[0m \u001b[0;34m*\u001b[0m\u001b[0margs\u001b[0m\u001b[0;34m,\u001b[0m \u001b[0mdata\u001b[0m\u001b[0;34m=\u001b[0m\u001b[0;32mNone\u001b[0m\u001b[0;34m,\u001b[0m \u001b[0;34m**\u001b[0m\u001b[0mkwargs\u001b[0m\u001b[0;34m)\u001b[0m\u001b[0;34m:\u001b[0m\u001b[0;34m\u001b[0m\u001b[0;34m\u001b[0m\u001b[0m\n\u001b[1;32m   1588\u001b[0m         \u001b[0;32mif\u001b[0m \u001b[0mdata\u001b[0m \u001b[0;32mis\u001b[0m \u001b[0;32mNone\u001b[0m\u001b[0;34m:\u001b[0m\u001b[0;34m\u001b[0m\u001b[0;34m\u001b[0m\u001b[0m\n\u001b[0;32m-> 1589\u001b[0;31m             \u001b[0;32mreturn\u001b[0m \u001b[0mfunc\u001b[0m\u001b[0;34m(\u001b[0m\u001b[0max\u001b[0m\u001b[0;34m,\u001b[0m \u001b[0;34m*\u001b[0m\u001b[0mmap\u001b[0m\u001b[0;34m(\u001b[0m\u001b[0msanitize_sequence\u001b[0m\u001b[0;34m,\u001b[0m \u001b[0margs\u001b[0m\u001b[0;34m)\u001b[0m\u001b[0;34m,\u001b[0m \u001b[0;34m**\u001b[0m\u001b[0mkwargs\u001b[0m\u001b[0;34m)\u001b[0m\u001b[0;34m\u001b[0m\u001b[0;34m\u001b[0m\u001b[0m\n\u001b[0m\u001b[1;32m   1590\u001b[0m \u001b[0;34m\u001b[0m\u001b[0m\n\u001b[1;32m   1591\u001b[0m         \u001b[0mbound\u001b[0m \u001b[0;34m=\u001b[0m \u001b[0mnew_sig\u001b[0m\u001b[0;34m.\u001b[0m\u001b[0mbind\u001b[0m\u001b[0;34m(\u001b[0m\u001b[0max\u001b[0m\u001b[0;34m,\u001b[0m \u001b[0;34m*\u001b[0m\u001b[0margs\u001b[0m\u001b[0;34m,\u001b[0m \u001b[0;34m**\u001b[0m\u001b[0mkwargs\u001b[0m\u001b[0;34m)\u001b[0m\u001b[0;34m\u001b[0m\u001b[0;34m\u001b[0m\u001b[0m\n",
      "\u001b[0;32m~/miniconda3/lib/python3.7/site-packages/matplotlib/axes/_axes.py\u001b[0m in \u001b[0;36merrorbar\u001b[0;34m(self, x, y, yerr, xerr, fmt, ecolor, elinewidth, capsize, barsabove, lolims, uplims, xlolims, xuplims, errorevery, capthick, **kwargs)\u001b[0m\n\u001b[1;32m   3427\u001b[0m             \u001b[0mnoylims\u001b[0m \u001b[0;34m=\u001b[0m \u001b[0;34m~\u001b[0m\u001b[0;34m(\u001b[0m\u001b[0mlolims\u001b[0m \u001b[0;34m|\u001b[0m \u001b[0muplims\u001b[0m\u001b[0;34m)\u001b[0m\u001b[0;34m\u001b[0m\u001b[0;34m\u001b[0m\u001b[0m\n\u001b[1;32m   3428\u001b[0m             \u001b[0;32mif\u001b[0m \u001b[0mnoylims\u001b[0m\u001b[0;34m.\u001b[0m\u001b[0many\u001b[0m\u001b[0;34m(\u001b[0m\u001b[0;34m)\u001b[0m \u001b[0;32mor\u001b[0m \u001b[0mlen\u001b[0m\u001b[0;34m(\u001b[0m\u001b[0mnoylims\u001b[0m\u001b[0;34m)\u001b[0m \u001b[0;34m==\u001b[0m \u001b[0;36m0\u001b[0m\u001b[0;34m:\u001b[0m\u001b[0;34m\u001b[0m\u001b[0;34m\u001b[0m\u001b[0m\n\u001b[0;32m-> 3429\u001b[0;31m                 \u001b[0mxo\u001b[0m\u001b[0;34m,\u001b[0m \u001b[0m_\u001b[0m \u001b[0;34m=\u001b[0m \u001b[0mxywhere\u001b[0m\u001b[0;34m(\u001b[0m\u001b[0mx\u001b[0m\u001b[0;34m,\u001b[0m \u001b[0mlower\u001b[0m\u001b[0;34m,\u001b[0m \u001b[0mnoylims\u001b[0m \u001b[0;34m&\u001b[0m \u001b[0meverymask\u001b[0m\u001b[0;34m)\u001b[0m\u001b[0;34m\u001b[0m\u001b[0;34m\u001b[0m\u001b[0m\n\u001b[0m\u001b[1;32m   3430\u001b[0m                 \u001b[0mlo\u001b[0m\u001b[0;34m,\u001b[0m \u001b[0muo\u001b[0m \u001b[0;34m=\u001b[0m \u001b[0mxywhere\u001b[0m\u001b[0;34m(\u001b[0m\u001b[0mlower\u001b[0m\u001b[0;34m,\u001b[0m \u001b[0mupper\u001b[0m\u001b[0;34m,\u001b[0m \u001b[0mnoylims\u001b[0m \u001b[0;34m&\u001b[0m \u001b[0meverymask\u001b[0m\u001b[0;34m)\u001b[0m\u001b[0;34m\u001b[0m\u001b[0;34m\u001b[0m\u001b[0m\n\u001b[1;32m   3431\u001b[0m                 \u001b[0mbarcols\u001b[0m\u001b[0;34m.\u001b[0m\u001b[0mappend\u001b[0m\u001b[0;34m(\u001b[0m\u001b[0mself\u001b[0m\u001b[0;34m.\u001b[0m\u001b[0mvlines\u001b[0m\u001b[0;34m(\u001b[0m\u001b[0mxo\u001b[0m\u001b[0;34m,\u001b[0m \u001b[0mlo\u001b[0m\u001b[0;34m,\u001b[0m \u001b[0muo\u001b[0m\u001b[0;34m,\u001b[0m \u001b[0;34m**\u001b[0m\u001b[0meb_lines_style\u001b[0m\u001b[0;34m)\u001b[0m\u001b[0;34m)\u001b[0m\u001b[0;34m\u001b[0m\u001b[0;34m\u001b[0m\u001b[0m\n",
      "\u001b[0;32m~/miniconda3/lib/python3.7/site-packages/matplotlib/axes/_axes.py\u001b[0m in \u001b[0;36mxywhere\u001b[0;34m(xs, ys, mask)\u001b[0m\n\u001b[1;32m   3330\u001b[0m             \u001b[0mys\u001b[0m \u001b[0mare\u001b[0m \u001b[0;32mnot\u001b[0m \u001b[0marrays\u001b[0m\u001b[0;34m\u001b[0m\u001b[0;34m\u001b[0m\u001b[0m\n\u001b[1;32m   3331\u001b[0m             \"\"\"\n\u001b[0;32m-> 3332\u001b[0;31m             \u001b[0;32massert\u001b[0m \u001b[0mlen\u001b[0m\u001b[0;34m(\u001b[0m\u001b[0mxs\u001b[0m\u001b[0;34m)\u001b[0m \u001b[0;34m==\u001b[0m \u001b[0mlen\u001b[0m\u001b[0;34m(\u001b[0m\u001b[0mys\u001b[0m\u001b[0;34m)\u001b[0m\u001b[0;34m\u001b[0m\u001b[0;34m\u001b[0m\u001b[0m\n\u001b[0m\u001b[1;32m   3333\u001b[0m             \u001b[0;32massert\u001b[0m \u001b[0mlen\u001b[0m\u001b[0;34m(\u001b[0m\u001b[0mxs\u001b[0m\u001b[0;34m)\u001b[0m \u001b[0;34m==\u001b[0m \u001b[0mlen\u001b[0m\u001b[0;34m(\u001b[0m\u001b[0mmask\u001b[0m\u001b[0;34m)\u001b[0m\u001b[0;34m\u001b[0m\u001b[0;34m\u001b[0m\u001b[0m\n\u001b[1;32m   3334\u001b[0m             \u001b[0mxs\u001b[0m \u001b[0;34m=\u001b[0m \u001b[0;34m[\u001b[0m\u001b[0mthisx\u001b[0m \u001b[0;32mfor\u001b[0m \u001b[0mthisx\u001b[0m\u001b[0;34m,\u001b[0m \u001b[0mb\u001b[0m \u001b[0;32min\u001b[0m \u001b[0mzip\u001b[0m\u001b[0;34m(\u001b[0m\u001b[0mxs\u001b[0m\u001b[0;34m,\u001b[0m \u001b[0mmask\u001b[0m\u001b[0;34m)\u001b[0m \u001b[0;32mif\u001b[0m \u001b[0mb\u001b[0m\u001b[0;34m]\u001b[0m\u001b[0;34m\u001b[0m\u001b[0;34m\u001b[0m\u001b[0m\n",
      "\u001b[0;31mAssertionError\u001b[0m: "
     ]
    },
    {
     "data": {
      "image/png": "[encoded data removed]",
      "text/plain": [
       "<Figure size 576x396 with 1 Axes>"
      ]
     },
     "metadata": {
      "needs_background": "light"
     },
     "output_type": "display_data"
    }
   ],
   "source": [
    "z = 0\n",
    "fig, ax = plt.subplots()\n",
    "for k, v in settings.items():\n",
    "    v = v.data.squeeze()\n",
    "    x = np.arange(v.shape[-1])\n",
    "    print(v.shape)\n",
    "    colors = plt.cm.tab20(range(v.shape[-2]))\n",
    "    for vi in range(v.shape[-2]):\n",
    "        d =  v[z, :, vi]\n",
    "        ax.errorbar(x, d.mean(0), yerr = 2 * d.std(0), color = colors[vi])\n",
    "fig.show()"
   ]
  },
  {
   "cell_type": "code",
   "execution_count": 13,
   "metadata": {},
   "outputs": [
    {
     "name": "stdout",
     "output_type": "stream",
     "text": [
      "(3, 10)\n"
     ]
    },
    {
     "ename": "IndexError",
     "evalue": "too many indices for array",
     "output_type": "error",
     "traceback": [
      "\u001b[0;31m---------------------------------------------------\u001b[0m",
      "\u001b[0;31mIndexError\u001b[0m        Traceback (most recent call last)",
      "\u001b[0;32m<ipython-input-13-9e2faf729d94>\u001b[0m in \u001b[0;36m<module>\u001b[0;34m\u001b[0m\n\u001b[1;32m      7\u001b[0m     \u001b[0;32mfor\u001b[0m \u001b[0mi\u001b[0m \u001b[0;32min\u001b[0m \u001b[0mrange\u001b[0m\u001b[0;34m(\u001b[0m\u001b[0mv\u001b[0m\u001b[0;34m.\u001b[0m\u001b[0mshape\u001b[0m\u001b[0;34m[\u001b[0m\u001b[0;36m1\u001b[0m\u001b[0;34m]\u001b[0m\u001b[0;34m)\u001b[0m\u001b[0;34m:\u001b[0m\u001b[0;34m\u001b[0m\u001b[0;34m\u001b[0m\u001b[0m\n\u001b[1;32m      8\u001b[0m         \u001b[0;32mfor\u001b[0m \u001b[0mj\u001b[0m \u001b[0;32min\u001b[0m \u001b[0mrange\u001b[0m\u001b[0;34m(\u001b[0m\u001b[0mv\u001b[0m\u001b[0;34m.\u001b[0m\u001b[0mshape\u001b[0m\u001b[0;34m[\u001b[0m\u001b[0;34m-\u001b[0m\u001b[0;36m1\u001b[0m\u001b[0;34m]\u001b[0m\u001b[0;34m)\u001b[0m\u001b[0;34m:\u001b[0m\u001b[0;34m\u001b[0m\u001b[0;34m\u001b[0m\u001b[0m\n\u001b[0;32m----> 9\u001b[0;31m             \u001b[0max\u001b[0m\u001b[0;34m.\u001b[0m\u001b[0mscatter\u001b[0m\u001b[0;34m(\u001b[0m\u001b[0;34m*\u001b[0m\u001b[0mv\u001b[0m\u001b[0;34m[\u001b[0m\u001b[0msets\u001b[0m\u001b[0;34m,\u001b[0m \u001b[0mi\u001b[0m\u001b[0;34m,\u001b[0m \u001b[0mj\u001b[0m\u001b[0;34m]\u001b[0m\u001b[0;34m,\u001b[0m \u001b[0mcolor\u001b[0m \u001b[0;34m=\u001b[0m \u001b[0mcolors\u001b[0m\u001b[0;34m[\u001b[0m\u001b[0mj\u001b[0m\u001b[0;34m]\u001b[0m\u001b[0;34m,\u001b[0m \u001b[0mlabel\u001b[0m \u001b[0;34m=\u001b[0m \u001b[0mj\u001b[0m\u001b[0;34m)\u001b[0m\u001b[0;34m\u001b[0m\u001b[0;34m\u001b[0m\u001b[0m\n\u001b[0m\u001b[1;32m     10\u001b[0m             \u001b[0max\u001b[0m\u001b[0;34m.\u001b[0m\u001b[0mscatter\u001b[0m\u001b[0;34m(\u001b[0m\u001b[0;34m*\u001b[0m\u001b[0mv\u001b[0m\u001b[0;34m[\u001b[0m\u001b[0msets\u001b[0m\u001b[0;34m,\u001b[0m \u001b[0;34m:\u001b[0m\u001b[0;34m,\u001b[0m \u001b[0mj\u001b[0m\u001b[0;34m]\u001b[0m\u001b[0;34m.\u001b[0m\u001b[0mmean\u001b[0m\u001b[0;34m(\u001b[0m\u001b[0;36m1\u001b[0m\u001b[0;34m)\u001b[0m\u001b[0;34m,\u001b[0m \u001b[0mcolor\u001b[0m \u001b[0;34m=\u001b[0m \u001b[0mcolors\u001b[0m\u001b[0;34m[\u001b[0m\u001b[0mj\u001b[0m\u001b[0;34m]\u001b[0m\u001b[0;34m,\u001b[0m \u001b[0mmarker\u001b[0m \u001b[0;34m=\u001b[0m \u001b[0;34m'+'\u001b[0m\u001b[0;34m,\u001b[0m \u001b[0ms\u001b[0m \u001b[0;34m=\u001b[0m \u001b[0;36m1500\u001b[0m\u001b[0;34m)\u001b[0m\u001b[0;34m\u001b[0m\u001b[0;34m\u001b[0m\u001b[0m\n\u001b[1;32m     11\u001b[0m \u001b[0mfig\u001b[0m\u001b[0;34m.\u001b[0m\u001b[0mshow\u001b[0m\u001b[0;34m(\u001b[0m\u001b[0;34m)\u001b[0m\u001b[0;34m\u001b[0m\u001b[0;34m\u001b[0m\u001b[0m\n",
      "\u001b[0;31mIndexError\u001b[0m: too many indices for array"
     ]
    },
    {
     "data": {
      "image/png": "[encoded data removed]",
      "text/plain": [
       "<Figure size 576x396 with 1 Axes>"
      ]
     },
     "metadata": {
      "needs_background": "light"
     },
     "output_type": "display_data"
    }
   ],
   "source": [
    "fig, ax = plt.subplots()\n",
    "\n",
    "sets = [0,1]\n",
    "for k, v in aucs.items():\n",
    "    v = v.squeeze()\n",
    "    print(v.shape)\n",
    "    for i in range(v.shape[1]):\n",
    "        for j in range(v.shape[-1]):\n",
    "            ax.scatter(*v[sets, i, j], color = colors[j], label = j)\n",
    "            ax.scatter(*v[sets, :, j].mean(1), color = colors[j], marker = '+', s = 1500)\n",
    "fig.show()"
   ]
  },
  {
   "cell_type": "code",
   "execution_count": null,
   "metadata": {},
   "outputs": [],
   "source": [
    "tmp = next(iter(loadedData))\n",
    "\n",
    "ld = loadedData[tmp].squeeze()\n",
    "mi = ld[0]\n",
    "s = mi.shape\n",
    "params = dict(\\\n",
    "             maxfev = int(1e4),\\\n",
    "             bounds = (0, np.inf),\\\n",
    "             )\n",
    "mi = np.array([np.pad(si, (0, 20), 'linear_ramp', end_values = (0, 0)) for si in mi.reshape(-1, s[-1])])\n",
    "mi = mi.reshape(*s[:-1], -1)\n",
    "print(mi.shape, s)\n",
    "plt.plot(mi[0,0])\n",
    "coeffs, err = plotz.fit(mi.reshape(-1, mi.shape[-1]), func, params = params)\n",
    "coeffs = coeffs.reshape(*mi.shape[:-1], -1)\n"
   ]
  },
  {
   "cell_type": "code",
   "execution_count": null,
   "metadata": {},
   "outputs": [],
   "source": [
    "from matplotlib import style\n",
    "style.use('seaborn-notebook')\n",
    "%matplotlib notebook\n",
    "\n",
    "x = np.linspace(0, 50)\n",
    "fig, ax = plt.subplots()\n",
    "\n",
    "test = np.zeros((coeffs.shape[0], 10))\n",
    "\n",
    "print(coeffs.shape, test.shape)\n",
    "for i in range(10):\n",
    "    for j in range(coeffs.shape[0]):\n",
    "        ax.plot(x, func(x, *coeffs[j, i]), color = colors[i], alpha = .2)\n",
    "        test[j, i] = scipy.integrate.quad(lambda x: func(x, *coeffs[j, i]), 0, np.inf)[0]\n",
    "        ax.plot(mi[j, i], color = colors[i], linestyle = 'none', marker = '.',)\n",
    "h = [plt.Line2D([0], [0], marker = '.', linestyle = 'none',\\\n",
    "                color = colors[i], label = i) for i in range(10)\\\n",
    "    ]\n",
    "ax.legend(handles = h) \n",
    "fig, ax = plt.subplots()\n",
    "ax.imshow(test)\n",
    "fig.show()"
   ]
  },
  {
   "cell_type": "code",
   "execution_count": null,
   "metadata": {},
   "outputs": [],
   "source": [
    "fig, ax = plt.subplots()\n",
    "\n",
    "settingName = next(iter(loadedData))\n",
    "setting = settings[settingName]\n",
    "graph = nx.node_link_graph(setting.graph)\n",
    "import networkx as nx\n",
    "from Utils.plotting import addGraphPretty\n",
    "addGraphPretty(ax = ax, graph = graph)\n",
    "fig.show()"
   ]
  },
  {
   "cell_type": "markdown",
   "metadata": {},
   "source": [
    "# Notes on the data\n",
    "\n",
    "Rick mentioned that it could be the case that although the data does not look linear, it is because each graph has some slightly odd behavior in regards of how the entropy decays. Meaning, it could be that across graphs the lines are not necessarily on a line. However, the prediction accuracy should still be high.\n",
    "\n",
    "Things to check:\n",
    "    - Check the ordering over time of the curves for different datasets\n",
    "    - Check the prediction accuracy\n",
    "    "
   ]
  },
  {
   "cell_type": "code",
   "execution_count": null,
   "metadata": {},
   "outputs": [],
   "source": [
    "from bokeh import plotting as bp\n",
    "from bokeh.models import ColumnDataSource, CustomJS\n",
    "import bokeh\n",
    "bp.output_notebook()\n",
    "\n",
    "\n",
    "tmp_aucs = [i.squeeze() for i in aucs.values()]\n",
    "x = []\n",
    "\n",
    "sets = [0, 2]\n",
    "\n",
    "for i in tmp_aucs:\n",
    "    idx = i[sets[1]].argmax()\n",
    "#     tmp = i[sets].max(-1)\n",
    "    tmp  = i[sets, idx]\n",
    "#     print(i.shape)\n",
    "    x.append(tmp)\n",
    "\n",
    "tmp_aucs = np.asarray(x)\n",
    "# print(tmp_aucs.shape, idx.shape); assert 0\n",
    "\n",
    "tmp_mi   = [loadedData[i].squeeze() for i in aucs.keys()]\n",
    "tmp_mi   = tmp_mi\n",
    "\n",
    "viridis = bokeh.palettes.Viridis256\n",
    "# setup data\n",
    "buffer          = ColumnDataSource('x', 'y', \\\n",
    "                                   data = dict(x = [], \\\n",
    "                                               y = [], \\\n",
    "                                               color = [])\\\n",
    "                                  )\n",
    "\n",
    "buffer_causal   = ColumnDataSource('x', 'y', \\\n",
    "                                   data = dict(x = [], \\\n",
    "                                               y = [],\\\n",
    "                                              color = []),\\\n",
    "                                  )\n",
    "\n",
    "aucs_bokeh = ColumnDataSource('x', 'y', data = dict(x = tmp_aucs[:,0].tolist(), \\\n",
    "                                                    y = tmp_aucs[:, 1].tolist(), \\\n",
    "                                                    ),\\\n",
    "                              )\n",
    "\n",
    "mi_bokeh    = ColumnDataSource(data = dict(y = [i[0].tolist() for i in tmp_mi]))\n",
    "causal_bokeh= ColumnDataSource(data = dict(y = [i[sets[-1]].tolist() for i in tmp_mi]))\n",
    "\n",
    "f1 = bp.figure(tools = 'hover tap lasso_select'.split(), width = 600)\n",
    "f2 = bp.figure( height = int(f1.plot_height * .5 ))\n",
    "f3 = bp.figure( height = int(f1.plot_height * .5 ))\n",
    "\n",
    "for prop, label in zip('yaxis xaxis'.split(), ['Mutual information', 'time']):\n",
    "    getattr(f2, prop).axis_label = label\n",
    "\n",
    "for prop, label in zip('yaxis xaxis'.split(), ['Causal impact', 'time']):\n",
    "    getattr(f3, prop).axis_label = label\n",
    "f1.scatter('x', 'y', source = aucs_bokeh, size = 10)\n",
    "\n",
    "# fi1.scatter()\n",
    "f2.multi_line('x', 'y', source = buffer, color = 'color')\n",
    "f3.multi_line(xs = 'x', ys = 'y', source = buffer_causal, color = 'color')\n",
    "\n",
    "with open('dashboard.js', 'r') as f:\n",
    "    callback = ''.join(i for i in f.readlines())\n",
    "    \n",
    "    JS =  CustomJS(\\\n",
    "             args = dict(buffer = buffer, \\\n",
    "                         mi     = mi_bokeh, \\\n",
    "                         buffer_causal = buffer_causal, \\\n",
    "                         causal = causal_bokeh, \n",
    "                         colors = bokeh.palettes.Magma256,\\\n",
    "              ),\\\n",
    "             code = callback)\n",
    "aucs_bokeh.selected.js_on_change('indices', \\\n",
    "                                JS)\n",
    "bp.show(bokeh.layouts.row(f1, bokeh.layouts.column(f2, f3)))\n"
   ]
  },
  {
   "cell_type": "markdown",
   "metadata": {},
   "source": [
    "# AUC for all data\n",
    "\n",
    "showing the data for not only the driver-node"
   ]
  },
  {
   "cell_type": "code",
   "execution_count": null,
   "metadata": {
    "scrolled": false
   },
   "outputs": [],
   "source": [
    "# aucs = {}\n",
    "# for k, v in loadedData.items():\n",
    "#     v = v.squeeze()\n",
    "#     s = v.shape\n",
    "#     v = v.reshape(v.shape[0], -1)\n",
    "#     mi, ma = v.min(1), v.max(1)\n",
    "#     print(v.shape)\n",
    "#     mi = mi[:, None]\n",
    "#     ma = ma[:, None]\n",
    "# \n",
    "#     v = (v - mi) / (ma - mi)\n",
    "#     print(v.max(1))\n",
    "#     v = v.reshape(s)\n",
    "#     aucs[k] = np.trapz(v, axis = -1)\n",
    "for k, v in loadedData.items(): print(v.shape)\n",
    "predictions = np.zeros((len(loadedData), 2))\n",
    "\n",
    "for idx, (k, v) in enumerate(aucs.items()):\n",
    "    jdx = v.squeeze().argmax(-1)\n",
    "    tmp = v.squeeze().argsort(-1)\n",
    "    jdx = tmp[:, -1]\n",
    "#     print(np.argsort(v.squeeze(), axis = -1)[:, -3:])\n",
    "    tmp = jdx[0] == jdx[1:]\n",
    "#     print(jdx, v.shape)\n",
    "    predictions[idx] = tmp\n",
    "\n",
    "fig = bp.figure()\n",
    "colors = bokeh.palettes.Viridis256\n",
    "\n",
    "N = len(colors) // len(aucs)\n",
    "for idx,(k, v) in enumerate(aucs.items()):\n",
    "    fig.scatter(*v.squeeze()[[0,2]], color = colors[idx * N])\n",
    "#     print(v.squeeze()[[0,1]])\n",
    "fig.xaxis.axis_label = 'Informational impact'\n",
    "fig.yaxis.axis_label = 'Causal impact'\n",
    "print(predictions.mean(0))\n",
    "bp.show(fig)"
   ]
  },
  {
   "cell_type": "code",
   "execution_count": null,
   "metadata": {},
   "outputs": [],
   "source": [
    "func = lambda x, a, b, c, d, e, f: a + b * np.exp(- c * x) + d * np.exp(- e * (x - f))\n",
    "x = np.linspace(0, 20)\n",
    "def idt(data, func, perc = .5, params = {}):\n",
    "    \"\"\"\n",
    "    Compute idt for data set (node x time)\n",
    "    \"\"\"\n",
    "    from Utils.plotting import fit\n",
    "    coeffs, error = fit(data, func, params = params)\n",
    "    idts = np.zeros((data.shape[0]))\n",
    "    for idx, c in enumerate(coeffs):\n",
    "        tmp = lambda x : abs(func(x, *c) - data[idx].max() * perc)\n",
    "        idts[idx] = scipy.optimize.fmin(tmp, np.random.rand(), disp = 0)[0]\n",
    "    return idts, coeffs\n",
    "%matplotlib notebook\n",
    "from matplotlib import style\n",
    "style.use('seaborn-notebook')\n",
    "params = dict(\\\n",
    "             maxfev = int(1e4),\\\n",
    "             bounds = (0, np.inf),\\\n",
    "             )\n",
    "mi = next(iter(loadedData.values())).squeeze()\n",
    "auc = next(iter(aucs.values())).squeeze()\n",
    "print(mi.shape)\n",
    "zdx = 2 \n",
    "idts, coeffs = idt(mi[zdx], func, .5, params)\n",
    "\n",
    "fig, ax = plt.subplots()\n",
    "\n",
    "colors = plt.cm.tab20(range(12))\n",
    "for idx, vi in enumerate(mi[zdx]):\n",
    "    ax.plot(vi, color = colors[idx], linestyle = 'none', marker=  '.', markersize = 10,\\\n",
    "           label = setting.rmapping[str(idx)])\n",
    "    ax.axvline(idts[idx], color = colors[idx], alpha = .7, linestyle = ':', markersize = 1600)\n",
    "    ax.plot(x, func(x, *coeffs[idx]), color = colors[idx], linestyle = 'dashed')\n",
    "    \n",
    "#     if idx == auc[zdx].argmax():\n",
    "#         ax.add_artist(plt.Circle((20, 1) , color = colors[idx]))\n",
    "ax.set(\\\n",
    "      xlabel = 'Time',\\\n",
    "      ylabel = 'KL-divergence' if zdx != 0 else 'Mutual information',\\\n",
    "      ) \n",
    "\n",
    "ax.legend()\n",
    "fig.show()"
   ]
  },
  {
   "cell_type": "code",
   "execution_count": null,
   "metadata": {},
   "outputs": [],
   "source": [
    "mu = mi.mean(1)\n",
    "# var = mi.std(1)\n",
    "\n",
    "from scipy.stats import sem\n",
    "var = sem(mi, axis = 1)\n",
    "print(var)\n",
    "setting = next(iter(settings.values()))\n",
    "print(setting.mapping)\n",
    "print(mu.shape)\n",
    "\n",
    "theta = 4\n",
    "times = np.zeros((3), dtype = int)\n",
    "\n",
    "fig, ax = plt.subplots()\n",
    "for idx, i in enumerate(mi):\n",
    "    for jdx, j in enumerate(i.T):\n",
    "        dd = np.argsort(j)\n",
    "        second, first = dd[-2:]\n",
    "        ax.scatter(jdx,  (j[first] - j[second])**2, color = colors[idx])\n",
    "        if jdx > 0:\n",
    "            print(idx, j[first], mu[idx, jdx] + theta * var[idx, jdx])\n",
    "            \n",
    "            if j[first] > mu[idx, jdx] + theta * var[idx, jdx]:\n",
    "                times[idx] = jdx\n",
    "            else:\n",
    "                break\n",
    "            \n",
    "print(times)\n",
    "print(setting.rmapping)\n",
    "for idx, i in enumerate(times):\n",
    "    node = mi[idx, :, i].argmax()\n",
    "    print(idx, setting.rmapping[str(node)])\n",
    "print(times)"
   ]
  },
  {
   "cell_type": "code",
   "execution_count": null,
   "metadata": {},
   "outputs": [],
   "source": [
    "# fig, ax = plt.subplots()\n",
    "# colors = plt.cm.Spectral(np.linspace(0, 1, len(tmp_aucs)))\n",
    "# [ax.scatter(*i[:2], color = colors[idx]) for idx, i in enumerate(tmp_aucs)]\n",
    "# fig.show()\n",
    "\n",
    "idx = []\n",
    "for k, v in aucs.items():\n",
    "    # get max\n",
    "    tmp = np.argsort(v.squeeze(), axis = -1)\n",
    "    if tmp[0, -1] != tmp[1, -1]:\n",
    "        idx.append(k)\n"
   ]
  },
  {
   "cell_type": "code",
   "execution_count": null,
   "metadata": {
    "scrolled": false
   },
   "outputs": [],
   "source": [
    "tmp = idx[0]\n",
    "setting = settings[tmp]\n",
    "print(aucs[tmp].argsort(-1))\n",
    "print(len(idx))\n",
    "def idt(data, perc = .5, params = {}):\n",
    "    \"\"\"\n",
    "    Compute idt for data set (node x time)\n",
    "    \"\"\"\n",
    "    from Utils.plotting import fit\n",
    "    \n",
    "    func = lambda x, a, b, c, d, e, f: a + b * np.exp(- c * x) + d * np.exp(- e * (x - f))\n",
    "    coeffs, error = fit(data, func, params = params)\n",
    "    idts = np.zeros((data.shape[0]))\n",
    "    for idx, c in enumerate(coeffs):\n",
    "        tmp = lambda x : abs(func(x, *c) - data[idx].max() * perc)\n",
    "        idts[idx] = scipy.optimize.fmin(tmp, np.random.rand(), \\\n",
    "                                       disp = 0)[0]\n",
    "    return idts\n",
    "\n",
    "\n",
    "print(settings[tmp])\n",
    "        \n",
    "import matplotlib.pyplot as plt\n",
    "d = loadedData[tmp].squeeze()\n",
    "\n",
    "\n",
    "idts = idt(d[1], params = dict(bounds = (0, np.inf), maxfev = int(1e4)))\n",
    "idts2= idt(d[0], params = dict(bounds = (0, np.inf), maxfev = int(1e4)))\n",
    "print(d.shape)\n",
    "\n",
    "\n",
    "colors = plt.cm.tab20(range(d.shape[1]))\n",
    "fig, (ax, tax, ttax) = plt.subplots(1, 3)\n",
    "for node in range(d.shape[1]):\n",
    "    ax.plot(d[0, node], color = colors[node])\n",
    "    ax.axvline(idts2[node], color = colors[node])\n",
    "    tax.plot(d[1, node], color = colors[node], linestyle = 'dashed')\n",
    "    ttax.plot(d[2, node], color = colors[node])\n",
    "    tax.axvline(idts[[node]], color = colors[node])\n",
    "tax.set(ylabel = 'causal')\n",
    "tax.yaxis.labelpad = 0\n",
    "ax.set(ylabel = 'informational')\n",
    "\n",
    "# elements = [plt.Line2D([0], [0], linestyle = i, color = 'k', label = j) for i, j in zip(\\\n",
    "#                    'dashed solid'.split(), 'causal informational'.split())]\n",
    "# ax.legend(handles = elements)\n",
    "mainax = fig.add_subplot(111, xticks = [] , yticks = [], frameon = False)\n",
    "mainax.set_xlabel('time', labelpad = 20)\n",
    "\n",
    "inax = tax.inset_axes([0.5, 0.5, 0.7, 0.7])\n",
    "import networkx as nx\n",
    "graph = nx.node_link_graph(settings[tmp].graph)\n",
    "from Utils.plotting import addGraphPretty\n",
    "addGraphPretty(graph, positions = nx.spring_layout, ax = inax, colors = colors)\n",
    "inax.axis('off')\n",
    "fig.subplots_adjust(wspace = .4)\n",
    "print(np.argsort(aucs[tmp], axis = -1).squeeze())\n",
    "print(settings[tmp])\n",
    "\n",
    "\n",
    "from Utils import IO\n",
    "\n",
    "IO.savePickle('../craph_graph3.pickle', nx.node_link_graph(setting.graph))"
   ]
  },
  {
   "cell_type": "code",
   "execution_count": null,
   "metadata": {},
   "outputs": [],
   "source": []
  },
  {
   "cell_type": "code",
   "execution_count": null,
   "metadata": {},
   "outputs": [],
   "source": []
  },
  {
   "cell_type": "code",
   "execution_count": null,
   "metadata": {
    "scrolled": true
   },
   "outputs": [],
   "source": []
  },
  {
   "cell_type": "code",
   "execution_count": null,
   "metadata": {
    "scrolled": false
   },
   "outputs": [],
   "source": []
  },
  {
   "cell_type": "code",
   "execution_count": null,
   "metadata": {
    "scrolled": false
   },
   "outputs": [],
   "source": []
  },
  {
   "cell_type": "code",
   "execution_count": null,
   "metadata": {},
   "outputs": [],
   "source": []
  },
  {
   "cell_type": "code",
   "execution_count": null,
   "metadata": {
    "scrolled": false
   },
   "outputs": [],
   "source": []
  },
  {
   "cell_type": "code",
   "execution_count": null,
   "metadata": {},
   "outputs": [],
   "source": []
  },
  {
   "cell_type": "code",
   "execution_count": null,
   "metadata": {},
   "outputs": [],
   "source": []
  },
  {
   "cell_type": "code",
   "execution_count": null,
   "metadata": {},
   "outputs": [],
   "source": []
  },
  {
   "cell_type": "code",
   "execution_count": null,
   "metadata": {},
   "outputs": [],
   "source": []
  },
  {
   "cell_type": "code",
   "execution_count": null,
   "metadata": {
    "scrolled": false
   },
   "outputs": [],
   "source": []
  },
  {
   "cell_type": "code",
   "execution_count": null,
   "metadata": {},
   "outputs": [
    {
     "name": "stderr",
     "output_type": "stream",
     "text": [
      "\r",
      "100%|██████████| 420/420 [00:40<00:00, 22.41it/s]"
     ]
    }
   ],
   "source": []
  }
 ],
 "metadata": {
  "kernelspec": {
   "display_name": "Python 3",
   "language": "python",
   "name": "python3"
  },
  "language_info": {
   "codemirror_mode": {
    "name": "ipython",
    "version": 3
   },
   "file_extension": ".py",
   "mimetype": "text/x-python",
   "name": "python",
   "nbconvert_exporter": "python",
   "pygments_lexer": "ipython3",
   "version": "3.7.3"
  },
  "toc": {
   "base_numbering": 1,
   "nav_menu": {},
   "number_sections": true,
   "sideBar": true,
   "skip_h1_title": false,
   "title_cell": "Table of Contents",
   "title_sidebar": "Contents",
   "toc_cell": false,
   "toc_position": {},
   "toc_section_display": true,
   "toc_window_display": false
  }
 },
 "nbformat": 4,
 "nbformat_minor": 2
}
