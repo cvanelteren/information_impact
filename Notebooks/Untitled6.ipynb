{
 "cells": [
  {
   "cell_type": "markdown",
   "metadata": {},
   "source": [
    "# Renyi entropy to Shannon entropy\n",
    "\n",
    "\n",
    "\n",
    "\\begin{aligned}\n",
    "\\newcommand{\\betaone}{{\\beta \\rightarrow 1}}\n",
    "\\newcommand{\\sump}{\\sum_{i = 1}^N p_i ^ \\beta}\n",
    "\\lim  H_\\betaone (p) &= \\frac{\\lim_\\betaone \\log(\\sum_{i = 1}^N p_i^\\beta)}{\\lim_\\betaone 1 - \\beta}\\\\\n",
    "                     &= -\\lim_\\betaone (\\sump)^{-1} \\sum_{i = 1}^N p_i ^\\beta \\log p_i \\\\\n",
    "                     &= - \\sum_{i = 1}^N p_i \\log p_i\\\\\n",
    "\\end{aligned}\n",
    "\n",
    "The derivation involves noting that Renyi entrop of $\\beta \\rightarrow 1$ is characterized by the limit $\\frac{0}{0}$ and as such L'Hopital must be employed.\n"
   ]
  },
  {
   "cell_type": "code",
   "execution_count": null,
   "metadata": {},
   "outputs": [],
   "source": [
    "\n",
    "\n",
    "\n",
    "\n",
    "\n",
    "\n",
    "\n",
    "\n",
    "\n",
    "\n",
    "\n",
    "\n"
   ]
  }
 ],
 "metadata": {
  "kernelspec": {
   "display_name": "Python 3",
   "language": "python",
   "name": "python3"
  },
  "language_info": {
   "codemirror_mode": {
    "name": "ipython",
    "version": 3
   },
   "file_extension": ".py",
   "mimetype": "text/x-python",
   "name": "python",
   "nbconvert_exporter": "python",
   "pygments_lexer": "ipython3",
   "version": "3.7.3"
  }
 },
 "nbformat": 4,
 "nbformat_minor": 2
}
