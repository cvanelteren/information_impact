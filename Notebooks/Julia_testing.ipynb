{
 "cells": [
  {
   "cell_type": "code",
   "execution_count": 3,
   "metadata": {},
   "outputs": [
    {
     "name": "stdout",
     "output_type": "stream",
     "text": [
      "\u001b[?25l\u001b[2K\u001b[?25h"
     ]
    },
    {
     "name": "stderr",
     "output_type": "stream",
     "text": [
      "\u001b[32m\u001b[1m   Updating\u001b[22m\u001b[39m registry at `~/.julia/registries/General`\n",
      "\u001b[32m\u001b[1m   Updating\u001b[22m\u001b[39m git-repo `https://github.com/JuliaRegistries/General.git`\n",
      "\u001b[32m\u001b[1m  Resolving\u001b[22m\u001b[39m package versions...\n",
      "\u001b[32m\u001b[1mNo Changes\u001b[22m\u001b[39m to `~/.julia/environments/v1.5/Project.toml`\n",
      "\u001b[32m\u001b[1mNo Changes\u001b[22m\u001b[39m to `~/.julia/environments/v1.5/Manifest.toml`\n",
      "\u001b[32m\u001b[1m  Resolving\u001b[22m\u001b[39m package versions...\n",
      "\u001b[32m\u001b[1m  Installed\u001b[22m\u001b[39m BenchmarkTools ─ v0.5.0\n",
      "\u001b[32m\u001b[1mUpdating\u001b[22m\u001b[39m `~/.julia/environments/v1.5/Project.toml`\n",
      " \u001b[90m [6e4b80f9] \u001b[39m\u001b[92m+ BenchmarkTools v0.5.0\u001b[39m\n",
      "\u001b[32m\u001b[1mUpdating\u001b[22m\u001b[39m `~/.julia/environments/v1.5/Manifest.toml`\n",
      " \u001b[90m [6e4b80f9] \u001b[39m\u001b[92m+ BenchmarkTools v0.5.0\u001b[39m\n",
      "┌ Info: Precompiling BenchmarkTools [6e4b80f9-dd63-53aa-95a3-0cdb28fa8baf]\n",
      "└ @ Base loading.jl:1278\n"
     ]
    }
   ],
   "source": [
    "import Pkg; Pkg.add(\"DifferentialEquations\"); Pkg.add(\"BenchmarkTools\")\n",
    "using DifferentialEquations, BenchmarkTools"
   ]
  },
  {
   "cell_type": "code",
   "execution_count": 5,
   "metadata": {},
   "outputs": [
    {
     "name": "stdout",
     "output_type": "stream",
     "text": [
      "  6.106 ms (18660 allocations: 1.16 MiB)\n",
      "  4.723 ms (1051 allocations: 154.38 KiB)\n"
     ]
    },
    {
     "data": {
      "text/plain": [
       "retcode: Success\n",
       "Interpolation: 1st order linear\n",
       "t: 1001-element Array{Float64,1}:\n",
       "   0.0\n",
       "   0.1\n",
       "   0.2\n",
       "   0.3\n",
       "   0.4\n",
       "   0.5\n",
       "   0.6\n",
       "   0.7\n",
       "   0.8\n",
       "   0.9\n",
       "   1.0\n",
       "   1.1\n",
       "   1.2\n",
       "   ⋮\n",
       "  98.9\n",
       "  99.0\n",
       "  99.1\n",
       "  99.2\n",
       "  99.3\n",
       "  99.4\n",
       "  99.5\n",
       "  99.6\n",
       "  99.7\n",
       "  99.8\n",
       "  99.9\n",
       " 100.0\n",
       "u: 1001-element Array{Array{Float64,1},1}:\n",
       " [1.0, 0.0, 0.0]\n",
       " [1.271459653371251, 2.550243696605076, 0.11413846135781502]\n",
       " [3.9131859664126867, 8.433170575925654, 1.2683601684882597]\n",
       " [11.696681003449374, 22.992336796447113, 11.770552117236903]\n",
       " [19.69337379968224, 16.709729474139305, 45.82979742066115]\n",
       " [6.503159951445658, -8.487016034062458, 38.07347776447527]\n",
       " [-3.319328036400973, -8.681608154946204, 28.714823162771495]\n",
       " [-6.525022955101072, -8.422509782566333, 25.876519843039294]\n",
       " [-8.039374540906364, -9.343992658661268, 25.556837087288578]\n",
       " [-9.141311817202713, -9.937131437845682, 26.985906913247437]\n",
       " [-9.40845055799833, -9.0961990650929, 28.581627612065052]\n",
       " [-8.650394306162656, -7.614757753384049, 28.509987239100884]\n",
       " [-7.715221231912621, -7.036811660060032, 26.982198718797996]\n",
       " ⋮\n",
       " [1.2466768395561645, 1.4498917416504074, 17.003930303328943]\n",
       " [1.9537285349365472, 3.2095015032154466, 13.33648815503256]\n",
       " [4.049876395257806, 7.232621743335678, 11.551558127198515]\n",
       " [8.88142097043542, 15.474607288975843, 15.314846951158053]\n",
       " [15.321006547704183, 18.894607761560238, 32.561864063273035]\n",
       " [11.761208118832315, 2.639760856492932, 39.179580664940026]\n",
       " [3.3896917677537273, -2.6172704333515, 29.562911423400262]\n",
       " [-0.2985545691397109, -2.3126687856461836, 22.387897777493162]\n",
       " [-1.7446571719221806, -3.0108454397124422, 17.402928450573533]\n",
       " [-3.404860578641696, -5.707707788496513, 14.294627509798085]\n",
       " [-6.864732948784191, -11.704988926346875, 14.837470678406824]\n",
       " [-12.715492575832045, -18.440979164154072, 25.21313467966042]"
      ]
     },
     "execution_count": 5,
     "metadata": {},
     "output_type": "execute_result"
    }
   ],
   "source": [
    "function lorenz!(du,u,p,t)\n",
    "    du[1] = p[1]*(u[2]-u[1])\n",
    "    du[2] = u[1]*(p[2]-u[3]) - u[2]\n",
    "    du[3] = u[1]*u[2] - p[3]*u[3]\n",
    "end\n",
    "u0 = [1.0;0.0;0.0]\n",
    "p = [10.0,28.0,8/3]\n",
    "tspan = (0.0,100.0)\n",
    "prob = ODEProblem(lorenz!,u0,tspan,p)\n",
    "@btime solve(prob,saveat=0.1,reltol=1e-8,abstol=1e-8) # 2.467 ms (13436 allocations: 1.00 MiB)\n",
    "@btime solve(prob,Tsit5(),saveat=0.1,reltol=1e-8,abstol=1e-8) # 2.904 ms (1081 allocations: 155.70 KiB)"
   ]
  },
  {
   "cell_type": "code",
   "execution_count": null,
   "metadata": {},
   "outputs": [],
   "source": []
  }
 ],
 "metadata": {
  "kernelspec": {
   "display_name": "Julia 1.5.1",
   "language": "julia",
   "name": "julia-1.5"
  },
  "language_info": {
   "file_extension": ".jl",
   "mimetype": "application/julia",
   "name": "julia",
   "version": "1.5.1"
  }
 },
 "nbformat": 4,
 "nbformat_minor": 4
}
