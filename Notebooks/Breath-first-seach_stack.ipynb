{
 "cells": [
  {
   "cell_type": "code",
   "execution_count": 129,
   "metadata": {},
   "outputs": [
    {
     "name": "stdout",
     "output_type": "stream",
     "text": [
      "0 {(1, 0), (0, 1), (1, 1), (0, 0)}\n",
      "1 {(3, 1), (3, 2), (1, 2), (2, 2)}\n",
      "[[(1, 0), (0, 1), (0, 0), (1, 1)], [(3, 1), (2, 2), (1, 2), (3, 2)]]\n",
      "This is 0 graph with nodes [(1, 0), (0, 1), (0, 0), (1, 1)]\n",
      "This is 1 graph with nodes [(3, 1), (2, 2), (1, 2), (3, 2)]\n"
     ]
    }
   ],
   "source": [
    "\"\"\"\n",
    "Code for helping somebody on stackoverflow\n",
    "\"\"\"\n",
    "\n",
    "import numpy as np\n",
    "from matplotlib.pyplot import subplots\n",
    "linelist = [[[0,0],[1,0]],[[0,0],[0,1]],[[1,0],[1,1]],[[0,1],[1,1]],[[1,2],[3,1]],[[1,2],[2,2]],[[3,1],[3,2]],[[2,2],[3,2]]] \n",
    "\n",
    "import networkx as nx\n",
    "tmp = [tuple(tuple(j) for j in i) for i in linelist]\n",
    "graph = nx.Graph(tmp);\n",
    "for idx, graph in enumerate(nx.connected_components(graph)):\n",
    "    print(idx, graph)\n",
    "# edge list usually reads v1 -> v2\n",
    "graph = {}\n",
    "# however these are lines so symmetry is assumed\n",
    "for l in linelist:\n",
    "    v1, v2 = map(tuple, l)\n",
    "    graph[v1] = graph.get(v1, ()) + (v2,)      \n",
    "    graph[v2] = graph.get(v2, ()) + (v1,)\n",
    "\n",
    "def BFS(graph):\n",
    "    \"\"\"\n",
    "    Implement breadth-first search\n",
    "    \"\"\"\n",
    "    # get nodes\n",
    "    nodes = list(graph.keys())\n",
    "    graphs = []\n",
    "    # check all nodes \n",
    "    while nodes:\n",
    "        # initialize BFS\n",
    "        toCheck = [nodes[0]]\n",
    "        discovered = []\n",
    "        # run bfs\n",
    "        while toCheck:\n",
    "            startNode = toCheck.pop()\n",
    "            for neighbor in graph.get(startNode):\n",
    "                if neighbor not in discovered:\n",
    "                    discovered.append(neighbor)\n",
    "                    toCheck.append(neighbor)\n",
    "                    nodes.remove(neighbor)\n",
    "        # add discovered graphs\n",
    "        graphs.append(discovered)\n",
    "    return graphs\n",
    "print(BFS(graph))\n",
    "for idx, graph in enumerate(BFS(graph)):\n",
    "    print(f\"This is {idx} graph with nodes {graph}\")\n",
    "            \n",
    "            \n",
    "            \n",
    "            \n",
    "        \n",
    "    "
   ]
  },
  {
   "cell_type": "code",
   "execution_count": 132,
   "metadata": {},
   "outputs": [
    {
     "name": "stderr",
     "output_type": "stream",
     "text": [
      "<ipython-input-132-19304aff135f>:7: UserWarning: Matplotlib is currently using module://ipykernel.pylab.backend_inline, which is a non-GUI backend, so cannot show the figure.\n",
      "  fig.show()\n"
     ]
    },
    {
     "data": {
      "image/png": "[encoded data removed]",
      "text/plain": [
       "<Figure size 432x288 with 2 Axes>"
      ]
     },
     "metadata": {
      "needs_background": "light"
     },
     "output_type": "display_data"
    }
   ],
   "source": [
    "from matplotlib.pyplot import subplots\n",
    "import numpy as np\n",
    "fig, ax = subplots()\n",
    "h = ax.imshow(np.random.rand(10,10) * 10, vmin = 0,\\\n",
    "         vmax = 2, cmap = 'Reds')\n",
    "fig.colorbar(h, )\n",
    "fig.show()"
   ]
  }
 ],
 "metadata": {
  "kernelspec": {
   "display_name": "Python 3",
   "language": "python",
   "name": "python3"
  },
  "language_info": {
   "codemirror_mode": {
    "name": "ipython",
    "version": 3
   },
   "file_extension": ".py",
   "mimetype": "text/x-python",
   "name": "python",
   "nbconvert_exporter": "python",
   "pygments_lexer": "ipython3",
   "version": "3.8.2"
  },
  "latex_envs": {
   "LaTeX_envs_menu_present": false,
   "autoclose": false,
   "autocomplete": false,
   "bibliofile": "library.bib",
   "cite_by": "apalike",
   "current_citInitial": 1,
   "eqLabelWithNumbers": false,
   "eqNumInitial": 1,
   "hotkeys": {
    "equation": "Ctrl-E",
    "itemize": "Ctrl-I"
   },
   "labels_anchors": false,
   "latex_user_defs": false,
   "report_style_numbering": false,
   "user_envs_cfg": false
  }
 },
 "nbformat": 4,
 "nbformat_minor": 4
}
