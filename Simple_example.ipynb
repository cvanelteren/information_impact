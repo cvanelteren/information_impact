{
 "cells": [
  {
   "cell_type": "markdown",
   "metadata": {},
   "source": [
    "# Simple Ising model example\n",
    "\n",
    "We start by defining a graph, and simulating a temperature range"
   ]
  },
  {
   "cell_type": "code",
   "execution_count": 1,
   "metadata": {},
   "outputs": [],
   "source": [
    "import networkx as nx\n",
    "from Toolbox import infcy # montecarlo methods\n",
    "from Models import fastIsing # models\n",
    "\n",
    "import numpy as np\n",
    "\n",
    "# graph = nx.path_graph(5, nx.DiGraph())\n",
    "\n",
    "# graph.add_edge(0, 5)\n",
    "# graph.add_edge(5, 6)\n",
    "# graph.add_edge(0,0)\n",
    "graph = nx.barabasi_albert_graph(10, 3)\n",
    "model = fastIsing.Ising(graph)\n"
   ]
  },
  {
   "cell_type": "code",
   "execution_count": null,
   "metadata": {},
   "outputs": [
    {
     "name": "stderr",
     "output_type": "stream",
     "text": [
      "\r",
      "  0%|          | 0/100 [00:00<?, ?it/s]"
     ]
    }
   ],
   "source": [
    "# match magnetization over temp range\n",
    "temps        = np.linspace(0, 5, 100)\n",
    "nSamples     = int(1e4)\n",
    "\n",
    "model.magSide    = '' # equal magnetization sampling\n",
    "model.updateType = 'async' # ultra smooth when single\n",
    "\n",
    "\n",
    "mag, sus = model.matchMagnetization(temps, nSamples)\n",
    "sus[np.isfinite(sus) == 0] = 0 # remove nans\n",
    "idx     = np.argsort(sus)[-10] # get 'max' idx ; second is used\n",
    "model.t = temps[idx]\n"
   ]
  },
  {
   "cell_type": "code",
   "execution_count": null,
   "metadata": {},
   "outputs": [],
   "source": [
    "deltas        = 10             #conditional time steps\n",
    "nSamples      = 100           # max number of states\n",
    "step          = int(1e3)   \n",
    "burninSamples = 100            # burninSamples + step = sim. steps until sample\n",
    "repeats       = int(1e4)       # number of conditional repeats\n",
    "\n",
    "# model.t = 0.1\n",
    "# model.t = np.inf\n",
    "snapshots   = infcy.getSnapShots(model, nSamples, step, burninSamples)\n",
    "cpx = infcy.monteCarlo(model, snapshots,\\\n",
    "                      deltas, repeats)\n",
    "px, mi = infcy.mutualInformation(cpx, deltas, snapshots, model)\n",
    "# res = np.zeros((nSamples, model.nNodes))\n",
    "# rngs= np.random.randint(0, model.nNodes, size = nSamples)\n",
    "# for i in range(nSamples):\n",
    "#     res[i] = model.updateState(rngs[[i]])\n"
   ]
  },
  {
   "cell_type": "code",
   "execution_count": null,
   "metadata": {},
   "outputs": [],
   "source": [
    "# nWindow = 10\n",
    "\n",
    "# ps = {}\n",
    "# px = np.zeros((nWindow, model.nNodes, model.nStates))\n",
    "# cpx= {}\n",
    "# Z  = (nSamples - 1 - nWindow) \n",
    "\n",
    "# statemapper = {i : idx for idx, i in enumerate([-1, 1])}\n",
    "\n",
    "# c = 0\n",
    "# for i in range(nWindow, nSamples - 1):\n",
    "#     tmp   = res[i-nWindow : i]\n",
    "#     state = tuple(tmp[-1])\n",
    "#     c += 1\n",
    "#     ps[state] = ps.get(state, 0) + 1\n",
    "#     if state not in cpx:\n",
    "#         cpx[state] = np.zeros(( nWindow, model.nNodes, model.nStates))\n",
    "#     for t, stateAtTime in enumerate(tmp):\n",
    "#         for node, nodeState in enumerate(stateAtTime):\n",
    "#             px[t, node,   statemapper[nodeState]] += 1 / Z\n",
    "#             cpx[state][t, node, statemapper[nodeState]] += 1 \n",
    "# print(c, Z)  \n",
    "# c = 0\n",
    "\n",
    "# mi = np.zeros((nWindow, model.nNodes))\n",
    "# for state, val in ps.items():\n",
    "#     cpx[state] /= val\n",
    "#     mi += np.nansum(cpx[state] * np.log2(cpx[state]), axis = -1) * val / Z\n",
    "# mi -= np.nansum(px * np.log2(px), axis = -1)\n"
   ]
  },
  {
   "cell_type": "markdown",
   "metadata": {},
   "source": [
    "# Plotting\n",
    "\n",
    "# The graph\n"
   ]
  },
  {
   "cell_type": "code",
   "execution_count": null,
   "metadata": {},
   "outputs": [],
   "source": [
    "from matplotlib.pyplot import *\n",
    "from Utils import plotting as plotz # plotting toolbox\n",
    "positions   = {}\n",
    "for node, pos in  nx.nx_agraph.graphviz_layout(model.graph, prog = 'neato').items():\n",
    "    positions[node] =  np.array(pos) * .1\n",
    "\n",
    "fig, ax = subplots()\n",
    "p = dict(layout = dict(scale = 1),\\\n",
    "         circle = dict(\\\n",
    "                     radius = 1),\\\n",
    "         annotate = dict(fontsize = 10)\n",
    "         )\n",
    "plotz.addGraphPretty(model.graph, ax,  positions, **p)\n",
    "ax.axis('off')\n",
    "fig.show()\n"
   ]
  },
  {
   "cell_type": "markdown",
   "metadata": {},
   "source": [
    "## Magnetization and susceptibilty\n",
    "Let's draw some plots. First we start with the magnetization as function of temperature. Additionally, we plot the susceptibility. \n"
   ]
  },
  {
   "cell_type": "code",
   "execution_count": null,
   "metadata": {},
   "outputs": [],
   "source": [
    "# show mag and sus as function of temperature\n",
    "fig, ax = subplots(1, 2)\n",
    "ax[0].scatter(temps, mag, label = 'Magnetization')\n",
    "ax[1].scatter(temps, sus, label = 'Susceptebility')\n",
    "ax[0].axvline(temps[idx], color = 'red', linestyle = 'dashed')\n",
    "ax[1].axvline(temps[idx], color = 'red', linestyle = 'dashed')\n",
    "mainax = fig.add_subplot(111, frameon = False, \\\n",
    "                         xticks = [],\\\n",
    "                         yticks = [], \\\n",
    "                        )\n",
    "mainax.set_xlabel('Temperature', labelpad = 30)\n",
    "fig.show()"
   ]
  },
  {
   "cell_type": "markdown",
   "metadata": {},
   "source": [
    "# Mutual information decay\n"
   ]
  },
  {
   "cell_type": "code",
   "execution_count": null,
   "metadata": {},
   "outputs": [],
   "source": [
    "# show mi\n",
    "colors = cm.tab20(np.arange(model.nNodes)) # colors per node\n",
    "rcParams['axes.prop_cycle'] = cycler('color', colors)\n",
    "\n",
    "fig, ax = subplots()\n",
    "for node, label in sorted(model.rmapping.items(), key = lambda x: x[1]):\n",
    "    ax.plot(mi[:, node], color = colors[node])\n",
    "ax.set_xlabel('Time', fontsize = 25)\n",
    "ax.set_ylabel('$I(s_i^t ; S)$', fontsize = 15)\n",
    "\n",
    "elements = []\n",
    "for i, node in sorted(model.rmapping.items(), key = lambda x: x[0]):\n",
    "    element = Line2D(\\\n",
    "                     [0], [0], marker = '.', label = i, \\\n",
    "                     linestyle  = 'none', color = colors[i],\\\n",
    "                     markersize = 20)\n",
    "    \n",
    "    elements.append(element)\n",
    "\n",
    "# ax.legend(handles = elements, title = 'Node', title_fontsize = 25, fontsize = 15, bbox_to_anchor = (1, 1), loc = 'upper left',\\\n",
    "#          borderaxespad = 0, frameon = False)\n",
    "ax.tick_params(labelsize = 8)\n",
    "\n",
    "# fig.savefig('../thesis/presentation/figures/simple_example_time.eps', bbox_inches = \"tight\")\n",
    "# fig.subplots_adjust(right = 1.2)\n",
    "fig.tight_layout()\n",
    "fig.show()\n",
    "\n",
    "tmp = np.trapz(mi, np.arange(mi.shape[0]), axis = 0)\n",
    "\n",
    "degs= dict(model.graph.degree())\n",
    "fig, ax = subplots()\n",
    "for node, idx in model.mapping.items():\n",
    "    ax.scatter(degs[node], tmp[idx])\n",
    "fig.show()\n"
   ]
  }
 ],
 "metadata": {
  "kernelspec": {
   "display_name": "Python 3",
   "language": "python",
   "name": "python3"
  },
  "language_info": {
   "codemirror_mode": {
    "name": "ipython",
    "version": 3
   },
   "file_extension": ".py",
   "mimetype": "text/x-python",
   "name": "python",
   "nbconvert_exporter": "python",
   "pygments_lexer": "ipython3",
   "version": "3.7.2"
  }
 },
 "nbformat": 4,
 "nbformat_minor": 2
}
