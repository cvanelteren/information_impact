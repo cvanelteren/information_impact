{
 "cells": [
  {
   "cell_type": "markdown",
   "metadata": {},
   "source": [
    "# Simple Ising model example\n",
    "\n",
    "We start by defining a graph, and simulating a temperature range"
   ]
  },
  {
   "cell_type": "code",
   "execution_count": 1,
   "metadata": {
    "cell_style": "center"
   },
   "outputs": [],
   "source": [
    "import networkx as nx\n",
    "from Toolbox import infcy # montecarlo methods\n",
    "from Models import fastIsing # models\n",
    "\n",
    "import numpy as np\n",
    "\n",
    "# graph = nx.path_graph(5, nx.DiGraph())\n",
    "\n",
    "\n",
    "graph = nx.empty_graph()\n",
    "graph.add_node(1); graph.add_node(0)\n",
    "# graph = nx.path_graph(5, nx.DiGraph())\n",
    "# graph.add_edge(0, 5)\n",
    "# graph.add_edge(0,0)\n",
    "# graph.add_edge(5, 6)\n",
    "# graph.add_edge(0,0)\n",
    "# graph = nx.barabasi_albert_graph(200, 3)\n",
    "model = fastIsing.Ising(graph)"
   ]
  },
  {
   "cell_type": "code",
   "execution_count": 2,
   "metadata": {},
   "outputs": [
    {
     "name": "stderr",
     "output_type": "stream",
     "text": [
      "100%|██████████| 100/100 [00:00<00:00, 721.15it/s]"
     ]
    },
    {
     "name": "stdout",
     "output_type": "stream",
     "text": [
      "Computing mag per t\n"
     ]
    },
    {
     "name": "stderr",
     "output_type": "stream",
     "text": [
      "\n"
     ]
    }
   ],
   "source": [
    "# match magnetization over temp range\n",
    "temps        = np.linspace(0, graph.number_of_nodes() // 2, 100)\n",
    "nSamples     = int(1e3)\n",
    "\n",
    "model.magSide    = '' # equal magnetization sampling\n",
    "model.updateType = 'single' # ultra smooth when single\n",
    "\n",
    "\n",
    "mag, sus = model.matchMagnetization(temps, nSamples)\n",
    "sus[np.isfinite(sus) == 0] = 0 # remove nans\n",
    "idx     = np.argsort(sus)[-3] # get 'max' idx ; second is used\n",
    "model.t = temps[idx]\n"
   ]
  },
  {
   "cell_type": "code",
   "execution_count": 3,
   "metadata": {},
   "outputs": [
    {
     "name": "stderr",
     "output_type": "stream",
     "text": [
      "100%|██████████| 1000/1000 [00:00<00:00, 11629.52it/s]\n",
      "100%|██████████| 4/4 [00:00<00:00, 26973.02it/s]\n",
      "100%|██████████| 4/4 [00:00<00:00, 23.65it/s]"
     ]
    },
    {
     "name": "stdout",
     "output_type": "stream",
     "text": [
      "done\n",
      "Found 4 states\n",
      "Delta =  0.12 sec\n",
      "Decoding..\n",
      "starting runs\n",
      "Delta =  0.18 sec\n"
     ]
    },
    {
     "name": "stderr",
     "output_type": "stream",
     "text": [
      "\n",
      "/home/casper/miniconda3/lib/python3.7/site-packages/ipykernel_launcher.py:44: RuntimeWarning: divide by zero encountered in log2\n",
      "/home/casper/miniconda3/lib/python3.7/site-packages/ipykernel_launcher.py:44: RuntimeWarning: invalid value encountered in multiply\n"
     ]
    }
   ],
   "source": [
    "deltas        = 50             #conditional time steps\n",
    "nSamples      = 1000       # max number of states\n",
    "step          = int(1e3)   \n",
    "burninSamples = 100            # burninSamples + step = sim. steps until sample\n",
    "repeats       = int(1e4)       # number of conditional repeats\n",
    "\n",
    "reverse = False\n",
    "# reverse = True\n",
    "if reverse:\n",
    "    res = np.zeros((nSamples, model.nNodes))\n",
    "    rngs= np.random.randint(0, model.nNodes, size = nSamples)\n",
    "    for i in range(nSamples):\n",
    "        res[i] = model.updateState(rngs[[i]])\n",
    "    nWindow = deltas\n",
    "    ps = {}\n",
    "    px = np.zeros((nWindow, model.nNodes, model.nStates))\n",
    "    cpx= {}\n",
    "    Z  = (nSamples - 1 - nWindow) \n",
    "\n",
    "    statemapper = {i : idx for idx, i in enumerate([-1, 1])}\n",
    "\n",
    "    c = 0\n",
    "    for i in range(nWindow, nSamples - 1):\n",
    "        tmp   = res[i-nWindow : i]\n",
    "        state = tuple(tmp[-1])\n",
    "        c += 1\n",
    "        ps[state] = ps.get(state, 0) + 1\n",
    "        if state not in cpx:\n",
    "            cpx[state] = np.zeros(( nWindow, model.nNodes, model.nStates))\n",
    "        for t, stateAtTime in enumerate(tmp):\n",
    "            for node, nodeState in enumerate(stateAtTime):\n",
    "                px[t, node,   statemapper[nodeState]] += 1 / Z\n",
    "                cpx[state][t, node, statemapper[nodeState]] += 1 \n",
    "    c = 0\n",
    "    mi = np.zeros((nWindow, model.nNodes))\n",
    "    for state, val in ps.items():\n",
    "        cpx[state] /= val\n",
    "        mi += np.nansum(cpx[state] * np.log2(cpx[state]), axis = -1) * val / Z\n",
    "    mi -= np.nansum(px * np.log2(px), axis = -1)\n",
    "else:\n",
    "    snapshots   = infcy.getSnapShots(model, nSamples, step, burninSamples)\n",
    "    cpx = infcy.monteCarlo(model, snapshots,\\\n",
    "                          deltas, repeats)\n",
    "    px, mi = infcy.mutualInformation(cpx, deltas, snapshots, model)\n"
   ]
  },
  {
   "cell_type": "code",
   "execution_count": 8,
   "metadata": {},
   "outputs": [
    {
     "name": "stderr",
     "output_type": "stream",
     "text": [
      "/home/casper/miniconda3/lib/python3.7/site-packages/matplotlib/figure.py:445: UserWarning: Matplotlib is currently using module://ipykernel.pylab.backend_inline, which is a non-GUI backend, so cannot show the figure.\n",
      "  % get_backend())\n"
     ]
    },
    {
     "data": {
      "image/png": "[encoded data removed]",
      "text/plain": [
       "<Figure size 432x288 with 1 Axes>"
      ]
     },
     "metadata": {
      "needs_background": "light"
     },
     "output_type": "display_data"
    }
   ],
   "source": [
    "# Plotting\n",
    "# The graph\n",
    "from matplotlib.pyplot import *\n",
    "from Utils import plotting as plotz # plotting toolbox\n",
    "positions   = {}\n",
    "for node, pos in  nx.nx_agraph.graphviz_layout(model.graph, prog = 'neato').items():\n",
    "    positions[node] =  np.array(pos) * .1\n",
    "\n",
    "fig, ax = subplots()\n",
    "p = dict(layout = dict(scale = 1),\\\n",
    "         circle = dict(\\\n",
    "                     radius = 1),\\\n",
    "         annotate = dict(fontsize = 10)\n",
    "         )\n",
    "plotz.addGraphPretty(model.graph, ax,  positions, mapping = model.mapping, **p)\n",
    "ax.axis('off')\n",
    "fig.show()\n",
    "show()"
   ]
  },
  {
   "cell_type": "markdown",
   "metadata": {},
   "source": [
    "## Magnetization and susceptibilty\n",
    "Let's draw some plots. First we start with the magnetization as function of temperature. Additionally, we plot the susceptibility. \n"
   ]
  },
  {
   "cell_type": "code",
   "execution_count": 5,
   "metadata": {},
   "outputs": [
    {
     "name": "stderr",
     "output_type": "stream",
     "text": [
      "/home/casper/miniconda3/lib/python3.7/site-packages/matplotlib/figure.py:445: UserWarning: Matplotlib is currently using module://ipykernel.pylab.backend_inline, which is a non-GUI backend, so cannot show the figure.\n",
      "  % get_backend())\n"
     ]
    },
    {
     "data": {
      "image/png": "[encoded data removed]",
      "text/plain": [
       "<Figure size 432x288 with 3 Axes>"
      ]
     },
     "metadata": {
      "needs_background": "light"
     },
     "output_type": "display_data"
    }
   ],
   "source": [
    "# show mag and sus as function of temperature\n",
    "fig, ax = subplots(1, 2)\n",
    "ax[0].scatter(temps, mag, label = 'Magnetization')\n",
    "ax[1].scatter(temps, sus, label = 'Susceptebility')\n",
    "ax[0].axvline(temps[idx], color = 'red', linestyle = 'dashed')\n",
    "ax[1].axvline(temps[idx], color = 'red', linestyle = 'dashed')\n",
    "mainax = fig.add_subplot(111, frameon = False, \\\n",
    "                         xticks = [],\\\n",
    "                         yticks = [], \\\n",
    "                        )\n",
    "mainax.set_xlabel('Temperature', labelpad = 30)\n",
    "fig.show()"
   ]
  },
  {
   "cell_type": "markdown",
   "metadata": {},
   "source": [
    "# Mutual information decay\n"
   ]
  },
  {
   "cell_type": "code",
   "execution_count": 9,
   "metadata": {
    "scrolled": true
   },
   "outputs": [
    {
     "name": "stderr",
     "output_type": "stream",
     "text": [
      "/home/casper/miniconda3/lib/python3.7/site-packages/matplotlib/figure.py:445: UserWarning: Matplotlib is currently using module://ipykernel.pylab.backend_inline, which is a non-GUI backend, so cannot show the figure.\n",
      "  % get_backend())\n"
     ]
    },
    {
     "data": {
      "image/png": "[encoded data removed]",
      "text/plain": [
       "<Figure size 432x288 with 2 Axes>"
      ]
     },
     "metadata": {
      "needs_background": "light"
     },
     "output_type": "display_data"
    }
   ],
   "source": [
    "# show mi\n",
    "# %matplotlib qt5\n",
    "from mpl_toolkits.axes_grid.inset_locator import inset_axes\n",
    "\n",
    "cmap = cm.tab20 if model.nNodes <20 else cm.nipy_spectral# colors per node\n",
    "colors= cmap(np.arange(model.nNodes))\n",
    "rcParams['axes.prop_cycle'] = cycler('color', colors)\n",
    "\n",
    "x = np.arange(-mi.shape[0], 0) if reverse else np.arange(mi.shape[0])\n",
    "fig, ax = subplots()\n",
    "elements = []\n",
    "\n",
    "inax = inset_axes(ax,\n",
    "                    width  =\"50%\", \n",
    "                    height =\"50%\",\n",
    "                    loc    = 'upper right')\n",
    "plotz.addGraphPretty(graph, ax = inax, cmap = colors,mapping = model.mapping, positions = positions, **p)\n",
    "inax.axis('off')\n",
    "\n",
    "for node, label in sorted(model.rmapping.items(), key = lambda x: x[1]):\n",
    "    ax.plot(x, mi[:, node], color = colors[node])\n",
    "    element = Line2D(\\\n",
    "                     [0], [0], marker = '.', label = label, \\\n",
    "                     linestyle  = 'none', color = colors[node],\\\n",
    "                     markersize = 20)\n",
    "    \n",
    "    elements.append(element)\n",
    "ax.set_xlabel('Time', fontsize = 25)\n",
    "ax.set_ylabel('$I(s_i^t ; S)$', fontsize = 15)\n",
    "\n",
    "ax.legend(handles = elements, title = 'Node', \\\n",
    "          title_fontsize = 25, fontsize = 15, \\\n",
    "          bbox_to_anchor = (1, 1), \\\n",
    "          loc = 'upper left',\\\n",
    "          borderaxespad = 0, frameon = False)\n",
    "ax.tick_params(labelsize = 8)\n",
    "fig.show()\n",
    "# fig.savefig('../thesis/presentation/figures/simple_example_time.eps', bbox_inches = \"tight\")\n",
    "# fig.subplots_adjust(right = 1.2)\n",
    "# fig.tight_layout()\n",
    "# fig.show()\n",
    "# tmp = np.trapz(mi, np.arange(mi.shape[0]), axis = 0)\n",
    "# degs= dict(model.graph.degree())\n",
    "# fig, ax = subplots()\n",
    "# for node, idx in model.mapping.items():\n",
    "#     ax.scatter(degs[node], tmp[idx], color = colors[idx])\n",
    "# ax.set(xlabel = 'degree', ylabel = '$\\mu_i$')\n",
    "# fig.show()\n",
    "# print(model.rmapping, model.mapping)"
   ]
  },
  {
   "cell_type": "code",
   "execution_count": null,
   "metadata": {},
   "outputs": [],
   "source": []
  }
 ],
 "metadata": {
  "kernelspec": {
   "display_name": "Python 3",
   "language": "python",
   "name": "python3"
  },
  "language_info": {
   "codemirror_mode": {
    "name": "ipython",
    "version": 3
   },
   "file_extension": ".py",
   "mimetype": "text/x-python",
   "name": "python",
   "nbconvert_exporter": "python",
   "pygments_lexer": "ipython3",
   "version": "3.7.2"
  }
 },
 "nbformat": 4,
 "nbformat_minor": 2
}
