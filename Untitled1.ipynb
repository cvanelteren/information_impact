{
 "cells": [
  {
   "cell_type": "markdown",
   "metadata": {},
   "source": [
    "# Simple graph analysis\n",
    "\n",
    "One of the principle aims of science is to provide causal explanations to natural phenomenna. Previous research developped a technique that in theory could harness observations only to provide insights in the most important parts of networks. Here, we aim to map the results of this technique to a causal measure, namely the change in a distribution after an intervention.\n",
    "\n",
    "\n",
    "#  Procedure\n",
    "We will use generated graph structures with each node dynamic dictated by the Gibbs measure. The ultimate goal is to use non-overwhelming interventions, e.g. small interventions. The impact of an intervention will differ according to the node degree distribution. With lower degree nodes being more willing to interventions than high degree nodes. \n",
    "\n",
    "The intervention procedure works as follows:\n",
    "Connect a node with degree 1 to the node to intervene on. The weight of this connection dictates the size of the intervention. Here we set this weight to be 1. The higher the weight the more likely the intervened node will be congruent with the nudge node. \n",
    "\n",
    "\n"
   ]
  },
  {
   "cell_type": "code",
   "execution_count": null,
   "metadata": {},
   "outputs": [],
   "source": [
    "    ### Simulation parameters\n",
    "    repeats       = 500    # conditional probability \"streamlines\"\n",
    "    deltas        = 50     # number of time steps for conditional\n",
    "    step          = 1      # step for conditional\n",
    "    nSamples      = 1000   # state samples\n",
    "    burninSamples = 5      # not used\n",
    "    pulseSize     = 1      # node influence\n",
    "\n",
    "    magSide       = 'neg'  # out of equilibrium dynamics at the negative sign\n",
    "    CHECK         = .8     # match magnetiztion at 80 percent of max [debuggin]\n",
    "    updateStyle   = 'async'# asynchronous updating"
   ]
  },
  {
   "cell_type": "markdown",
   "metadata": {},
   "source": [
    "## Path graphs\n",
    "\n",
    "We start with path graph of length 2, i.e. a coupled pair. \n",
    "## Expectation\n",
    "- We expect the IDT to be the same for each node\n",
    "- We expect the impact to be the same for each node\n",
    "\n",
    "## Results"
   ]
  },
  {
   "cell_type": "markdown",
   "metadata": {},
   "source": [
    "![idt_time](Data/2018-10-04%2011:15:46.638234/figures/idt_time.png)\n",
    "![impact_time](Data/2018-10-04%2011:15:46.638234/figures/impact_time.png)\n",
    "![impact_time](Data/2018-10-04%2011:15:46.638234/figures/idt_impact.png)\n",
    "\n",
    "The regression here is of course ridiculous (n = 2). A couple observations can be made. Personally, I would expect the MI at t=1 not to be near zero. Thinking back this can be explained by the update method. The system contains only 1 edge for each node, meaning it is not fully determined by the other node. The low temperature will attenuate this somewhat, but given the fact that we do 2 updates ever simulation step, the system appearantly moves through all the possible states enough for it to match the node's entropy."
   ]
  },
  {
   "cell_type": "markdown",
   "metadata": {},
   "source": [
    "### Path graph of N = 3 and N = 4\n",
    "### Path graph N = 3\n",
    "For the first time we have a 'hub' here, i.e. a node that is influence by more than one other node. We expect to see that the 'hub' node has less entropy than the other nodes, and preferably some differentiation in the idt / impact. Specifically, the impact of the hub node to be less than the leaf nodes.\n",
    "![idt_time](Data/2018-10-04%2012:09:57.250150/figures/idt_time.png)\n",
    "![impact_time](Data/2018-10-04%2012:09:57.250150/figures/impact_time.png)\n",
    "![impact_time](Data/2018-10-04%2012:09:57.250150/figures/idt_impact.png)\n",
    "\n",
    "The leaf nodes show higher impact and idt than the middle node, which is as we expected. However, the idt and impact at t=1 is near zero, yielding similar impact / idt. \n"
   ]
  },
  {
   "cell_type": "markdown",
   "metadata": {},
   "source": [
    "## path graph N = 4\n",
    "\n",
    "![idt_time](Data/2018-10-04%2012:14:33.404021/figures/idt_time.png)\n",
    "![impact_time](Data/2018-10-04%2012:14:33.404021/figures/impact_time.png)\n",
    "![impact_time](Data/2018-10-04%2012:14:33.404021/figures/idt_impact.png)\n"
   ]
  },
  {
   "cell_type": "markdown",
   "metadata": {},
   "source": [
    "For N = 4 we observe that the single update step is not enough to cycle through half the system states, hence T=1 encounters MI != 0. The hellinger impact identifies the leafs as the ones with the highest impact, however the IDT curves are somewhat muddy. The leaves do start at higher entropy as expected, but at T>=1 the ranking seems to switch, namely the inner nodes (1, 2) are higher than the leaves (0, 3), this causes the regression the identify those as the highest idt. This can be an issue with the numerical precission. \n"
   ]
  },
  {
   "cell_type": "markdown",
   "metadata": {},
   "source": [
    "# Barabasi albert graph \n",
    "\n",
    "The path graph simulations indicate the the methods are working. In order to have a better understanding of a wide range of network structures we consider the Barabasi-Albert graphs (BA).\n",
    "\n",
    "Network generations is achieved:\n",
    "- Given number of nodes N and degree M\n",
    "- a node i in the network is connected to a new node with probability p_i = k_i / \\sum_j k_j, where k indicates the degree\n",
    "\n",
    "By varying M we can generate different graph structures"
   ]
  },
  {
   "cell_type": "markdown",
   "metadata": {},
   "source": [
    "## M = 1\n"
   ]
  }
 ],
 "metadata": {
  "kernelspec": {
   "display_name": "Python 3",
   "language": "python",
   "name": "python3"
  },
  "language_info": {
   "codemirror_mode": {
    "name": "ipython",
    "version": 3
   },
   "file_extension": ".py",
   "mimetype": "text/x-python",
   "name": "python",
   "nbconvert_exporter": "python",
   "pygments_lexer": "ipython3",
   "version": "3.7.0"
  }
 },
 "nbformat": 4,
 "nbformat_minor": 2
}
