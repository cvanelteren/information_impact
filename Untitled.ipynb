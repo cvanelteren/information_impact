{
 "cells": [
  {
   "cell_type": "markdown",
   "metadata": {
    "extensions": {
     "jupyter_dashboards": {
      "version": 1,
      "views": {
       "grid_default": {
        "col": 0,
        "height": 6,
        "hidden": false,
        "row": 0,
        "width": null
       },
       "report_default": {
        "hidden": false
       }
      }
     }
    }
   },
   "source": [
    "# Relation between mutual information and causation\n",
    "\n",
    "Due to some comments made by Rick, I was triggered in narrowing down the relation between how information theoretical metrics are related to causal relations. In particular how can we deduce from mutual information between a node $s_i$ and the system $S$ that the relation is in fact causal?\n",
    "\n",
    "\n",
    "An inflated mutual information value could occur when we have a so-called confounder, i.e. where the node could not possible have a causal effect on the system as is found when computing its mutual information.\n",
    "A study case would be the following graph:\n"
   ]
  },
  {
   "cell_type": "code",
   "execution_count": 1,
   "metadata": {
    "extensions": {
     "jupyter_dashboards": {
      "version": 1,
      "views": {
       "grid_default": {
        "hidden": true
       },
       "report_default": {
        "hidden": true
       }
      }
     }
    }
   },
   "outputs": [
    {
     "name": "stderr",
     "output_type": "stream",
     "text": [
      "/home/casper/miniconda3/lib/python3.7/site-packages/matplotlib/figure.py:445: UserWarning: Matplotlib is currently using module://ipykernel.pylab.backend_inline, which is a non-GUI backend, so cannot show the figure.\n",
      "  % get_backend())\n"
     ]
    }
   ],
   "source": [
    "import networkx as nx\n",
    "from Utils import plotting as plotz\n",
    "import matplotlib.pyplot as p, numpy as np\n",
    "p.style.use('seaborn-poster')\n",
    "\n",
    "# graph = nx.path_graph(5)\n",
    "graph = nx.path_graph(3, nx.DiGraph()) # directed\n",
    "# graph.add_edges_from([(0,5), (5,6)])\n",
    "# graph = nx.barabasi_albert_graph(10, 4)\n",
    "pos = {i: np.array(j) * .08 for i, j in nx.nx_agraph.graphviz_layout(graph, prog = 'neato').items()}\n",
    "fig, ax = p.subplots()\n",
    "plotz.addGraphPretty(graph, ax = ax, positions = pos)\n",
    "ax.axis('off')\n",
    "fig.show()"
   ]
  },
  {
   "cell_type": "markdown",
   "metadata": {
    "extensions": {
     "jupyter_dashboards": {
      "version": 1,
      "views": {
       "grid_default": {
        "col": 0,
        "height": 11,
        "hidden": false,
        "row": 6,
        "width": null
       },
       "report_default": {
        "hidden": false
       }
      }
     }
    }
   },
   "source": [
    "## Expectations\n",
    "\n",
    "The directed graph has one common source node (0). However, as 0 has no edges It should share 0 mutual information with the system as it cannot interact with the system directly; its state is set randomly. Alternatively, one could argue that its information would be contained the longest in the system as node 0 information has the most downstream nodes. This view would imply that node 5 can be similar to node 1 and thus be confounded through 0. \n",
    "\n",
    "- $I(s_5^{t + t_0} : S^{t_0})$ is confounded\n",
    "- or $I(s_0^{t + t_0} : S^{t_0})$ is confounded\n",
    "\n",
    "# Results\n",
    "\n",
    "## Magnetization matching\n",
    "I matched the magnetization to the critical temperature:"
   ]
  },
  {
   "cell_type": "code",
   "execution_count": 2,
   "metadata": {
    "extensions": {
     "jupyter_dashboards": {
      "version": 1,
      "views": {
       "grid_default": {
        "col": 0,
        "height": 11,
        "hidden": false,
        "row": 17,
        "width": 4
       },
       "report_default": {
        "hidden": false
       }
      }
     }
    }
   },
   "outputs": [
    {
     "name": "stderr",
     "output_type": "stream",
     "text": [
      "100%|██████████| 50/50 [00:00<00:00, 757.56it/s]\n",
      "/home/casper/miniconda3/lib/python3.7/site-packages/matplotlib/figure.py:445: UserWarning: Matplotlib is currently using module://ipykernel.pylab.backend_inline, which is a non-GUI backend, so cannot show the figure.\n",
      "  % get_backend())\n"
     ]
    },
    {
     "name": "stdout",
     "output_type": "stream",
     "text": [
      "Computing mag per t\n"
     ]
    },
    {
     "data": {
      "image/png": "[encoded data removed]",
      "text/plain": [
       "<Figure size 432x288 with 3 Axes>"
      ]
     },
     "metadata": {
      "needs_background": "light"
     },
     "output_type": "display_data"
    }
   ],
   "source": [
    "from Toolbox import infcy # montecarlo methods\n",
    "from Models import fastIsing # models\n",
    "# match magnetization over temp range\n",
    "temps        = np.linspace(0, graph.number_of_nodes(), 50)\n",
    "nSamples     = 100 # int(1e2)\n",
    "\n",
    "model = fastIsing.Ising(graph)\n",
    "model.magSide    = '' # equal magnetization sampling\n",
    "model.updateType = 'single' # ultra smooth when single\n",
    "\n",
    "\n",
    "mag, sus = model.matchMagnetization(temps, nSamples, burninSamples = 0)\n",
    "\n",
    "from scipy import ndimage\n",
    "sus = ndimage.gaussian_filter1d(sus, .2)\n",
    "mag = ndimage.gaussian_filter1d(mag, .2)\n",
    "sus[np.isfinite(sus) == 0] = 0 # remove nans\n",
    "idx     = np.argsort(sus)[-1] # get 'max' idx ; second is used\n",
    "model.t = temps[idx]\n",
    "\n",
    "# show mag and sus as function of temperature\n",
    "fig, ax = p.subplots(1, 2)\n",
    "ax[0].scatter(temps, mag, label = 'Magnetization')\n",
    "ax[1].scatter(temps, sus, label = 'Susceptebility')\n",
    "ax[0].axvline(temps[idx], color = 'red', linestyle = 'dashed')\n",
    "ax[1].axvline(temps[idx], color = 'red', linestyle = 'dashed')\n",
    "\n",
    "ax[1].set_title('Susceptibility')\n",
    "ax[0].set_title('Magnetization')\n",
    "mainax = fig.add_subplot(111, frameon = False, \\\n",
    "                         xticks = [],\\\n",
    "                         yticks = [], \\\n",
    "                        )\n",
    "mainax.set_xlabel('Temperature', labelpad = 30)\n",
    "fig.show()"
   ]
  },
  {
   "cell_type": "markdown",
   "metadata": {
    "extensions": {
     "jupyter_dashboards": {
      "version": 1,
      "views": {
       "grid_default": {
        "col": 0,
        "height": 4,
        "hidden": false,
        "row": 28,
        "width": 12
       },
       "report_default": {
        "hidden": false
       }
      }
     }
    }
   },
   "source": [
    "Temperature at the red dashed line was used. The low on average magnetization is expected due to the directed nature of the graph. It is less stable as nodes choose states more randomly and are less stabilized with the detailed balance condition. "
   ]
  },
  {
   "cell_type": "markdown",
   "metadata": {
    "extensions": {
     "jupyter_dashboards": {
      "version": 1,
      "views": {
       "grid_default": {
        "col": 4,
        "height": 4,
        "hidden": false,
        "row": 17,
        "width": 4
       },
       "report_default": {
        "hidden": false
       }
      }
     }
    }
   },
   "source": [
    "# Mutual information decay"
   ]
  },
  {
   "cell_type": "code",
   "execution_count": 3,
   "metadata": {
    "extensions": {
     "jupyter_dashboards": {
      "version": 1,
      "views": {
       "grid_default": {
        "col": 8,
        "height": 4,
        "hidden": false,
        "row": 17,
        "width": 4
       },
       "report_default": {
        "hidden": false
       }
      }
     }
    }
   },
   "outputs": [
    {
     "name": "stderr",
     "output_type": "stream",
     "text": [
      "100%|██████████| 1000/1000 [00:00<00:00, 11116.83it/s]\n",
      "100%|██████████| 8/8 [00:00<00:00, 95596.67it/s]\n",
      "100%|██████████| 8/8 [00:00<00:00, 211.71it/s]"
     ]
    },
    {
     "name": "stdout",
     "output_type": "stream",
     "text": [
      "done\n",
      "Found 8 states\n",
      "Delta =  0.11 sec\n",
      "Decoding..\n",
      "starting runs\n",
      "Delta =  0.05 sec\n"
     ]
    },
    {
     "name": "stderr",
     "output_type": "stream",
     "text": [
      "\n",
      "/home/casper/miniconda3/lib/python3.7/site-packages/ipykernel_launcher.py:44: RuntimeWarning: divide by zero encountered in log2\n",
      "/home/casper/miniconda3/lib/python3.7/site-packages/ipykernel_launcher.py:44: RuntimeWarning: invalid value encountered in multiply\n"
     ]
    }
   ],
   "source": [
    "deltas        = 50             #conditional time steps\n",
    "nSamples      = 1000       # max number of states\n",
    "step          = int(1e3)   \n",
    "burninSamples = 100            # burninSamples + step = sim. steps until sample\n",
    "repeats       = int(1e3)       # number of conditional repeats\n",
    "\n",
    "reverse = False\n",
    "# reverse = True\n",
    "if reverse:\n",
    "    res = np.zeros((nSamples, model.nNodes))\n",
    "    rngs= np.random.randint(0, model.nNodes, size = nSamples)\n",
    "    for i in range(nSamples):\n",
    "        res[i] = model.updateState(rngs[[i]])\n",
    "    nWindow = deltas\n",
    "    ps = {}\n",
    "    px = np.zeros((nWindow, model.nNodes, model.nStates))\n",
    "    cpx= {}\n",
    "    Z  = (nSamples - 1 - nWindow) \n",
    "\n",
    "    statemapper = {i : idx for idx, i in enumerate([-1, 1])}\n",
    "\n",
    "    c = 0\n",
    "    for i in range(nWindow, nSamples - 1):\n",
    "        tmp   = res[i-nWindow : i]\n",
    "        state = tuple(tmp[-1])\n",
    "        c += 1\n",
    "        ps[state] = ps.get(state, 0) + 1\n",
    "        if state not in cpx:\n",
    "            cpx[state] = np.zeros(( nWindow, model.nNodes, model.nStates))\n",
    "        for t, stateAtTime in enumerate(tmp):\n",
    "            for node, nodeState in enumerate(stateAtTime):\n",
    "                px[t, node,   statemapper[nodeState]] += 1 / Z\n",
    "                cpx[state][t, node, statemapper[nodeState]] += 1 \n",
    "    c = 0\n",
    "    rmi = np.zeros((nWindow, model.nNodes))\n",
    "    for state, val in ps.items():\n",
    "        cpx[state] /= val\n",
    "        rmi += np.nansum(cpx[state] * np.log2(cpx[state]), axis = -1) * val / Z\n",
    "    rmi -= np.nansum(px * np.log2(px), axis = -1)\n",
    "else:\n",
    "    snapshots   = infcy.getSnapShots(model, nSamples, step, burninSamples)\n",
    "    cpx = infcy.monteCarlo(model, snapshots,\\\n",
    "                          deltas, repeats)\n",
    "    px, rmi = infcy.mutualInformation(cpx, deltas, snapshots, model)\n",
    "\n",
    "\n",
    "from Utils.stats import panzeriTrevesCorrection\n",
    "bias = panzeriTrevesCorrection(px, cpx, repeats)\n",
    "mi = rmi - bias"
   ]
  },
  {
   "cell_type": "code",
   "execution_count": 4,
   "metadata": {
    "extensions": {
     "jupyter_dashboards": {
      "version": 1,
      "views": {
       "grid_default": {},
       "report_default": {
        "hidden": false
       }
      }
     }
    }
   },
   "outputs": [
    {
     "name": "stderr",
     "output_type": "stream",
     "text": [
      "/home/casper/miniconda3/lib/python3.7/site-packages/mpl_toolkits/axes_grid/__init__.py:12: MatplotlibDeprecationWarning: \n",
      "The mpl_toolkits.axes_grid module was deprecated in Matplotlib 2.1 and will be removed two minor releases later. Use mpl_toolkits.axes_grid1 and mpl_toolkits.axisartist, which provide the same functionality instead.\n",
      "  obj_type='module')\n",
      "/home/casper/miniconda3/lib/python3.7/site-packages/matplotlib/figure.py:445: UserWarning: Matplotlib is currently using module://ipykernel.pylab.backend_inline, which is a non-GUI backend, so cannot show the figure.\n",
      "  % get_backend())\n"
     ]
    },
    {
     "data": {
      "image/png": "[encoded data removed]",
      "text/plain": [
       "<Figure size 1440x720 with 2 Axes>"
      ]
     },
     "metadata": {
      "needs_background": "light"
     },
     "output_type": "display_data"
    }
   ],
   "source": [
    "%matplotlib inline\n",
    "fig, ax = p.subplots(figsize =(20, 10))\n",
    "elements = []\n",
    "x = np.arange(mi.shape[0])\n",
    "colors = p.cm.tab20(np.arange(graph.number_of_nodes()))\n",
    "from mpl_toolkits.axes_grid.inset_locator import inset_axes\n",
    "\n",
    "inax = inset_axes(ax,\n",
    "                    width  =\"70%\", \n",
    "                    height =\"60%\",\n",
    "                    loc    = 'upper right')\n",
    "plotz.addGraphPretty(graph, ax = inax, \\\n",
    "                     cmap = colors, mapping = model.mapping, \\\n",
    "                     positions = pos)\n",
    "\n",
    "inax.axis('off')\n",
    "for node, nodeidx in sorted(model.mapping.items(), key = lambda x: x[1]):\n",
    "    ax.plot(x, mi[:, node], color = colors[nodeidx], label = node)\n",
    "    element = p.Line2D([0],[0], \\\n",
    "                       color = colors[nodeidx], \\\n",
    "                       label = node, \\\n",
    "                       linestyle = 'none',\\\n",
    "                       marker = 'o')\n",
    "    \n",
    "    elements.append(element)\n",
    "ax.legend()\n",
    "ax.set(xlabel = 'Time [step]', \\\n",
    "       ylabel = '$I(s_i^{t + t_0} : S^{t + t_0})$',\\\n",
    "       )\n",
    "fig.show()"
   ]
  },
  {
   "cell_type": "markdown",
   "metadata": {
    "extensions": {
     "jupyter_dashboards": {
      "version": 1,
      "views": {
       "grid_default": {},
       "report_default": {
        "hidden": false
       }
      }
     }
    }
   },
   "source": [
    "Note some values are overlapping:"
   ]
  },
  {
   "cell_type": "code",
   "execution_count": 5,
   "metadata": {
    "extensions": {
     "jupyter_dashboards": {
      "version": 1,
      "views": {
       "grid_default": {},
       "report_default": {
        "hidden": false
       }
      }
     }
    }
   },
   "outputs": [
    {
     "name": "stdout",
     "output_type": "stream",
     "text": [
      "Node: 0, first 4 values decay [1.00061747 0.81454206 0.69187805 0.55759629]\n",
      "Node: 1, first 4 values decay [1.00030581 0.78643065 0.51834505 0.35117532]\n",
      "Node: 2, first 4 values decay [1.00061747 0.34396103 0.14011338 0.06664647]\n"
     ]
    }
   ],
   "source": [
    "for node, idx in sorted(model.mapping.items(), key = lambda x : x[0]):\n",
    "    print(f'Node: {node}, first 4 values decay {mi[:4, idx]}')"
   ]
  },
  {
   "cell_type": "markdown",
   "metadata": {
    "extensions": {
     "jupyter_dashboards": {
      "version": 1,
      "views": {
       "grid_default": {},
       "report_default": {
        "hidden": false
       }
      }
     }
    }
   },
   "source": [
    "From these results we see the following ranking:\n"
   ]
  },
  {
   "cell_type": "code",
   "execution_count": 6,
   "metadata": {
    "extensions": {
     "jupyter_dashboards": {
      "version": 1,
      "views": {
       "grid_default": {},
       "report_default": {
        "hidden": false
       }
      }
     }
    }
   },
   "outputs": [
    {
     "name": "stdout",
     "output_type": "stream",
     "text": [
      "Rank 1 -> node 0, value : 4.286554470493415\n",
      "Rank 2 -> node 1, value : 2.7462337036866864\n",
      "Rank 3 -> node 2, value : 0.994612633404027\n"
     ]
    }
   ],
   "source": [
    "func = lambda x, a, b, c, d, e, f, g: a + b * np.exp(-c * (x - d)) + e * np.exp(-f * (x - g)) \n",
    "params = dict(maxfev = int(1e6), \\\n",
    "               bounds = (0, np.inf), \\\n",
    "               p0 = np.ones(func.__code__.co_argcount - 1),\\\n",
    "               jac = 'cs',\\\n",
    "             )\n",
    "\n",
    "                          \n",
    "coeffs = plotz.fit(mi.T, func = func, params = params)[0]\n",
    "import scipy\n",
    "auc = [scipy.integrate.quad(lambda x: func(x, *c), 0, deltas // 2)[0] for c in coeffs]\n",
    "for rank, idx in enumerate(np.argsort(auc)[::-1]):\n",
    "    print(f\"Rank {rank + 1} -> node {model.rmapping[idx]}, value : {auc[idx]}\")"
   ]
  },
  {
   "cell_type": "markdown",
   "metadata": {
    "extensions": {
     "jupyter_dashboards": {
      "version": 1,
      "views": {
       "grid_default": {},
       "report_default": {
        "hidden": false
       }
      }
     }
    }
   },
   "source": [
    "The results thus imply that \n",
    "- the 'leaf' nodes, namely 6 and 4 have similar area under the curve values\n",
    "- node 0 is not the driver node, but node 1 is\n",
    "\n",
    "By nudging the nodes, we want to confirm our prediction using information impact"
   ]
  },
  {
   "cell_type": "code",
   "execution_count": 7,
   "metadata": {
    "extensions": {
     "jupyter_dashboards": {
      "version": 1,
      "views": {
       "grid_default": {},
       "report_default": {
        "hidden": false
       }
      }
     }
    }
   },
   "outputs": [
    {
     "name": "stderr",
     "output_type": "stream",
     "text": [
      "100%|██████████| 8/8 [00:00<00:00, 21236.98it/s]\n",
      "100%|██████████| 8/8 [00:00<00:00, 169.07it/s]\n",
      "/home/casper/miniconda3/lib/python3.7/site-packages/ipykernel_launcher.py:7: RuntimeWarning: divide by zero encountered in log2\n",
      "  import sys\n",
      "/home/casper/miniconda3/lib/python3.7/site-packages/ipykernel_launcher.py:7: RuntimeWarning: invalid value encountered in multiply\n",
      "  import sys\n",
      "100%|██████████| 8/8 [00:00<00:00, 8581.70it/s]\n",
      "100%|██████████| 8/8 [00:00<00:00, 202.33it/s]\n",
      "100%|██████████| 8/8 [00:00<00:00, 64280.52it/s]\n",
      "  0%|          | 0/8 [00:00<?, ?it/s]"
     ]
    },
    {
     "name": "stdout",
     "output_type": "stream",
     "text": [
      "Nudging 0 with 10\n",
      "Decoding..\n",
      "starting runs\n",
      "Delta =  0.05 sec\n",
      "Nudging 1 with 10\n",
      "Decoding..\n",
      "starting runs\n",
      "Delta =  0.05 sec\n",
      "Nudging 2 with 10\n",
      "Decoding..\n",
      "starting runs\n"
     ]
    },
    {
     "name": "stderr",
     "output_type": "stream",
     "text": [
      "\r",
      "100%|██████████| 8/8 [00:00<00:00, 172.35it/s]"
     ]
    },
    {
     "name": "stdout",
     "output_type": "stream",
     "text": [
      "Delta =  0.06 sec\n"
     ]
    },
    {
     "name": "stderr",
     "output_type": "stream",
     "text": [
      "\n"
     ]
    }
   ],
   "source": [
    "pulses = {node : 10 for node in model.mapping}\n",
    "\n",
    "pstar = {}\n",
    "for (node, pulse) in pulses.items():\n",
    "    print(f\"Nudging {node} with {pulse}\")\n",
    "    model.nudges = {node : pulse}\n",
    "    conditionalstar, p_, mi_ = infcy.runMC(model, snapshots, deltas, repeats)\n",
    "    pstar[node] = p_"
   ]
  },
  {
   "cell_type": "code",
   "execution_count": 8,
   "metadata": {
    "extensions": {
     "jupyter_dashboards": {
      "version": 1,
      "views": {
       "grid_default": {},
       "report_default": {
        "hidden": false
       }
      }
     }
    }
   },
   "outputs": [
    {
     "name": "stderr",
     "output_type": "stream",
     "text": [
      "/home/casper/projects/information_impact/Utils/stats.py:15: RuntimeWarning: divide by zero encountered in log\n",
      "  kl = - np.nansum(p1 * (np.log(p2) - np.log(p1)), axis = -1)\n",
      "/home/casper/projects/information_impact/Utils/stats.py:15: RuntimeWarning: invalid value encountered in multiply\n",
      "  kl = - np.nansum(p1 * (np.log(p2) - np.log(p1)), axis = -1)\n",
      "/home/casper/miniconda3/lib/python3.7/site-packages/matplotlib/figure.py:445: UserWarning: Matplotlib is currently using module://ipykernel.pylab.backend_inline, which is a non-GUI backend, so cannot show the figure.\n",
      "  % get_backend())\n"
     ]
    },
    {
     "data": {
      "image/png": "[encoded data removed]",
      "text/plain": [
       "<Figure size 720x360 with 2 Axes>"
      ]
     },
     "metadata": {
      "needs_background": "light"
     },
     "output_type": "display_data"
    }
   ],
   "source": [
    "from Utils import stats\n",
    "fig, ax = p.subplots(1, 2, figsize = (10, 5))\n",
    "\n",
    "elements = []\n",
    "for k, v in pstar.items():\n",
    "    nodeidx = model.mapping[k]\n",
    "    kl = stats.JS(px, v).mean(-1)\n",
    "    kl = kl[-deltas // 2 + 2:]\n",
    "    \n",
    "    coeff = plotz.fit(kl[None, :], func, params = params)[0]\n",
    "    causal_auc = scipy.integrate.quad(lambda x: func(x, *coeff.T), 0, deltas // 2)[0]\n",
    "    \n",
    "    ax[0].plot(kl, color = colors[nodeidx])\n",
    "    ax[1].scatter(auc[nodeidx], causal_auc, \\\n",
    "                  color = colors[nodeidx])\n",
    "    \n",
    "    element = p.Line2D([0],[0], color = colors[nodeidx], \\\n",
    "                      label = k, \\\n",
    "                      linestyle = 'none',\\\n",
    "                      marker = 'o')\n",
    "    elements.append(element)\n",
    "\n",
    "ax[0].set(xlabel = 'Time[step]',\\\n",
    "         ylabel = 'Jensen-Shannon divergence')\n",
    "ax[1].set(xlabel = 'information impact', ylabel = 'causal impact')\n",
    "ax[1].legend(handles = elements, bbox_to_anchor = (1,1), loc = 'upper left')\n",
    "fig.tight_layout()\n",
    "fig.show()"
   ]
  }
 ],
 "metadata": {
  "extensions": {
   "jupyter_dashboards": {
    "activeView": "report_default",
    "version": 1,
    "views": {
     "grid_default": {
      "cellMargin": 10,
      "defaultCellHeight": 20,
      "maxColumns": 12,
      "name": "grid",
      "type": "grid"
     },
     "report_default": {
      "name": "report",
      "type": "report"
     }
    }
   }
  },
  "kernelspec": {
   "display_name": "Python 3",
   "language": "python",
   "name": "python3"
  },
  "language_info": {
   "codemirror_mode": {
    "name": "ipython",
    "version": 3
   },
   "file_extension": ".py",
   "mimetype": "text/x-python",
   "name": "python",
   "nbconvert_exporter": "python",
   "pygments_lexer": "ipython3",
   "version": "3.7.2"
  }
 },
 "nbformat": 4,
 "nbformat_minor": 2
}
